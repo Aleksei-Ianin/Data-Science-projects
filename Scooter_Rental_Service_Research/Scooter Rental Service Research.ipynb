{
 "cells": [
  {
   "cell_type": "markdown",
   "id": "3722acaf",
   "metadata": {},
   "source": [
    "**Введение**\n",
    "\n",
    "В современном городском облике, где скорость и мобильность играют ключевую роль, сервисы аренды самокатов становятся неотъемлемой частью повседневной жизни. Наш анализ фокусируется на популярном сервисе GoFast, предоставляющем пользователям возможность совершать удобные и быстрые поездки по городу с использованием мобильного приложения.\n",
    "\n",
    "Нами получены данные о пользователях из различных городов, а также информация о их поездках, включая детали использования абонентских подписок. Цель данного проекта — провести глубокий анализ данных с целью выявления закономерностей и проверки гипотез, способствующих развитию бизнеса GoFast."
   ]
  },
  {
   "cell_type": "code",
   "execution_count": 1,
   "id": "72576667",
   "metadata": {},
   "outputs": [],
   "source": [
    "import pandas as pd\n",
    "import matplotlib.pyplot as plt\n",
    "import numpy as np\n",
    "from scipy import stats as st\n",
    "users = pd.read_csv('/datasets/users_go.csv')\n",
    "rides = pd.read_csv('/datasets/rides_go.csv')\n",
    "subs = pd.read_csv('/datasets/subscriptions_go.csv')"
   ]
  },
  {
   "cell_type": "markdown",
   "id": "c42cbe00",
   "metadata": {},
   "source": [
    "#### Шаг 1. Загрузка данных"
   ]
  },
  {
   "cell_type": "markdown",
   "id": "c81fdea8",
   "metadata": {},
   "source": [
    "##### Пользователи:"
   ]
  },
  {
   "cell_type": "code",
   "execution_count": 2,
   "id": "ee895515",
   "metadata": {},
   "outputs": [
    {
     "name": "stdout",
     "output_type": "stream",
     "text": [
      "<class 'pandas.core.frame.DataFrame'>\n",
      "RangeIndex: 1565 entries, 0 to 1564\n",
      "Data columns (total 5 columns):\n",
      " #   Column             Non-Null Count  Dtype \n",
      "---  ------             --------------  ----- \n",
      " 0   user_id            1565 non-null   int64 \n",
      " 1   name               1565 non-null   object\n",
      " 2   age                1565 non-null   int64 \n",
      " 3   city               1565 non-null   object\n",
      " 4   subscription_type  1565 non-null   object\n",
      "dtypes: int64(2), object(3)\n",
      "memory usage: 61.3+ KB\n"
     ]
    }
   ],
   "source": [
    "users.info()"
   ]
  },
  {
   "cell_type": "code",
   "execution_count": 3,
   "id": "b9760bf4",
   "metadata": {},
   "outputs": [
    {
     "data": {
      "text/html": [
       "<div>\n",
       "<style scoped>\n",
       "    .dataframe tbody tr th:only-of-type {\n",
       "        vertical-align: middle;\n",
       "    }\n",
       "\n",
       "    .dataframe tbody tr th {\n",
       "        vertical-align: top;\n",
       "    }\n",
       "\n",
       "    .dataframe thead th {\n",
       "        text-align: right;\n",
       "    }\n",
       "</style>\n",
       "<table border=\"1\" class=\"dataframe\">\n",
       "  <thead>\n",
       "    <tr style=\"text-align: right;\">\n",
       "      <th></th>\n",
       "      <th>user_id</th>\n",
       "      <th>name</th>\n",
       "      <th>age</th>\n",
       "      <th>city</th>\n",
       "      <th>subscription_type</th>\n",
       "    </tr>\n",
       "  </thead>\n",
       "  <tbody>\n",
       "    <tr>\n",
       "      <th>0</th>\n",
       "      <td>1</td>\n",
       "      <td>Кира</td>\n",
       "      <td>22</td>\n",
       "      <td>Тюмень</td>\n",
       "      <td>ultra</td>\n",
       "    </tr>\n",
       "    <tr>\n",
       "      <th>1</th>\n",
       "      <td>2</td>\n",
       "      <td>Станислав</td>\n",
       "      <td>31</td>\n",
       "      <td>Омск</td>\n",
       "      <td>ultra</td>\n",
       "    </tr>\n",
       "    <tr>\n",
       "      <th>2</th>\n",
       "      <td>3</td>\n",
       "      <td>Алексей</td>\n",
       "      <td>20</td>\n",
       "      <td>Москва</td>\n",
       "      <td>ultra</td>\n",
       "    </tr>\n",
       "    <tr>\n",
       "      <th>3</th>\n",
       "      <td>4</td>\n",
       "      <td>Константин</td>\n",
       "      <td>26</td>\n",
       "      <td>Ростов-на-Дону</td>\n",
       "      <td>ultra</td>\n",
       "    </tr>\n",
       "    <tr>\n",
       "      <th>4</th>\n",
       "      <td>5</td>\n",
       "      <td>Адель</td>\n",
       "      <td>28</td>\n",
       "      <td>Омск</td>\n",
       "      <td>ultra</td>\n",
       "    </tr>\n",
       "  </tbody>\n",
       "</table>\n",
       "</div>"
      ],
      "text/plain": [
       "   user_id        name  age            city subscription_type\n",
       "0        1        Кира   22          Тюмень             ultra\n",
       "1        2   Станислав   31            Омск             ultra\n",
       "2        3     Алексей   20          Москва             ultra\n",
       "3        4  Константин   26  Ростов-на-Дону             ultra\n",
       "4        5       Адель   28            Омск             ultra"
      ]
     },
     "execution_count": 3,
     "metadata": {},
     "output_type": "execute_result"
    }
   ],
   "source": [
    "users.head()"
   ]
  },
  {
   "cell_type": "markdown",
   "id": "9edfaf92",
   "metadata": {},
   "source": [
    "##### Поездки:"
   ]
  },
  {
   "cell_type": "code",
   "execution_count": 4,
   "id": "5dc687a1",
   "metadata": {
    "scrolled": true
   },
   "outputs": [
    {
     "name": "stdout",
     "output_type": "stream",
     "text": [
      "<class 'pandas.core.frame.DataFrame'>\n",
      "RangeIndex: 18068 entries, 0 to 18067\n",
      "Data columns (total 4 columns):\n",
      " #   Column    Non-Null Count  Dtype  \n",
      "---  ------    --------------  -----  \n",
      " 0   user_id   18068 non-null  int64  \n",
      " 1   distance  18068 non-null  float64\n",
      " 2   duration  18068 non-null  float64\n",
      " 3   date      18068 non-null  object \n",
      "dtypes: float64(2), int64(1), object(1)\n",
      "memory usage: 564.8+ KB\n"
     ]
    }
   ],
   "source": [
    "rides.info()"
   ]
  },
  {
   "cell_type": "code",
   "execution_count": 5,
   "id": "e28128f5",
   "metadata": {},
   "outputs": [
    {
     "data": {
      "text/html": [
       "<div>\n",
       "<style scoped>\n",
       "    .dataframe tbody tr th:only-of-type {\n",
       "        vertical-align: middle;\n",
       "    }\n",
       "\n",
       "    .dataframe tbody tr th {\n",
       "        vertical-align: top;\n",
       "    }\n",
       "\n",
       "    .dataframe thead th {\n",
       "        text-align: right;\n",
       "    }\n",
       "</style>\n",
       "<table border=\"1\" class=\"dataframe\">\n",
       "  <thead>\n",
       "    <tr style=\"text-align: right;\">\n",
       "      <th></th>\n",
       "      <th>user_id</th>\n",
       "      <th>distance</th>\n",
       "      <th>duration</th>\n",
       "      <th>date</th>\n",
       "    </tr>\n",
       "  </thead>\n",
       "  <tbody>\n",
       "    <tr>\n",
       "      <th>0</th>\n",
       "      <td>1</td>\n",
       "      <td>4409.919140</td>\n",
       "      <td>25.599769</td>\n",
       "      <td>2021-01-01</td>\n",
       "    </tr>\n",
       "    <tr>\n",
       "      <th>1</th>\n",
       "      <td>1</td>\n",
       "      <td>2617.592153</td>\n",
       "      <td>15.816871</td>\n",
       "      <td>2021-01-18</td>\n",
       "    </tr>\n",
       "    <tr>\n",
       "      <th>2</th>\n",
       "      <td>1</td>\n",
       "      <td>754.159807</td>\n",
       "      <td>6.232113</td>\n",
       "      <td>2021-04-20</td>\n",
       "    </tr>\n",
       "    <tr>\n",
       "      <th>3</th>\n",
       "      <td>1</td>\n",
       "      <td>2694.783254</td>\n",
       "      <td>18.511000</td>\n",
       "      <td>2021-08-11</td>\n",
       "    </tr>\n",
       "    <tr>\n",
       "      <th>4</th>\n",
       "      <td>1</td>\n",
       "      <td>4028.687306</td>\n",
       "      <td>26.265803</td>\n",
       "      <td>2021-08-28</td>\n",
       "    </tr>\n",
       "  </tbody>\n",
       "</table>\n",
       "</div>"
      ],
      "text/plain": [
       "   user_id     distance   duration        date\n",
       "0        1  4409.919140  25.599769  2021-01-01\n",
       "1        1  2617.592153  15.816871  2021-01-18\n",
       "2        1   754.159807   6.232113  2021-04-20\n",
       "3        1  2694.783254  18.511000  2021-08-11\n",
       "4        1  4028.687306  26.265803  2021-08-28"
      ]
     },
     "execution_count": 5,
     "metadata": {},
     "output_type": "execute_result"
    }
   ],
   "source": [
    "rides.head()"
   ]
  },
  {
   "cell_type": "markdown",
   "id": "b1968a0c",
   "metadata": {},
   "source": [
    "##### Подписки:"
   ]
  },
  {
   "cell_type": "code",
   "execution_count": 6,
   "id": "35b8274a",
   "metadata": {},
   "outputs": [
    {
     "name": "stdout",
     "output_type": "stream",
     "text": [
      "<class 'pandas.core.frame.DataFrame'>\n",
      "RangeIndex: 2 entries, 0 to 1\n",
      "Data columns (total 4 columns):\n",
      " #   Column             Non-Null Count  Dtype \n",
      "---  ------             --------------  ----- \n",
      " 0   subscription_type  2 non-null      object\n",
      " 1   minute_price       2 non-null      int64 \n",
      " 2   start_ride_price   2 non-null      int64 \n",
      " 3   subscription_fee   2 non-null      int64 \n",
      "dtypes: int64(3), object(1)\n",
      "memory usage: 192.0+ bytes\n"
     ]
    }
   ],
   "source": [
    "subs.info()"
   ]
  },
  {
   "cell_type": "code",
   "execution_count": 7,
   "id": "66071ab7",
   "metadata": {},
   "outputs": [
    {
     "data": {
      "text/html": [
       "<div>\n",
       "<style scoped>\n",
       "    .dataframe tbody tr th:only-of-type {\n",
       "        vertical-align: middle;\n",
       "    }\n",
       "\n",
       "    .dataframe tbody tr th {\n",
       "        vertical-align: top;\n",
       "    }\n",
       "\n",
       "    .dataframe thead th {\n",
       "        text-align: right;\n",
       "    }\n",
       "</style>\n",
       "<table border=\"1\" class=\"dataframe\">\n",
       "  <thead>\n",
       "    <tr style=\"text-align: right;\">\n",
       "      <th></th>\n",
       "      <th>subscription_type</th>\n",
       "      <th>minute_price</th>\n",
       "      <th>start_ride_price</th>\n",
       "      <th>subscription_fee</th>\n",
       "    </tr>\n",
       "  </thead>\n",
       "  <tbody>\n",
       "    <tr>\n",
       "      <th>0</th>\n",
       "      <td>free</td>\n",
       "      <td>8</td>\n",
       "      <td>50</td>\n",
       "      <td>0</td>\n",
       "    </tr>\n",
       "    <tr>\n",
       "      <th>1</th>\n",
       "      <td>ultra</td>\n",
       "      <td>6</td>\n",
       "      <td>0</td>\n",
       "      <td>199</td>\n",
       "    </tr>\n",
       "  </tbody>\n",
       "</table>\n",
       "</div>"
      ],
      "text/plain": [
       "  subscription_type  minute_price  start_ride_price  subscription_fee\n",
       "0              free             8                50                 0\n",
       "1             ultra             6                 0               199"
      ]
     },
     "execution_count": 7,
     "metadata": {},
     "output_type": "execute_result"
    }
   ],
   "source": [
    "subs.head()"
   ]
  },
  {
   "cell_type": "markdown",
   "id": "deb3a15e",
   "metadata": {},
   "source": [
    "Вывод: на первый взгляд мы видим, что пустых значений нет, надо изменить тип данных на дату в таблице rides в столбце date и проверить, имеются ли дубликаты"
   ]
  },
  {
   "cell_type": "markdown",
   "id": "e95ebca7",
   "metadata": {},
   "source": [
    "#### Шаг 2. Предобработка данных"
   ]
  },
  {
   "cell_type": "markdown",
   "id": "31bafaf1",
   "metadata": {},
   "source": [
    "Пропуски в тиблице с пользователями"
   ]
  },
  {
   "cell_type": "code",
   "execution_count": 8,
   "id": "dd21eed5",
   "metadata": {},
   "outputs": [
    {
     "data": {
      "text/plain": [
       "user_id              0\n",
       "name                 0\n",
       "age                  0\n",
       "city                 0\n",
       "subscription_type    0\n",
       "dtype: int64"
      ]
     },
     "execution_count": 8,
     "metadata": {},
     "output_type": "execute_result"
    }
   ],
   "source": [
    "users.isna().sum()"
   ]
  },
  {
   "cell_type": "markdown",
   "id": "d33546b0",
   "metadata": {},
   "source": [
    "Пропуски в таблице с поездками"
   ]
  },
  {
   "cell_type": "code",
   "execution_count": 9,
   "id": "78e77d00",
   "metadata": {},
   "outputs": [
    {
     "data": {
      "text/plain": [
       "user_id     0\n",
       "distance    0\n",
       "duration    0\n",
       "date        0\n",
       "dtype: int64"
      ]
     },
     "execution_count": 9,
     "metadata": {},
     "output_type": "execute_result"
    }
   ],
   "source": [
    "rides.isna().sum()"
   ]
  },
  {
   "cell_type": "markdown",
   "id": "72a4a719",
   "metadata": {},
   "source": [
    "Пропуски в таблице с подписками:"
   ]
  },
  {
   "cell_type": "code",
   "execution_count": 10,
   "id": "b1afdebd",
   "metadata": {},
   "outputs": [
    {
     "data": {
      "text/plain": [
       "subscription_type    0\n",
       "minute_price         0\n",
       "start_ride_price     0\n",
       "subscription_fee     0\n",
       "dtype: int64"
      ]
     },
     "execution_count": 10,
     "metadata": {},
     "output_type": "execute_result"
    }
   ],
   "source": [
    "subs.isna().sum()"
   ]
  },
  {
   "cell_type": "markdown",
   "id": "6e78b289",
   "metadata": {},
   "source": [
    "Рассмотрим столбцы и поменяем тип данных"
   ]
  },
  {
   "cell_type": "code",
   "execution_count": 11,
   "id": "12b0e74a",
   "metadata": {},
   "outputs": [
    {
     "name": "stdout",
     "output_type": "stream",
     "text": [
      "<class 'pandas.core.frame.DataFrame'>\n",
      "RangeIndex: 18068 entries, 0 to 18067\n",
      "Data columns (total 4 columns):\n",
      " #   Column    Non-Null Count  Dtype         \n",
      "---  ------    --------------  -----         \n",
      " 0   user_id   18068 non-null  int64         \n",
      " 1   distance  18068 non-null  float64       \n",
      " 2   duration  18068 non-null  float64       \n",
      " 3   date      18068 non-null  datetime64[ns]\n",
      "dtypes: datetime64[ns](1), float64(2), int64(1)\n",
      "memory usage: 564.8 KB\n"
     ]
    }
   ],
   "source": [
    "rides['date'] = pd.to_datetime(rides['date'], format = '%Y-%m-%d')\n",
    "rides.info()"
   ]
  },
  {
   "cell_type": "markdown",
   "id": "d300bbdc",
   "metadata": {},
   "source": [
    "Добавим номер месяца:"
   ]
  },
  {
   "cell_type": "code",
   "execution_count": 12,
   "id": "2e16f425",
   "metadata": {},
   "outputs": [
    {
     "data": {
      "text/html": [
       "<div>\n",
       "<style scoped>\n",
       "    .dataframe tbody tr th:only-of-type {\n",
       "        vertical-align: middle;\n",
       "    }\n",
       "\n",
       "    .dataframe tbody tr th {\n",
       "        vertical-align: top;\n",
       "    }\n",
       "\n",
       "    .dataframe thead th {\n",
       "        text-align: right;\n",
       "    }\n",
       "</style>\n",
       "<table border=\"1\" class=\"dataframe\">\n",
       "  <thead>\n",
       "    <tr style=\"text-align: right;\">\n",
       "      <th></th>\n",
       "      <th>user_id</th>\n",
       "      <th>distance</th>\n",
       "      <th>duration</th>\n",
       "      <th>date</th>\n",
       "      <th>month</th>\n",
       "    </tr>\n",
       "  </thead>\n",
       "  <tbody>\n",
       "    <tr>\n",
       "      <th>0</th>\n",
       "      <td>1</td>\n",
       "      <td>4409.919140</td>\n",
       "      <td>25.599769</td>\n",
       "      <td>2021-01-01</td>\n",
       "      <td>1</td>\n",
       "    </tr>\n",
       "    <tr>\n",
       "      <th>1</th>\n",
       "      <td>1</td>\n",
       "      <td>2617.592153</td>\n",
       "      <td>15.816871</td>\n",
       "      <td>2021-01-18</td>\n",
       "      <td>1</td>\n",
       "    </tr>\n",
       "    <tr>\n",
       "      <th>2</th>\n",
       "      <td>1</td>\n",
       "      <td>754.159807</td>\n",
       "      <td>6.232113</td>\n",
       "      <td>2021-04-20</td>\n",
       "      <td>4</td>\n",
       "    </tr>\n",
       "    <tr>\n",
       "      <th>3</th>\n",
       "      <td>1</td>\n",
       "      <td>2694.783254</td>\n",
       "      <td>18.511000</td>\n",
       "      <td>2021-08-11</td>\n",
       "      <td>8</td>\n",
       "    </tr>\n",
       "    <tr>\n",
       "      <th>4</th>\n",
       "      <td>1</td>\n",
       "      <td>4028.687306</td>\n",
       "      <td>26.265803</td>\n",
       "      <td>2021-08-28</td>\n",
       "      <td>8</td>\n",
       "    </tr>\n",
       "  </tbody>\n",
       "</table>\n",
       "</div>"
      ],
      "text/plain": [
       "   user_id     distance   duration       date  month\n",
       "0        1  4409.919140  25.599769 2021-01-01      1\n",
       "1        1  2617.592153  15.816871 2021-01-18      1\n",
       "2        1   754.159807   6.232113 2021-04-20      4\n",
       "3        1  2694.783254  18.511000 2021-08-11      8\n",
       "4        1  4028.687306  26.265803 2021-08-28      8"
      ]
     },
     "execution_count": 12,
     "metadata": {},
     "output_type": "execute_result"
    }
   ],
   "source": [
    "rides['month'] = rides['date'].dt.month\n",
    "rides.head()"
   ]
  },
  {
   "cell_type": "markdown",
   "id": "58d19a6d",
   "metadata": {},
   "source": [
    "Найдем дубликаты:"
   ]
  },
  {
   "cell_type": "code",
   "execution_count": 13,
   "id": "822d4892",
   "metadata": {},
   "outputs": [
    {
     "data": {
      "text/plain": [
       "31"
      ]
     },
     "execution_count": 13,
     "metadata": {},
     "output_type": "execute_result"
    }
   ],
   "source": [
    "users.duplicated().sum()"
   ]
  },
  {
   "cell_type": "code",
   "execution_count": 14,
   "id": "ce0cb510",
   "metadata": {},
   "outputs": [
    {
     "data": {
      "text/plain": [
       "0"
      ]
     },
     "execution_count": 14,
     "metadata": {},
     "output_type": "execute_result"
    }
   ],
   "source": [
    "rides.duplicated().sum()"
   ]
  },
  {
   "cell_type": "code",
   "execution_count": 15,
   "id": "7b98b0a3",
   "metadata": {},
   "outputs": [
    {
     "data": {
      "text/plain": [
       "0"
      ]
     },
     "execution_count": 15,
     "metadata": {},
     "output_type": "execute_result"
    }
   ],
   "source": [
    "users = users.drop_duplicates()\n",
    "users.duplicated().sum()"
   ]
  },
  {
   "cell_type": "markdown",
   "id": "8f28817c",
   "metadata": {},
   "source": [
    " Избавились от дубликатов и пустых значений, идем дальше"
   ]
  },
  {
   "cell_type": "markdown",
   "id": "212593c7",
   "metadata": {},
   "source": [
    "#### Шаг 3. Исследовательский анализ данных"
   ]
  },
  {
   "cell_type": "markdown",
   "id": "7ed8f3fe",
   "metadata": {},
   "source": [
    "Частота встречаемости городов:"
   ]
  },
  {
   "cell_type": "code",
   "execution_count": 16,
   "id": "e3a4274c",
   "metadata": {},
   "outputs": [
    {
     "data": {
      "image/png": "[encoded data removed]",
      "text/plain": [
       "<Figure size 432x288 with 1 Axes>"
      ]
     },
     "metadata": {
      "needs_background": "light"
     },
     "output_type": "display_data"
    }
   ],
   "source": [
    "users['city'].value_counts().plot(kind='bar', color='skyblue', grid=True, title='Частота встречаемости городов')\n",
    "plt.ylabel('Количество пользователей')\n",
    "plt.show()"
   ]
  },
  {
   "cell_type": "markdown",
   "id": "499eb624",
   "metadata": {},
   "source": [
    "большим спросом сервис пользуется в Пятигорске, а меньшим в Москве"
   ]
  },
  {
   "cell_type": "markdown",
   "id": "0f9c471a",
   "metadata": {},
   "source": [
    "Соотношение пользователей с подпиской и без:"
   ]
  },
  {
   "cell_type": "code",
   "execution_count": 17,
   "id": "2b0666d8",
   "metadata": {},
   "outputs": [
    {
     "data": {
      "image/png": "[encoded data removed]",
      "text/plain": [
       "<Figure size 432x288 with 1 Axes>"
      ]
     },
     "metadata": {},
     "output_type": "display_data"
    }
   ],
   "source": [
    "users['subscription_type'].value_counts().plot(kind='pie', autopct='%1.1f%%', title='Соотношение пользователей с подпиской и без')\n",
    "plt.title('Соотношение пользователей с подпиской и без')\n",
    "plt.annotate('Без подписки', xy=(0.1, 0.5), ha='center', va='center', fontsize=10, color='black')\n",
    "plt.annotate('С подпиской', xy=(-0.1, -0.8), ha='center', va='center', fontsize=10, color='black')\n",
    "plt.show()"
   ]
  },
  {
   "cell_type": "markdown",
   "id": "013f8292",
   "metadata": {},
   "source": [
    "можно понять, что людей с подпиской 45 процентов, а людей юез 54 процента, что больше"
   ]
  },
  {
   "cell_type": "markdown",
   "id": "647b91b4",
   "metadata": {},
   "source": [
    "Возраст пользователей:"
   ]
  },
  {
   "cell_type": "code",
   "execution_count": 18,
   "id": "4dea983c",
   "metadata": {},
   "outputs": [
    {
     "data": {
      "image/png": "[encoded data removed]",
      "text/plain": [
       "<Figure size 432x288 with 1 Axes>"
      ]
     },
     "metadata": {
      "needs_background": "light"
     },
     "output_type": "display_data"
    }
   ],
   "source": [
    "ax = users['age'].plot(kind='hist', bins=15, edgecolor='black', grid = 'True')\n",
    "ax.set_title('Возраст пользователей')\n",
    "ax.set_xlabel('Возраст')\n",
    "ax.set_ylabel('Частота')\n",
    "plt.show()"
   ]
  },
  {
   "cell_type": "markdown",
   "id": "b7824c17",
   "metadata": {},
   "source": [
    "по графику видно, что сервис чаще пользуется спросом у людей возрастом от 20 до 28 лет"
   ]
  },
  {
   "cell_type": "code",
   "execution_count": 19,
   "id": "4171ca04",
   "metadata": {},
   "outputs": [
    {
     "data": {
      "image/png": "[encoded data removed]",
      "text/plain": [
       "<Figure size 432x288 with 1 Axes>"
      ]
     },
     "metadata": {
      "needs_background": "light"
     },
     "output_type": "display_data"
    }
   ],
   "source": [
    "ax = rides['distance'].plot(kind='hist', bins=15, edgecolor='black', grid = 'True')\n",
    "ax.set_title('Дистанция')\n",
    "ax.set_xlabel('расстояние, м')\n",
    "ax.set_ylabel('кол во людей')\n",
    "plt.show()"
   ]
  },
  {
   "cell_type": "markdown",
   "id": "0ed76fef",
   "metadata": {},
   "source": [
    "по графику заметно, что большую часть поездок составляют поездки, с дистанцией от 2500 до 4000 метров"
   ]
  },
  {
   "cell_type": "code",
   "execution_count": 20,
   "id": "fd48907b",
   "metadata": {},
   "outputs": [
    {
     "data": {
      "image/png": "[encoded data removed]",
      "text/plain": [
       "<Figure size 432x288 with 1 Axes>"
      ]
     },
     "metadata": {
      "needs_background": "light"
     },
     "output_type": "display_data"
    }
   ],
   "source": [
    "ax = rides['duration'].plot(kind='hist', bins=15, edgecolor='black', grid = 'True')\n",
    "ax.set_title('Время в поездках')\n",
    "ax.set_xlabel('Время, мин')\n",
    "ax.set_ylabel('Частота')\n",
    "plt.show()"
   ]
  },
  {
   "cell_type": "markdown",
   "id": "493df066",
   "metadata": {},
   "source": [
    "По графику можно сделать вывод, что в осном, поездка длится от 15 до 25 минут"
   ]
  },
  {
   "cell_type": "markdown",
   "id": "4ef51331",
   "metadata": {},
   "source": [
    "#### Шаг 4. Объединение данных"
   ]
  },
  {
   "cell_type": "markdown",
   "id": "e25ccd32",
   "metadata": {},
   "source": [
    "объединим три датасета в один и рассмотрим размерностб каждой таблицы отдельно:"
   ]
  },
  {
   "cell_type": "code",
   "execution_count": 21,
   "id": "bb76c680",
   "metadata": {},
   "outputs": [
    {
     "data": {
      "text/plain": [
       "(18068, 5)"
      ]
     },
     "execution_count": 21,
     "metadata": {},
     "output_type": "execute_result"
    }
   ],
   "source": [
    "rides.shape"
   ]
  },
  {
   "cell_type": "code",
   "execution_count": 22,
   "id": "bf3bdeea",
   "metadata": {},
   "outputs": [
    {
     "data": {
      "text/plain": [
       "(1534, 5)"
      ]
     },
     "execution_count": 22,
     "metadata": {},
     "output_type": "execute_result"
    }
   ],
   "source": [
    "users.shape"
   ]
  },
  {
   "cell_type": "code",
   "execution_count": 23,
   "id": "12b792dc",
   "metadata": {},
   "outputs": [
    {
     "data": {
      "text/plain": [
       "(2, 4)"
      ]
     },
     "execution_count": 23,
     "metadata": {},
     "output_type": "execute_result"
    }
   ],
   "source": [
    "subs.shape"
   ]
  },
  {
   "cell_type": "code",
   "execution_count": 24,
   "id": "74fbaaf8",
   "metadata": {},
   "outputs": [
    {
     "data": {
      "text/html": [
       "<div>\n",
       "<style scoped>\n",
       "    .dataframe tbody tr th:only-of-type {\n",
       "        vertical-align: middle;\n",
       "    }\n",
       "\n",
       "    .dataframe tbody tr th {\n",
       "        vertical-align: top;\n",
       "    }\n",
       "\n",
       "    .dataframe thead th {\n",
       "        text-align: right;\n",
       "    }\n",
       "</style>\n",
       "<table border=\"1\" class=\"dataframe\">\n",
       "  <thead>\n",
       "    <tr style=\"text-align: right;\">\n",
       "      <th></th>\n",
       "      <th>user_id</th>\n",
       "      <th>name</th>\n",
       "      <th>age</th>\n",
       "      <th>city</th>\n",
       "      <th>subscription_type</th>\n",
       "      <th>distance</th>\n",
       "      <th>duration</th>\n",
       "      <th>date</th>\n",
       "      <th>month</th>\n",
       "      <th>minute_price</th>\n",
       "      <th>start_ride_price</th>\n",
       "      <th>subscription_fee</th>\n",
       "    </tr>\n",
       "  </thead>\n",
       "  <tbody>\n",
       "    <tr>\n",
       "      <th>0</th>\n",
       "      <td>1</td>\n",
       "      <td>Кира</td>\n",
       "      <td>22</td>\n",
       "      <td>Тюмень</td>\n",
       "      <td>ultra</td>\n",
       "      <td>4409.919140</td>\n",
       "      <td>25.599769</td>\n",
       "      <td>2021-01-01</td>\n",
       "      <td>1</td>\n",
       "      <td>6</td>\n",
       "      <td>0</td>\n",
       "      <td>199</td>\n",
       "    </tr>\n",
       "    <tr>\n",
       "      <th>1</th>\n",
       "      <td>1</td>\n",
       "      <td>Кира</td>\n",
       "      <td>22</td>\n",
       "      <td>Тюмень</td>\n",
       "      <td>ultra</td>\n",
       "      <td>2617.592153</td>\n",
       "      <td>15.816871</td>\n",
       "      <td>2021-01-18</td>\n",
       "      <td>1</td>\n",
       "      <td>6</td>\n",
       "      <td>0</td>\n",
       "      <td>199</td>\n",
       "    </tr>\n",
       "    <tr>\n",
       "      <th>2</th>\n",
       "      <td>1</td>\n",
       "      <td>Кира</td>\n",
       "      <td>22</td>\n",
       "      <td>Тюмень</td>\n",
       "      <td>ultra</td>\n",
       "      <td>754.159807</td>\n",
       "      <td>6.232113</td>\n",
       "      <td>2021-04-20</td>\n",
       "      <td>4</td>\n",
       "      <td>6</td>\n",
       "      <td>0</td>\n",
       "      <td>199</td>\n",
       "    </tr>\n",
       "    <tr>\n",
       "      <th>3</th>\n",
       "      <td>1</td>\n",
       "      <td>Кира</td>\n",
       "      <td>22</td>\n",
       "      <td>Тюмень</td>\n",
       "      <td>ultra</td>\n",
       "      <td>2694.783254</td>\n",
       "      <td>18.511000</td>\n",
       "      <td>2021-08-11</td>\n",
       "      <td>8</td>\n",
       "      <td>6</td>\n",
       "      <td>0</td>\n",
       "      <td>199</td>\n",
       "    </tr>\n",
       "    <tr>\n",
       "      <th>4</th>\n",
       "      <td>1</td>\n",
       "      <td>Кира</td>\n",
       "      <td>22</td>\n",
       "      <td>Тюмень</td>\n",
       "      <td>ultra</td>\n",
       "      <td>4028.687306</td>\n",
       "      <td>26.265803</td>\n",
       "      <td>2021-08-28</td>\n",
       "      <td>8</td>\n",
       "      <td>6</td>\n",
       "      <td>0</td>\n",
       "      <td>199</td>\n",
       "    </tr>\n",
       "    <tr>\n",
       "      <th>5</th>\n",
       "      <td>1</td>\n",
       "      <td>Кира</td>\n",
       "      <td>22</td>\n",
       "      <td>Тюмень</td>\n",
       "      <td>ultra</td>\n",
       "      <td>2770.890808</td>\n",
       "      <td>16.650138</td>\n",
       "      <td>2021-10-09</td>\n",
       "      <td>10</td>\n",
       "      <td>6</td>\n",
       "      <td>0</td>\n",
       "      <td>199</td>\n",
       "    </tr>\n",
       "    <tr>\n",
       "      <th>6</th>\n",
       "      <td>1</td>\n",
       "      <td>Кира</td>\n",
       "      <td>22</td>\n",
       "      <td>Тюмень</td>\n",
       "      <td>ultra</td>\n",
       "      <td>3039.020292</td>\n",
       "      <td>14.927879</td>\n",
       "      <td>2021-10-19</td>\n",
       "      <td>10</td>\n",
       "      <td>6</td>\n",
       "      <td>0</td>\n",
       "      <td>199</td>\n",
       "    </tr>\n",
       "    <tr>\n",
       "      <th>7</th>\n",
       "      <td>1</td>\n",
       "      <td>Кира</td>\n",
       "      <td>22</td>\n",
       "      <td>Тюмень</td>\n",
       "      <td>ultra</td>\n",
       "      <td>2842.118050</td>\n",
       "      <td>23.117468</td>\n",
       "      <td>2021-11-06</td>\n",
       "      <td>11</td>\n",
       "      <td>6</td>\n",
       "      <td>0</td>\n",
       "      <td>199</td>\n",
       "    </tr>\n",
       "    <tr>\n",
       "      <th>8</th>\n",
       "      <td>1</td>\n",
       "      <td>Кира</td>\n",
       "      <td>22</td>\n",
       "      <td>Тюмень</td>\n",
       "      <td>ultra</td>\n",
       "      <td>3412.690668</td>\n",
       "      <td>15.238072</td>\n",
       "      <td>2021-11-14</td>\n",
       "      <td>11</td>\n",
       "      <td>6</td>\n",
       "      <td>0</td>\n",
       "      <td>199</td>\n",
       "    </tr>\n",
       "    <tr>\n",
       "      <th>9</th>\n",
       "      <td>1</td>\n",
       "      <td>Кира</td>\n",
       "      <td>22</td>\n",
       "      <td>Тюмень</td>\n",
       "      <td>ultra</td>\n",
       "      <td>748.690645</td>\n",
       "      <td>15.041884</td>\n",
       "      <td>2021-11-22</td>\n",
       "      <td>11</td>\n",
       "      <td>6</td>\n",
       "      <td>0</td>\n",
       "      <td>199</td>\n",
       "    </tr>\n",
       "  </tbody>\n",
       "</table>\n",
       "</div>"
      ],
      "text/plain": [
       "   user_id  name  age    city subscription_type     distance   duration  \\\n",
       "0        1  Кира   22  Тюмень             ultra  4409.919140  25.599769   \n",
       "1        1  Кира   22  Тюмень             ultra  2617.592153  15.816871   \n",
       "2        1  Кира   22  Тюмень             ultra   754.159807   6.232113   \n",
       "3        1  Кира   22  Тюмень             ultra  2694.783254  18.511000   \n",
       "4        1  Кира   22  Тюмень             ultra  4028.687306  26.265803   \n",
       "5        1  Кира   22  Тюмень             ultra  2770.890808  16.650138   \n",
       "6        1  Кира   22  Тюмень             ultra  3039.020292  14.927879   \n",
       "7        1  Кира   22  Тюмень             ultra  2842.118050  23.117468   \n",
       "8        1  Кира   22  Тюмень             ultra  3412.690668  15.238072   \n",
       "9        1  Кира   22  Тюмень             ultra   748.690645  15.041884   \n",
       "\n",
       "        date  month  minute_price  start_ride_price  subscription_fee  \n",
       "0 2021-01-01      1             6                 0               199  \n",
       "1 2021-01-18      1             6                 0               199  \n",
       "2 2021-04-20      4             6                 0               199  \n",
       "3 2021-08-11      8             6                 0               199  \n",
       "4 2021-08-28      8             6                 0               199  \n",
       "5 2021-10-09     10             6                 0               199  \n",
       "6 2021-10-19     10             6                 0               199  \n",
       "7 2021-11-06     11             6                 0               199  \n",
       "8 2021-11-14     11             6                 0               199  \n",
       "9 2021-11-22     11             6                 0               199  "
      ]
     },
     "execution_count": 24,
     "metadata": {},
     "output_type": "execute_result"
    }
   ],
   "source": [
    "data = users.merge(rides)\n",
    "data = data.merge(subs)\n",
    "data.head(10)"
   ]
  },
  {
   "cell_type": "code",
   "execution_count": 25,
   "id": "34f6b982",
   "metadata": {},
   "outputs": [
    {
     "data": {
      "text/plain": [
       "user_id              0\n",
       "name                 0\n",
       "age                  0\n",
       "city                 0\n",
       "subscription_type    0\n",
       "distance             0\n",
       "duration             0\n",
       "date                 0\n",
       "month                0\n",
       "minute_price         0\n",
       "start_ride_price     0\n",
       "subscription_fee     0\n",
       "dtype: int64"
      ]
     },
     "execution_count": 25,
     "metadata": {},
     "output_type": "execute_result"
    }
   ],
   "source": [
    "data.isna().sum()"
   ]
  },
  {
   "cell_type": "code",
   "execution_count": 26,
   "id": "fd87e7b0",
   "metadata": {},
   "outputs": [
    {
     "data": {
      "text/plain": [
       "(18068, 12)"
      ]
     },
     "execution_count": 26,
     "metadata": {},
     "output_type": "execute_result"
    }
   ],
   "source": [
    "data.shape"
   ]
  },
  {
   "cell_type": "markdown",
   "id": "7d57a1f8",
   "metadata": {},
   "source": [
    "Все размерности совпали, пропусков в новом датасете не обнаружено."
   ]
  },
  {
   "cell_type": "markdown",
   "id": "456f0c51",
   "metadata": {},
   "source": [
    "Создадим таблицу с пользователями без подписки:"
   ]
  },
  {
   "cell_type": "code",
   "execution_count": 27,
   "id": "5eea9abe",
   "metadata": {},
   "outputs": [
    {
     "data": {
      "text/html": [
       "<div>\n",
       "<style scoped>\n",
       "    .dataframe tbody tr th:only-of-type {\n",
       "        vertical-align: middle;\n",
       "    }\n",
       "\n",
       "    .dataframe tbody tr th {\n",
       "        vertical-align: top;\n",
       "    }\n",
       "\n",
       "    .dataframe thead th {\n",
       "        text-align: right;\n",
       "    }\n",
       "</style>\n",
       "<table border=\"1\" class=\"dataframe\">\n",
       "  <thead>\n",
       "    <tr style=\"text-align: right;\">\n",
       "      <th></th>\n",
       "      <th>user_id</th>\n",
       "      <th>name</th>\n",
       "      <th>age</th>\n",
       "      <th>city</th>\n",
       "      <th>subscription_type</th>\n",
       "      <th>distance</th>\n",
       "      <th>duration</th>\n",
       "      <th>date</th>\n",
       "      <th>month</th>\n",
       "      <th>minute_price</th>\n",
       "      <th>start_ride_price</th>\n",
       "      <th>subscription_fee</th>\n",
       "    </tr>\n",
       "  </thead>\n",
       "  <tbody>\n",
       "    <tr>\n",
       "      <th>6500</th>\n",
       "      <td>700</td>\n",
       "      <td>Айдар</td>\n",
       "      <td>22</td>\n",
       "      <td>Омск</td>\n",
       "      <td>free</td>\n",
       "      <td>2515.690719</td>\n",
       "      <td>14.944286</td>\n",
       "      <td>2021-01-02</td>\n",
       "      <td>1</td>\n",
       "      <td>8</td>\n",
       "      <td>50</td>\n",
       "      <td>0</td>\n",
       "    </tr>\n",
       "    <tr>\n",
       "      <th>6501</th>\n",
       "      <td>700</td>\n",
       "      <td>Айдар</td>\n",
       "      <td>22</td>\n",
       "      <td>Омск</td>\n",
       "      <td>free</td>\n",
       "      <td>846.932642</td>\n",
       "      <td>16.234663</td>\n",
       "      <td>2021-02-01</td>\n",
       "      <td>2</td>\n",
       "      <td>8</td>\n",
       "      <td>50</td>\n",
       "      <td>0</td>\n",
       "    </tr>\n",
       "    <tr>\n",
       "      <th>6502</th>\n",
       "      <td>700</td>\n",
       "      <td>Айдар</td>\n",
       "      <td>22</td>\n",
       "      <td>Омск</td>\n",
       "      <td>free</td>\n",
       "      <td>4004.434142</td>\n",
       "      <td>20.016628</td>\n",
       "      <td>2021-02-04</td>\n",
       "      <td>2</td>\n",
       "      <td>8</td>\n",
       "      <td>50</td>\n",
       "      <td>0</td>\n",
       "    </tr>\n",
       "    <tr>\n",
       "      <th>6503</th>\n",
       "      <td>700</td>\n",
       "      <td>Айдар</td>\n",
       "      <td>22</td>\n",
       "      <td>Омск</td>\n",
       "      <td>free</td>\n",
       "      <td>1205.911290</td>\n",
       "      <td>9.782872</td>\n",
       "      <td>2021-02-10</td>\n",
       "      <td>2</td>\n",
       "      <td>8</td>\n",
       "      <td>50</td>\n",
       "      <td>0</td>\n",
       "    </tr>\n",
       "    <tr>\n",
       "      <th>6504</th>\n",
       "      <td>700</td>\n",
       "      <td>Айдар</td>\n",
       "      <td>22</td>\n",
       "      <td>Омск</td>\n",
       "      <td>free</td>\n",
       "      <td>3047.379435</td>\n",
       "      <td>17.427673</td>\n",
       "      <td>2021-02-14</td>\n",
       "      <td>2</td>\n",
       "      <td>8</td>\n",
       "      <td>50</td>\n",
       "      <td>0</td>\n",
       "    </tr>\n",
       "  </tbody>\n",
       "</table>\n",
       "</div>"
      ],
      "text/plain": [
       "      user_id   name  age  city subscription_type     distance   duration  \\\n",
       "6500      700  Айдар   22  Омск              free  2515.690719  14.944286   \n",
       "6501      700  Айдар   22  Омск              free   846.932642  16.234663   \n",
       "6502      700  Айдар   22  Омск              free  4004.434142  20.016628   \n",
       "6503      700  Айдар   22  Омск              free  1205.911290   9.782872   \n",
       "6504      700  Айдар   22  Омск              free  3047.379435  17.427673   \n",
       "\n",
       "           date  month  minute_price  start_ride_price  subscription_fee  \n",
       "6500 2021-01-02      1             8                50                 0  \n",
       "6501 2021-02-01      2             8                50                 0  \n",
       "6502 2021-02-04      2             8                50                 0  \n",
       "6503 2021-02-10      2             8                50                 0  \n",
       "6504 2021-02-14      2             8                50                 0  "
      ]
     },
     "execution_count": 27,
     "metadata": {},
     "output_type": "execute_result"
    }
   ],
   "source": [
    "no_sub = data.loc[data['subscription_type'] == 'free']\n",
    "no_sub.head()"
   ]
  },
  {
   "cell_type": "markdown",
   "id": "16409c7d",
   "metadata": {},
   "source": [
    "Визуализируем информацию о расстоянии и времени поездок:"
   ]
  },
  {
   "cell_type": "code",
   "execution_count": 28,
   "id": "1708f409",
   "metadata": {},
   "outputs": [
    {
     "data": {
      "image/png": "[encoded data removed]",
      "text/plain": [
       "<Figure size 432x288 with 1 Axes>"
      ]
     },
     "metadata": {
      "needs_background": "light"
     },
     "output_type": "display_data"
    }
   ],
   "source": [
    "ax = no_sub['distance'].plot(kind='hist', bins=30, edgecolor='black', grid = 'True')\n",
    "ax.set_title('Дистанция')\n",
    "ax.set_xlabel('расстояние, м')\n",
    "ax.set_ylabel('кол во')\n",
    "plt.show()"
   ]
  },
  {
   "cell_type": "code",
   "execution_count": 29,
   "id": "a22bc67e",
   "metadata": {},
   "outputs": [
    {
     "data": {
      "image/png": "[encoded data removed]",
      "text/plain": [
       "<Figure size 432x288 with 1 Axes>"
      ]
     },
     "metadata": {
      "needs_background": "light"
     },
     "output_type": "display_data"
    }
   ],
   "source": [
    "ax = no_sub['duration'].plot(kind='hist', bins=30, edgecolor='black', grid = 'True')\n",
    "ax.set_title('Время в поездках')\n",
    "ax.set_xlabel('Время, мин')\n",
    "ax.set_ylabel('Частота')\n",
    "plt.show()"
   ]
  },
  {
   "cell_type": "markdown",
   "id": "a37dcb61",
   "metadata": {},
   "source": [
    "Создадим таблицу пользователей с подпиской:"
   ]
  },
  {
   "cell_type": "code",
   "execution_count": 30,
   "id": "49f58215",
   "metadata": {},
   "outputs": [
    {
     "data": {
      "text/html": [
       "<div>\n",
       "<style scoped>\n",
       "    .dataframe tbody tr th:only-of-type {\n",
       "        vertical-align: middle;\n",
       "    }\n",
       "\n",
       "    .dataframe tbody tr th {\n",
       "        vertical-align: top;\n",
       "    }\n",
       "\n",
       "    .dataframe thead th {\n",
       "        text-align: right;\n",
       "    }\n",
       "</style>\n",
       "<table border=\"1\" class=\"dataframe\">\n",
       "  <thead>\n",
       "    <tr style=\"text-align: right;\">\n",
       "      <th></th>\n",
       "      <th>user_id</th>\n",
       "      <th>name</th>\n",
       "      <th>age</th>\n",
       "      <th>city</th>\n",
       "      <th>subscription_type</th>\n",
       "      <th>distance</th>\n",
       "      <th>duration</th>\n",
       "      <th>date</th>\n",
       "      <th>month</th>\n",
       "      <th>minute_price</th>\n",
       "      <th>start_ride_price</th>\n",
       "      <th>subscription_fee</th>\n",
       "    </tr>\n",
       "  </thead>\n",
       "  <tbody>\n",
       "    <tr>\n",
       "      <th>0</th>\n",
       "      <td>1</td>\n",
       "      <td>Кира</td>\n",
       "      <td>22</td>\n",
       "      <td>Тюмень</td>\n",
       "      <td>ultra</td>\n",
       "      <td>4409.919140</td>\n",
       "      <td>25.599769</td>\n",
       "      <td>2021-01-01</td>\n",
       "      <td>1</td>\n",
       "      <td>6</td>\n",
       "      <td>0</td>\n",
       "      <td>199</td>\n",
       "    </tr>\n",
       "    <tr>\n",
       "      <th>1</th>\n",
       "      <td>1</td>\n",
       "      <td>Кира</td>\n",
       "      <td>22</td>\n",
       "      <td>Тюмень</td>\n",
       "      <td>ultra</td>\n",
       "      <td>2617.592153</td>\n",
       "      <td>15.816871</td>\n",
       "      <td>2021-01-18</td>\n",
       "      <td>1</td>\n",
       "      <td>6</td>\n",
       "      <td>0</td>\n",
       "      <td>199</td>\n",
       "    </tr>\n",
       "    <tr>\n",
       "      <th>2</th>\n",
       "      <td>1</td>\n",
       "      <td>Кира</td>\n",
       "      <td>22</td>\n",
       "      <td>Тюмень</td>\n",
       "      <td>ultra</td>\n",
       "      <td>754.159807</td>\n",
       "      <td>6.232113</td>\n",
       "      <td>2021-04-20</td>\n",
       "      <td>4</td>\n",
       "      <td>6</td>\n",
       "      <td>0</td>\n",
       "      <td>199</td>\n",
       "    </tr>\n",
       "    <tr>\n",
       "      <th>3</th>\n",
       "      <td>1</td>\n",
       "      <td>Кира</td>\n",
       "      <td>22</td>\n",
       "      <td>Тюмень</td>\n",
       "      <td>ultra</td>\n",
       "      <td>2694.783254</td>\n",
       "      <td>18.511000</td>\n",
       "      <td>2021-08-11</td>\n",
       "      <td>8</td>\n",
       "      <td>6</td>\n",
       "      <td>0</td>\n",
       "      <td>199</td>\n",
       "    </tr>\n",
       "    <tr>\n",
       "      <th>4</th>\n",
       "      <td>1</td>\n",
       "      <td>Кира</td>\n",
       "      <td>22</td>\n",
       "      <td>Тюмень</td>\n",
       "      <td>ultra</td>\n",
       "      <td>4028.687306</td>\n",
       "      <td>26.265803</td>\n",
       "      <td>2021-08-28</td>\n",
       "      <td>8</td>\n",
       "      <td>6</td>\n",
       "      <td>0</td>\n",
       "      <td>199</td>\n",
       "    </tr>\n",
       "  </tbody>\n",
       "</table>\n",
       "</div>"
      ],
      "text/plain": [
       "   user_id  name  age    city subscription_type     distance   duration  \\\n",
       "0        1  Кира   22  Тюмень             ultra  4409.919140  25.599769   \n",
       "1        1  Кира   22  Тюмень             ultra  2617.592153  15.816871   \n",
       "2        1  Кира   22  Тюмень             ultra   754.159807   6.232113   \n",
       "3        1  Кира   22  Тюмень             ultra  2694.783254  18.511000   \n",
       "4        1  Кира   22  Тюмень             ultra  4028.687306  26.265803   \n",
       "\n",
       "        date  month  minute_price  start_ride_price  subscription_fee  \n",
       "0 2021-01-01      1             6                 0               199  \n",
       "1 2021-01-18      1             6                 0               199  \n",
       "2 2021-04-20      4             6                 0               199  \n",
       "3 2021-08-11      8             6                 0               199  \n",
       "4 2021-08-28      8             6                 0               199  "
      ]
     },
     "execution_count": 30,
     "metadata": {},
     "output_type": "execute_result"
    }
   ],
   "source": [
    "yes_sub = data.loc[data['subscription_type'] != 'free']\n",
    "yes_sub.head(5)"
   ]
  },
  {
   "cell_type": "markdown",
   "id": "edf4fcc8",
   "metadata": {},
   "source": [
    "Визуализируем:"
   ]
  },
  {
   "cell_type": "code",
   "execution_count": 31,
   "id": "78421ad3",
   "metadata": {},
   "outputs": [
    {
     "data": {
      "image/png": "[encoded data removed]",
      "text/plain": [
       "<Figure size 432x288 with 1 Axes>"
      ]
     },
     "metadata": {
      "needs_background": "light"
     },
     "output_type": "display_data"
    }
   ],
   "source": [
    "ax = yes_sub['distance'].plot(kind='hist', bins=30, edgecolor='black', grid = 'True')\n",
    "ax.set_title('Дистанция')\n",
    "ax.set_xlabel('расстояние, м')\n",
    "ax.set_ylabel('кол во')\n",
    "plt.show()"
   ]
  },
  {
   "cell_type": "code",
   "execution_count": 32,
   "id": "8bfd974e",
   "metadata": {},
   "outputs": [
    {
     "data": {
      "image/png": "[encoded data removed]",
      "text/plain": [
       "<Figure size 432x288 with 1 Axes>"
      ]
     },
     "metadata": {
      "needs_background": "light"
     },
     "output_type": "display_data"
    }
   ],
   "source": [
    "ax = yes_sub['duration'].plot(kind='hist', bins=30, edgecolor='black', grid = 'True')\n",
    "ax.set_title('Время в поездках')\n",
    "ax.set_xlabel('Время, мин')\n",
    "ax.set_ylabel('Частота')\n",
    "plt.show()"
   ]
  },
  {
   "cell_type": "markdown",
   "id": "f9790c5b",
   "metadata": {},
   "source": [
    "Вывод:\n",
    "Объединили два датафрейма в один, создали датафрейм пользователей с подпиской и без.\n",
    "По графикам видно, что пользователи без подписки совершают более долгие и длинные поездки."
   ]
  },
  {
   "cell_type": "markdown",
   "id": "402d620f",
   "metadata": {},
   "source": [
    "#### Шаг 5. Подсчёт выручки"
   ]
  },
  {
   "cell_type": "code",
   "execution_count": 33,
   "id": "9365191f",
   "metadata": {},
   "outputs": [],
   "source": [
    "data['duration'] = np.ceil(data['duration'])"
   ]
  },
  {
   "cell_type": "code",
   "execution_count": 34,
   "id": "53049e0a",
   "metadata": {},
   "outputs": [
    {
     "data": {
      "text/html": [
       "<div>\n",
       "<style scoped>\n",
       "    .dataframe tbody tr th:only-of-type {\n",
       "        vertical-align: middle;\n",
       "    }\n",
       "\n",
       "    .dataframe tbody tr th {\n",
       "        vertical-align: top;\n",
       "    }\n",
       "\n",
       "    .dataframe thead th {\n",
       "        text-align: right;\n",
       "    }\n",
       "</style>\n",
       "<table border=\"1\" class=\"dataframe\">\n",
       "  <thead>\n",
       "    <tr style=\"text-align: right;\">\n",
       "      <th></th>\n",
       "      <th></th>\n",
       "      <th>distance</th>\n",
       "      <th>duration</th>\n",
       "      <th>count</th>\n",
       "      <th>subscription_type</th>\n",
       "    </tr>\n",
       "    <tr>\n",
       "      <th>month</th>\n",
       "      <th>user_id</th>\n",
       "      <th></th>\n",
       "      <th></th>\n",
       "      <th></th>\n",
       "      <th></th>\n",
       "    </tr>\n",
       "  </thead>\n",
       "  <tbody>\n",
       "    <tr>\n",
       "      <th rowspan=\"5\" valign=\"top\">1</th>\n",
       "      <th>1</th>\n",
       "      <td>7027.511294</td>\n",
       "      <td>42.0</td>\n",
       "      <td>2</td>\n",
       "      <td>ultra</td>\n",
       "    </tr>\n",
       "    <tr>\n",
       "      <th>3</th>\n",
       "      <td>3061.777147</td>\n",
       "      <td>13.0</td>\n",
       "      <td>1</td>\n",
       "      <td>ultra</td>\n",
       "    </tr>\n",
       "    <tr>\n",
       "      <th>5</th>\n",
       "      <td>3914.646990</td>\n",
       "      <td>13.0</td>\n",
       "      <td>1</td>\n",
       "      <td>ultra</td>\n",
       "    </tr>\n",
       "    <tr>\n",
       "      <th>7</th>\n",
       "      <td>6478.080979</td>\n",
       "      <td>28.0</td>\n",
       "      <td>2</td>\n",
       "      <td>ultra</td>\n",
       "    </tr>\n",
       "    <tr>\n",
       "      <th>12</th>\n",
       "      <td>3577.151148</td>\n",
       "      <td>33.0</td>\n",
       "      <td>1</td>\n",
       "      <td>ultra</td>\n",
       "    </tr>\n",
       "  </tbody>\n",
       "</table>\n",
       "</div>"
      ],
      "text/plain": [
       "                  distance  duration  count subscription_type\n",
       "month user_id                                                \n",
       "1     1        7027.511294      42.0      2             ultra\n",
       "      3        3061.777147      13.0      1             ultra\n",
       "      5        3914.646990      13.0      1             ultra\n",
       "      7        6478.080979      28.0      2             ultra\n",
       "      12       3577.151148      33.0      1             ultra"
      ]
     },
     "execution_count": 34,
     "metadata": {},
     "output_type": "execute_result"
    }
   ],
   "source": [
    "data_sum = pd.pivot_table(data,\n",
    "                           index=['month', 'user_id'],\n",
    "                           values = ['distance', 'duration', 'name', 'subscription_type'],\n",
    "                           aggfunc = {'distance': sum, \n",
    "                                      'duration' : sum, \n",
    "                                      'name' : 'count', \n",
    "                                      'subscription_type' : min})\n",
    "data_sum.columns = ['distance', 'duration', 'count', 'subscription_type']\n",
    "#data_sum['duration'] = np.ceil(data_sum['duration'])\n",
    "data_sum.head()"
   ]
  },
  {
   "cell_type": "code",
   "execution_count": 35,
   "id": "5d37693e",
   "metadata": {},
   "outputs": [
    {
     "data": {
      "text/html": [
       "<div>\n",
       "<style scoped>\n",
       "    .dataframe tbody tr th:only-of-type {\n",
       "        vertical-align: middle;\n",
       "    }\n",
       "\n",
       "    .dataframe tbody tr th {\n",
       "        vertical-align: top;\n",
       "    }\n",
       "\n",
       "    .dataframe thead th {\n",
       "        text-align: right;\n",
       "    }\n",
       "</style>\n",
       "<table border=\"1\" class=\"dataframe\">\n",
       "  <thead>\n",
       "    <tr style=\"text-align: right;\">\n",
       "      <th></th>\n",
       "      <th></th>\n",
       "      <th>distance</th>\n",
       "      <th>duration</th>\n",
       "      <th>count</th>\n",
       "      <th>subscription_type</th>\n",
       "      <th>month_income</th>\n",
       "    </tr>\n",
       "    <tr>\n",
       "      <th>month</th>\n",
       "      <th>user_id</th>\n",
       "      <th></th>\n",
       "      <th></th>\n",
       "      <th></th>\n",
       "      <th></th>\n",
       "      <th></th>\n",
       "    </tr>\n",
       "  </thead>\n",
       "  <tbody>\n",
       "    <tr>\n",
       "      <th rowspan=\"5\" valign=\"top\">1</th>\n",
       "      <th>1</th>\n",
       "      <td>7027.511294</td>\n",
       "      <td>42.0</td>\n",
       "      <td>2</td>\n",
       "      <td>ultra</td>\n",
       "      <td>451.0</td>\n",
       "    </tr>\n",
       "    <tr>\n",
       "      <th>3</th>\n",
       "      <td>3061.777147</td>\n",
       "      <td>13.0</td>\n",
       "      <td>1</td>\n",
       "      <td>ultra</td>\n",
       "      <td>277.0</td>\n",
       "    </tr>\n",
       "    <tr>\n",
       "      <th>5</th>\n",
       "      <td>3914.646990</td>\n",
       "      <td>13.0</td>\n",
       "      <td>1</td>\n",
       "      <td>ultra</td>\n",
       "      <td>277.0</td>\n",
       "    </tr>\n",
       "    <tr>\n",
       "      <th>7</th>\n",
       "      <td>6478.080979</td>\n",
       "      <td>28.0</td>\n",
       "      <td>2</td>\n",
       "      <td>ultra</td>\n",
       "      <td>367.0</td>\n",
       "    </tr>\n",
       "    <tr>\n",
       "      <th>12</th>\n",
       "      <td>3577.151148</td>\n",
       "      <td>33.0</td>\n",
       "      <td>1</td>\n",
       "      <td>ultra</td>\n",
       "      <td>397.0</td>\n",
       "    </tr>\n",
       "  </tbody>\n",
       "</table>\n",
       "</div>"
      ],
      "text/plain": [
       "                  distance  duration  count subscription_type  month_income\n",
       "month user_id                                                              \n",
       "1     1        7027.511294      42.0      2             ultra         451.0\n",
       "      3        3061.777147      13.0      1             ultra         277.0\n",
       "      5        3914.646990      13.0      1             ultra         277.0\n",
       "      7        6478.080979      28.0      2             ultra         367.0\n",
       "      12       3577.151148      33.0      1             ultra         397.0"
      ]
     },
     "execution_count": 35,
     "metadata": {},
     "output_type": "execute_result"
    }
   ],
   "source": [
    "def income(row):\n",
    "    if row['subscription_type'] == 'ultra':\n",
    "        return 6 * row['duration'] + 199\n",
    "    else:\n",
    "        return 8 * row['duration'] + row['count'] * 50\n",
    "data_sum['month_income'] = data_sum.apply(income, axis=1)\n",
    "data_sum.head()"
   ]
  },
  {
   "cell_type": "markdown",
   "id": "464b425d",
   "metadata": {},
   "source": [
    "Вывод: создали новый датафрейм с информацией о длительности, расстоянии, сумме поездок и прибыли с каждого пользоватлея, за каждый месяц"
   ]
  },
  {
   "cell_type": "markdown",
   "id": "41545ac0",
   "metadata": {},
   "source": [
    "#### Шаг 6. Проверка гипотез"
   ]
  },
  {
   "cell_type": "markdown",
   "id": "71399492",
   "metadata": {},
   "source": [
    "тратят ли пользователи с подпиской больше времени на поездки?"
   ]
  },
  {
   "cell_type": "markdown",
   "id": "2b8d4774",
   "metadata": {},
   "source": [
    "6 1 Нулевая гипотеза: продолжительность поездок с подпиской и без равна"
   ]
  },
  {
   "cell_type": "markdown",
   "id": "89e552ab",
   "metadata": {},
   "source": [
    "Ненулевая: продолжительность поездки с подпиской больше"
   ]
  },
  {
   "cell_type": "code",
   "execution_count": 36,
   "id": "3367e080",
   "metadata": {},
   "outputs": [
    {
     "name": "stdout",
     "output_type": "stream",
     "text": [
      "1.2804098316645618e-34\n",
      "Отвергаем нулевую гипотезу\n"
     ]
    }
   ],
   "source": [
    "results = st.ttest_ind(yes_sub['duration'], no_sub['duration'] ,alternative = 'greater')\n",
    "alpha = 0.05\n",
    "print(results.pvalue)\n",
    "if results.pvalue < alpha:\n",
    "    print('Отвергаем нулевую гипотезу')\n",
    "else:\n",
    "    print('Не удалось отвергнуть нулевую гипотезу')"
   ]
  },
  {
   "cell_type": "markdown",
   "id": "05a4a665",
   "metadata": {},
   "source": [
    "значит продолжительность поездок без подписки не равно продолжительности поездок с подпиской"
   ]
  },
  {
   "cell_type": "markdown",
   "id": "68272e50",
   "metadata": {},
   "source": [
    "6 2 Нулевая гипотеза:  среднее расстояние, которое проезжают пользователи с подпиской за одну поездку, равно 3130 метров\n"
   ]
  },
  {
   "cell_type": "markdown",
   "id": "c9d65ecd",
   "metadata": {},
   "source": [
    "Ненулевая:  Подписчики в среднем проезжают расстояние больше оптимального"
   ]
  },
  {
   "cell_type": "code",
   "execution_count": 37,
   "id": "a872e343",
   "metadata": {},
   "outputs": [
    {
     "name": "stdout",
     "output_type": "stream",
     "text": [
      "0.9195368847849785\n",
      "Не удалось отвергнуть нулевую гипотезу\n"
     ]
    }
   ],
   "source": [
    "value = 3130.0\n",
    "alpha = 0.05\n",
    "results = st.ttest_1samp(yes_sub['distance'], value, alternative='greater')   \n",
    "print(results.pvalue)\n",
    "if results.pvalue < alpha:\n",
    "    print('Отвергаем нулевую гипотезу')\n",
    "else:\n",
    "    print('Не удалось отвергнуть нулевую гипотезу')"
   ]
  },
  {
   "cell_type": "markdown",
   "id": "5f9bf2d7",
   "metadata": {},
   "source": [
    "мы не можем утверждать, что подписчики в среднем проезжают расстояние больше оптимального."
   ]
  },
  {
   "cell_type": "markdown",
   "id": "08d5cfd9",
   "metadata": {},
   "source": [
    "6 3 Нулевая гипотеза: выручка пользователей с подпиской и без равна"
   ]
  },
  {
   "cell_type": "markdown",
   "id": "6a953326",
   "metadata": {},
   "source": [
    "Ненулевая: помесячная выручка от пользователей с подпиской по месяцам выше, чем выручка от пользователей без подписки"
   ]
  },
  {
   "cell_type": "code",
   "execution_count": 38,
   "id": "5ad3ad3e",
   "metadata": {},
   "outputs": [
    {
     "name": "stdout",
     "output_type": "stream",
     "text": [
      "3.7700788769430433e-31\n",
      "Отвергаем нулевую гипотезу\n"
     ]
    }
   ],
   "source": [
    "results = st.ttest_ind(data_sum.loc[data_sum['subscription_type'] == 'ultra']['month_income'], \n",
    "                       data_sum.loc[data_sum['subscription_type'] != 'ultra']['month_income'])\n",
    "alpha = 0.05\n",
    "print(results.pvalue)\n",
    "if results.pvalue < alpha:\n",
    "    print('Отвергаем нулевую гипотезу')\n",
    "else:\n",
    "    print('Не удалось отвергнуть нулевую гипотезу')"
   ]
  },
  {
   "cell_type": "markdown",
   "id": "7f542ac5",
   "metadata": {},
   "source": [
    "Мы можем утверждать что помесячная выручка от пользователей с подпиской по месяцам выше, чем выручка от пользователей без подписки"
   ]
  },
  {
   "cell_type": "markdown",
   "id": "63ddb77b",
   "metadata": {},
   "source": [
    "6 4: нам нужно будет сделать тест для старых данных и для измененных, которые зависят друг от друга и воспользуемся методом scipy.stats.ttest_rel(), что б узнать, будет ли количество обращений в поддержку до обновления равняться кол-ву обращений после обновления."
   ]
  },
  {
   "cell_type": "markdown",
   "id": "83631ed5",
   "metadata": {},
   "source": [
    "#### Общий вывод"
   ]
  },
  {
   "cell_type": "markdown",
   "id": "53210314",
   "metadata": {},
   "source": [
    "Итак, мы загрузили три датафрейма, о пользователях, подписках и поездках, обработали дубликаты и пропуски, там где это было необходимо. Выяснили, что самый встречающийся город это пятигорск, пользователей с подпиской и без практически равное количество(пользователей с без подписки 54 %), чаще всего сервисом пользуются люди возрастом от 20 до 28 лет, и дистанция в основном варьируется от 2500 до 4000 метров, а так же, время поездки чаще всего в районе от 15 до 25 минут. Затем мы объединили три датасета в один, а так же создали еще 2 новых датасета с информацией о пользователях с подпиской и без и так же вывели графики по ним. Пятым шагом мы сделали сводную таблицу с информацией об выручке с каждого клиента за определенный месяц с помощью функции def income(). И 6 ым пунктом проверили все гипотезы используя т-тесты. Мы выяснили, что продолжительность поездки без подписки меньше чем с подпиской, мы не можем утверждать что среднее расстояние, которое проезжают пользователи с подпиской за одну поездку, не превышает 3130 метров, мы можем утверждать что помесячная выручка от пользователей с подпиской по месяцам выше, чем выручка от пользователей без подписки."
   ]
  }
 ],
 "metadata": {
  "ExecuteTimeLog": [
   {
    "duration": 602,
    "start_time": "2023-12-18T12:08:58.826Z"
   },
   {
    "duration": 12,
    "start_time": "2023-12-18T12:09:28.832Z"
   },
   {
    "duration": 9,
    "start_time": "2023-12-18T12:09:57.142Z"
   },
   {
    "duration": 6,
    "start_time": "2023-12-18T12:10:22.036Z"
   },
   {
    "duration": 11,
    "start_time": "2023-12-18T12:10:45.706Z"
   },
   {
    "duration": 8,
    "start_time": "2023-12-18T12:12:22.052Z"
   },
   {
    "duration": 11,
    "start_time": "2023-12-18T12:14:10.247Z"
   },
   {
    "duration": 11,
    "start_time": "2023-12-18T12:14:56.067Z"
   },
   {
    "duration": 11,
    "start_time": "2023-12-18T12:15:14.260Z"
   },
   {
    "duration": 8,
    "start_time": "2023-12-18T12:15:23.652Z"
   },
   {
    "duration": 13,
    "start_time": "2023-12-18T12:16:22.786Z"
   },
   {
    "duration": 9,
    "start_time": "2023-12-18T12:16:30.020Z"
   },
   {
    "duration": 65,
    "start_time": "2023-12-18T12:16:55.733Z"
   },
   {
    "duration": 9,
    "start_time": "2023-12-18T12:16:58.033Z"
   },
   {
    "duration": 8,
    "start_time": "2023-12-18T12:16:58.222Z"
   },
   {
    "duration": 13,
    "start_time": "2023-12-18T12:16:58.951Z"
   },
   {
    "duration": 8,
    "start_time": "2023-12-18T12:16:59.193Z"
   },
   {
    "duration": 10,
    "start_time": "2023-12-18T12:17:00.328Z"
   },
   {
    "duration": 6,
    "start_time": "2023-12-18T12:17:07.456Z"
   },
   {
    "duration": 57,
    "start_time": "2023-12-18T12:22:31.780Z"
   },
   {
    "duration": 7,
    "start_time": "2023-12-18T12:22:36.446Z"
   },
   {
    "duration": 5,
    "start_time": "2023-12-18T12:23:02.821Z"
   },
   {
    "duration": 9,
    "start_time": "2023-12-18T12:23:49.794Z"
   },
   {
    "duration": 72,
    "start_time": "2023-12-18T12:25:11.397Z"
   },
   {
    "duration": 9,
    "start_time": "2023-12-18T12:26:06.961Z"
   },
   {
    "duration": 10,
    "start_time": "2023-12-18T12:26:12.801Z"
   },
   {
    "duration": 8,
    "start_time": "2023-12-18T12:26:36.250Z"
   },
   {
    "duration": 73,
    "start_time": "2023-12-18T12:26:57.661Z"
   },
   {
    "duration": 41,
    "start_time": "2023-12-18T16:45:50.669Z"
   },
   {
    "duration": 521,
    "start_time": "2023-12-18T16:45:57.360Z"
   },
   {
    "duration": 9,
    "start_time": "2023-12-18T16:45:57.883Z"
   },
   {
    "duration": 23,
    "start_time": "2023-12-18T16:45:57.893Z"
   },
   {
    "duration": 8,
    "start_time": "2023-12-18T16:45:57.918Z"
   },
   {
    "duration": 6,
    "start_time": "2023-12-18T16:45:57.928Z"
   },
   {
    "duration": 11,
    "start_time": "2023-12-18T16:45:57.935Z"
   },
   {
    "duration": 15,
    "start_time": "2023-12-18T16:45:57.948Z"
   },
   {
    "duration": 9,
    "start_time": "2023-12-18T16:45:57.964Z"
   },
   {
    "duration": 5,
    "start_time": "2023-12-18T16:45:57.974Z"
   },
   {
    "duration": 11,
    "start_time": "2023-12-18T16:45:57.981Z"
   },
   {
    "duration": 53,
    "start_time": "2023-12-18T16:47:24.944Z"
   },
   {
    "duration": 8,
    "start_time": "2023-12-18T16:47:39.021Z"
   },
   {
    "duration": 80,
    "start_time": "2023-12-18T16:47:51.954Z"
   },
   {
    "duration": 4,
    "start_time": "2023-12-18T16:49:44.614Z"
   },
   {
    "duration": 7,
    "start_time": "2023-12-18T16:50:17.884Z"
   },
   {
    "duration": 4,
    "start_time": "2023-12-18T16:50:25.565Z"
   },
   {
    "duration": 8,
    "start_time": "2023-12-18T16:53:52.280Z"
   },
   {
    "duration": 8,
    "start_time": "2023-12-18T16:54:11.548Z"
   },
   {
    "duration": 5,
    "start_time": "2023-12-18T16:54:41.945Z"
   },
   {
    "duration": 5,
    "start_time": "2023-12-18T16:55:06.132Z"
   },
   {
    "duration": 6,
    "start_time": "2023-12-18T16:57:31.881Z"
   },
   {
    "duration": 385,
    "start_time": "2023-12-18T16:58:10.946Z"
   },
   {
    "duration": 9,
    "start_time": "2023-12-18T16:58:11.332Z"
   },
   {
    "duration": 14,
    "start_time": "2023-12-18T16:58:11.342Z"
   },
   {
    "duration": 8,
    "start_time": "2023-12-18T16:58:11.357Z"
   },
   {
    "duration": 7,
    "start_time": "2023-12-18T16:58:11.367Z"
   },
   {
    "duration": 7,
    "start_time": "2023-12-18T16:58:11.376Z"
   },
   {
    "duration": 6,
    "start_time": "2023-12-18T16:58:11.384Z"
   },
   {
    "duration": 13,
    "start_time": "2023-12-18T16:58:11.392Z"
   },
   {
    "duration": 6,
    "start_time": "2023-12-18T16:58:11.406Z"
   },
   {
    "duration": 13,
    "start_time": "2023-12-18T16:58:11.413Z"
   },
   {
    "duration": 14,
    "start_time": "2023-12-18T16:58:11.428Z"
   },
   {
    "duration": 5,
    "start_time": "2023-12-18T16:58:11.444Z"
   },
   {
    "duration": 7,
    "start_time": "2023-12-18T16:58:11.450Z"
   },
   {
    "duration": 6,
    "start_time": "2023-12-18T16:58:11.460Z"
   },
   {
    "duration": 19499,
    "start_time": "2023-12-18T17:00:18.392Z"
   },
   {
    "duration": 68,
    "start_time": "2023-12-18T17:02:15.783Z"
   },
   {
    "duration": 63,
    "start_time": "2023-12-18T17:03:58.376Z"
   },
   {
    "duration": 1135,
    "start_time": "2023-12-18T17:04:28.341Z"
   },
   {
    "duration": 128,
    "start_time": "2023-12-18T17:04:40.269Z"
   },
   {
    "duration": 101,
    "start_time": "2023-12-18T17:04:55.169Z"
   },
   {
    "duration": 88,
    "start_time": "2023-12-18T17:07:57.729Z"
   },
   {
    "duration": 52,
    "start_time": "2023-12-18T17:08:02.503Z"
   },
   {
    "duration": 56,
    "start_time": "2023-12-18T17:09:44.521Z"
   },
   {
    "duration": 187,
    "start_time": "2023-12-18T17:10:04.782Z"
   },
   {
    "duration": 115,
    "start_time": "2023-12-18T17:10:28.901Z"
   },
   {
    "duration": 322,
    "start_time": "2023-12-18T17:11:44.122Z"
   },
   {
    "duration": 90,
    "start_time": "2023-12-18T17:12:03.333Z"
   },
   {
    "duration": 329,
    "start_time": "2023-12-18T17:12:42.170Z"
   },
   {
    "duration": 379,
    "start_time": "2023-12-18T17:12:49.965Z"
   },
   {
    "duration": 392,
    "start_time": "2023-12-18T17:13:23.739Z"
   },
   {
    "duration": 110,
    "start_time": "2023-12-18T17:14:19.659Z"
   },
   {
    "duration": 108,
    "start_time": "2023-12-18T17:14:36.721Z"
   },
   {
    "duration": 124,
    "start_time": "2023-12-18T17:16:22.072Z"
   },
   {
    "duration": 113,
    "start_time": "2023-12-18T17:16:38.688Z"
   },
   {
    "duration": 112,
    "start_time": "2023-12-18T17:20:29.067Z"
   },
   {
    "duration": 109,
    "start_time": "2023-12-18T17:21:06.720Z"
   },
   {
    "duration": 133,
    "start_time": "2023-12-18T17:22:57.267Z"
   },
   {
    "duration": 135,
    "start_time": "2023-12-18T17:24:09.198Z"
   },
   {
    "duration": 106,
    "start_time": "2023-12-18T17:24:26.938Z"
   },
   {
    "duration": 124,
    "start_time": "2023-12-18T17:24:27.911Z"
   },
   {
    "duration": 127,
    "start_time": "2023-12-18T17:26:52.711Z"
   },
   {
    "duration": 127,
    "start_time": "2023-12-18T17:26:53.650Z"
   },
   {
    "duration": 91,
    "start_time": "2023-12-18T17:28:23.795Z"
   },
   {
    "duration": 107,
    "start_time": "2023-12-18T17:29:45.144Z"
   },
   {
    "duration": 14,
    "start_time": "2023-12-18T17:33:23.256Z"
   },
   {
    "duration": 21,
    "start_time": "2023-12-18T17:33:33.057Z"
   },
   {
    "duration": 23,
    "start_time": "2023-12-18T17:33:50.170Z"
   },
   {
    "duration": 25,
    "start_time": "2023-12-18T17:33:54.951Z"
   },
   {
    "duration": 20,
    "start_time": "2023-12-18T17:34:28.851Z"
   },
   {
    "duration": 621,
    "start_time": "2023-12-18T17:34:36.383Z"
   },
   {
    "duration": 10,
    "start_time": "2023-12-18T17:34:37.005Z"
   },
   {
    "duration": 11,
    "start_time": "2023-12-18T17:34:37.016Z"
   },
   {
    "duration": 17,
    "start_time": "2023-12-18T17:34:37.029Z"
   },
   {
    "duration": 6,
    "start_time": "2023-12-18T17:34:37.047Z"
   },
   {
    "duration": 24,
    "start_time": "2023-12-18T17:34:37.054Z"
   },
   {
    "duration": 54,
    "start_time": "2023-12-18T17:34:37.080Z"
   },
   {
    "duration": 117,
    "start_time": "2023-12-18T17:34:37.135Z"
   },
   {
    "duration": 6,
    "start_time": "2023-12-18T17:34:37.253Z"
   },
   {
    "duration": 13,
    "start_time": "2023-12-18T17:34:37.261Z"
   },
   {
    "duration": 8,
    "start_time": "2023-12-18T17:34:37.275Z"
   },
   {
    "duration": 4,
    "start_time": "2023-12-18T17:34:37.284Z"
   },
   {
    "duration": 16,
    "start_time": "2023-12-18T17:34:37.289Z"
   },
   {
    "duration": 5,
    "start_time": "2023-12-18T17:34:37.306Z"
   },
   {
    "duration": 137,
    "start_time": "2023-12-18T17:34:37.312Z"
   },
   {
    "duration": 73,
    "start_time": "2023-12-18T17:34:37.451Z"
   },
   {
    "duration": 117,
    "start_time": "2023-12-18T17:34:37.526Z"
   },
   {
    "duration": 130,
    "start_time": "2023-12-18T17:34:37.645Z"
   },
   {
    "duration": 158,
    "start_time": "2023-12-18T17:34:37.776Z"
   },
   {
    "duration": 23,
    "start_time": "2023-12-18T17:34:37.936Z"
   },
   {
    "duration": 106,
    "start_time": "2023-12-18T17:35:26.652Z"
   },
   {
    "duration": 13,
    "start_time": "2023-12-18T17:37:27.067Z"
   },
   {
    "duration": 77,
    "start_time": "2023-12-18T17:37:59.835Z"
   },
   {
    "duration": 4,
    "start_time": "2023-12-18T17:38:27.750Z"
   },
   {
    "duration": 5,
    "start_time": "2023-12-18T17:38:30.345Z"
   },
   {
    "duration": 12,
    "start_time": "2023-12-18T17:38:42.255Z"
   },
   {
    "duration": 72,
    "start_time": "2023-12-18T17:40:26.651Z"
   },
   {
    "duration": 123,
    "start_time": "2023-12-18T17:42:47.286Z"
   },
   {
    "duration": 123,
    "start_time": "2023-12-18T17:45:24.527Z"
   },
   {
    "duration": 126,
    "start_time": "2023-12-18T17:46:03.585Z"
   },
   {
    "duration": 139,
    "start_time": "2023-12-18T17:46:13.162Z"
   },
   {
    "duration": 117,
    "start_time": "2023-12-18T17:46:48.615Z"
   },
   {
    "duration": 136,
    "start_time": "2023-12-18T17:47:08.183Z"
   },
   {
    "duration": 75,
    "start_time": "2023-12-18T17:49:00.117Z"
   },
   {
    "duration": 817,
    "start_time": "2023-12-18T17:59:06.264Z"
   },
   {
    "duration": 797,
    "start_time": "2023-12-18T17:59:15.207Z"
   },
   {
    "duration": 833,
    "start_time": "2023-12-18T17:59:29.622Z"
   },
   {
    "duration": 1184,
    "start_time": "2023-12-18T18:00:51.535Z"
   },
   {
    "duration": 768,
    "start_time": "2023-12-18T18:01:27.334Z"
   },
   {
    "duration": 792,
    "start_time": "2023-12-18T18:01:41.630Z"
   },
   {
    "duration": 7,
    "start_time": "2023-12-18T18:01:54.889Z"
   },
   {
    "duration": 6,
    "start_time": "2023-12-18T18:03:57.453Z"
   },
   {
    "duration": 6,
    "start_time": "2023-12-18T18:04:02.209Z"
   },
   {
    "duration": 428,
    "start_time": "2023-12-18T18:04:13.698Z"
   },
   {
    "duration": 0,
    "start_time": "2023-12-18T18:04:14.128Z"
   },
   {
    "duration": 0,
    "start_time": "2023-12-18T18:04:14.129Z"
   },
   {
    "duration": 0,
    "start_time": "2023-12-18T18:04:14.130Z"
   },
   {
    "duration": 0,
    "start_time": "2023-12-18T18:04:14.131Z"
   },
   {
    "duration": 0,
    "start_time": "2023-12-18T18:04:14.132Z"
   },
   {
    "duration": 0,
    "start_time": "2023-12-18T18:04:14.133Z"
   },
   {
    "duration": 0,
    "start_time": "2023-12-18T18:04:14.133Z"
   },
   {
    "duration": 0,
    "start_time": "2023-12-18T18:04:14.134Z"
   },
   {
    "duration": 0,
    "start_time": "2023-12-18T18:04:14.135Z"
   },
   {
    "duration": 0,
    "start_time": "2023-12-18T18:04:14.136Z"
   },
   {
    "duration": 0,
    "start_time": "2023-12-18T18:04:14.136Z"
   },
   {
    "duration": 0,
    "start_time": "2023-12-18T18:04:14.137Z"
   },
   {
    "duration": 0,
    "start_time": "2023-12-18T18:04:14.138Z"
   },
   {
    "duration": 0,
    "start_time": "2023-12-18T18:04:14.138Z"
   },
   {
    "duration": 0,
    "start_time": "2023-12-18T18:04:14.139Z"
   },
   {
    "duration": 0,
    "start_time": "2023-12-18T18:04:14.140Z"
   },
   {
    "duration": 0,
    "start_time": "2023-12-18T18:04:14.141Z"
   },
   {
    "duration": 0,
    "start_time": "2023-12-18T18:04:14.142Z"
   },
   {
    "duration": 0,
    "start_time": "2023-12-18T18:04:14.142Z"
   },
   {
    "duration": 0,
    "start_time": "2023-12-18T18:04:14.143Z"
   },
   {
    "duration": 0,
    "start_time": "2023-12-18T18:04:14.144Z"
   },
   {
    "duration": 0,
    "start_time": "2023-12-18T18:04:14.145Z"
   },
   {
    "duration": 0,
    "start_time": "2023-12-18T18:04:14.145Z"
   },
   {
    "duration": 0,
    "start_time": "2023-12-18T18:04:14.146Z"
   },
   {
    "duration": 0,
    "start_time": "2023-12-18T18:04:14.147Z"
   },
   {
    "duration": 0,
    "start_time": "2023-12-18T18:04:14.148Z"
   },
   {
    "duration": 7,
    "start_time": "2023-12-18T18:04:23.863Z"
   },
   {
    "duration": 429,
    "start_time": "2023-12-18T18:05:00.982Z"
   },
   {
    "duration": 0,
    "start_time": "2023-12-18T18:05:01.413Z"
   },
   {
    "duration": 0,
    "start_time": "2023-12-18T18:05:01.414Z"
   },
   {
    "duration": 0,
    "start_time": "2023-12-18T18:05:01.415Z"
   },
   {
    "duration": 0,
    "start_time": "2023-12-18T18:05:01.416Z"
   },
   {
    "duration": 0,
    "start_time": "2023-12-18T18:05:01.416Z"
   },
   {
    "duration": 0,
    "start_time": "2023-12-18T18:05:01.417Z"
   },
   {
    "duration": 0,
    "start_time": "2023-12-18T18:05:01.418Z"
   },
   {
    "duration": 0,
    "start_time": "2023-12-18T18:05:01.419Z"
   },
   {
    "duration": 0,
    "start_time": "2023-12-18T18:05:01.420Z"
   },
   {
    "duration": 0,
    "start_time": "2023-12-18T18:05:01.421Z"
   },
   {
    "duration": 0,
    "start_time": "2023-12-18T18:05:01.422Z"
   },
   {
    "duration": 0,
    "start_time": "2023-12-18T18:05:01.423Z"
   },
   {
    "duration": 0,
    "start_time": "2023-12-18T18:05:01.423Z"
   },
   {
    "duration": 0,
    "start_time": "2023-12-18T18:05:01.424Z"
   },
   {
    "duration": 0,
    "start_time": "2023-12-18T18:05:01.425Z"
   },
   {
    "duration": 0,
    "start_time": "2023-12-18T18:05:01.426Z"
   },
   {
    "duration": 0,
    "start_time": "2023-12-18T18:05:01.427Z"
   },
   {
    "duration": 0,
    "start_time": "2023-12-18T18:05:01.428Z"
   },
   {
    "duration": 0,
    "start_time": "2023-12-18T18:05:01.428Z"
   },
   {
    "duration": 0,
    "start_time": "2023-12-18T18:05:01.429Z"
   },
   {
    "duration": 0,
    "start_time": "2023-12-18T18:05:01.430Z"
   },
   {
    "duration": 0,
    "start_time": "2023-12-18T18:05:01.431Z"
   },
   {
    "duration": 0,
    "start_time": "2023-12-18T18:05:01.432Z"
   },
   {
    "duration": 0,
    "start_time": "2023-12-18T18:05:01.432Z"
   },
   {
    "duration": 0,
    "start_time": "2023-12-18T18:05:01.433Z"
   },
   {
    "duration": 0,
    "start_time": "2023-12-18T18:05:01.434Z"
   },
   {
    "duration": 283,
    "start_time": "2023-12-18T18:05:24.749Z"
   },
   {
    "duration": 635,
    "start_time": "2023-12-18T18:05:28.975Z"
   },
   {
    "duration": 9,
    "start_time": "2023-12-18T18:05:29.611Z"
   },
   {
    "duration": 45,
    "start_time": "2023-12-18T18:05:29.621Z"
   },
   {
    "duration": 19,
    "start_time": "2023-12-18T18:05:29.667Z"
   },
   {
    "duration": 6,
    "start_time": "2023-12-18T18:05:29.688Z"
   },
   {
    "duration": 11,
    "start_time": "2023-12-18T18:05:29.695Z"
   },
   {
    "duration": 31,
    "start_time": "2023-12-18T18:05:29.707Z"
   },
   {
    "duration": 40,
    "start_time": "2023-12-18T18:05:29.739Z"
   },
   {
    "duration": 23,
    "start_time": "2023-12-18T18:05:29.780Z"
   },
   {
    "duration": 12,
    "start_time": "2023-12-18T18:05:29.804Z"
   },
   {
    "duration": 8,
    "start_time": "2023-12-18T18:05:29.817Z"
   },
   {
    "duration": 5,
    "start_time": "2023-12-18T18:05:29.826Z"
   },
   {
    "duration": 12,
    "start_time": "2023-12-18T18:05:29.832Z"
   },
   {
    "duration": 6,
    "start_time": "2023-12-18T18:05:29.846Z"
   },
   {
    "duration": 150,
    "start_time": "2023-12-18T18:05:29.853Z"
   },
   {
    "duration": 78,
    "start_time": "2023-12-18T18:05:30.005Z"
   },
   {
    "duration": 128,
    "start_time": "2023-12-18T18:05:30.085Z"
   },
   {
    "duration": 148,
    "start_time": "2023-12-18T18:05:30.215Z"
   },
   {
    "duration": 181,
    "start_time": "2023-12-18T18:05:30.364Z"
   },
   {
    "duration": 23,
    "start_time": "2023-12-18T18:05:30.546Z"
   },
   {
    "duration": 29,
    "start_time": "2023-12-18T18:05:30.571Z"
   },
   {
    "duration": 171,
    "start_time": "2023-12-18T18:05:30.601Z"
   },
   {
    "duration": 149,
    "start_time": "2023-12-18T18:05:30.773Z"
   },
   {
    "duration": 13,
    "start_time": "2023-12-18T18:05:30.923Z"
   },
   {
    "duration": 205,
    "start_time": "2023-12-18T18:05:30.937Z"
   },
   {
    "duration": 145,
    "start_time": "2023-12-18T18:05:31.143Z"
   },
   {
    "duration": 71,
    "start_time": "2023-12-18T18:05:31.289Z"
   },
   {
    "duration": 747,
    "start_time": "2023-12-18T18:05:37.408Z"
   },
   {
    "duration": 787,
    "start_time": "2023-12-18T18:09:17.416Z"
   },
   {
    "duration": 785,
    "start_time": "2023-12-18T18:09:38.159Z"
   },
   {
    "duration": 625,
    "start_time": "2023-12-18T18:10:04.719Z"
   },
   {
    "duration": 9,
    "start_time": "2023-12-18T18:10:05.346Z"
   },
   {
    "duration": 10,
    "start_time": "2023-12-18T18:10:05.356Z"
   },
   {
    "duration": 7,
    "start_time": "2023-12-18T18:10:05.368Z"
   },
   {
    "duration": 15,
    "start_time": "2023-12-18T18:10:05.377Z"
   },
   {
    "duration": 15,
    "start_time": "2023-12-18T18:10:05.393Z"
   },
   {
    "duration": 8,
    "start_time": "2023-12-18T18:10:05.409Z"
   },
   {
    "duration": 6,
    "start_time": "2023-12-18T18:10:05.418Z"
   },
   {
    "duration": 8,
    "start_time": "2023-12-18T18:10:05.425Z"
   },
   {
    "duration": 14,
    "start_time": "2023-12-18T18:10:05.434Z"
   },
   {
    "duration": 7,
    "start_time": "2023-12-18T18:10:05.449Z"
   },
   {
    "duration": 4,
    "start_time": "2023-12-18T18:10:05.457Z"
   },
   {
    "duration": 13,
    "start_time": "2023-12-18T18:10:05.462Z"
   },
   {
    "duration": 25,
    "start_time": "2023-12-18T18:10:05.477Z"
   },
   {
    "duration": 130,
    "start_time": "2023-12-18T18:10:05.503Z"
   },
   {
    "duration": 77,
    "start_time": "2023-12-18T18:10:05.634Z"
   },
   {
    "duration": 116,
    "start_time": "2023-12-18T18:10:05.713Z"
   },
   {
    "duration": 130,
    "start_time": "2023-12-18T18:10:05.830Z"
   },
   {
    "duration": 164,
    "start_time": "2023-12-18T18:10:05.962Z"
   },
   {
    "duration": 22,
    "start_time": "2023-12-18T18:10:06.127Z"
   },
   {
    "duration": 12,
    "start_time": "2023-12-18T18:10:06.150Z"
   },
   {
    "duration": 145,
    "start_time": "2023-12-18T18:10:06.163Z"
   },
   {
    "duration": 152,
    "start_time": "2023-12-18T18:10:06.309Z"
   },
   {
    "duration": 12,
    "start_time": "2023-12-18T18:10:06.463Z"
   },
   {
    "duration": 127,
    "start_time": "2023-12-18T18:10:06.476Z"
   },
   {
    "duration": 134,
    "start_time": "2023-12-18T18:10:06.604Z"
   },
   {
    "duration": 790,
    "start_time": "2023-12-18T18:10:06.740Z"
   },
   {
    "duration": 3276,
    "start_time": "2023-12-18T18:15:06.547Z"
   },
   {
    "duration": 803,
    "start_time": "2023-12-18T18:17:31.590Z"
   },
   {
    "duration": 762,
    "start_time": "2023-12-18T18:19:02.996Z"
   },
   {
    "duration": 836,
    "start_time": "2023-12-18T18:19:22.175Z"
   },
   {
    "duration": 823,
    "start_time": "2023-12-18T18:20:30.200Z"
   },
   {
    "duration": 10,
    "start_time": "2023-12-18T18:21:15.612Z"
   },
   {
    "duration": 15,
    "start_time": "2023-12-18T18:27:11.223Z"
   },
   {
    "duration": 108,
    "start_time": "2023-12-18T18:27:34.115Z"
   },
   {
    "duration": 6,
    "start_time": "2023-12-18T18:39:21.257Z"
   },
   {
    "duration": 1043,
    "start_time": "2023-12-18T18:40:03.907Z"
   },
   {
    "duration": 10,
    "start_time": "2023-12-18T18:40:04.951Z"
   },
   {
    "duration": 12,
    "start_time": "2023-12-18T18:40:04.962Z"
   },
   {
    "duration": 8,
    "start_time": "2023-12-18T18:40:04.975Z"
   },
   {
    "duration": 11,
    "start_time": "2023-12-18T18:40:04.984Z"
   },
   {
    "duration": 9,
    "start_time": "2023-12-18T18:40:04.996Z"
   },
   {
    "duration": 5,
    "start_time": "2023-12-18T18:40:05.006Z"
   },
   {
    "duration": 6,
    "start_time": "2023-12-18T18:40:05.012Z"
   },
   {
    "duration": 5,
    "start_time": "2023-12-18T18:40:05.020Z"
   },
   {
    "duration": 11,
    "start_time": "2023-12-18T18:40:05.027Z"
   },
   {
    "duration": 8,
    "start_time": "2023-12-18T18:40:05.040Z"
   },
   {
    "duration": 5,
    "start_time": "2023-12-18T18:40:05.050Z"
   },
   {
    "duration": 15,
    "start_time": "2023-12-18T18:40:05.056Z"
   },
   {
    "duration": 30,
    "start_time": "2023-12-18T18:40:05.072Z"
   },
   {
    "duration": 132,
    "start_time": "2023-12-18T18:40:05.103Z"
   },
   {
    "duration": 76,
    "start_time": "2023-12-18T18:40:05.236Z"
   },
   {
    "duration": 128,
    "start_time": "2023-12-18T18:40:05.313Z"
   },
   {
    "duration": 132,
    "start_time": "2023-12-18T18:40:05.443Z"
   },
   {
    "duration": 130,
    "start_time": "2023-12-18T18:40:05.576Z"
   },
   {
    "duration": 22,
    "start_time": "2023-12-18T18:40:05.708Z"
   },
   {
    "duration": 12,
    "start_time": "2023-12-18T18:40:05.732Z"
   },
   {
    "duration": 146,
    "start_time": "2023-12-18T18:40:05.746Z"
   },
   {
    "duration": 145,
    "start_time": "2023-12-18T18:40:05.894Z"
   },
   {
    "duration": 12,
    "start_time": "2023-12-18T18:40:06.040Z"
   },
   {
    "duration": 129,
    "start_time": "2023-12-18T18:40:06.053Z"
   },
   {
    "duration": 139,
    "start_time": "2023-12-18T18:40:06.183Z"
   },
   {
    "duration": 772,
    "start_time": "2023-12-18T18:40:06.324Z"
   },
   {
    "duration": 123,
    "start_time": "2023-12-18T18:40:07.102Z"
   },
   {
    "duration": 4,
    "start_time": "2023-12-18T18:40:07.227Z"
   },
   {
    "duration": 82,
    "start_time": "2023-12-18T18:50:17.996Z"
   },
   {
    "duration": 4,
    "start_time": "2023-12-18T18:50:27.725Z"
   },
   {
    "duration": 6,
    "start_time": "2023-12-18T19:03:28.540Z"
   },
   {
    "duration": 7,
    "start_time": "2023-12-18T19:03:56.773Z"
   },
   {
    "duration": 78,
    "start_time": "2023-12-18T19:06:36.923Z"
   },
   {
    "duration": 7,
    "start_time": "2023-12-18T19:08:15.129Z"
   },
   {
    "duration": 7,
    "start_time": "2023-12-18T19:08:59.875Z"
   },
   {
    "duration": 7,
    "start_time": "2023-12-18T19:09:48.147Z"
   },
   {
    "duration": 1208,
    "start_time": "2023-12-18T19:33:41.972Z"
   },
   {
    "duration": 11,
    "start_time": "2023-12-18T19:33:43.191Z"
   },
   {
    "duration": 12,
    "start_time": "2023-12-18T19:33:43.204Z"
   },
   {
    "duration": 10,
    "start_time": "2023-12-18T19:33:43.217Z"
   },
   {
    "duration": 9,
    "start_time": "2023-12-18T19:33:43.228Z"
   },
   {
    "duration": 10,
    "start_time": "2023-12-18T19:33:43.238Z"
   },
   {
    "duration": 15,
    "start_time": "2023-12-18T19:33:43.249Z"
   },
   {
    "duration": 10,
    "start_time": "2023-12-18T19:33:43.265Z"
   },
   {
    "duration": 14,
    "start_time": "2023-12-18T19:33:43.276Z"
   },
   {
    "duration": 10,
    "start_time": "2023-12-18T19:33:43.301Z"
   },
   {
    "duration": 8,
    "start_time": "2023-12-18T19:33:43.312Z"
   },
   {
    "duration": 4,
    "start_time": "2023-12-18T19:33:43.321Z"
   },
   {
    "duration": 7,
    "start_time": "2023-12-18T19:33:43.326Z"
   },
   {
    "duration": 10,
    "start_time": "2023-12-18T19:33:43.334Z"
   },
   {
    "duration": 146,
    "start_time": "2023-12-18T19:33:43.345Z"
   },
   {
    "duration": 74,
    "start_time": "2023-12-18T19:33:43.492Z"
   },
   {
    "duration": 130,
    "start_time": "2023-12-18T19:33:43.567Z"
   },
   {
    "duration": 132,
    "start_time": "2023-12-18T19:33:43.699Z"
   },
   {
    "duration": 126,
    "start_time": "2023-12-18T19:33:43.832Z"
   },
   {
    "duration": 45,
    "start_time": "2023-12-18T19:33:43.959Z"
   },
   {
    "duration": 14,
    "start_time": "2023-12-18T19:33:44.006Z"
   },
   {
    "duration": 141,
    "start_time": "2023-12-18T19:33:44.021Z"
   },
   {
    "duration": 147,
    "start_time": "2023-12-18T19:33:44.163Z"
   },
   {
    "duration": 15,
    "start_time": "2023-12-18T19:33:44.312Z"
   },
   {
    "duration": 142,
    "start_time": "2023-12-18T19:33:44.328Z"
   },
   {
    "duration": 142,
    "start_time": "2023-12-18T19:33:44.471Z"
   },
   {
    "duration": 853,
    "start_time": "2023-12-18T19:33:44.616Z"
   },
   {
    "duration": 121,
    "start_time": "2023-12-18T19:33:45.471Z"
   },
   {
    "duration": 9,
    "start_time": "2023-12-18T19:33:45.593Z"
   },
   {
    "duration": 4,
    "start_time": "2023-12-18T19:33:45.603Z"
   },
   {
    "duration": 7,
    "start_time": "2023-12-18T19:33:45.608Z"
   },
   {
    "duration": 3,
    "start_time": "2023-12-18T19:44:53.618Z"
   },
   {
    "duration": 75,
    "start_time": "2023-12-18T21:27:26.198Z"
   },
   {
    "duration": 46,
    "start_time": "2023-12-18T21:27:44.453Z"
   },
   {
    "duration": 1562,
    "start_time": "2023-12-18T21:27:50.432Z"
   },
   {
    "duration": 13,
    "start_time": "2023-12-18T21:27:51.997Z"
   },
   {
    "duration": 30,
    "start_time": "2023-12-18T21:27:52.012Z"
   },
   {
    "duration": 12,
    "start_time": "2023-12-18T21:27:52.044Z"
   },
   {
    "duration": 9,
    "start_time": "2023-12-18T21:27:52.058Z"
   },
   {
    "duration": 14,
    "start_time": "2023-12-18T21:27:52.068Z"
   },
   {
    "duration": 20,
    "start_time": "2023-12-18T21:27:52.084Z"
   },
   {
    "duration": 23,
    "start_time": "2023-12-18T21:27:52.106Z"
   },
   {
    "duration": 55,
    "start_time": "2023-12-18T21:27:52.131Z"
   },
   {
    "duration": 41,
    "start_time": "2023-12-18T21:27:52.187Z"
   },
   {
    "duration": 23,
    "start_time": "2023-12-18T21:27:52.229Z"
   },
   {
    "duration": 10,
    "start_time": "2023-12-18T21:27:52.254Z"
   },
   {
    "duration": 10,
    "start_time": "2023-12-18T21:27:52.266Z"
   },
   {
    "duration": 44,
    "start_time": "2023-12-18T21:27:52.279Z"
   },
   {
    "duration": 8,
    "start_time": "2023-12-18T21:27:52.324Z"
   },
   {
    "duration": 159,
    "start_time": "2023-12-18T21:27:52.334Z"
   },
   {
    "duration": 93,
    "start_time": "2023-12-18T21:27:52.495Z"
   },
   {
    "duration": 149,
    "start_time": "2023-12-18T21:27:52.589Z"
   },
   {
    "duration": 179,
    "start_time": "2023-12-18T21:27:52.740Z"
   },
   {
    "duration": 172,
    "start_time": "2023-12-18T21:27:52.921Z"
   },
   {
    "duration": 40,
    "start_time": "2023-12-18T21:27:53.094Z"
   },
   {
    "duration": 16,
    "start_time": "2023-12-18T21:27:53.136Z"
   },
   {
    "duration": 186,
    "start_time": "2023-12-18T21:27:53.153Z"
   },
   {
    "duration": 240,
    "start_time": "2023-12-18T21:27:53.340Z"
   },
   {
    "duration": 15,
    "start_time": "2023-12-18T21:27:53.623Z"
   },
   {
    "duration": 175,
    "start_time": "2023-12-18T21:27:53.640Z"
   },
   {
    "duration": 180,
    "start_time": "2023-12-18T21:27:53.817Z"
   },
   {
    "duration": 960,
    "start_time": "2023-12-18T21:27:53.999Z"
   },
   {
    "duration": 137,
    "start_time": "2023-12-18T21:27:54.961Z"
   },
   {
    "duration": 6,
    "start_time": "2023-12-18T21:27:55.100Z"
   },
   {
    "duration": 98,
    "start_time": "2023-12-18T21:27:55.108Z"
   },
   {
    "duration": 84,
    "start_time": "2023-12-18T21:27:55.208Z"
   },
   {
    "duration": 91,
    "start_time": "2023-12-18T21:28:18.003Z"
   },
   {
    "duration": 148,
    "start_time": "2023-12-18T21:29:18.656Z"
   },
   {
    "duration": 92,
    "start_time": "2023-12-18T21:30:53.529Z"
   },
   {
    "duration": 98,
    "start_time": "2023-12-18T21:31:31.014Z"
   },
   {
    "duration": 95,
    "start_time": "2023-12-18T21:31:44.205Z"
   },
   {
    "duration": 93,
    "start_time": "2023-12-18T21:31:50.109Z"
   },
   {
    "duration": 95,
    "start_time": "2023-12-18T21:31:56.763Z"
   },
   {
    "duration": 94,
    "start_time": "2023-12-18T21:32:03.851Z"
   },
   {
    "duration": 102,
    "start_time": "2023-12-18T21:32:14.266Z"
   },
   {
    "duration": 90,
    "start_time": "2023-12-18T21:32:19.663Z"
   },
   {
    "duration": 97,
    "start_time": "2023-12-18T21:32:26.209Z"
   },
   {
    "duration": 97,
    "start_time": "2023-12-18T21:32:34.545Z"
   },
   {
    "duration": 179,
    "start_time": "2023-12-18T21:32:40.006Z"
   },
   {
    "duration": 97,
    "start_time": "2023-12-18T21:32:44.203Z"
   },
   {
    "duration": 92,
    "start_time": "2023-12-18T21:32:47.777Z"
   },
   {
    "duration": 96,
    "start_time": "2023-12-18T21:32:53.065Z"
   },
   {
    "duration": 95,
    "start_time": "2023-12-18T21:33:09.741Z"
   },
   {
    "duration": 164,
    "start_time": "2023-12-18T21:36:42.497Z"
   },
   {
    "duration": 71,
    "start_time": "2023-12-18T21:38:39.003Z"
   },
   {
    "duration": 4,
    "start_time": "2023-12-18T21:41:13.705Z"
   },
   {
    "duration": 4,
    "start_time": "2023-12-18T21:41:24.321Z"
   },
   {
    "duration": 3,
    "start_time": "2023-12-18T21:41:31.774Z"
   },
   {
    "duration": 4,
    "start_time": "2023-12-18T21:41:42.668Z"
   },
   {
    "duration": 9,
    "start_time": "2023-12-18T21:42:50.874Z"
   },
   {
    "duration": 4,
    "start_time": "2023-12-18T21:43:03.198Z"
   },
   {
    "duration": 80,
    "start_time": "2023-12-18T21:44:51.690Z"
   },
   {
    "duration": 16,
    "start_time": "2023-12-18T21:45:01.409Z"
   },
   {
    "duration": 4,
    "start_time": "2023-12-18T21:46:06.430Z"
   },
   {
    "duration": 882,
    "start_time": "2023-12-18T21:46:08.416Z"
   },
   {
    "duration": 5,
    "start_time": "2023-12-18T21:47:37.108Z"
   },
   {
    "duration": 73,
    "start_time": "2023-12-18T21:49:06.797Z"
   },
   {
    "duration": 1256,
    "start_time": "2023-12-19T18:29:26.664Z"
   },
   {
    "duration": 12,
    "start_time": "2023-12-19T18:29:27.921Z"
   },
   {
    "duration": 15,
    "start_time": "2023-12-19T18:29:27.935Z"
   },
   {
    "duration": 11,
    "start_time": "2023-12-19T18:29:27.952Z"
   },
   {
    "duration": 8,
    "start_time": "2023-12-19T18:29:27.964Z"
   },
   {
    "duration": 10,
    "start_time": "2023-12-19T18:29:27.973Z"
   },
   {
    "duration": 6,
    "start_time": "2023-12-19T18:29:27.984Z"
   },
   {
    "duration": 6,
    "start_time": "2023-12-19T18:29:27.992Z"
   },
   {
    "duration": 7,
    "start_time": "2023-12-19T18:29:27.999Z"
   },
   {
    "duration": 9,
    "start_time": "2023-12-19T18:29:28.008Z"
   },
   {
    "duration": 21,
    "start_time": "2023-12-19T18:29:28.018Z"
   },
   {
    "duration": 12,
    "start_time": "2023-12-19T18:29:28.064Z"
   },
   {
    "duration": 5,
    "start_time": "2023-12-19T18:29:28.078Z"
   },
   {
    "duration": 9,
    "start_time": "2023-12-19T18:29:28.084Z"
   },
   {
    "duration": 23,
    "start_time": "2023-12-19T18:29:28.094Z"
   },
   {
    "duration": 163,
    "start_time": "2023-12-19T18:29:28.119Z"
   },
   {
    "duration": 95,
    "start_time": "2023-12-19T18:29:28.283Z"
   },
   {
    "duration": 145,
    "start_time": "2023-12-19T18:29:28.380Z"
   },
   {
    "duration": 176,
    "start_time": "2023-12-19T18:29:28.527Z"
   },
   {
    "duration": 168,
    "start_time": "2023-12-19T18:29:28.704Z"
   },
   {
    "duration": 4,
    "start_time": "2023-12-19T18:29:28.874Z"
   },
   {
    "duration": 4,
    "start_time": "2023-12-19T18:29:28.879Z"
   },
   {
    "duration": 7,
    "start_time": "2023-12-19T18:29:28.884Z"
   },
   {
    "duration": 35,
    "start_time": "2023-12-19T18:29:28.893Z"
   },
   {
    "duration": 37,
    "start_time": "2023-12-19T18:29:28.930Z"
   },
   {
    "duration": 4,
    "start_time": "2023-12-19T18:29:28.969Z"
   },
   {
    "duration": 23,
    "start_time": "2023-12-19T18:29:28.975Z"
   },
   {
    "duration": 179,
    "start_time": "2023-12-19T18:29:29.001Z"
   },
   {
    "duration": 183,
    "start_time": "2023-12-19T18:29:29.182Z"
   },
   {
    "duration": 14,
    "start_time": "2023-12-19T18:29:29.367Z"
   },
   {
    "duration": 163,
    "start_time": "2023-12-19T18:29:29.382Z"
   },
   {
    "duration": 181,
    "start_time": "2023-12-19T18:29:29.547Z"
   },
   {
    "duration": 4,
    "start_time": "2023-12-19T18:29:29.729Z"
   },
   {
    "duration": 832,
    "start_time": "2023-12-19T18:29:29.734Z"
   },
   {
    "duration": 129,
    "start_time": "2023-12-19T18:29:30.567Z"
   },
   {
    "duration": 5,
    "start_time": "2023-12-19T18:29:30.698Z"
   },
   {
    "duration": 45,
    "start_time": "2023-12-19T18:29:30.704Z"
   },
   {
    "duration": 52,
    "start_time": "2023-12-19T18:29:30.750Z"
   }
  ],
  "kernelspec": {
   "display_name": "Python 3 (ipykernel)",
   "language": "python",
   "name": "python3"
  },
  "language_info": {
   "codemirror_mode": {
    "name": "ipython",
    "version": 3
   },
   "file_extension": ".py",
   "mimetype": "text/x-python",
   "name": "python",
   "nbconvert_exporter": "python",
   "pygments_lexer": "ipython3",
   "version": "3.9.5"
  },
  "toc": {
   "base_numbering": 1,
   "nav_menu": {},
   "number_sections": true,
   "sideBar": true,
   "skip_h1_title": true,
   "title_cell": "Table of Contents",
   "title_sidebar": "Contents",
   "toc_cell": false,
   "toc_position": {},
   "toc_section_display": true,
   "toc_window_display": false
  }
 },
 "nbformat": 4,
 "nbformat_minor": 5
}
