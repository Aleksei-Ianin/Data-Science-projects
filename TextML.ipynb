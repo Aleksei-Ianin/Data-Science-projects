{
 "cells": [
  {
   "cell_type": "markdown",
   "metadata": {},
   "source": [
    "# Проект для «Викишоп»"
   ]
  },
  {
   "cell_type": "markdown",
   "metadata": {},
   "source": [
    "Интернет-магазин «Викишоп» запускает новый сервис. Теперь пользователи могут редактировать и дополнять описания товаров, как в вики-сообществах. То есть клиенты предлагают свои правки и комментируют изменения других. Магазину нужен инструмент, который будет искать токсичные комментарии и отправлять их на модерацию. \n",
    "\n",
    "\n",
    "**Описание данных**\n",
    "\n",
    "Данные находятся в файле `toxic_comments.csv`. Столбец *text* в нём содержит текст комментария, а *toxic* — целевой признак."
   ]
  },
  {
   "cell_type": "markdown",
   "metadata": {},
   "source": [
    "## Подготовка"
   ]
  },
  {
   "cell_type": "code",
   "execution_count": null,
   "metadata": {},
   "outputs": [],
   "source": [
    "import numpy as np\n",
    "import pandas as pd\n",
    "import re\n",
    "import nltk\n",
    "\n",
    "from nltk.stem import WordNetLemmatizer\n",
    "from nltk.corpus import wordnet\n",
    "from nltk.tokenize import word_tokenize\n",
    "from nltk import pos_tag\n",
    "from nltk.corpus import stopwords as nltk_stopwords\n",
    "\n",
    "from sklearn.feature_extraction.text import TfidfVectorizer\n",
    "from sklearn.model_selection import train_test_split, cross_val_score, GridSearchCV\n",
    "from sklearn.linear_model import LogisticRegression, SGDClassifier\n",
    "from sklearn.tree import DecisionTreeClassifier\n",
    "from catboost import CatBoostClassifier\n",
    "from sklearn.metrics import f1_score\n",
    "from sklearn.utils import shuffle\n",
    "from sklearn.pipeline import Pipeline\n",
    "\n",
    "import matplotlib.pyplot as plt\n",
    "import warnings\n",
    "warnings.filterwarnings('ignore')"
   ]
  },
  {
   "cell_type": "code",
   "execution_count": null,
   "metadata": {},
   "outputs": [],
   "source": [
    "data = pd.read_csv('/datasets/toxic_comments.csv')\n",
    "data.info()"
   ]
  },
  {
   "cell_type": "code",
   "execution_count": null,
   "metadata": {},
   "outputs": [],
   "source": [
    "data.head()"
   ]
  },
  {
   "cell_type": "markdown",
   "metadata": {},
   "source": [
    "проверим на дисбаланс классов целевой признак"
   ]
  },
  {
   "cell_type": "code",
   "execution_count": null,
   "metadata": {},
   "outputs": [],
   "source": [
    "data['toxic'].value_counts()"
   ]
  },
  {
   "cell_type": "markdown",
   "metadata": {},
   "source": [
    "посчитаем отношение "
   ]
  },
  {
   "cell_type": "code",
   "execution_count": null,
   "metadata": {},
   "outputs": [],
   "source": [
    "class_ratio = data['toxic'].value_counts()[0] / data['toxic'].value_counts()[1]\n",
    "class_ratio"
   ]
  },
  {
   "cell_type": "markdown",
   "metadata": {},
   "source": [
    "выполним лемматизацию"
   ]
  },
  {
   "cell_type": "code",
   "execution_count": null,
   "metadata": {},
   "outputs": [],
   "source": [
    "# pandarallel.initialize(progress_bar=True)\n",
    "# lemmatizer = WordNetLemmatizer()\n",
    "\n",
    "# def get_wordnet_pos(word):\n",
    "#     \"\"\"Map POS tag to first character lemmatize() accepts\"\"\"\n",
    "#     tag = nltk.pos_tag([word])[0][1][0].upper()\n",
    "#     tag_dict = {\"J\": wordnet.ADJ,\n",
    "#                 \"N\": wordnet.NOUN,\n",
    "#                 \"V\": wordnet.VERB,\n",
    "#                 \"R\": wordnet.ADV}\n",
    "#     return tag_dict.get(tag, wordnet.NOUN)\n",
    "\n",
    "# def lemmatize(text):\n",
    "#     text = text.lower()  \n",
    "#     words = word_tokenize(text)  \n",
    "#     tagged_words = pos_tag(words) \n",
    "#     lemmatized_words = [lemmatizer.lemmatize(word, get_wordnet_pos(tag)) for word, tag in tagged_words]  \n",
    "#     cleared_text = re.sub(r'[^a-zA-Z]', ' ', \" \".join(lemmatized_words)).strip() \n",
    "#     return \" \".join(cleared_text.split())\n",
    "\n",
    "# data['lemm_text'] = data['text'].parallel_apply(lemmatize)\n",
    "# data = data.drop(['text'], axis=1)"
   ]
  },
  {
   "cell_type": "code",
   "execution_count": null,
   "metadata": {},
   "outputs": [],
   "source": [
    "lemmatizer = WordNetLemmatizer()\n",
    "\n",
    "def lemmatize_text(text):\n",
    "    text = text.lower()\n",
    "    lemm_text = \"\".join(lemmatizer.lemmatize(text))\n",
    "    cleared_text = re.sub(r'[^a-zA-Z]', ' ', lemm_text) \n",
    "    return \" \".join(cleared_text.split())\n",
    "\n",
    "data['lemm_text'] = data['text'].apply(lemmatize_text)\n",
    "\n",
    "data = data.drop(['text'], axis=1)"
   ]
  },
  {
   "cell_type": "markdown",
   "metadata": {},
   "source": [
    "## Обучение"
   ]
  },
  {
   "cell_type": "markdown",
   "metadata": {},
   "source": [
    "Разделим данные на две выборки, с размером тестовой в 0.25"
   ]
  },
  {
   "cell_type": "code",
   "execution_count": null,
   "metadata": {},
   "outputs": [],
   "source": [
    "data = data.drop('Unnamed: 0', axis=1)"
   ]
  },
  {
   "cell_type": "code",
   "execution_count": null,
   "metadata": {},
   "outputs": [],
   "source": [
    "X = data.drop(['toxic'], axis=1)\n",
    "y = data['toxic']\n",
    "\n",
    "X_train, X_test, y_train, y_test = train_test_split(X,\n",
    "                                                    y,\n",
    "                                                    test_size = 0.25,\n",
    "                                                    random_state = 42,\n",
    "                                                    stratify=y)"
   ]
  },
  {
   "cell_type": "code",
   "execution_count": null,
   "metadata": {},
   "outputs": [],
   "source": [
    "nltk.download('stopwords')\n",
    "stopwords = set(nltk_stopwords.words('english'))\n",
    "\n",
    "count_tf_idf = TfidfVectorizer(stop_words=stopwords)\n",
    "\n",
    "#X_train = count_tf_idf.fit_transform(X_train['lemm_text'].values.astype('U'))\n",
    "#X_test = count_tf_idf.transform(X_test['lemm_text'].values.astype('U'))\n",
    "\n",
    "#print(X_train.shape)\n",
    "#print(X_test.shape)"
   ]
  },
  {
   "cell_type": "markdown",
   "metadata": {},
   "source": [
    "Теперь обучим модель логистической регрессии"
   ]
  },
  {
   "cell_type": "code",
   "execution_count": null,
   "metadata": {},
   "outputs": [],
   "source": [
    "%%time\n",
    "model_lr = Pipeline([\n",
    "    ('tfidf', TfidfVectorizer(stop_words=stopwords)),\n",
    "    ('clf', LogisticRegression())\n",
    "])\n",
    "сv_f1_lr = (cross_val_score(model_lr, \n",
    "                              X_train['lemm_text'], \n",
    "                              y_train, \n",
    "                              cv=2, \n",
    "                              scoring='f1').mean())\n",
    "print('Качество метрики f1 линейной регрессии при кросс валидации', сv_f1_lr)"
   ]
  },
  {
   "cell_type": "code",
   "execution_count": null,
   "metadata": {},
   "outputs": [],
   "source": [
    "# %%time\n",
    "# classificator = CatBoostClassifier(verbose=False, iterations=250)\n",
    "# cv_f1_CBC = cross_val_score(classificator,\n",
    "#                             X_train, \n",
    "#                             y_train, \n",
    "#                             cv=2, \n",
    "#                             scoring='f1').mean()\n",
    "# print('F1 на cv', cv_f1_CBC)"
   ]
  },
  {
   "cell_type": "markdown",
   "metadata": {},
   "source": [
    "выполним уменьшение размера весов класса и обучим модель линейной регрессии"
   ]
  },
  {
   "cell_type": "code",
   "execution_count": null,
   "metadata": {},
   "outputs": [],
   "source": [
    "%%time\n",
    "dict_classes={0:1, 1:class_ratio}\n",
    "model2 = Pipeline([\n",
    "    ('tfidf', TfidfVectorizer(stop_words=stopwords)),\n",
    "    ('clf', LogisticRegression(class_weight=dict_classes))\n",
    "])\n",
    "f1_ballanced = cross_val_score(model2, \n",
    "                                X_train['lemm_text'], \n",
    "                                y_train, \n",
    "                                cv=2, \n",
    "                                scoring='f1').mean()\n",
    "print('Качество метрики f1 линейной регрессии при кросс валидации с уменьшением классов', f1_ballanced)"
   ]
  },
  {
   "cell_type": "markdown",
   "metadata": {},
   "source": [
    "значение метрики  f1 > 0.75, следовательно будем использовать эту модель"
   ]
  },
  {
   "cell_type": "code",
   "execution_count": null,
   "metadata": {
    "scrolled": true
   },
   "outputs": [],
   "source": [
    "hyperparams = [{'clf__C':[0.1, 1, 10],\n",
    "                'clf__class_weight':[dict_classes]}]\n",
    "clf = GridSearchCV(model2, hyperparams, scoring='f1',cv=2)\n",
    "clf.fit(X_train['lemm_text'], y_train)\n",
    "best_params = clf.best_params_\n",
    "print(f'Лучшие параметры для модели: {best_params}')\n",
    "print()\n",
    "print(f'Лучшая оценка f1 для модели: {clf.best_score_}')"
   ]
  },
  {
   "cell_type": "markdown",
   "metadata": {},
   "source": [
    "оценим качество нашей модели на тестовых данных"
   ]
  },
  {
   "cell_type": "code",
   "execution_count": null,
   "metadata": {},
   "outputs": [],
   "source": [
    "best_model = clf.best_estimator_\n",
    "y_pred = best_model.predict(X_test['lemm_text'])\n",
    "\n",
    "f1 = f1_score(y_test, y_pred)\n",
    "print(f'F1-score на тестовых данных: {f1}')"
   ]
  },
  {
   "cell_type": "markdown",
   "metadata": {},
   "source": [
    "## Выводы"
   ]
  },
  {
   "cell_type": "markdown",
   "metadata": {},
   "source": [
    "подготовили данные для обучения, устранили дисбаланс классов, сформировали обучающую и тестовую выборку, обучили две модели - \n",
    "CatBoost и LogisticRegression, по результатам кросс валидации лучшей оказалась модель логистической регрессии с качеством метрики f1 равной 0.76 на трейне и 0.77 на тесте"
   ]
  }
 ],
 "metadata": {
  "ExecuteTimeLog": [
   {
    "duration": 45,
    "start_time": "2024-08-01T11:02:27.435Z"
   },
   {
    "duration": 1601,
    "start_time": "2024-08-01T11:02:31.189Z"
   },
   {
    "duration": 3886,
    "start_time": "2024-08-01T11:02:32.792Z"
   },
   {
    "duration": 10,
    "start_time": "2024-08-01T11:03:04.394Z"
   },
   {
    "duration": 4,
    "start_time": "2024-08-01T11:03:24.114Z"
   },
   {
    "duration": 13,
    "start_time": "2024-08-01T11:05:46.559Z"
   },
   {
    "duration": 908,
    "start_time": "2024-08-01T11:07:20.016Z"
   },
   {
    "duration": 6,
    "start_time": "2024-08-01T11:07:32.318Z"
   },
   {
    "duration": 53,
    "start_time": "2024-08-05T12:57:02.945Z"
   },
   {
    "duration": 1799,
    "start_time": "2024-08-05T12:57:07.706Z"
   },
   {
    "duration": 1367,
    "start_time": "2024-08-05T12:57:09.507Z"
   },
   {
    "duration": 10,
    "start_time": "2024-08-05T12:57:10.875Z"
   },
   {
    "duration": 7597,
    "start_time": "2024-08-05T12:57:10.887Z"
   },
   {
    "duration": 41,
    "start_time": "2024-08-05T13:04:00.541Z"
   },
   {
    "duration": 336,
    "start_time": "2024-08-05T13:04:46.328Z"
   },
   {
    "duration": 4856,
    "start_time": "2024-08-05T13:05:00.971Z"
   },
   {
    "duration": 1749,
    "start_time": "2024-08-05T13:06:15.181Z"
   },
   {
    "duration": 1049,
    "start_time": "2024-08-05T13:06:16.932Z"
   },
   {
    "duration": 12,
    "start_time": "2024-08-05T13:06:17.983Z"
   },
   {
    "duration": 7832,
    "start_time": "2024-08-05T13:06:17.997Z"
   },
   {
    "duration": 40,
    "start_time": "2024-08-05T13:06:25.832Z"
   },
   {
    "duration": 13411,
    "start_time": "2024-08-05T13:06:25.874Z"
   },
   {
    "duration": 146,
    "start_time": "2024-08-05T13:07:35.834Z"
   },
   {
    "duration": 13,
    "start_time": "2024-08-05T13:07:42.985Z"
   },
   {
    "duration": 4,
    "start_time": "2024-08-05T13:07:46.627Z"
   },
   {
    "duration": 4,
    "start_time": "2024-08-05T13:08:05.625Z"
   },
   {
    "duration": 58,
    "start_time": "2024-08-05T13:13:02.259Z"
   },
   {
    "duration": 77,
    "start_time": "2024-08-05T13:15:29.429Z"
   },
   {
    "duration": 11,
    "start_time": "2024-08-05T13:15:42.994Z"
   },
   {
    "duration": 15,
    "start_time": "2024-08-05T13:16:31.231Z"
   },
   {
    "duration": 73781,
    "start_time": "2024-08-05T13:17:10.753Z"
   },
   {
    "duration": 1881,
    "start_time": "2024-08-05T13:21:53.787Z"
   },
   {
    "duration": 1036,
    "start_time": "2024-08-05T13:21:55.670Z"
   },
   {
    "duration": 12,
    "start_time": "2024-08-05T13:21:56.710Z"
   },
   {
    "duration": 7530,
    "start_time": "2024-08-05T13:21:56.725Z"
   },
   {
    "duration": 55,
    "start_time": "2024-08-05T13:22:04.257Z"
   },
   {
    "duration": 0,
    "start_time": "2024-08-05T13:22:04.314Z"
   },
   {
    "duration": 0,
    "start_time": "2024-08-05T13:22:04.315Z"
   },
   {
    "duration": 0,
    "start_time": "2024-08-05T13:22:04.316Z"
   },
   {
    "duration": 1610,
    "start_time": "2024-08-05T13:22:45.446Z"
   },
   {
    "duration": 1020,
    "start_time": "2024-08-05T13:22:47.058Z"
   },
   {
    "duration": 11,
    "start_time": "2024-08-05T13:22:48.079Z"
   },
   {
    "duration": 7444,
    "start_time": "2024-08-05T13:22:48.092Z"
   },
   {
    "duration": 46,
    "start_time": "2024-08-05T13:22:55.539Z"
   },
   {
    "duration": 12167,
    "start_time": "2024-08-05T13:22:55.588Z"
   },
   {
    "duration": 75097,
    "start_time": "2024-08-05T13:23:07.757Z"
   },
   {
    "duration": 73005,
    "start_time": "2024-08-05T13:24:52.325Z"
   },
   {
    "duration": 82,
    "start_time": "2024-08-05T13:31:41.615Z"
   },
   {
    "duration": 604,
    "start_time": "2024-08-05T13:42:27.914Z"
   },
   {
    "duration": 600,
    "start_time": "2024-08-05T13:43:11.309Z"
   },
   {
    "duration": 1592,
    "start_time": "2024-08-05T13:43:52.429Z"
   },
   {
    "duration": 977,
    "start_time": "2024-08-05T13:43:54.023Z"
   },
   {
    "duration": 10,
    "start_time": "2024-08-05T13:43:55.001Z"
   },
   {
    "duration": 7409,
    "start_time": "2024-08-05T13:43:55.012Z"
   },
   {
    "duration": 70,
    "start_time": "2024-08-05T13:44:02.424Z"
   },
   {
    "duration": 12071,
    "start_time": "2024-08-05T13:44:02.495Z"
   },
   {
    "duration": 72257,
    "start_time": "2024-08-05T13:44:14.568Z"
   },
   {
    "duration": 676913,
    "start_time": "2024-08-05T13:45:26.905Z"
   },
   {
    "duration": 1705,
    "start_time": "2024-08-05T13:59:08.887Z"
   },
   {
    "duration": 1051,
    "start_time": "2024-08-05T13:59:10.594Z"
   },
   {
    "duration": 11,
    "start_time": "2024-08-05T13:59:11.646Z"
   },
   {
    "duration": 8234,
    "start_time": "2024-08-05T13:59:11.659Z"
   },
   {
    "duration": 70,
    "start_time": "2024-08-05T13:59:19.895Z"
   },
   {
    "duration": 12721,
    "start_time": "2024-08-05T13:59:19.967Z"
   },
   {
    "duration": 71233,
    "start_time": "2024-08-05T13:59:32.690Z"
   },
   {
    "duration": 978240,
    "start_time": "2024-08-05T14:00:43.925Z"
   },
   {
    "duration": 1683,
    "start_time": "2024-08-05T14:18:40.105Z"
   },
   {
    "duration": 1019,
    "start_time": "2024-08-05T14:18:41.790Z"
   },
   {
    "duration": 11,
    "start_time": "2024-08-05T14:18:42.811Z"
   },
   {
    "duration": 7717,
    "start_time": "2024-08-05T14:18:42.823Z"
   },
   {
    "duration": 75,
    "start_time": "2024-08-05T14:18:50.542Z"
   },
   {
    "duration": 12319,
    "start_time": "2024-08-05T14:18:50.618Z"
   },
   {
    "duration": 73505,
    "start_time": "2024-08-05T14:19:02.939Z"
   },
   {
    "duration": 712303,
    "start_time": "2024-08-05T14:20:16.456Z"
   },
   {
    "duration": 690614,
    "start_time": "2024-08-05T14:39:40.332Z"
   },
   {
    "duration": 135,
    "start_time": "2024-08-06T12:30:53.956Z"
   },
   {
    "duration": 52,
    "start_time": "2024-08-06T12:30:58.635Z"
   },
   {
    "duration": 10,
    "start_time": "2024-08-06T12:31:07.019Z"
   },
   {
    "duration": 1961,
    "start_time": "2024-08-06T12:31:38.581Z"
   },
   {
    "duration": 3966,
    "start_time": "2024-08-06T12:31:40.546Z"
   },
   {
    "duration": 13,
    "start_time": "2024-08-06T12:31:44.513Z"
   },
   {
    "duration": 12,
    "start_time": "2024-08-06T12:31:44.529Z"
   },
   {
    "duration": 86,
    "start_time": "2024-08-06T12:31:44.545Z"
   },
   {
    "duration": 0,
    "start_time": "2024-08-06T12:31:44.634Z"
   },
   {
    "duration": 0,
    "start_time": "2024-08-06T12:31:44.636Z"
   },
   {
    "duration": 0,
    "start_time": "2024-08-06T12:31:44.639Z"
   },
   {
    "duration": 0,
    "start_time": "2024-08-06T12:31:44.641Z"
   },
   {
    "duration": 0,
    "start_time": "2024-08-06T12:31:44.644Z"
   },
   {
    "duration": 0,
    "start_time": "2024-08-06T12:31:44.646Z"
   },
   {
    "duration": 0,
    "start_time": "2024-08-06T12:31:44.648Z"
   },
   {
    "duration": 1768,
    "start_time": "2024-08-06T12:31:57.176Z"
   },
   {
    "duration": 1186,
    "start_time": "2024-08-06T12:31:58.947Z"
   },
   {
    "duration": 16,
    "start_time": "2024-08-06T12:32:00.142Z"
   },
   {
    "duration": 34,
    "start_time": "2024-08-06T12:32:00.160Z"
   },
   {
    "duration": 89,
    "start_time": "2024-08-06T12:32:00.197Z"
   },
   {
    "duration": 0,
    "start_time": "2024-08-06T12:32:00.288Z"
   },
   {
    "duration": 0,
    "start_time": "2024-08-06T12:32:00.289Z"
   },
   {
    "duration": 0,
    "start_time": "2024-08-06T12:32:00.291Z"
   },
   {
    "duration": 0,
    "start_time": "2024-08-06T12:32:00.292Z"
   },
   {
    "duration": 0,
    "start_time": "2024-08-06T12:32:00.293Z"
   },
   {
    "duration": 0,
    "start_time": "2024-08-06T12:32:00.294Z"
   },
   {
    "duration": 0,
    "start_time": "2024-08-06T12:32:00.294Z"
   },
   {
    "duration": 150,
    "start_time": "2024-08-06T12:32:07.242Z"
   },
   {
    "duration": 1876,
    "start_time": "2024-08-06T12:32:26.368Z"
   },
   {
    "duration": 1006,
    "start_time": "2024-08-06T12:32:28.246Z"
   },
   {
    "duration": 11,
    "start_time": "2024-08-06T12:32:29.256Z"
   },
   {
    "duration": 6,
    "start_time": "2024-08-06T12:32:29.269Z"
   },
   {
    "duration": 8,
    "start_time": "2024-08-06T12:32:29.276Z"
   },
   {
    "duration": 8084,
    "start_time": "2024-08-06T12:32:29.285Z"
   },
   {
    "duration": 83,
    "start_time": "2024-08-06T12:32:37.371Z"
   },
   {
    "duration": 13519,
    "start_time": "2024-08-06T12:32:37.455Z"
   },
   {
    "duration": 87474,
    "start_time": "2024-08-06T12:32:50.976Z"
   },
   {
    "duration": 3,
    "start_time": "2024-08-06T12:34:18.452Z"
   },
   {
    "duration": 223,
    "start_time": "2024-08-06T12:34:18.457Z"
   },
   {
    "duration": 94929,
    "start_time": "2024-08-06T12:38:18.233Z"
   },
   {
    "duration": 95193,
    "start_time": "2024-08-06T12:44:33.451Z"
   },
   {
    "duration": 270773,
    "start_time": "2024-08-06T13:14:18.353Z"
   },
   {
    "duration": 28,
    "start_time": "2024-08-06T13:22:34.511Z"
   },
   {
    "duration": 1767,
    "start_time": "2024-08-08T11:33:25.216Z"
   },
   {
    "duration": 1377,
    "start_time": "2024-08-08T11:33:26.985Z"
   },
   {
    "duration": 10,
    "start_time": "2024-08-08T11:33:28.364Z"
   },
   {
    "duration": 5,
    "start_time": "2024-08-08T11:33:28.376Z"
   },
   {
    "duration": 7,
    "start_time": "2024-08-08T11:33:28.383Z"
   },
   {
    "duration": 378,
    "start_time": "2024-08-08T11:33:28.392Z"
   },
   {
    "duration": 0,
    "start_time": "2024-08-08T11:33:28.772Z"
   },
   {
    "duration": 0,
    "start_time": "2024-08-08T11:33:28.773Z"
   },
   {
    "duration": 0,
    "start_time": "2024-08-08T11:33:28.774Z"
   },
   {
    "duration": 0,
    "start_time": "2024-08-08T11:33:28.775Z"
   },
   {
    "duration": 0,
    "start_time": "2024-08-08T11:33:28.776Z"
   },
   {
    "duration": 0,
    "start_time": "2024-08-08T11:33:28.777Z"
   },
   {
    "duration": 0,
    "start_time": "2024-08-08T11:33:28.778Z"
   },
   {
    "duration": 504,
    "start_time": "2024-08-08T11:34:25.950Z"
   },
   {
    "duration": 1813,
    "start_time": "2024-08-08T11:34:35.025Z"
   },
   {
    "duration": 994,
    "start_time": "2024-08-08T11:34:36.840Z"
   },
   {
    "duration": 10,
    "start_time": "2024-08-08T11:34:37.836Z"
   },
   {
    "duration": 7,
    "start_time": "2024-08-08T11:34:37.847Z"
   },
   {
    "duration": 13,
    "start_time": "2024-08-08T11:34:37.856Z"
   },
   {
    "duration": 1897,
    "start_time": "2024-08-08T11:39:19.829Z"
   },
   {
    "duration": 0,
    "start_time": "2024-08-08T11:39:21.728Z"
   },
   {
    "duration": 0,
    "start_time": "2024-08-08T11:39:21.729Z"
   },
   {
    "duration": 0,
    "start_time": "2024-08-08T11:39:21.731Z"
   },
   {
    "duration": 0,
    "start_time": "2024-08-08T11:39:21.818Z"
   },
   {
    "duration": 0,
    "start_time": "2024-08-08T11:39:21.819Z"
   },
   {
    "duration": 0,
    "start_time": "2024-08-08T11:39:21.821Z"
   },
   {
    "duration": 0,
    "start_time": "2024-08-08T11:39:21.822Z"
   },
   {
    "duration": 0,
    "start_time": "2024-08-08T11:39:21.823Z"
   },
   {
    "duration": 0,
    "start_time": "2024-08-08T11:39:21.824Z"
   },
   {
    "duration": 0,
    "start_time": "2024-08-08T11:39:21.825Z"
   },
   {
    "duration": 0,
    "start_time": "2024-08-08T11:39:21.826Z"
   },
   {
    "duration": 0,
    "start_time": "2024-08-08T11:39:21.827Z"
   },
   {
    "duration": 1672,
    "start_time": "2024-08-08T11:40:31.820Z"
   },
   {
    "duration": 1330,
    "start_time": "2024-08-08T11:40:39.957Z"
   },
   {
    "duration": 1962,
    "start_time": "2024-08-08T11:40:41.289Z"
   },
   {
    "duration": 0,
    "start_time": "2024-08-08T11:40:43.255Z"
   },
   {
    "duration": 0,
    "start_time": "2024-08-08T11:40:43.256Z"
   },
   {
    "duration": 0,
    "start_time": "2024-08-08T11:40:43.257Z"
   },
   {
    "duration": 0,
    "start_time": "2024-08-08T11:40:43.258Z"
   },
   {
    "duration": 0,
    "start_time": "2024-08-08T11:40:43.349Z"
   },
   {
    "duration": 0,
    "start_time": "2024-08-08T11:40:43.350Z"
   },
   {
    "duration": 0,
    "start_time": "2024-08-08T11:40:43.351Z"
   },
   {
    "duration": 0,
    "start_time": "2024-08-08T11:40:43.352Z"
   },
   {
    "duration": 0,
    "start_time": "2024-08-08T11:40:43.353Z"
   },
   {
    "duration": 0,
    "start_time": "2024-08-08T11:40:43.354Z"
   },
   {
    "duration": 0,
    "start_time": "2024-08-08T11:40:43.355Z"
   },
   {
    "duration": 0,
    "start_time": "2024-08-08T11:40:43.356Z"
   },
   {
    "duration": 1362,
    "start_time": "2024-08-08T11:40:59.315Z"
   },
   {
    "duration": 21,
    "start_time": "2024-08-08T11:41:01.528Z"
   },
   {
    "duration": 1342,
    "start_time": "2024-08-08T11:41:14.023Z"
   },
   {
    "duration": 2012,
    "start_time": "2024-08-08T11:41:15.367Z"
   },
   {
    "duration": 0,
    "start_time": "2024-08-08T11:41:17.381Z"
   },
   {
    "duration": 0,
    "start_time": "2024-08-08T11:41:17.382Z"
   },
   {
    "duration": 0,
    "start_time": "2024-08-08T11:41:17.384Z"
   },
   {
    "duration": 0,
    "start_time": "2024-08-08T11:41:17.385Z"
   },
   {
    "duration": 0,
    "start_time": "2024-08-08T11:41:17.386Z"
   },
   {
    "duration": 0,
    "start_time": "2024-08-08T11:41:17.474Z"
   },
   {
    "duration": 0,
    "start_time": "2024-08-08T11:41:17.476Z"
   },
   {
    "duration": 0,
    "start_time": "2024-08-08T11:41:17.477Z"
   },
   {
    "duration": 0,
    "start_time": "2024-08-08T11:41:17.478Z"
   },
   {
    "duration": 0,
    "start_time": "2024-08-08T11:41:17.479Z"
   },
   {
    "duration": 0,
    "start_time": "2024-08-08T11:41:17.480Z"
   },
   {
    "duration": 0,
    "start_time": "2024-08-08T11:41:17.482Z"
   },
   {
    "duration": 7290,
    "start_time": "2024-08-08T11:41:46.215Z"
   },
   {
    "duration": 2563,
    "start_time": "2024-08-08T11:42:00.367Z"
   },
   {
    "duration": 2118,
    "start_time": "2024-08-08T11:42:02.933Z"
   },
   {
    "duration": 0,
    "start_time": "2024-08-08T11:42:05.053Z"
   },
   {
    "duration": 0,
    "start_time": "2024-08-08T11:42:05.054Z"
   },
   {
    "duration": 0,
    "start_time": "2024-08-08T11:42:05.056Z"
   },
   {
    "duration": 0,
    "start_time": "2024-08-08T11:42:05.057Z"
   },
   {
    "duration": 0,
    "start_time": "2024-08-08T11:42:05.058Z"
   },
   {
    "duration": 0,
    "start_time": "2024-08-08T11:42:05.059Z"
   },
   {
    "duration": 0,
    "start_time": "2024-08-08T11:42:05.060Z"
   },
   {
    "duration": 0,
    "start_time": "2024-08-08T11:42:05.062Z"
   },
   {
    "duration": 0,
    "start_time": "2024-08-08T11:42:05.063Z"
   },
   {
    "duration": 0,
    "start_time": "2024-08-08T11:42:05.064Z"
   },
   {
    "duration": 0,
    "start_time": "2024-08-08T11:42:05.065Z"
   },
   {
    "duration": 0,
    "start_time": "2024-08-08T11:42:05.066Z"
   },
   {
    "duration": 13,
    "start_time": "2024-08-08T11:42:34.808Z"
   },
   {
    "duration": 881,
    "start_time": "2024-08-08T11:42:43.781Z"
   },
   {
    "duration": 13,
    "start_time": "2024-08-08T11:42:45.327Z"
   },
   {
    "duration": 2477,
    "start_time": "2024-08-08T11:42:50.417Z"
   },
   {
    "duration": 1933,
    "start_time": "2024-08-08T11:42:52.897Z"
   },
   {
    "duration": 911,
    "start_time": "2024-08-08T11:42:54.831Z"
   },
   {
    "duration": 12,
    "start_time": "2024-08-08T11:42:55.744Z"
   },
   {
    "duration": 15,
    "start_time": "2024-08-08T11:42:55.759Z"
   },
   {
    "duration": 19,
    "start_time": "2024-08-08T11:42:55.776Z"
   },
   {
    "duration": 3095,
    "start_time": "2024-08-08T11:45:51.746Z"
   },
   {
    "duration": 1792,
    "start_time": "2024-08-08T11:45:54.844Z"
   },
   {
    "duration": 874,
    "start_time": "2024-08-08T11:45:56.637Z"
   },
   {
    "duration": 14,
    "start_time": "2024-08-08T11:45:57.513Z"
   },
   {
    "duration": 7,
    "start_time": "2024-08-08T11:45:57.530Z"
   },
   {
    "duration": 19,
    "start_time": "2024-08-08T11:45:57.539Z"
   },
   {
    "duration": 3066252,
    "start_time": "2024-08-08T11:45:57.560Z"
   },
   {
    "duration": 0,
    "start_time": "2024-08-08T12:37:03.820Z"
   },
   {
    "duration": 0,
    "start_time": "2024-08-08T12:37:03.822Z"
   },
   {
    "duration": 0,
    "start_time": "2024-08-08T12:37:03.823Z"
   },
   {
    "duration": 0,
    "start_time": "2024-08-08T12:37:03.824Z"
   },
   {
    "duration": 0,
    "start_time": "2024-08-08T12:37:03.826Z"
   },
   {
    "duration": 0,
    "start_time": "2024-08-08T12:37:03.828Z"
   },
   {
    "duration": 0,
    "start_time": "2024-08-08T12:37:03.829Z"
   },
   {
    "duration": 184,
    "start_time": "2024-08-08T12:40:29.888Z"
   },
   {
    "duration": 8,
    "start_time": "2024-08-08T12:40:31.263Z"
   },
   {
    "duration": 60,
    "start_time": "2024-08-08T12:40:34.813Z"
   },
   {
    "duration": 11,
    "start_time": "2024-08-08T12:41:20.700Z"
   },
   {
    "duration": 86,
    "start_time": "2024-08-08T12:41:24.962Z"
   },
   {
    "duration": 5,
    "start_time": "2024-08-08T12:41:25.611Z"
   },
   {
    "duration": 49,
    "start_time": "2024-08-08T12:41:29.943Z"
   },
   {
    "duration": 3,
    "start_time": "2024-08-08T12:41:34.582Z"
   },
   {
    "duration": 54,
    "start_time": "2024-08-08T12:41:35.598Z"
   },
   {
    "duration": 42,
    "start_time": "2024-08-08T12:41:37.314Z"
   },
   {
    "duration": 10,
    "start_time": "2024-08-08T12:41:39.542Z"
   },
   {
    "duration": 78,
    "start_time": "2024-08-08T12:44:10.588Z"
   },
   {
    "duration": 2488,
    "start_time": "2024-08-08T12:44:17.683Z"
   },
   {
    "duration": 1761,
    "start_time": "2024-08-08T12:44:20.173Z"
   },
   {
    "duration": 932,
    "start_time": "2024-08-08T12:44:21.936Z"
   },
   {
    "duration": 11,
    "start_time": "2024-08-08T12:44:22.871Z"
   },
   {
    "duration": 25,
    "start_time": "2024-08-08T12:44:22.883Z"
   },
   {
    "duration": 21,
    "start_time": "2024-08-08T12:44:22.910Z"
   },
   {
    "duration": 2485,
    "start_time": "2024-08-08T12:47:11.501Z"
   },
   {
    "duration": 1913,
    "start_time": "2024-08-08T12:47:13.988Z"
   },
   {
    "duration": 949,
    "start_time": "2024-08-08T12:47:15.903Z"
   },
   {
    "duration": 10,
    "start_time": "2024-08-08T12:47:16.854Z"
   },
   {
    "duration": 24,
    "start_time": "2024-08-08T12:47:16.866Z"
   },
   {
    "duration": 27,
    "start_time": "2024-08-08T12:47:16.892Z"
   },
   {
    "duration": 20,
    "start_time": "2024-08-08T12:47:16.921Z"
   },
   {
    "duration": 7562,
    "start_time": "2024-08-08T12:47:16.943Z"
   },
   {
    "duration": 73,
    "start_time": "2024-08-08T12:47:24.506Z"
   },
   {
    "duration": 5,
    "start_time": "2024-08-08T12:47:24.581Z"
   },
   {
    "duration": 65,
    "start_time": "2024-08-08T12:47:24.587Z"
   },
   {
    "duration": 2,
    "start_time": "2024-08-08T12:47:24.654Z"
   },
   {
    "duration": 70,
    "start_time": "2024-08-08T12:47:24.657Z"
   },
   {
    "duration": 171,
    "start_time": "2024-08-08T12:47:24.728Z"
   },
   {
    "duration": 0,
    "start_time": "2024-08-08T12:47:24.901Z"
   },
   {
    "duration": 2453,
    "start_time": "2024-08-08T12:47:55.535Z"
   },
   {
    "duration": 1969,
    "start_time": "2024-08-08T12:47:57.991Z"
   },
   {
    "duration": 960,
    "start_time": "2024-08-08T12:47:59.961Z"
   },
   {
    "duration": 11,
    "start_time": "2024-08-08T12:48:00.923Z"
   },
   {
    "duration": 72,
    "start_time": "2024-08-08T12:48:00.935Z"
   },
   {
    "duration": 87,
    "start_time": "2024-08-08T12:48:01.008Z"
   },
   {
    "duration": 56,
    "start_time": "2024-08-08T12:48:01.097Z"
   },
   {
    "duration": 7714,
    "start_time": "2024-08-08T12:48:01.155Z"
   },
   {
    "duration": 77,
    "start_time": "2024-08-08T12:48:08.871Z"
   },
   {
    "duration": 5,
    "start_time": "2024-08-08T12:48:08.950Z"
   },
   {
    "duration": 64,
    "start_time": "2024-08-08T12:48:08.956Z"
   },
   {
    "duration": 3,
    "start_time": "2024-08-08T12:48:09.022Z"
   },
   {
    "duration": 51,
    "start_time": "2024-08-08T12:48:09.026Z"
   },
   {
    "duration": 173,
    "start_time": "2024-08-08T12:48:09.079Z"
   },
   {
    "duration": 0,
    "start_time": "2024-08-08T12:48:09.254Z"
   },
   {
    "duration": 2496,
    "start_time": "2024-08-08T12:48:42.907Z"
   },
   {
    "duration": 1861,
    "start_time": "2024-08-08T12:48:45.406Z"
   },
   {
    "duration": 907,
    "start_time": "2024-08-08T12:48:47.268Z"
   },
   {
    "duration": 10,
    "start_time": "2024-08-08T12:48:48.176Z"
   },
   {
    "duration": 6,
    "start_time": "2024-08-08T12:48:48.188Z"
   },
   {
    "duration": 26,
    "start_time": "2024-08-08T12:48:48.195Z"
   },
   {
    "duration": 11,
    "start_time": "2024-08-08T12:48:48.223Z"
   },
   {
    "duration": 7504,
    "start_time": "2024-08-08T12:48:48.235Z"
   },
   {
    "duration": 77,
    "start_time": "2024-08-08T12:48:55.741Z"
   },
   {
    "duration": 7356,
    "start_time": "2024-08-08T12:48:55.820Z"
   },
   {
    "duration": 64,
    "start_time": "2024-08-08T12:49:03.178Z"
   },
   {
    "duration": 2,
    "start_time": "2024-08-08T12:49:03.244Z"
   },
   {
    "duration": 45,
    "start_time": "2024-08-08T12:49:03.248Z"
   },
   {
    "duration": 168,
    "start_time": "2024-08-08T12:49:03.295Z"
   },
   {
    "duration": 0,
    "start_time": "2024-08-08T12:49:03.465Z"
   },
   {
    "duration": 2444,
    "start_time": "2024-08-08T12:50:32.979Z"
   },
   {
    "duration": 1910,
    "start_time": "2024-08-08T12:50:35.425Z"
   },
   {
    "duration": 995,
    "start_time": "2024-08-08T12:50:37.337Z"
   },
   {
    "duration": 10,
    "start_time": "2024-08-08T12:50:38.335Z"
   },
   {
    "duration": 7,
    "start_time": "2024-08-08T12:50:38.347Z"
   },
   {
    "duration": 8,
    "start_time": "2024-08-08T12:50:38.355Z"
   },
   {
    "duration": 3,
    "start_time": "2024-08-08T12:50:38.364Z"
   },
   {
    "duration": 7742,
    "start_time": "2024-08-08T12:50:38.368Z"
   },
   {
    "duration": 73,
    "start_time": "2024-08-08T12:50:46.112Z"
   },
   {
    "duration": 12805,
    "start_time": "2024-08-08T12:50:46.187Z"
   },
   {
    "duration": 67,
    "start_time": "2024-08-08T12:50:58.994Z"
   },
   {
    "duration": 3,
    "start_time": "2024-08-08T12:50:59.062Z"
   },
   {
    "duration": 51,
    "start_time": "2024-08-08T12:50:59.066Z"
   },
   {
    "duration": 164,
    "start_time": "2024-08-08T12:50:59.119Z"
   },
   {
    "duration": 0,
    "start_time": "2024-08-08T12:50:59.285Z"
   },
   {
    "duration": 55,
    "start_time": "2024-08-08T12:58:36.037Z"
   },
   {
    "duration": 5284,
    "start_time": "2024-08-08T14:02:02.029Z"
   },
   {
    "duration": 5037,
    "start_time": "2024-08-08T14:02:07.317Z"
   },
   {
    "duration": 4179,
    "start_time": "2024-08-08T14:02:12.356Z"
   },
   {
    "duration": 3,
    "start_time": "2024-08-08T14:02:16.537Z"
   },
   {
    "duration": 71,
    "start_time": "2024-08-08T14:02:16.541Z"
   },
   {
    "duration": 17,
    "start_time": "2024-08-08T14:02:16.613Z"
   },
   {
    "duration": 24,
    "start_time": "2024-08-08T14:02:16.632Z"
   },
   {
    "duration": 62,
    "start_time": "2024-08-08T14:02:16.658Z"
   },
   {
    "duration": 1304,
    "start_time": "2024-08-08T14:02:16.721Z"
   },
   {
    "duration": 7,
    "start_time": "2024-08-08T14:02:18.027Z"
   },
   {
    "duration": 43,
    "start_time": "2024-08-08T14:02:18.035Z"
   },
   {
    "duration": 25,
    "start_time": "2024-08-08T14:02:18.079Z"
   },
   {
    "duration": 30,
    "start_time": "2024-08-08T14:02:18.105Z"
   },
   {
    "duration": 36,
    "start_time": "2024-08-08T14:02:18.136Z"
   },
   {
    "duration": 184,
    "start_time": "2024-08-08T14:02:18.174Z"
   },
   {
    "duration": 0,
    "start_time": "2024-08-08T14:02:18.360Z"
   },
   {
    "duration": 3,
    "start_time": "2024-08-08T14:04:15.838Z"
   },
   {
    "duration": 5,
    "start_time": "2024-08-08T14:04:21.999Z"
   },
   {
    "duration": 9,
    "start_time": "2024-08-08T14:04:24.693Z"
   },
   {
    "duration": 5,
    "start_time": "2024-08-08T14:04:26.435Z"
   },
   {
    "duration": 15,
    "start_time": "2024-08-08T14:04:27.939Z"
   },
   {
    "duration": 4,
    "start_time": "2024-08-08T14:04:36.893Z"
   },
   {
    "duration": 18,
    "start_time": "2024-08-08T14:04:40.523Z"
   },
   {
    "duration": 10,
    "start_time": "2024-08-08T14:04:59.756Z"
   },
   {
    "duration": 18,
    "start_time": "2024-08-08T14:05:07.971Z"
   },
   {
    "duration": 13,
    "start_time": "2024-08-08T14:05:14.573Z"
   },
   {
    "duration": 13,
    "start_time": "2024-08-08T14:05:17.284Z"
   },
   {
    "duration": 13,
    "start_time": "2024-08-08T14:05:30.481Z"
   },
   {
    "duration": 13,
    "start_time": "2024-08-08T14:05:32.575Z"
   },
   {
    "duration": 13,
    "start_time": "2024-08-08T14:05:34.393Z"
   },
   {
    "duration": 15,
    "start_time": "2024-08-08T14:05:35.921Z"
   },
   {
    "duration": 8,
    "start_time": "2024-08-08T14:05:38.447Z"
   },
   {
    "duration": 3,
    "start_time": "2024-08-08T14:05:42.997Z"
   },
   {
    "duration": 5,
    "start_time": "2024-08-08T14:05:44.152Z"
   },
   {
    "duration": 8,
    "start_time": "2024-08-08T14:05:51.733Z"
   },
   {
    "duration": 4,
    "start_time": "2024-08-08T14:05:52.076Z"
   },
   {
    "duration": 6,
    "start_time": "2024-08-08T14:05:54.209Z"
   },
   {
    "duration": 3,
    "start_time": "2024-08-08T14:05:54.679Z"
   },
   {
    "duration": 5,
    "start_time": "2024-08-08T14:05:55.467Z"
   },
   {
    "duration": 11,
    "start_time": "2024-08-08T14:06:00.019Z"
   },
   {
    "duration": 3,
    "start_time": "2024-08-08T14:06:09.327Z"
   },
   {
    "duration": 6,
    "start_time": "2024-08-08T14:06:09.813Z"
   },
   {
    "duration": 5,
    "start_time": "2024-08-08T14:06:11.427Z"
   },
   {
    "duration": 15,
    "start_time": "2024-08-08T14:06:14.185Z"
   },
   {
    "duration": 14,
    "start_time": "2024-08-08T14:06:18.417Z"
   },
   {
    "duration": 947,
    "start_time": "2024-08-08T14:06:27.980Z"
   },
   {
    "duration": 3,
    "start_time": "2024-08-08T14:06:28.929Z"
   },
   {
    "duration": 9,
    "start_time": "2024-08-08T14:06:28.934Z"
   },
   {
    "duration": 15,
    "start_time": "2024-08-08T14:06:28.945Z"
   },
   {
    "duration": 6,
    "start_time": "2024-08-08T14:06:28.999Z"
   },
   {
    "duration": 3,
    "start_time": "2024-08-08T14:06:29.583Z"
   },
   {
    "duration": 50,
    "start_time": "2024-08-08T14:06:29.785Z"
   },
   {
    "duration": 4,
    "start_time": "2024-08-08T14:06:31.637Z"
   },
   {
    "duration": 6,
    "start_time": "2024-08-08T14:06:32.061Z"
   },
   {
    "duration": 4,
    "start_time": "2024-08-08T14:06:32.447Z"
   },
   {
    "duration": 14,
    "start_time": "2024-08-08T14:06:34.116Z"
   },
   {
    "duration": 24,
    "start_time": "2024-08-08T14:06:51.221Z"
   },
   {
    "duration": 4,
    "start_time": "2024-08-08T14:06:55.740Z"
   },
   {
    "duration": 8,
    "start_time": "2024-08-08T14:07:10.427Z"
   },
   {
    "duration": 5,
    "start_time": "2024-08-08T14:07:18.893Z"
   },
   {
    "duration": 9,
    "start_time": "2024-08-08T14:07:27.793Z"
   },
   {
    "duration": 487,
    "start_time": "2024-08-08T14:07:47.545Z"
   },
   {
    "duration": 2,
    "start_time": "2024-08-08T14:07:50.453Z"
   },
   {
    "duration": 64,
    "start_time": "2024-08-08T14:07:54.281Z"
   },
   {
    "duration": 11,
    "start_time": "2024-08-08T14:07:56.725Z"
   },
   {
    "duration": 4,
    "start_time": "2024-08-08T14:08:02.269Z"
   },
   {
    "duration": 7,
    "start_time": "2024-08-08T14:08:04.449Z"
   },
   {
    "duration": 5,
    "start_time": "2024-08-08T14:08:04.695Z"
   },
   {
    "duration": 14,
    "start_time": "2024-08-08T14:08:07.469Z"
   },
   {
    "duration": 8,
    "start_time": "2024-08-08T14:08:44.245Z"
   },
   {
    "duration": 9,
    "start_time": "2024-08-08T14:08:47.405Z"
   },
   {
    "duration": 8,
    "start_time": "2024-08-08T14:08:52.837Z"
   },
   {
    "duration": 8,
    "start_time": "2024-08-08T14:08:55.067Z"
   },
   {
    "duration": 5,
    "start_time": "2024-08-08T14:08:57.844Z"
   },
   {
    "duration": 62,
    "start_time": "2024-08-08T14:09:16.008Z"
   },
   {
    "duration": 40,
    "start_time": "2024-08-08T14:09:29.926Z"
   },
   {
    "duration": 32,
    "start_time": "2024-08-08T14:09:34.845Z"
   },
   {
    "duration": 37,
    "start_time": "2024-08-08T14:09:47.566Z"
   },
   {
    "duration": 11,
    "start_time": "2024-08-08T14:09:53.650Z"
   },
   {
    "duration": 18,
    "start_time": "2024-08-08T14:10:02.073Z"
   },
   {
    "duration": 3,
    "start_time": "2024-08-08T14:10:05.827Z"
   },
   {
    "duration": 22,
    "start_time": "2024-08-08T14:10:10.740Z"
   },
   {
    "duration": 4,
    "start_time": "2024-08-08T14:10:12.115Z"
   },
   {
    "duration": 42,
    "start_time": "2024-08-08T14:10:19.900Z"
   },
   {
    "duration": 37,
    "start_time": "2024-08-08T14:10:23.758Z"
   },
   {
    "duration": 62,
    "start_time": "2024-08-08T14:10:42.095Z"
   },
   {
    "duration": 41,
    "start_time": "2024-08-08T14:10:43.874Z"
   },
   {
    "duration": 41,
    "start_time": "2024-08-08T14:10:52.841Z"
   },
   {
    "duration": 206,
    "start_time": "2024-08-08T14:11:37.143Z"
   },
   {
    "duration": 19,
    "start_time": "2024-08-08T14:11:39.867Z"
   },
   {
    "duration": 5,
    "start_time": "2024-08-08T14:12:33.124Z"
   },
   {
    "duration": 224,
    "start_time": "2024-08-08T14:12:39.586Z"
   },
   {
    "duration": 66,
    "start_time": "2024-08-08T14:12:47.859Z"
   },
   {
    "duration": 66,
    "start_time": "2024-08-08T14:12:52.339Z"
   },
   {
    "duration": 62,
    "start_time": "2024-08-08T14:12:57.960Z"
   },
   {
    "duration": 12,
    "start_time": "2024-08-08T14:13:00.908Z"
   },
   {
    "duration": 7,
    "start_time": "2024-08-08T14:13:05.774Z"
   },
   {
    "duration": 13,
    "start_time": "2024-08-08T14:13:06.714Z"
   },
   {
    "duration": 6,
    "start_time": "2024-08-08T14:13:06.976Z"
   },
   {
    "duration": 5,
    "start_time": "2024-08-08T14:13:07.110Z"
   },
   {
    "duration": 395,
    "start_time": "2024-08-08T14:13:12.882Z"
   },
   {
    "duration": 25,
    "start_time": "2024-08-08T14:13:16.622Z"
   },
   {
    "duration": 376,
    "start_time": "2024-08-08T14:13:18.556Z"
   },
   {
    "duration": 23,
    "start_time": "2024-08-08T14:13:29.288Z"
   },
   {
    "duration": 15,
    "start_time": "2024-08-08T14:13:32.388Z"
   },
   {
    "duration": 14,
    "start_time": "2024-08-08T14:13:36.254Z"
   },
   {
    "duration": 9,
    "start_time": "2024-08-08T14:14:39.760Z"
   },
   {
    "duration": 6,
    "start_time": "2024-08-08T14:14:56.076Z"
   },
   {
    "duration": 5,
    "start_time": "2024-08-08T14:14:58.958Z"
   },
   {
    "duration": 5,
    "start_time": "2024-08-08T14:15:01.197Z"
   },
   {
    "duration": 17,
    "start_time": "2024-08-08T14:15:06.658Z"
   },
   {
    "duration": 3,
    "start_time": "2024-08-08T14:15:15.190Z"
   },
   {
    "duration": 16,
    "start_time": "2024-08-08T14:15:15.486Z"
   },
   {
    "duration": 4,
    "start_time": "2024-08-08T14:15:19.440Z"
   },
   {
    "duration": 3,
    "start_time": "2024-08-08T14:15:25.372Z"
   },
   {
    "duration": 16,
    "start_time": "2024-08-08T14:15:25.880Z"
   },
   {
    "duration": 90,
    "start_time": "2024-08-08T14:15:35.439Z"
   },
   {
    "duration": 16,
    "start_time": "2024-08-08T14:15:45.018Z"
   },
   {
    "duration": 8,
    "start_time": "2024-08-08T14:15:49.298Z"
   },
   {
    "duration": 2,
    "start_time": "2024-08-08T14:15:54.504Z"
   },
   {
    "duration": 16,
    "start_time": "2024-08-08T14:15:54.716Z"
   },
   {
    "duration": 62,
    "start_time": "2024-08-08T14:16:10.606Z"
   },
   {
    "duration": 64,
    "start_time": "2024-08-08T14:16:30.708Z"
   },
   {
    "duration": 70,
    "start_time": "2024-08-08T14:18:26.636Z"
   },
   {
    "duration": 125,
    "start_time": "2024-08-08T14:21:58.618Z"
   },
   {
    "duration": 9,
    "start_time": "2024-08-08T14:22:04.373Z"
   },
   {
    "duration": 344,
    "start_time": "2024-08-08T14:22:08.297Z"
   },
   {
    "duration": 251,
    "start_time": "2024-08-08T14:22:19.457Z"
   },
   {
    "duration": 15,
    "start_time": "2024-08-08T14:22:33.115Z"
   },
   {
    "duration": 145,
    "start_time": "2024-08-08T14:22:40.607Z"
   },
   {
    "duration": 30,
    "start_time": "2024-08-08T14:22:46.710Z"
   },
   {
    "duration": 32,
    "start_time": "2024-08-08T14:22:54.321Z"
   },
   {
    "duration": 8,
    "start_time": "2024-08-08T14:23:07.427Z"
   },
   {
    "duration": 453,
    "start_time": "2024-08-08T14:23:21.755Z"
   },
   {
    "duration": 45,
    "start_time": "2024-08-08T14:23:29.063Z"
   },
   {
    "duration": 31,
    "start_time": "2024-08-08T14:23:31.081Z"
   },
   {
    "duration": 5148,
    "start_time": "2024-08-08T14:49:34.556Z"
   },
   {
    "duration": 2369,
    "start_time": "2024-08-08T14:49:39.706Z"
   },
   {
    "duration": 1302,
    "start_time": "2024-08-08T14:49:42.076Z"
   },
   {
    "duration": 3,
    "start_time": "2024-08-08T14:49:43.379Z"
   },
   {
    "duration": 35,
    "start_time": "2024-08-08T14:49:43.384Z"
   },
   {
    "duration": 9,
    "start_time": "2024-08-08T14:49:43.420Z"
   },
   {
    "duration": 6,
    "start_time": "2024-08-08T14:49:43.430Z"
   },
   {
    "duration": 3,
    "start_time": "2024-08-08T14:49:43.437Z"
   },
   {
    "duration": 1308,
    "start_time": "2024-08-08T14:49:43.442Z"
   },
   {
    "duration": 3,
    "start_time": "2024-08-08T14:49:44.752Z"
   },
   {
    "duration": 14,
    "start_time": "2024-08-08T14:49:44.756Z"
   },
   {
    "duration": 6,
    "start_time": "2024-08-08T14:49:44.771Z"
   },
   {
    "duration": 138,
    "start_time": "2024-08-08T14:49:44.779Z"
   },
   {
    "duration": 3,
    "start_time": "2024-08-08T14:49:44.919Z"
   },
   {
    "duration": 138,
    "start_time": "2024-08-08T14:49:44.923Z"
   },
   {
    "duration": 161,
    "start_time": "2024-08-08T14:49:45.065Z"
   },
   {
    "duration": 0,
    "start_time": "2024-08-08T14:49:45.229Z"
   },
   {
    "duration": 2480,
    "start_time": "2024-08-08T14:50:28.359Z"
   },
   {
    "duration": 1941,
    "start_time": "2024-08-08T14:50:30.842Z"
   },
   {
    "duration": 928,
    "start_time": "2024-08-08T14:50:32.785Z"
   },
   {
    "duration": 3,
    "start_time": "2024-08-08T14:50:33.716Z"
   },
   {
    "duration": 15,
    "start_time": "2024-08-08T14:50:33.720Z"
   },
   {
    "duration": 6,
    "start_time": "2024-08-08T14:50:33.737Z"
   },
   {
    "duration": 6,
    "start_time": "2024-08-08T14:50:33.766Z"
   },
   {
    "duration": 8,
    "start_time": "2024-08-08T14:50:33.774Z"
   },
   {
    "duration": 1323,
    "start_time": "2024-08-08T14:50:33.784Z"
   },
   {
    "duration": 4,
    "start_time": "2024-08-08T14:50:35.110Z"
   },
   {
    "duration": 13,
    "start_time": "2024-08-08T14:50:35.116Z"
   },
   {
    "duration": 18,
    "start_time": "2024-08-08T14:50:35.131Z"
   },
   {
    "duration": 135,
    "start_time": "2024-08-08T14:50:35.151Z"
   },
   {
    "duration": 3,
    "start_time": "2024-08-08T14:50:35.288Z"
   },
   {
    "duration": 137,
    "start_time": "2024-08-08T14:50:35.293Z"
   },
   {
    "duration": 156,
    "start_time": "2024-08-08T14:50:35.432Z"
   },
   {
    "duration": 0,
    "start_time": "2024-08-08T14:50:35.591Z"
   },
   {
    "duration": 2555,
    "start_time": "2024-08-08T14:51:10.682Z"
   },
   {
    "duration": 1873,
    "start_time": "2024-08-08T14:51:13.239Z"
   },
   {
    "duration": 912,
    "start_time": "2024-08-08T14:51:15.114Z"
   },
   {
    "duration": 3,
    "start_time": "2024-08-08T14:51:16.028Z"
   },
   {
    "duration": 43,
    "start_time": "2024-08-08T14:51:16.032Z"
   },
   {
    "duration": 11,
    "start_time": "2024-08-08T14:51:16.077Z"
   },
   {
    "duration": 13,
    "start_time": "2024-08-08T14:51:16.089Z"
   },
   {
    "duration": 13,
    "start_time": "2024-08-08T14:51:16.104Z"
   },
   {
    "duration": 1391,
    "start_time": "2024-08-08T14:51:16.119Z"
   },
   {
    "duration": 4,
    "start_time": "2024-08-08T14:51:17.513Z"
   },
   {
    "duration": 14,
    "start_time": "2024-08-08T14:51:17.519Z"
   },
   {
    "duration": 10,
    "start_time": "2024-08-08T14:51:17.534Z"
   },
   {
    "duration": 131,
    "start_time": "2024-08-08T14:51:17.545Z"
   },
   {
    "duration": 3,
    "start_time": "2024-08-08T14:51:17.677Z"
   },
   {
    "duration": 135,
    "start_time": "2024-08-08T14:51:17.681Z"
   },
   {
    "duration": 174,
    "start_time": "2024-08-08T14:51:17.818Z"
   },
   {
    "duration": 0,
    "start_time": "2024-08-08T14:51:17.994Z"
   },
   {
    "duration": 2553,
    "start_time": "2024-08-08T15:07:48.749Z"
   },
   {
    "duration": 1796,
    "start_time": "2024-08-08T15:07:51.304Z"
   },
   {
    "duration": 897,
    "start_time": "2024-08-08T15:07:53.102Z"
   },
   {
    "duration": 3,
    "start_time": "2024-08-08T15:07:54.001Z"
   },
   {
    "duration": 13,
    "start_time": "2024-08-08T15:07:54.005Z"
   },
   {
    "duration": 16,
    "start_time": "2024-08-08T15:07:54.020Z"
   },
   {
    "duration": 6,
    "start_time": "2024-08-08T15:07:54.038Z"
   },
   {
    "duration": 14,
    "start_time": "2024-08-08T15:07:54.045Z"
   },
   {
    "duration": 1351,
    "start_time": "2024-08-08T15:07:54.061Z"
   },
   {
    "duration": 3,
    "start_time": "2024-08-08T15:07:55.415Z"
   },
   {
    "duration": 9,
    "start_time": "2024-08-08T15:07:55.420Z"
   },
   {
    "duration": 93,
    "start_time": "2024-08-08T15:07:55.430Z"
   },
   {
    "duration": 124,
    "start_time": "2024-08-08T15:07:55.524Z"
   },
   {
    "duration": 3,
    "start_time": "2024-08-08T15:07:55.650Z"
   },
   {
    "duration": 29,
    "start_time": "2024-08-08T15:07:55.655Z"
   },
   {
    "duration": 168,
    "start_time": "2024-08-08T15:07:55.686Z"
   },
   {
    "duration": 0,
    "start_time": "2024-08-08T15:07:55.856Z"
   },
   {
    "duration": 2490,
    "start_time": "2024-08-08T15:08:55.312Z"
   },
   {
    "duration": 1748,
    "start_time": "2024-08-08T15:08:57.805Z"
   },
   {
    "duration": 918,
    "start_time": "2024-08-08T15:08:59.554Z"
   },
   {
    "duration": 3,
    "start_time": "2024-08-08T15:09:00.473Z"
   },
   {
    "duration": 36,
    "start_time": "2024-08-08T15:09:00.478Z"
   },
   {
    "duration": 32,
    "start_time": "2024-08-08T15:09:00.516Z"
   },
   {
    "duration": 45,
    "start_time": "2024-08-08T15:09:00.550Z"
   },
   {
    "duration": 28,
    "start_time": "2024-08-08T15:09:00.597Z"
   },
   {
    "duration": 1458,
    "start_time": "2024-08-08T15:09:00.626Z"
   },
   {
    "duration": 6,
    "start_time": "2024-08-08T15:09:02.086Z"
   },
   {
    "duration": 37,
    "start_time": "2024-08-08T15:09:02.093Z"
   },
   {
    "duration": 142,
    "start_time": "2024-08-08T15:09:02.132Z"
   },
   {
    "duration": 2,
    "start_time": "2024-08-08T15:09:02.276Z"
   },
   {
    "duration": 57,
    "start_time": "2024-08-08T15:09:02.280Z"
   },
   {
    "duration": 164,
    "start_time": "2024-08-08T15:09:02.338Z"
   },
   {
    "duration": 0,
    "start_time": "2024-08-08T15:09:02.504Z"
   },
   {
    "duration": 68,
    "start_time": "2024-08-08T15:10:56.014Z"
   },
   {
    "duration": 82,
    "start_time": "2024-08-08T15:11:00.352Z"
   },
   {
    "duration": 14,
    "start_time": "2024-08-08T15:11:04.933Z"
   },
   {
    "duration": 2477,
    "start_time": "2024-08-08T15:11:25.024Z"
   },
   {
    "duration": 1940,
    "start_time": "2024-08-08T15:11:27.503Z"
   },
   {
    "duration": 955,
    "start_time": "2024-08-08T15:11:29.445Z"
   },
   {
    "duration": 3,
    "start_time": "2024-08-08T15:11:30.402Z"
   },
   {
    "duration": 73,
    "start_time": "2024-08-08T15:11:30.407Z"
   },
   {
    "duration": 31,
    "start_time": "2024-08-08T15:11:30.481Z"
   },
   {
    "duration": 50,
    "start_time": "2024-08-08T15:11:30.513Z"
   },
   {
    "duration": 46,
    "start_time": "2024-08-08T15:11:30.564Z"
   },
   {
    "duration": 1396,
    "start_time": "2024-08-08T15:11:30.612Z"
   },
   {
    "duration": 3,
    "start_time": "2024-08-08T15:11:32.011Z"
   },
   {
    "duration": 9,
    "start_time": "2024-08-08T15:11:32.016Z"
   },
   {
    "duration": 71,
    "start_time": "2024-08-08T15:11:32.026Z"
   },
   {
    "duration": 54,
    "start_time": "2024-08-08T15:11:32.099Z"
   },
   {
    "duration": 12,
    "start_time": "2024-08-08T15:11:32.154Z"
   },
   {
    "duration": 23,
    "start_time": "2024-08-08T15:11:32.168Z"
   },
   {
    "duration": 162,
    "start_time": "2024-08-08T15:11:32.193Z"
   },
   {
    "duration": 0,
    "start_time": "2024-08-08T15:11:32.356Z"
   },
   {
    "duration": 4,
    "start_time": "2024-08-08T15:14:05.535Z"
   },
   {
    "duration": 5,
    "start_time": "2024-08-08T15:14:17.200Z"
   },
   {
    "duration": 2511,
    "start_time": "2024-08-08T15:15:43.460Z"
   },
   {
    "duration": 1793,
    "start_time": "2024-08-08T15:15:45.974Z"
   },
   {
    "duration": 930,
    "start_time": "2024-08-08T15:15:47.768Z"
   },
   {
    "duration": 3,
    "start_time": "2024-08-08T15:15:48.700Z"
   },
   {
    "duration": 17,
    "start_time": "2024-08-08T15:15:48.705Z"
   },
   {
    "duration": 6,
    "start_time": "2024-08-08T15:15:48.723Z"
   },
   {
    "duration": 9,
    "start_time": "2024-08-08T15:15:48.731Z"
   },
   {
    "duration": 24,
    "start_time": "2024-08-08T15:15:48.742Z"
   },
   {
    "duration": 1344,
    "start_time": "2024-08-08T15:15:48.768Z"
   },
   {
    "duration": 4,
    "start_time": "2024-08-08T15:15:50.113Z"
   },
   {
    "duration": 41,
    "start_time": "2024-08-08T15:15:50.118Z"
   },
   {
    "duration": 99,
    "start_time": "2024-08-08T15:15:50.161Z"
   },
   {
    "duration": 67,
    "start_time": "2024-08-08T15:15:50.262Z"
   },
   {
    "duration": 3,
    "start_time": "2024-08-08T15:15:50.333Z"
   },
   {
    "duration": 36,
    "start_time": "2024-08-08T15:15:50.338Z"
   },
   {
    "duration": 183,
    "start_time": "2024-08-08T15:15:50.376Z"
   },
   {
    "duration": 0,
    "start_time": "2024-08-08T15:15:50.561Z"
   },
   {
    "duration": 2177,
    "start_time": "2024-08-08T15:17:30.430Z"
   },
   {
    "duration": 985,
    "start_time": "2024-08-08T15:17:32.609Z"
   },
   {
    "duration": 3,
    "start_time": "2024-08-08T15:17:33.596Z"
   },
   {
    "duration": 11,
    "start_time": "2024-08-08T15:17:33.601Z"
   },
   {
    "duration": 6,
    "start_time": "2024-08-08T15:17:33.614Z"
   },
   {
    "duration": 10,
    "start_time": "2024-08-08T15:17:33.622Z"
   },
   {
    "duration": 6,
    "start_time": "2024-08-08T15:17:33.634Z"
   },
   {
    "duration": 1327,
    "start_time": "2024-08-08T15:17:33.664Z"
   },
   {
    "duration": 3,
    "start_time": "2024-08-08T15:17:34.993Z"
   },
   {
    "duration": 14,
    "start_time": "2024-08-08T15:17:34.998Z"
   },
   {
    "duration": 282,
    "start_time": "2024-08-08T15:17:35.013Z"
   },
   {
    "duration": 56,
    "start_time": "2024-08-08T15:17:35.297Z"
   },
   {
    "duration": 3,
    "start_time": "2024-08-08T15:17:35.364Z"
   },
   {
    "duration": 13,
    "start_time": "2024-08-08T15:17:35.369Z"
   },
   {
    "duration": 184,
    "start_time": "2024-08-08T15:17:35.384Z"
   },
   {
    "duration": 0,
    "start_time": "2024-08-08T15:17:35.570Z"
   },
   {
    "duration": 1584,
    "start_time": "2024-08-08T15:18:35.997Z"
   },
   {
    "duration": 1021,
    "start_time": "2024-08-08T15:18:37.583Z"
   },
   {
    "duration": 3,
    "start_time": "2024-08-08T15:18:38.605Z"
   },
   {
    "duration": 15,
    "start_time": "2024-08-08T15:18:38.610Z"
   },
   {
    "duration": 5,
    "start_time": "2024-08-08T15:18:38.627Z"
   },
   {
    "duration": 12,
    "start_time": "2024-08-08T15:18:38.633Z"
   },
   {
    "duration": 2,
    "start_time": "2024-08-08T15:18:38.665Z"
   },
   {
    "duration": 1330,
    "start_time": "2024-08-08T15:18:38.669Z"
   },
   {
    "duration": 7,
    "start_time": "2024-08-08T15:18:40.000Z"
   },
   {
    "duration": 292,
    "start_time": "2024-08-08T15:18:40.009Z"
   },
   {
    "duration": 56,
    "start_time": "2024-08-08T15:18:40.303Z"
   },
   {
    "duration": 3,
    "start_time": "2024-08-08T15:18:40.365Z"
   },
   {
    "duration": 28,
    "start_time": "2024-08-08T15:18:40.369Z"
   },
   {
    "duration": 169,
    "start_time": "2024-08-08T15:18:40.398Z"
   },
   {
    "duration": 0,
    "start_time": "2024-08-08T15:18:40.569Z"
   },
   {
    "duration": 1580,
    "start_time": "2024-08-08T15:18:52.931Z"
   },
   {
    "duration": 1018,
    "start_time": "2024-08-08T15:18:54.513Z"
   },
   {
    "duration": 3,
    "start_time": "2024-08-08T15:18:55.532Z"
   },
   {
    "duration": 41,
    "start_time": "2024-08-08T15:18:55.537Z"
   },
   {
    "duration": 5,
    "start_time": "2024-08-08T15:18:55.580Z"
   },
   {
    "duration": 18,
    "start_time": "2024-08-08T15:18:55.586Z"
   },
   {
    "duration": 5,
    "start_time": "2024-08-08T15:18:55.605Z"
   },
   {
    "duration": 1339,
    "start_time": "2024-08-08T15:18:55.611Z"
   },
   {
    "duration": 3,
    "start_time": "2024-08-08T15:18:56.952Z"
   },
   {
    "duration": 12,
    "start_time": "2024-08-08T15:18:56.957Z"
   },
   {
    "duration": 210,
    "start_time": "2024-08-08T15:18:56.970Z"
   },
   {
    "duration": 53,
    "start_time": "2024-08-08T15:18:57.181Z"
   },
   {
    "duration": 2,
    "start_time": "2024-08-08T15:18:57.236Z"
   },
   {
    "duration": 27,
    "start_time": "2024-08-08T15:18:57.239Z"
   },
   {
    "duration": 156,
    "start_time": "2024-08-08T15:18:57.268Z"
   },
   {
    "duration": 0,
    "start_time": "2024-08-08T15:18:57.426Z"
   },
   {
    "duration": 1106,
    "start_time": "2024-08-08T15:20:02.255Z"
   },
   {
    "duration": 1076,
    "start_time": "2024-08-08T15:20:51.572Z"
   },
   {
    "duration": 1603,
    "start_time": "2024-08-08T15:20:58.608Z"
   },
   {
    "duration": 1055,
    "start_time": "2024-08-08T15:21:00.213Z"
   },
   {
    "duration": 3,
    "start_time": "2024-08-08T15:21:01.269Z"
   },
   {
    "duration": 99,
    "start_time": "2024-08-08T15:21:01.273Z"
   },
   {
    "duration": 123,
    "start_time": "2024-08-08T15:21:01.374Z"
   },
   {
    "duration": 217,
    "start_time": "2024-08-08T15:21:01.499Z"
   },
   {
    "duration": 20,
    "start_time": "2024-08-08T15:21:01.718Z"
   },
   {
    "duration": 423,
    "start_time": "2024-08-08T15:21:01.740Z"
   },
   {
    "duration": 0,
    "start_time": "2024-08-08T15:21:02.165Z"
   },
   {
    "duration": 0,
    "start_time": "2024-08-08T15:21:02.167Z"
   },
   {
    "duration": 0,
    "start_time": "2024-08-08T15:21:02.168Z"
   },
   {
    "duration": 0,
    "start_time": "2024-08-08T15:21:02.169Z"
   },
   {
    "duration": 0,
    "start_time": "2024-08-08T15:21:02.171Z"
   },
   {
    "duration": 0,
    "start_time": "2024-08-08T15:21:02.174Z"
   },
   {
    "duration": 0,
    "start_time": "2024-08-08T15:21:02.175Z"
   },
   {
    "duration": 0,
    "start_time": "2024-08-08T15:21:02.177Z"
   },
   {
    "duration": 1595,
    "start_time": "2024-08-08T15:21:22.312Z"
   },
   {
    "duration": 1597,
    "start_time": "2024-08-08T15:21:35.830Z"
   },
   {
    "duration": 978,
    "start_time": "2024-08-08T15:21:37.430Z"
   },
   {
    "duration": 3,
    "start_time": "2024-08-08T15:21:38.412Z"
   },
   {
    "duration": 20,
    "start_time": "2024-08-08T15:21:38.417Z"
   },
   {
    "duration": 6,
    "start_time": "2024-08-08T15:21:38.438Z"
   },
   {
    "duration": 21,
    "start_time": "2024-08-08T15:21:38.445Z"
   },
   {
    "duration": 3,
    "start_time": "2024-08-08T15:21:38.467Z"
   },
   {
    "duration": 1513,
    "start_time": "2024-08-08T15:21:38.471Z"
   },
   {
    "duration": 4,
    "start_time": "2024-08-08T15:21:39.985Z"
   },
   {
    "duration": 13,
    "start_time": "2024-08-08T15:21:39.990Z"
   },
   {
    "duration": 219,
    "start_time": "2024-08-08T15:21:40.005Z"
   },
   {
    "duration": 56,
    "start_time": "2024-08-08T15:21:40.225Z"
   },
   {
    "duration": 2,
    "start_time": "2024-08-08T15:21:40.283Z"
   },
   {
    "duration": 27,
    "start_time": "2024-08-08T15:21:40.287Z"
   },
   {
    "duration": 171,
    "start_time": "2024-08-08T15:21:40.316Z"
   },
   {
    "duration": 0,
    "start_time": "2024-08-08T15:21:40.490Z"
   },
   {
    "duration": 32,
    "start_time": "2024-08-08T15:27:45.298Z"
   },
   {
    "duration": 5,
    "start_time": "2024-08-08T15:28:14.894Z"
   },
   {
    "duration": 5,
    "start_time": "2024-08-08T15:28:22.925Z"
   },
   {
    "duration": 1653,
    "start_time": "2024-08-08T15:29:39.325Z"
   },
   {
    "duration": 1011,
    "start_time": "2024-08-08T15:29:40.980Z"
   },
   {
    "duration": 3,
    "start_time": "2024-08-08T15:29:41.993Z"
   },
   {
    "duration": 12,
    "start_time": "2024-08-08T15:29:41.997Z"
   },
   {
    "duration": 5,
    "start_time": "2024-08-08T15:29:42.011Z"
   },
   {
    "duration": 11,
    "start_time": "2024-08-08T15:29:42.017Z"
   },
   {
    "duration": 5,
    "start_time": "2024-08-08T15:29:42.030Z"
   },
   {
    "duration": 1506,
    "start_time": "2024-08-08T15:29:42.036Z"
   },
   {
    "duration": 4,
    "start_time": "2024-08-08T15:29:43.543Z"
   },
   {
    "duration": 39,
    "start_time": "2024-08-08T15:29:43.548Z"
   },
   {
    "duration": 167,
    "start_time": "2024-08-08T15:29:43.589Z"
   },
   {
    "duration": 25,
    "start_time": "2024-08-08T15:29:43.757Z"
   },
   {
    "duration": 2,
    "start_time": "2024-08-08T15:29:43.784Z"
   },
   {
    "duration": 19,
    "start_time": "2024-08-08T15:29:43.789Z"
   },
   {
    "duration": 165,
    "start_time": "2024-08-08T15:29:43.809Z"
   },
   {
    "duration": 0,
    "start_time": "2024-08-08T15:29:43.976Z"
   },
   {
    "duration": 980,
    "start_time": "2024-08-08T15:30:54.818Z"
   },
   {
    "duration": 1634,
    "start_time": "2024-08-08T15:31:02.952Z"
   },
   {
    "duration": 1006,
    "start_time": "2024-08-08T15:31:04.589Z"
   },
   {
    "duration": 3,
    "start_time": "2024-08-08T15:31:05.600Z"
   },
   {
    "duration": 51,
    "start_time": "2024-08-08T15:31:05.605Z"
   },
   {
    "duration": 6,
    "start_time": "2024-08-08T15:31:05.657Z"
   },
   {
    "duration": 12,
    "start_time": "2024-08-08T15:31:05.665Z"
   },
   {
    "duration": 30,
    "start_time": "2024-08-08T15:31:05.679Z"
   },
   {
    "duration": 1368,
    "start_time": "2024-08-08T15:31:05.711Z"
   },
   {
    "duration": 3,
    "start_time": "2024-08-08T15:31:07.081Z"
   },
   {
    "duration": 16,
    "start_time": "2024-08-08T15:31:07.086Z"
   },
   {
    "duration": 205,
    "start_time": "2024-08-08T15:31:07.104Z"
   },
   {
    "duration": 60,
    "start_time": "2024-08-08T15:31:07.311Z"
   },
   {
    "duration": 2,
    "start_time": "2024-08-08T15:31:07.374Z"
   },
   {
    "duration": 20,
    "start_time": "2024-08-08T15:31:07.378Z"
   },
   {
    "duration": 165,
    "start_time": "2024-08-08T15:31:07.400Z"
   },
   {
    "duration": 0,
    "start_time": "2024-08-08T15:31:07.567Z"
   },
   {
    "duration": 9,
    "start_time": "2024-08-08T15:33:02.928Z"
   },
   {
    "duration": 1590,
    "start_time": "2024-08-08T15:33:18.264Z"
   },
   {
    "duration": 1036,
    "start_time": "2024-08-08T15:33:19.856Z"
   },
   {
    "duration": 3,
    "start_time": "2024-08-08T15:33:20.894Z"
   },
   {
    "duration": 14,
    "start_time": "2024-08-08T15:33:20.900Z"
   },
   {
    "duration": 12,
    "start_time": "2024-08-08T15:33:20.916Z"
   },
   {
    "duration": 14,
    "start_time": "2024-08-08T15:33:20.930Z"
   },
   {
    "duration": 4,
    "start_time": "2024-08-08T15:33:20.946Z"
   },
   {
    "duration": 1317,
    "start_time": "2024-08-08T15:33:20.952Z"
   },
   {
    "duration": 4,
    "start_time": "2024-08-08T15:33:22.270Z"
   },
   {
    "duration": 50,
    "start_time": "2024-08-08T15:33:22.275Z"
   },
   {
    "duration": 305,
    "start_time": "2024-08-08T15:33:22.326Z"
   },
   {
    "duration": 55,
    "start_time": "2024-08-08T15:33:22.633Z"
   },
   {
    "duration": 2,
    "start_time": "2024-08-08T15:33:22.690Z"
   },
   {
    "duration": 13,
    "start_time": "2024-08-08T15:33:22.694Z"
   },
   {
    "duration": 173,
    "start_time": "2024-08-08T15:33:22.709Z"
   },
   {
    "duration": 0,
    "start_time": "2024-08-08T15:33:22.884Z"
   },
   {
    "duration": 1601,
    "start_time": "2024-08-08T15:34:44.359Z"
   },
   {
    "duration": 991,
    "start_time": "2024-08-08T15:34:45.964Z"
   },
   {
    "duration": 12,
    "start_time": "2024-08-08T15:34:46.956Z"
   },
   {
    "duration": 6,
    "start_time": "2024-08-08T15:34:46.969Z"
   },
   {
    "duration": 7,
    "start_time": "2024-08-08T15:34:46.977Z"
   },
   {
    "duration": 3,
    "start_time": "2024-08-08T15:34:46.985Z"
   },
   {
    "duration": 7647,
    "start_time": "2024-08-08T15:34:46.989Z"
   },
   {
    "duration": 9,
    "start_time": "2024-08-08T15:34:54.637Z"
   },
   {
    "duration": 78,
    "start_time": "2024-08-08T15:34:54.648Z"
   },
   {
    "duration": 12672,
    "start_time": "2024-08-08T15:34:54.728Z"
   },
   {
    "duration": 72187,
    "start_time": "2024-08-08T15:35:07.401Z"
   },
   {
    "duration": 2,
    "start_time": "2024-08-08T15:36:19.590Z"
   },
   {
    "duration": 49,
    "start_time": "2024-08-08T15:36:19.593Z"
   },
   {
    "duration": 271,
    "start_time": "2024-08-08T15:36:19.644Z"
   },
   {
    "duration": 0,
    "start_time": "2024-08-08T15:36:19.917Z"
   },
   {
    "duration": 1591,
    "start_time": "2024-08-08T15:39:49.312Z"
   },
   {
    "duration": 1018,
    "start_time": "2024-08-08T15:39:50.905Z"
   },
   {
    "duration": 11,
    "start_time": "2024-08-08T15:39:51.928Z"
   },
   {
    "duration": 11,
    "start_time": "2024-08-08T15:39:51.941Z"
   },
   {
    "duration": 20,
    "start_time": "2024-08-08T15:39:51.953Z"
   },
   {
    "duration": 6,
    "start_time": "2024-08-08T15:39:51.975Z"
   },
   {
    "duration": 7428,
    "start_time": "2024-08-08T15:39:51.982Z"
   },
   {
    "duration": 10,
    "start_time": "2024-08-08T15:39:59.412Z"
   },
   {
    "duration": 72,
    "start_time": "2024-08-08T15:39:59.424Z"
   },
   {
    "duration": 213,
    "start_time": "2024-08-08T15:39:59.498Z"
   },
   {
    "duration": 56,
    "start_time": "2024-08-08T15:39:59.713Z"
   },
   {
    "duration": 2,
    "start_time": "2024-08-08T15:39:59.771Z"
   },
   {
    "duration": 82920,
    "start_time": "2024-08-08T15:39:59.776Z"
   },
   {
    "duration": 238,
    "start_time": "2024-08-08T15:41:22.698Z"
   },
   {
    "duration": 0,
    "start_time": "2024-08-08T15:41:22.938Z"
   },
   {
    "duration": 1582,
    "start_time": "2024-08-08T15:43:02.822Z"
   },
   {
    "duration": 996,
    "start_time": "2024-08-08T15:43:04.405Z"
   },
   {
    "duration": 10,
    "start_time": "2024-08-08T15:43:05.403Z"
   },
   {
    "duration": 14,
    "start_time": "2024-08-08T15:43:05.415Z"
   },
   {
    "duration": 7,
    "start_time": "2024-08-08T15:43:05.431Z"
   },
   {
    "duration": 3,
    "start_time": "2024-08-08T15:43:05.440Z"
   },
   {
    "duration": 7731,
    "start_time": "2024-08-08T15:43:05.444Z"
   },
   {
    "duration": 10,
    "start_time": "2024-08-08T15:43:13.177Z"
   },
   {
    "duration": 78,
    "start_time": "2024-08-08T15:43:13.188Z"
   },
   {
    "duration": 132,
    "start_time": "2024-08-08T15:43:13.268Z"
   },
   {
    "duration": 73825,
    "start_time": "2024-08-08T15:43:13.402Z"
   },
   {
    "duration": 3,
    "start_time": "2024-08-08T15:44:27.229Z"
   },
   {
    "duration": 83950,
    "start_time": "2024-08-08T15:44:27.233Z"
   },
   {
    "duration": 235,
    "start_time": "2024-08-08T15:45:51.185Z"
   },
   {
    "duration": 0,
    "start_time": "2024-08-08T15:45:51.421Z"
   },
   {
    "duration": 256072,
    "start_time": "2024-08-08T15:50:26.994Z"
   },
   {
    "duration": 21,
    "start_time": "2024-08-08T15:55:14.682Z"
   },
   {
    "duration": 1696,
    "start_time": "2024-08-08T15:55:33.079Z"
   },
   {
    "duration": 62,
    "start_time": "2024-08-08T15:55:56.542Z"
   },
   {
    "duration": 56,
    "start_time": "2024-08-08T15:56:17.740Z"
   }
  ],
  "kernelspec": {
   "display_name": "Python 3 (ipykernel)",
   "language": "python",
   "name": "python3"
  },
  "language_info": {
   "codemirror_mode": {
    "name": "ipython",
    "version": 3
   },
   "file_extension": ".py",
   "mimetype": "text/x-python",
   "name": "python",
   "nbconvert_exporter": "python",
   "pygments_lexer": "ipython3",
   "version": "3.9.5"
  },
  "toc": {
   "base_numbering": 1,
   "nav_menu": {},
   "number_sections": true,
   "sideBar": true,
   "skip_h1_title": true,
   "title_cell": "Содержание",
   "title_sidebar": "Contents",
   "toc_cell": true,
   "toc_position": {
    "height": "calc(100% - 180px)",
    "left": "10px",
    "top": "150px",
    "width": "302.391px"
   },
   "toc_section_display": true,
   "toc_window_display": false
  }
 },
 "nbformat": 4,
 "nbformat_minor": 2
}
