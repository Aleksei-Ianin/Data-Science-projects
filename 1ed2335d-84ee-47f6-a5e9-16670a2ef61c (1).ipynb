{
 "cells": [
  {
   "cell_type": "markdown",
   "metadata": {},
   "source": [
    "# Исследование объявлений о продаже квартир\n",
    "\n",
    "В вашем распоряжении данные сервиса Яндекс.Недвижимость — архив объявлений о продаже квартир в Санкт-Петербурге и соседних населённых пунктов за несколько лет. Нужно научиться определять рыночную стоимость объектов недвижимости. Ваша задача — установить параметры. Это позволит построить автоматизированную систему: она отследит аномалии и мошенническую деятельность. \n",
    "\n",
    "По каждой квартире на продажу доступны два вида данных. Первые вписаны пользователем, вторые — получены автоматически на основе картографических данных. Например, расстояние до центра, аэропорта, ближайшего парка и водоёма. "
   ]
  },
  {
   "cell_type": "markdown",
   "metadata": {},
   "source": [
    "### Откройте файл с данными и изучите общую информацию. "
   ]
  },
  {
   "cell_type": "code",
   "execution_count": 1,
   "metadata": {},
   "outputs": [
    {
     "data": {
      "text/html": [
       "<div>\n",
       "<style scoped>\n",
       "    .dataframe tbody tr th:only-of-type {\n",
       "        vertical-align: middle;\n",
       "    }\n",
       "\n",
       "    .dataframe tbody tr th {\n",
       "        vertical-align: top;\n",
       "    }\n",
       "\n",
       "    .dataframe thead th {\n",
       "        text-align: right;\n",
       "    }\n",
       "</style>\n",
       "<table border=\"1\" class=\"dataframe\">\n",
       "  <thead>\n",
       "    <tr style=\"text-align: right;\">\n",
       "      <th></th>\n",
       "      <th>total_images</th>\n",
       "      <th>last_price</th>\n",
       "      <th>total_area</th>\n",
       "      <th>first_day_exposition</th>\n",
       "      <th>rooms</th>\n",
       "      <th>ceiling_height</th>\n",
       "      <th>floors_total</th>\n",
       "      <th>living_area</th>\n",
       "      <th>floor</th>\n",
       "      <th>is_apartment</th>\n",
       "      <th>...</th>\n",
       "      <th>kitchen_area</th>\n",
       "      <th>balcony</th>\n",
       "      <th>locality_name</th>\n",
       "      <th>airports_nearest</th>\n",
       "      <th>cityCenters_nearest</th>\n",
       "      <th>parks_around3000</th>\n",
       "      <th>parks_nearest</th>\n",
       "      <th>ponds_around3000</th>\n",
       "      <th>ponds_nearest</th>\n",
       "      <th>days_exposition</th>\n",
       "    </tr>\n",
       "  </thead>\n",
       "  <tbody>\n",
       "    <tr>\n",
       "      <th>0</th>\n",
       "      <td>20</td>\n",
       "      <td>13000000.0</td>\n",
       "      <td>108.0</td>\n",
       "      <td>2019-03-07T00:00:00</td>\n",
       "      <td>3</td>\n",
       "      <td>2.70</td>\n",
       "      <td>16.0</td>\n",
       "      <td>51.0</td>\n",
       "      <td>8</td>\n",
       "      <td>NaN</td>\n",
       "      <td>...</td>\n",
       "      <td>25.0</td>\n",
       "      <td>NaN</td>\n",
       "      <td>Санкт-Петербург</td>\n",
       "      <td>18863.0</td>\n",
       "      <td>16028.0</td>\n",
       "      <td>1.0</td>\n",
       "      <td>482.0</td>\n",
       "      <td>2.0</td>\n",
       "      <td>755.0</td>\n",
       "      <td>NaN</td>\n",
       "    </tr>\n",
       "    <tr>\n",
       "      <th>1</th>\n",
       "      <td>7</td>\n",
       "      <td>3350000.0</td>\n",
       "      <td>40.4</td>\n",
       "      <td>2018-12-04T00:00:00</td>\n",
       "      <td>1</td>\n",
       "      <td>NaN</td>\n",
       "      <td>11.0</td>\n",
       "      <td>18.6</td>\n",
       "      <td>1</td>\n",
       "      <td>NaN</td>\n",
       "      <td>...</td>\n",
       "      <td>11.0</td>\n",
       "      <td>2.0</td>\n",
       "      <td>посёлок Шушары</td>\n",
       "      <td>12817.0</td>\n",
       "      <td>18603.0</td>\n",
       "      <td>0.0</td>\n",
       "      <td>NaN</td>\n",
       "      <td>0.0</td>\n",
       "      <td>NaN</td>\n",
       "      <td>81.0</td>\n",
       "    </tr>\n",
       "    <tr>\n",
       "      <th>2</th>\n",
       "      <td>10</td>\n",
       "      <td>5196000.0</td>\n",
       "      <td>56.0</td>\n",
       "      <td>2015-08-20T00:00:00</td>\n",
       "      <td>2</td>\n",
       "      <td>NaN</td>\n",
       "      <td>5.0</td>\n",
       "      <td>34.3</td>\n",
       "      <td>4</td>\n",
       "      <td>NaN</td>\n",
       "      <td>...</td>\n",
       "      <td>8.3</td>\n",
       "      <td>0.0</td>\n",
       "      <td>Санкт-Петербург</td>\n",
       "      <td>21741.0</td>\n",
       "      <td>13933.0</td>\n",
       "      <td>1.0</td>\n",
       "      <td>90.0</td>\n",
       "      <td>2.0</td>\n",
       "      <td>574.0</td>\n",
       "      <td>558.0</td>\n",
       "    </tr>\n",
       "    <tr>\n",
       "      <th>3</th>\n",
       "      <td>0</td>\n",
       "      <td>64900000.0</td>\n",
       "      <td>159.0</td>\n",
       "      <td>2015-07-24T00:00:00</td>\n",
       "      <td>3</td>\n",
       "      <td>NaN</td>\n",
       "      <td>14.0</td>\n",
       "      <td>NaN</td>\n",
       "      <td>9</td>\n",
       "      <td>NaN</td>\n",
       "      <td>...</td>\n",
       "      <td>NaN</td>\n",
       "      <td>0.0</td>\n",
       "      <td>Санкт-Петербург</td>\n",
       "      <td>28098.0</td>\n",
       "      <td>6800.0</td>\n",
       "      <td>2.0</td>\n",
       "      <td>84.0</td>\n",
       "      <td>3.0</td>\n",
       "      <td>234.0</td>\n",
       "      <td>424.0</td>\n",
       "    </tr>\n",
       "    <tr>\n",
       "      <th>4</th>\n",
       "      <td>2</td>\n",
       "      <td>10000000.0</td>\n",
       "      <td>100.0</td>\n",
       "      <td>2018-06-19T00:00:00</td>\n",
       "      <td>2</td>\n",
       "      <td>3.03</td>\n",
       "      <td>14.0</td>\n",
       "      <td>32.0</td>\n",
       "      <td>13</td>\n",
       "      <td>NaN</td>\n",
       "      <td>...</td>\n",
       "      <td>41.0</td>\n",
       "      <td>NaN</td>\n",
       "      <td>Санкт-Петербург</td>\n",
       "      <td>31856.0</td>\n",
       "      <td>8098.0</td>\n",
       "      <td>2.0</td>\n",
       "      <td>112.0</td>\n",
       "      <td>1.0</td>\n",
       "      <td>48.0</td>\n",
       "      <td>121.0</td>\n",
       "    </tr>\n",
       "  </tbody>\n",
       "</table>\n",
       "<p>5 rows × 22 columns</p>\n",
       "</div>"
      ],
      "text/plain": [
       "   total_images  last_price  total_area first_day_exposition  rooms  \\\n",
       "0            20  13000000.0       108.0  2019-03-07T00:00:00      3   \n",
       "1             7   3350000.0        40.4  2018-12-04T00:00:00      1   \n",
       "2            10   5196000.0        56.0  2015-08-20T00:00:00      2   \n",
       "3             0  64900000.0       159.0  2015-07-24T00:00:00      3   \n",
       "4             2  10000000.0       100.0  2018-06-19T00:00:00      2   \n",
       "\n",
       "   ceiling_height  floors_total  living_area  floor is_apartment  ...  \\\n",
       "0            2.70          16.0         51.0      8          NaN  ...   \n",
       "1             NaN          11.0         18.6      1          NaN  ...   \n",
       "2             NaN           5.0         34.3      4          NaN  ...   \n",
       "3             NaN          14.0          NaN      9          NaN  ...   \n",
       "4            3.03          14.0         32.0     13          NaN  ...   \n",
       "\n",
       "   kitchen_area  balcony    locality_name  airports_nearest  \\\n",
       "0          25.0      NaN  Санкт-Петербург           18863.0   \n",
       "1          11.0      2.0   посёлок Шушары           12817.0   \n",
       "2           8.3      0.0  Санкт-Петербург           21741.0   \n",
       "3           NaN      0.0  Санкт-Петербург           28098.0   \n",
       "4          41.0      NaN  Санкт-Петербург           31856.0   \n",
       "\n",
       "  cityCenters_nearest  parks_around3000  parks_nearest  ponds_around3000  \\\n",
       "0             16028.0               1.0          482.0               2.0   \n",
       "1             18603.0               0.0            NaN               0.0   \n",
       "2             13933.0               1.0           90.0               2.0   \n",
       "3              6800.0               2.0           84.0               3.0   \n",
       "4              8098.0               2.0          112.0               1.0   \n",
       "\n",
       "   ponds_nearest  days_exposition  \n",
       "0          755.0              NaN  \n",
       "1            NaN             81.0  \n",
       "2          574.0            558.0  \n",
       "3          234.0            424.0  \n",
       "4           48.0            121.0  \n",
       "\n",
       "[5 rows x 22 columns]"
      ]
     },
     "execution_count": 1,
     "metadata": {},
     "output_type": "execute_result"
    }
   ],
   "source": [
    "import pandas as pd\n",
    "import numpy as np\n",
    "import matplotlib.pyplot as plt\n",
    "data = pd.read_csv('/datasets/real_estate_data.csv', sep=\"\\t\")\n",
    "data.head()"
   ]
  },
  {
   "cell_type": "code",
   "execution_count": 2,
   "metadata": {},
   "outputs": [
    {
     "name": "stdout",
     "output_type": "stream",
     "text": [
      "<class 'pandas.core.frame.DataFrame'>\n",
      "RangeIndex: 23699 entries, 0 to 23698\n",
      "Data columns (total 22 columns):\n",
      " #   Column                Non-Null Count  Dtype  \n",
      "---  ------                --------------  -----  \n",
      " 0   total_images          23699 non-null  int64  \n",
      " 1   last_price            23699 non-null  float64\n",
      " 2   total_area            23699 non-null  float64\n",
      " 3   first_day_exposition  23699 non-null  object \n",
      " 4   rooms                 23699 non-null  int64  \n",
      " 5   ceiling_height        14504 non-null  float64\n",
      " 6   floors_total          23613 non-null  float64\n",
      " 7   living_area           21796 non-null  float64\n",
      " 8   floor                 23699 non-null  int64  \n",
      " 9   is_apartment          2775 non-null   object \n",
      " 10  studio                23699 non-null  bool   \n",
      " 11  open_plan             23699 non-null  bool   \n",
      " 12  kitchen_area          21421 non-null  float64\n",
      " 13  balcony               12180 non-null  float64\n",
      " 14  locality_name         23650 non-null  object \n",
      " 15  airports_nearest      18157 non-null  float64\n",
      " 16  cityCenters_nearest   18180 non-null  float64\n",
      " 17  parks_around3000      18181 non-null  float64\n",
      " 18  parks_nearest         8079 non-null   float64\n",
      " 19  ponds_around3000      18181 non-null  float64\n",
      " 20  ponds_nearest         9110 non-null   float64\n",
      " 21  days_exposition       20518 non-null  float64\n",
      "dtypes: bool(2), float64(14), int64(3), object(3)\n",
      "memory usage: 3.7+ MB\n"
     ]
    },
    {
     "data": {
      "text/plain": [
       "array([[<AxesSubplot:title={'center':'total_images'}>,\n",
       "        <AxesSubplot:title={'center':'last_price'}>,\n",
       "        <AxesSubplot:title={'center':'total_area'}>,\n",
       "        <AxesSubplot:title={'center':'rooms'}>],\n",
       "       [<AxesSubplot:title={'center':'ceiling_height'}>,\n",
       "        <AxesSubplot:title={'center':'floors_total'}>,\n",
       "        <AxesSubplot:title={'center':'living_area'}>,\n",
       "        <AxesSubplot:title={'center':'floor'}>],\n",
       "       [<AxesSubplot:title={'center':'kitchen_area'}>,\n",
       "        <AxesSubplot:title={'center':'balcony'}>,\n",
       "        <AxesSubplot:title={'center':'airports_nearest'}>,\n",
       "        <AxesSubplot:title={'center':'cityCenters_nearest'}>],\n",
       "       [<AxesSubplot:title={'center':'parks_around3000'}>,\n",
       "        <AxesSubplot:title={'center':'parks_nearest'}>,\n",
       "        <AxesSubplot:title={'center':'ponds_around3000'}>,\n",
       "        <AxesSubplot:title={'center':'ponds_nearest'}>],\n",
       "       [<AxesSubplot:title={'center':'days_exposition'}>, <AxesSubplot:>,\n",
       "        <AxesSubplot:>, <AxesSubplot:>]], dtype=object)"
      ]
     },
     "execution_count": 2,
     "metadata": {},
     "output_type": "execute_result"
    },
    {
     "data": {
      "image/png": "[encoded data removed]",
      "text/plain": [
       "<Figure size 1080x1440 with 20 Axes>"
      ]
     },
     "metadata": {
      "needs_background": "light"
     },
     "output_type": "display_data"
    }
   ],
   "source": [
    "data.info()\n",
    "data.hist(figsize=(15, 20), bins = 15)"
   ]
  },
  {
   "cell_type": "markdown",
   "metadata": {},
   "source": [
    "Мы обнаружили проблемы с даннами, пропуски, дубликаты, неверный тип данных а так же странные значения."
   ]
  },
  {
   "cell_type": "markdown",
   "metadata": {},
   "source": [
    "### Предобработка данных"
   ]
  },
  {
   "cell_type": "code",
   "execution_count": 3,
   "metadata": {},
   "outputs": [
    {
     "data": {
      "text/plain": [
       "total_images                0\n",
       "last_price                  0\n",
       "total_area                  0\n",
       "first_day_exposition        0\n",
       "rooms                       0\n",
       "ceiling_height           9195\n",
       "floors_total               86\n",
       "living_area              1903\n",
       "floor                       0\n",
       "is_apartment            20924\n",
       "studio                      0\n",
       "open_plan                   0\n",
       "kitchen_area             2278\n",
       "balcony                 11519\n",
       "locality_name              49\n",
       "airports_nearest         5542\n",
       "cityCenters_nearest      5519\n",
       "parks_around3000         5518\n",
       "parks_nearest           15620\n",
       "ponds_around3000         5518\n",
       "ponds_nearest           14589\n",
       "days_exposition          3181\n",
       "dtype: int64"
      ]
     },
     "execution_count": 3,
     "metadata": {},
     "output_type": "execute_result"
    }
   ],
   "source": [
    "data.isna().sum()"
   ]
  },
  {
   "cell_type": "code",
   "execution_count": 4,
   "metadata": {},
   "outputs": [],
   "source": [
    "#Балконы:\n",
    "data['balcony'] = data['balcony'].fillna(0).astype('int') #Заполняем пропуски нулями, тк скорее всего балконов в этих квартирах нет и меняем тип данных, тк к количесвто балконов - целое число"
   ]
  },
  {
   "cell_type": "code",
   "execution_count": 5,
   "metadata": {},
   "outputs": [
    {
     "data": {
      "text/plain": [
       "22869    100.0\n",
       "22336     32.0\n",
       "3148      32.0\n",
       "21377     27.5\n",
       "22938     27.0\n",
       "21824     27.0\n",
       "10773     27.0\n",
       "17857     27.0\n",
       "20478     27.0\n",
       "5807      27.0\n",
       "5246      27.0\n",
       "4876      27.0\n",
       "5669      26.0\n",
       "11285     25.0\n",
       "14382     25.0\n",
       "18545     25.0\n",
       "6246      25.0\n",
       "355       25.0\n",
       "9379      25.0\n",
       "4643      25.0\n",
       "5076      24.0\n",
       "20507     22.6\n",
       "17496     20.0\n",
       "15061     14.0\n",
       "22309     10.3\n",
       "5863       8.3\n",
       "3474       8.0\n",
       "17442      8.0\n",
       "15743      8.0\n",
       "20264      6.0\n",
       "Name: ceiling_height, dtype: float64"
      ]
     },
     "execution_count": 5,
     "metadata": {},
     "output_type": "execute_result"
    }
   ],
   "source": [
    "#Рассмотрим высоту потолков есть нулевые значения, оставим их как есть, так же есть очень большие значения для высоты потолков:\n",
    "data['ceiling_height'].loc[data['ceiling_height'] > 4].sort_values(ascending = False).head(30)"
   ]
  },
  {
   "cell_type": "code",
   "execution_count": 6,
   "metadata": {},
   "outputs": [
    {
     "data": {
      "text/html": [
       "<div>\n",
       "<style scoped>\n",
       "    .dataframe tbody tr th:only-of-type {\n",
       "        vertical-align: middle;\n",
       "    }\n",
       "\n",
       "    .dataframe tbody tr th {\n",
       "        vertical-align: top;\n",
       "    }\n",
       "\n",
       "    .dataframe thead th {\n",
       "        text-align: right;\n",
       "    }\n",
       "</style>\n",
       "<table border=\"1\" class=\"dataframe\">\n",
       "  <thead>\n",
       "    <tr style=\"text-align: right;\">\n",
       "      <th></th>\n",
       "      <th>total_images</th>\n",
       "      <th>last_price</th>\n",
       "      <th>total_area</th>\n",
       "      <th>first_day_exposition</th>\n",
       "      <th>rooms</th>\n",
       "      <th>ceiling_height</th>\n",
       "      <th>floors_total</th>\n",
       "      <th>living_area</th>\n",
       "      <th>floor</th>\n",
       "      <th>is_apartment</th>\n",
       "      <th>...</th>\n",
       "      <th>kitchen_area</th>\n",
       "      <th>balcony</th>\n",
       "      <th>locality_name</th>\n",
       "      <th>airports_nearest</th>\n",
       "      <th>cityCenters_nearest</th>\n",
       "      <th>parks_around3000</th>\n",
       "      <th>parks_nearest</th>\n",
       "      <th>ponds_around3000</th>\n",
       "      <th>ponds_nearest</th>\n",
       "      <th>days_exposition</th>\n",
       "    </tr>\n",
       "  </thead>\n",
       "  <tbody>\n",
       "    <tr>\n",
       "      <th>186</th>\n",
       "      <td>12</td>\n",
       "      <td>11640000.0</td>\n",
       "      <td>65.2</td>\n",
       "      <td>2018-10-02T00:00:00</td>\n",
       "      <td>2</td>\n",
       "      <td>NaN</td>\n",
       "      <td>NaN</td>\n",
       "      <td>30.80</td>\n",
       "      <td>4</td>\n",
       "      <td>NaN</td>\n",
       "      <td>...</td>\n",
       "      <td>12.00</td>\n",
       "      <td>0</td>\n",
       "      <td>Санкт-Петербург</td>\n",
       "      <td>39197.0</td>\n",
       "      <td>12373.0</td>\n",
       "      <td>1.0</td>\n",
       "      <td>123.0</td>\n",
       "      <td>0.0</td>\n",
       "      <td>NaN</td>\n",
       "      <td>49.0</td>\n",
       "    </tr>\n",
       "    <tr>\n",
       "      <th>237</th>\n",
       "      <td>4</td>\n",
       "      <td>2438033.0</td>\n",
       "      <td>28.1</td>\n",
       "      <td>2016-11-23T00:00:00</td>\n",
       "      <td>1</td>\n",
       "      <td>NaN</td>\n",
       "      <td>NaN</td>\n",
       "      <td>20.75</td>\n",
       "      <td>1</td>\n",
       "      <td>NaN</td>\n",
       "      <td>...</td>\n",
       "      <td>NaN</td>\n",
       "      <td>0</td>\n",
       "      <td>Санкт-Петербург</td>\n",
       "      <td>22041.0</td>\n",
       "      <td>17369.0</td>\n",
       "      <td>0.0</td>\n",
       "      <td>NaN</td>\n",
       "      <td>1.0</td>\n",
       "      <td>374.0</td>\n",
       "      <td>251.0</td>\n",
       "    </tr>\n",
       "    <tr>\n",
       "      <th>457</th>\n",
       "      <td>4</td>\n",
       "      <td>9788348.0</td>\n",
       "      <td>70.8</td>\n",
       "      <td>2015-08-01T00:00:00</td>\n",
       "      <td>2</td>\n",
       "      <td>NaN</td>\n",
       "      <td>NaN</td>\n",
       "      <td>38.40</td>\n",
       "      <td>12</td>\n",
       "      <td>NaN</td>\n",
       "      <td>...</td>\n",
       "      <td>10.63</td>\n",
       "      <td>0</td>\n",
       "      <td>Санкт-Петербург</td>\n",
       "      <td>37364.0</td>\n",
       "      <td>8322.0</td>\n",
       "      <td>2.0</td>\n",
       "      <td>309.0</td>\n",
       "      <td>2.0</td>\n",
       "      <td>706.0</td>\n",
       "      <td>727.0</td>\n",
       "    </tr>\n",
       "    <tr>\n",
       "      <th>671</th>\n",
       "      <td>4</td>\n",
       "      <td>6051191.0</td>\n",
       "      <td>93.6</td>\n",
       "      <td>2017-04-06T00:00:00</td>\n",
       "      <td>3</td>\n",
       "      <td>NaN</td>\n",
       "      <td>NaN</td>\n",
       "      <td>47.10</td>\n",
       "      <td>8</td>\n",
       "      <td>NaN</td>\n",
       "      <td>...</td>\n",
       "      <td>16.80</td>\n",
       "      <td>0</td>\n",
       "      <td>Санкт-Петербург</td>\n",
       "      <td>22041.0</td>\n",
       "      <td>17369.0</td>\n",
       "      <td>0.0</td>\n",
       "      <td>NaN</td>\n",
       "      <td>1.0</td>\n",
       "      <td>374.0</td>\n",
       "      <td>123.0</td>\n",
       "    </tr>\n",
       "    <tr>\n",
       "      <th>1757</th>\n",
       "      <td>5</td>\n",
       "      <td>3600000.0</td>\n",
       "      <td>39.0</td>\n",
       "      <td>2017-04-22T00:00:00</td>\n",
       "      <td>1</td>\n",
       "      <td>NaN</td>\n",
       "      <td>NaN</td>\n",
       "      <td>NaN</td>\n",
       "      <td>9</td>\n",
       "      <td>NaN</td>\n",
       "      <td>...</td>\n",
       "      <td>NaN</td>\n",
       "      <td>0</td>\n",
       "      <td>Санкт-Петербург</td>\n",
       "      <td>22735.0</td>\n",
       "      <td>11618.0</td>\n",
       "      <td>1.0</td>\n",
       "      <td>835.0</td>\n",
       "      <td>1.0</td>\n",
       "      <td>652.0</td>\n",
       "      <td>77.0</td>\n",
       "    </tr>\n",
       "  </tbody>\n",
       "</table>\n",
       "<p>5 rows × 22 columns</p>\n",
       "</div>"
      ],
      "text/plain": [
       "      total_images  last_price  total_area first_day_exposition  rooms  \\\n",
       "186             12  11640000.0        65.2  2018-10-02T00:00:00      2   \n",
       "237              4   2438033.0        28.1  2016-11-23T00:00:00      1   \n",
       "457              4   9788348.0        70.8  2015-08-01T00:00:00      2   \n",
       "671              4   6051191.0        93.6  2017-04-06T00:00:00      3   \n",
       "1757             5   3600000.0        39.0  2017-04-22T00:00:00      1   \n",
       "\n",
       "      ceiling_height  floors_total  living_area  floor is_apartment  ...  \\\n",
       "186              NaN           NaN        30.80      4          NaN  ...   \n",
       "237              NaN           NaN        20.75      1          NaN  ...   \n",
       "457              NaN           NaN        38.40     12          NaN  ...   \n",
       "671              NaN           NaN        47.10      8          NaN  ...   \n",
       "1757             NaN           NaN          NaN      9          NaN  ...   \n",
       "\n",
       "      kitchen_area  balcony    locality_name  airports_nearest  \\\n",
       "186          12.00        0  Санкт-Петербург           39197.0   \n",
       "237            NaN        0  Санкт-Петербург           22041.0   \n",
       "457          10.63        0  Санкт-Петербург           37364.0   \n",
       "671          16.80        0  Санкт-Петербург           22041.0   \n",
       "1757           NaN        0  Санкт-Петербург           22735.0   \n",
       "\n",
       "     cityCenters_nearest  parks_around3000  parks_nearest  ponds_around3000  \\\n",
       "186              12373.0               1.0          123.0               0.0   \n",
       "237              17369.0               0.0            NaN               1.0   \n",
       "457               8322.0               2.0          309.0               2.0   \n",
       "671              17369.0               0.0            NaN               1.0   \n",
       "1757             11618.0               1.0          835.0               1.0   \n",
       "\n",
       "      ponds_nearest  days_exposition  \n",
       "186             NaN             49.0  \n",
       "237           374.0            251.0  \n",
       "457           706.0            727.0  \n",
       "671           374.0            123.0  \n",
       "1757          652.0             77.0  \n",
       "\n",
       "[5 rows x 22 columns]"
      ]
     },
     "execution_count": 6,
     "metadata": {},
     "output_type": "execute_result"
    }
   ],
   "source": [
    "#Рассмотрим количество этажей:\n",
    "data.loc[data['floors_total'].isna()].head(5)#пропуски пока оставим, тк неизвестна причина по которой они есть"
   ]
  },
  {
   "cell_type": "code",
   "execution_count": 7,
   "metadata": {},
   "outputs": [
    {
     "data": {
      "text/html": [
       "<div>\n",
       "<style scoped>\n",
       "    .dataframe tbody tr th:only-of-type {\n",
       "        vertical-align: middle;\n",
       "    }\n",
       "\n",
       "    .dataframe tbody tr th {\n",
       "        vertical-align: top;\n",
       "    }\n",
       "\n",
       "    .dataframe thead th {\n",
       "        text-align: right;\n",
       "    }\n",
       "</style>\n",
       "<table border=\"1\" class=\"dataframe\">\n",
       "  <thead>\n",
       "    <tr style=\"text-align: right;\">\n",
       "      <th></th>\n",
       "      <th>total_images</th>\n",
       "      <th>last_price</th>\n",
       "      <th>total_area</th>\n",
       "      <th>first_day_exposition</th>\n",
       "      <th>rooms</th>\n",
       "      <th>ceiling_height</th>\n",
       "      <th>floors_total</th>\n",
       "      <th>living_area</th>\n",
       "      <th>floor</th>\n",
       "      <th>is_apartment</th>\n",
       "      <th>...</th>\n",
       "      <th>kitchen_area</th>\n",
       "      <th>balcony</th>\n",
       "      <th>locality_name</th>\n",
       "      <th>airports_nearest</th>\n",
       "      <th>cityCenters_nearest</th>\n",
       "      <th>parks_around3000</th>\n",
       "      <th>parks_nearest</th>\n",
       "      <th>ponds_around3000</th>\n",
       "      <th>ponds_nearest</th>\n",
       "      <th>days_exposition</th>\n",
       "    </tr>\n",
       "  </thead>\n",
       "  <tbody>\n",
       "    <tr>\n",
       "      <th>3</th>\n",
       "      <td>0</td>\n",
       "      <td>64900000.0</td>\n",
       "      <td>159.0</td>\n",
       "      <td>2015-07-24T00:00:00</td>\n",
       "      <td>3</td>\n",
       "      <td>NaN</td>\n",
       "      <td>14.0</td>\n",
       "      <td>NaN</td>\n",
       "      <td>9</td>\n",
       "      <td>NaN</td>\n",
       "      <td>...</td>\n",
       "      <td>NaN</td>\n",
       "      <td>0</td>\n",
       "      <td>Санкт-Петербург</td>\n",
       "      <td>28098.0</td>\n",
       "      <td>6800.0</td>\n",
       "      <td>2.0</td>\n",
       "      <td>84.0</td>\n",
       "      <td>3.0</td>\n",
       "      <td>234.0</td>\n",
       "      <td>424.0</td>\n",
       "    </tr>\n",
       "    <tr>\n",
       "      <th>7</th>\n",
       "      <td>5</td>\n",
       "      <td>7915000.0</td>\n",
       "      <td>71.6</td>\n",
       "      <td>2019-04-18T00:00:00</td>\n",
       "      <td>2</td>\n",
       "      <td>NaN</td>\n",
       "      <td>24.0</td>\n",
       "      <td>NaN</td>\n",
       "      <td>22</td>\n",
       "      <td>NaN</td>\n",
       "      <td>...</td>\n",
       "      <td>18.9</td>\n",
       "      <td>2</td>\n",
       "      <td>Санкт-Петербург</td>\n",
       "      <td>23982.0</td>\n",
       "      <td>11634.0</td>\n",
       "      <td>0.0</td>\n",
       "      <td>NaN</td>\n",
       "      <td>0.0</td>\n",
       "      <td>NaN</td>\n",
       "      <td>NaN</td>\n",
       "    </tr>\n",
       "    <tr>\n",
       "      <th>30</th>\n",
       "      <td>12</td>\n",
       "      <td>2200000.0</td>\n",
       "      <td>32.8</td>\n",
       "      <td>2018-02-19T00:00:00</td>\n",
       "      <td>1</td>\n",
       "      <td>NaN</td>\n",
       "      <td>9.0</td>\n",
       "      <td>NaN</td>\n",
       "      <td>2</td>\n",
       "      <td>NaN</td>\n",
       "      <td>...</td>\n",
       "      <td>NaN</td>\n",
       "      <td>0</td>\n",
       "      <td>Коммунар</td>\n",
       "      <td>NaN</td>\n",
       "      <td>NaN</td>\n",
       "      <td>NaN</td>\n",
       "      <td>NaN</td>\n",
       "      <td>NaN</td>\n",
       "      <td>NaN</td>\n",
       "      <td>63.0</td>\n",
       "    </tr>\n",
       "    <tr>\n",
       "      <th>37</th>\n",
       "      <td>10</td>\n",
       "      <td>1990000.0</td>\n",
       "      <td>45.8</td>\n",
       "      <td>2017-10-28T00:00:00</td>\n",
       "      <td>2</td>\n",
       "      <td>2.5</td>\n",
       "      <td>5.0</td>\n",
       "      <td>NaN</td>\n",
       "      <td>1</td>\n",
       "      <td>NaN</td>\n",
       "      <td>...</td>\n",
       "      <td>NaN</td>\n",
       "      <td>0</td>\n",
       "      <td>поселок городского типа Красный Бор</td>\n",
       "      <td>NaN</td>\n",
       "      <td>NaN</td>\n",
       "      <td>NaN</td>\n",
       "      <td>NaN</td>\n",
       "      <td>NaN</td>\n",
       "      <td>NaN</td>\n",
       "      <td>196.0</td>\n",
       "    </tr>\n",
       "    <tr>\n",
       "      <th>44</th>\n",
       "      <td>13</td>\n",
       "      <td>5350000.0</td>\n",
       "      <td>40.0</td>\n",
       "      <td>2018-11-18T00:00:00</td>\n",
       "      <td>1</td>\n",
       "      <td>NaN</td>\n",
       "      <td>22.0</td>\n",
       "      <td>NaN</td>\n",
       "      <td>3</td>\n",
       "      <td>NaN</td>\n",
       "      <td>...</td>\n",
       "      <td>NaN</td>\n",
       "      <td>1</td>\n",
       "      <td>Санкт-Петербург</td>\n",
       "      <td>30471.0</td>\n",
       "      <td>11603.0</td>\n",
       "      <td>1.0</td>\n",
       "      <td>620.0</td>\n",
       "      <td>1.0</td>\n",
       "      <td>1152.0</td>\n",
       "      <td>NaN</td>\n",
       "    </tr>\n",
       "  </tbody>\n",
       "</table>\n",
       "<p>5 rows × 22 columns</p>\n",
       "</div>"
      ],
      "text/plain": [
       "    total_images  last_price  total_area first_day_exposition  rooms  \\\n",
       "3              0  64900000.0       159.0  2015-07-24T00:00:00      3   \n",
       "7              5   7915000.0        71.6  2019-04-18T00:00:00      2   \n",
       "30            12   2200000.0        32.8  2018-02-19T00:00:00      1   \n",
       "37            10   1990000.0        45.8  2017-10-28T00:00:00      2   \n",
       "44            13   5350000.0        40.0  2018-11-18T00:00:00      1   \n",
       "\n",
       "    ceiling_height  floors_total  living_area  floor is_apartment  ...  \\\n",
       "3              NaN          14.0          NaN      9          NaN  ...   \n",
       "7              NaN          24.0          NaN     22          NaN  ...   \n",
       "30             NaN           9.0          NaN      2          NaN  ...   \n",
       "37             2.5           5.0          NaN      1          NaN  ...   \n",
       "44             NaN          22.0          NaN      3          NaN  ...   \n",
       "\n",
       "    kitchen_area  balcony                        locality_name  \\\n",
       "3            NaN        0                      Санкт-Петербург   \n",
       "7           18.9        2                      Санкт-Петербург   \n",
       "30           NaN        0                             Коммунар   \n",
       "37           NaN        0  поселок городского типа Красный Бор   \n",
       "44           NaN        1                      Санкт-Петербург   \n",
       "\n",
       "    airports_nearest cityCenters_nearest  parks_around3000  parks_nearest  \\\n",
       "3            28098.0              6800.0               2.0           84.0   \n",
       "7            23982.0             11634.0               0.0            NaN   \n",
       "30               NaN                 NaN               NaN            NaN   \n",
       "37               NaN                 NaN               NaN            NaN   \n",
       "44           30471.0             11603.0               1.0          620.0   \n",
       "\n",
       "    ponds_around3000  ponds_nearest  days_exposition  \n",
       "3                3.0          234.0            424.0  \n",
       "7                0.0            NaN              NaN  \n",
       "30               NaN            NaN             63.0  \n",
       "37               NaN            NaN            196.0  \n",
       "44               1.0         1152.0              NaN  \n",
       "\n",
       "[5 rows x 22 columns]"
      ]
     },
     "execution_count": 7,
     "metadata": {},
     "output_type": "execute_result"
    }
   ],
   "source": [
    "#жилая площадь:\n",
    "data.loc[data['living_area'].isna()].head()\n",
    "#причины пропусков непонятна, оставим как есть"
   ]
  },
  {
   "cell_type": "code",
   "execution_count": 8,
   "metadata": {},
   "outputs": [],
   "source": [
    "#апартаменты\n",
    "data['is_apartment'] = data['is_apartment'].fillna('False').astype('bool') #Заполним пропуски на 'False', т. к. этот параметр скорее всего не указали из-за того что он не является апартаментами и изменим тип данных на bool"
   ]
  },
  {
   "cell_type": "code",
   "execution_count": 9,
   "metadata": {},
   "outputs": [],
   "source": [
    "#заменим пропуски в days_exposition и заменим тип данных\n",
    "data['days_exposition'] = np.floor(pd.to_numeric(data['days_exposition'], errors='coerce')).astype('Int64')"
   ]
  },
  {
   "cell_type": "code",
   "execution_count": 10,
   "metadata": {},
   "outputs": [],
   "source": [
    "#переведем столбец с датой в формат даты без времени, т.к. время не указано\n",
    "data['first_day_exposition'] = pd.to_datetime(data['first_day_exposition'], format = '%Y-%m-%d')"
   ]
  },
  {
   "cell_type": "code",
   "execution_count": 11,
   "metadata": {},
   "outputs": [
    {
     "data": {
      "text/plain": [
       "0"
      ]
     },
     "execution_count": 11,
     "metadata": {},
     "output_type": "execute_result"
    }
   ],
   "source": [
    "#Обработаем дубликаты, если они есть\n",
    "data['locality_name'] = (\n",
    "    data['locality_name']\n",
    "    .str.replace('ё', 'е')\n",
    "    .replace('Мурино', 'поселок Мурино')\n",
    ") \n",
    "data.duplicated().sum()"
   ]
  },
  {
   "cell_type": "markdown",
   "metadata": {},
   "source": [
    "### Посчитайте и добавьте в таблицу новые столбцы"
   ]
  },
  {
   "cell_type": "code",
   "execution_count": 12,
   "metadata": {},
   "outputs": [],
   "source": [
    "#Цена за один кв метр\n",
    "data['one_square_price'] = round(data['last_price'] / data['total_area'], 2)"
   ]
  },
  {
   "cell_type": "code",
   "execution_count": 13,
   "metadata": {},
   "outputs": [
    {
     "data": {
      "text/html": [
       "<div>\n",
       "<style scoped>\n",
       "    .dataframe tbody tr th:only-of-type {\n",
       "        vertical-align: middle;\n",
       "    }\n",
       "\n",
       "    .dataframe tbody tr th {\n",
       "        vertical-align: top;\n",
       "    }\n",
       "\n",
       "    .dataframe thead th {\n",
       "        text-align: right;\n",
       "    }\n",
       "</style>\n",
       "<table border=\"1\" class=\"dataframe\">\n",
       "  <thead>\n",
       "    <tr style=\"text-align: right;\">\n",
       "      <th></th>\n",
       "      <th>total_images</th>\n",
       "      <th>last_price</th>\n",
       "      <th>total_area</th>\n",
       "      <th>first_day_exposition</th>\n",
       "      <th>rooms</th>\n",
       "      <th>ceiling_height</th>\n",
       "      <th>floors_total</th>\n",
       "      <th>living_area</th>\n",
       "      <th>floor</th>\n",
       "      <th>is_apartment</th>\n",
       "      <th>...</th>\n",
       "      <th>cityCenters_nearest</th>\n",
       "      <th>parks_around3000</th>\n",
       "      <th>parks_nearest</th>\n",
       "      <th>ponds_around3000</th>\n",
       "      <th>ponds_nearest</th>\n",
       "      <th>days_exposition</th>\n",
       "      <th>one_square_price</th>\n",
       "      <th>weekday_exposition</th>\n",
       "      <th>month_exposition</th>\n",
       "      <th>year_exposition</th>\n",
       "    </tr>\n",
       "  </thead>\n",
       "  <tbody>\n",
       "    <tr>\n",
       "      <th>0</th>\n",
       "      <td>20</td>\n",
       "      <td>13000000.0</td>\n",
       "      <td>108.0</td>\n",
       "      <td>2019-03-07</td>\n",
       "      <td>3</td>\n",
       "      <td>2.70</td>\n",
       "      <td>16.0</td>\n",
       "      <td>51.0</td>\n",
       "      <td>8</td>\n",
       "      <td>True</td>\n",
       "      <td>...</td>\n",
       "      <td>16028.0</td>\n",
       "      <td>1.0</td>\n",
       "      <td>482.0</td>\n",
       "      <td>2.0</td>\n",
       "      <td>755.0</td>\n",
       "      <td>&lt;NA&gt;</td>\n",
       "      <td>120370.37</td>\n",
       "      <td>3</td>\n",
       "      <td>3</td>\n",
       "      <td>2019</td>\n",
       "    </tr>\n",
       "    <tr>\n",
       "      <th>1</th>\n",
       "      <td>7</td>\n",
       "      <td>3350000.0</td>\n",
       "      <td>40.4</td>\n",
       "      <td>2018-12-04</td>\n",
       "      <td>1</td>\n",
       "      <td>NaN</td>\n",
       "      <td>11.0</td>\n",
       "      <td>18.6</td>\n",
       "      <td>1</td>\n",
       "      <td>True</td>\n",
       "      <td>...</td>\n",
       "      <td>18603.0</td>\n",
       "      <td>0.0</td>\n",
       "      <td>NaN</td>\n",
       "      <td>0.0</td>\n",
       "      <td>NaN</td>\n",
       "      <td>81</td>\n",
       "      <td>82920.79</td>\n",
       "      <td>1</td>\n",
       "      <td>12</td>\n",
       "      <td>2018</td>\n",
       "    </tr>\n",
       "    <tr>\n",
       "      <th>2</th>\n",
       "      <td>10</td>\n",
       "      <td>5196000.0</td>\n",
       "      <td>56.0</td>\n",
       "      <td>2015-08-20</td>\n",
       "      <td>2</td>\n",
       "      <td>NaN</td>\n",
       "      <td>5.0</td>\n",
       "      <td>34.3</td>\n",
       "      <td>4</td>\n",
       "      <td>True</td>\n",
       "      <td>...</td>\n",
       "      <td>13933.0</td>\n",
       "      <td>1.0</td>\n",
       "      <td>90.0</td>\n",
       "      <td>2.0</td>\n",
       "      <td>574.0</td>\n",
       "      <td>558</td>\n",
       "      <td>92785.71</td>\n",
       "      <td>3</td>\n",
       "      <td>8</td>\n",
       "      <td>2015</td>\n",
       "    </tr>\n",
       "    <tr>\n",
       "      <th>3</th>\n",
       "      <td>0</td>\n",
       "      <td>64900000.0</td>\n",
       "      <td>159.0</td>\n",
       "      <td>2015-07-24</td>\n",
       "      <td>3</td>\n",
       "      <td>NaN</td>\n",
       "      <td>14.0</td>\n",
       "      <td>NaN</td>\n",
       "      <td>9</td>\n",
       "      <td>True</td>\n",
       "      <td>...</td>\n",
       "      <td>6800.0</td>\n",
       "      <td>2.0</td>\n",
       "      <td>84.0</td>\n",
       "      <td>3.0</td>\n",
       "      <td>234.0</td>\n",
       "      <td>424</td>\n",
       "      <td>408176.10</td>\n",
       "      <td>4</td>\n",
       "      <td>7</td>\n",
       "      <td>2015</td>\n",
       "    </tr>\n",
       "    <tr>\n",
       "      <th>4</th>\n",
       "      <td>2</td>\n",
       "      <td>10000000.0</td>\n",
       "      <td>100.0</td>\n",
       "      <td>2018-06-19</td>\n",
       "      <td>2</td>\n",
       "      <td>3.03</td>\n",
       "      <td>14.0</td>\n",
       "      <td>32.0</td>\n",
       "      <td>13</td>\n",
       "      <td>True</td>\n",
       "      <td>...</td>\n",
       "      <td>8098.0</td>\n",
       "      <td>2.0</td>\n",
       "      <td>112.0</td>\n",
       "      <td>1.0</td>\n",
       "      <td>48.0</td>\n",
       "      <td>121</td>\n",
       "      <td>100000.00</td>\n",
       "      <td>1</td>\n",
       "      <td>6</td>\n",
       "      <td>2018</td>\n",
       "    </tr>\n",
       "  </tbody>\n",
       "</table>\n",
       "<p>5 rows × 26 columns</p>\n",
       "</div>"
      ],
      "text/plain": [
       "   total_images  last_price  total_area first_day_exposition  rooms  \\\n",
       "0            20  13000000.0       108.0           2019-03-07      3   \n",
       "1             7   3350000.0        40.4           2018-12-04      1   \n",
       "2            10   5196000.0        56.0           2015-08-20      2   \n",
       "3             0  64900000.0       159.0           2015-07-24      3   \n",
       "4             2  10000000.0       100.0           2018-06-19      2   \n",
       "\n",
       "   ceiling_height  floors_total  living_area  floor  is_apartment  ...  \\\n",
       "0            2.70          16.0         51.0      8          True  ...   \n",
       "1             NaN          11.0         18.6      1          True  ...   \n",
       "2             NaN           5.0         34.3      4          True  ...   \n",
       "3             NaN          14.0          NaN      9          True  ...   \n",
       "4            3.03          14.0         32.0     13          True  ...   \n",
       "\n",
       "   cityCenters_nearest  parks_around3000  parks_nearest  ponds_around3000  \\\n",
       "0              16028.0               1.0          482.0               2.0   \n",
       "1              18603.0               0.0            NaN               0.0   \n",
       "2              13933.0               1.0           90.0               2.0   \n",
       "3               6800.0               2.0           84.0               3.0   \n",
       "4               8098.0               2.0          112.0               1.0   \n",
       "\n",
       "  ponds_nearest  days_exposition  one_square_price  weekday_exposition  \\\n",
       "0         755.0             <NA>         120370.37                   3   \n",
       "1           NaN               81          82920.79                   1   \n",
       "2         574.0              558          92785.71                   3   \n",
       "3         234.0              424         408176.10                   4   \n",
       "4          48.0              121         100000.00                   1   \n",
       "\n",
       "   month_exposition  year_exposition  \n",
       "0                 3             2019  \n",
       "1                12             2018  \n",
       "2                 8             2015  \n",
       "3                 7             2015  \n",
       "4                 6             2018  \n",
       "\n",
       "[5 rows x 26 columns]"
      ]
     },
     "execution_count": 13,
     "metadata": {},
     "output_type": "execute_result"
    }
   ],
   "source": [
    "data['weekday_exposition'] = data['first_day_exposition'].dt.weekday #Дни недели\n",
    "data['month_exposition'] = data['first_day_exposition'].dt.month #Месяц\n",
    "data['year_exposition'] = data['first_day_exposition'].dt.year #год\n",
    "data.head()"
   ]
  },
  {
   "cell_type": "code",
   "execution_count": 14,
   "metadata": {
    "scrolled": true
   },
   "outputs": [
    {
     "data": {
      "text/html": [
       "<div>\n",
       "<style scoped>\n",
       "    .dataframe tbody tr th:only-of-type {\n",
       "        vertical-align: middle;\n",
       "    }\n",
       "\n",
       "    .dataframe tbody tr th {\n",
       "        vertical-align: top;\n",
       "    }\n",
       "\n",
       "    .dataframe thead th {\n",
       "        text-align: right;\n",
       "    }\n",
       "</style>\n",
       "<table border=\"1\" class=\"dataframe\">\n",
       "  <thead>\n",
       "    <tr style=\"text-align: right;\">\n",
       "      <th></th>\n",
       "      <th>total_images</th>\n",
       "      <th>last_price</th>\n",
       "      <th>total_area</th>\n",
       "      <th>first_day_exposition</th>\n",
       "      <th>rooms</th>\n",
       "      <th>ceiling_height</th>\n",
       "      <th>floors_total</th>\n",
       "      <th>living_area</th>\n",
       "      <th>floor</th>\n",
       "      <th>is_apartment</th>\n",
       "      <th>...</th>\n",
       "      <th>parks_around3000</th>\n",
       "      <th>parks_nearest</th>\n",
       "      <th>ponds_around3000</th>\n",
       "      <th>ponds_nearest</th>\n",
       "      <th>days_exposition</th>\n",
       "      <th>one_square_price</th>\n",
       "      <th>weekday_exposition</th>\n",
       "      <th>month_exposition</th>\n",
       "      <th>year_exposition</th>\n",
       "      <th>floor_category</th>\n",
       "    </tr>\n",
       "  </thead>\n",
       "  <tbody>\n",
       "    <tr>\n",
       "      <th>0</th>\n",
       "      <td>20</td>\n",
       "      <td>13000000.0</td>\n",
       "      <td>108.0</td>\n",
       "      <td>2019-03-07</td>\n",
       "      <td>3</td>\n",
       "      <td>2.70</td>\n",
       "      <td>16.0</td>\n",
       "      <td>51.0</td>\n",
       "      <td>8</td>\n",
       "      <td>True</td>\n",
       "      <td>...</td>\n",
       "      <td>1.0</td>\n",
       "      <td>482.0</td>\n",
       "      <td>2.0</td>\n",
       "      <td>755.0</td>\n",
       "      <td>&lt;NA&gt;</td>\n",
       "      <td>120370.37</td>\n",
       "      <td>3</td>\n",
       "      <td>3</td>\n",
       "      <td>2019</td>\n",
       "      <td>другой</td>\n",
       "    </tr>\n",
       "    <tr>\n",
       "      <th>1</th>\n",
       "      <td>7</td>\n",
       "      <td>3350000.0</td>\n",
       "      <td>40.4</td>\n",
       "      <td>2018-12-04</td>\n",
       "      <td>1</td>\n",
       "      <td>NaN</td>\n",
       "      <td>11.0</td>\n",
       "      <td>18.6</td>\n",
       "      <td>1</td>\n",
       "      <td>True</td>\n",
       "      <td>...</td>\n",
       "      <td>0.0</td>\n",
       "      <td>NaN</td>\n",
       "      <td>0.0</td>\n",
       "      <td>NaN</td>\n",
       "      <td>81</td>\n",
       "      <td>82920.79</td>\n",
       "      <td>1</td>\n",
       "      <td>12</td>\n",
       "      <td>2018</td>\n",
       "      <td>первый</td>\n",
       "    </tr>\n",
       "    <tr>\n",
       "      <th>2</th>\n",
       "      <td>10</td>\n",
       "      <td>5196000.0</td>\n",
       "      <td>56.0</td>\n",
       "      <td>2015-08-20</td>\n",
       "      <td>2</td>\n",
       "      <td>NaN</td>\n",
       "      <td>5.0</td>\n",
       "      <td>34.3</td>\n",
       "      <td>4</td>\n",
       "      <td>True</td>\n",
       "      <td>...</td>\n",
       "      <td>1.0</td>\n",
       "      <td>90.0</td>\n",
       "      <td>2.0</td>\n",
       "      <td>574.0</td>\n",
       "      <td>558</td>\n",
       "      <td>92785.71</td>\n",
       "      <td>3</td>\n",
       "      <td>8</td>\n",
       "      <td>2015</td>\n",
       "      <td>другой</td>\n",
       "    </tr>\n",
       "    <tr>\n",
       "      <th>3</th>\n",
       "      <td>0</td>\n",
       "      <td>64900000.0</td>\n",
       "      <td>159.0</td>\n",
       "      <td>2015-07-24</td>\n",
       "      <td>3</td>\n",
       "      <td>NaN</td>\n",
       "      <td>14.0</td>\n",
       "      <td>NaN</td>\n",
       "      <td>9</td>\n",
       "      <td>True</td>\n",
       "      <td>...</td>\n",
       "      <td>2.0</td>\n",
       "      <td>84.0</td>\n",
       "      <td>3.0</td>\n",
       "      <td>234.0</td>\n",
       "      <td>424</td>\n",
       "      <td>408176.10</td>\n",
       "      <td>4</td>\n",
       "      <td>7</td>\n",
       "      <td>2015</td>\n",
       "      <td>другой</td>\n",
       "    </tr>\n",
       "    <tr>\n",
       "      <th>4</th>\n",
       "      <td>2</td>\n",
       "      <td>10000000.0</td>\n",
       "      <td>100.0</td>\n",
       "      <td>2018-06-19</td>\n",
       "      <td>2</td>\n",
       "      <td>3.03</td>\n",
       "      <td>14.0</td>\n",
       "      <td>32.0</td>\n",
       "      <td>13</td>\n",
       "      <td>True</td>\n",
       "      <td>...</td>\n",
       "      <td>2.0</td>\n",
       "      <td>112.0</td>\n",
       "      <td>1.0</td>\n",
       "      <td>48.0</td>\n",
       "      <td>121</td>\n",
       "      <td>100000.00</td>\n",
       "      <td>1</td>\n",
       "      <td>6</td>\n",
       "      <td>2018</td>\n",
       "      <td>другой</td>\n",
       "    </tr>\n",
       "  </tbody>\n",
       "</table>\n",
       "<p>5 rows × 27 columns</p>\n",
       "</div>"
      ],
      "text/plain": [
       "   total_images  last_price  total_area first_day_exposition  rooms  \\\n",
       "0            20  13000000.0       108.0           2019-03-07      3   \n",
       "1             7   3350000.0        40.4           2018-12-04      1   \n",
       "2            10   5196000.0        56.0           2015-08-20      2   \n",
       "3             0  64900000.0       159.0           2015-07-24      3   \n",
       "4             2  10000000.0       100.0           2018-06-19      2   \n",
       "\n",
       "   ceiling_height  floors_total  living_area  floor  is_apartment  ...  \\\n",
       "0            2.70          16.0         51.0      8          True  ...   \n",
       "1             NaN          11.0         18.6      1          True  ...   \n",
       "2             NaN           5.0         34.3      4          True  ...   \n",
       "3             NaN          14.0          NaN      9          True  ...   \n",
       "4            3.03          14.0         32.0     13          True  ...   \n",
       "\n",
       "   parks_around3000  parks_nearest  ponds_around3000  ponds_nearest  \\\n",
       "0               1.0          482.0               2.0          755.0   \n",
       "1               0.0            NaN               0.0            NaN   \n",
       "2               1.0           90.0               2.0          574.0   \n",
       "3               2.0           84.0               3.0          234.0   \n",
       "4               2.0          112.0               1.0           48.0   \n",
       "\n",
       "  days_exposition  one_square_price  weekday_exposition  month_exposition  \\\n",
       "0            <NA>         120370.37                   3                 3   \n",
       "1              81          82920.79                   1                12   \n",
       "2             558          92785.71                   3                 8   \n",
       "3             424         408176.10                   4                 7   \n",
       "4             121         100000.00                   1                 6   \n",
       "\n",
       "   year_exposition  floor_category  \n",
       "0             2019          другой  \n",
       "1             2018          первый  \n",
       "2             2015          другой  \n",
       "3             2015          другой  \n",
       "4             2018          другой  \n",
       "\n",
       "[5 rows x 27 columns]"
      ]
     },
     "execution_count": 14,
     "metadata": {},
     "output_type": "execute_result"
    }
   ],
   "source": [
    "#напишем функцию категоризации по этажам и создадим столбец\n",
    "def floor_category(row):\n",
    "    floors_total = row['floors_total']\n",
    "    floor = row['floor']\n",
    "    if floor == 1:\n",
    "        return 'первый'\n",
    "    if floor == floors_total:\n",
    "        return 'последний'\n",
    "    return 'другой'\n",
    "data['floor_category'] = data.apply(floor_category, axis = 1)\n",
    "data.head()"
   ]
  },
  {
   "cell_type": "code",
   "execution_count": 15,
   "metadata": {},
   "outputs": [
    {
     "data": {
      "text/html": [
       "<div>\n",
       "<style scoped>\n",
       "    .dataframe tbody tr th:only-of-type {\n",
       "        vertical-align: middle;\n",
       "    }\n",
       "\n",
       "    .dataframe tbody tr th {\n",
       "        vertical-align: top;\n",
       "    }\n",
       "\n",
       "    .dataframe thead th {\n",
       "        text-align: right;\n",
       "    }\n",
       "</style>\n",
       "<table border=\"1\" class=\"dataframe\">\n",
       "  <thead>\n",
       "    <tr style=\"text-align: right;\">\n",
       "      <th></th>\n",
       "      <th>total_images</th>\n",
       "      <th>last_price</th>\n",
       "      <th>total_area</th>\n",
       "      <th>first_day_exposition</th>\n",
       "      <th>rooms</th>\n",
       "      <th>ceiling_height</th>\n",
       "      <th>floors_total</th>\n",
       "      <th>living_area</th>\n",
       "      <th>floor</th>\n",
       "      <th>is_apartment</th>\n",
       "      <th>...</th>\n",
       "      <th>parks_nearest</th>\n",
       "      <th>ponds_around3000</th>\n",
       "      <th>ponds_nearest</th>\n",
       "      <th>days_exposition</th>\n",
       "      <th>one_square_price</th>\n",
       "      <th>weekday_exposition</th>\n",
       "      <th>month_exposition</th>\n",
       "      <th>year_exposition</th>\n",
       "      <th>floor_category</th>\n",
       "      <th>city_centers_nearest_km</th>\n",
       "    </tr>\n",
       "  </thead>\n",
       "  <tbody>\n",
       "    <tr>\n",
       "      <th>0</th>\n",
       "      <td>20</td>\n",
       "      <td>13000000.0</td>\n",
       "      <td>108.0</td>\n",
       "      <td>2019-03-07</td>\n",
       "      <td>3</td>\n",
       "      <td>2.70</td>\n",
       "      <td>16.0</td>\n",
       "      <td>51.0</td>\n",
       "      <td>8</td>\n",
       "      <td>True</td>\n",
       "      <td>...</td>\n",
       "      <td>482.0</td>\n",
       "      <td>2.0</td>\n",
       "      <td>755.0</td>\n",
       "      <td>&lt;NA&gt;</td>\n",
       "      <td>120370.37</td>\n",
       "      <td>3</td>\n",
       "      <td>3</td>\n",
       "      <td>2019</td>\n",
       "      <td>другой</td>\n",
       "      <td>16.0</td>\n",
       "    </tr>\n",
       "    <tr>\n",
       "      <th>1</th>\n",
       "      <td>7</td>\n",
       "      <td>3350000.0</td>\n",
       "      <td>40.4</td>\n",
       "      <td>2018-12-04</td>\n",
       "      <td>1</td>\n",
       "      <td>NaN</td>\n",
       "      <td>11.0</td>\n",
       "      <td>18.6</td>\n",
       "      <td>1</td>\n",
       "      <td>True</td>\n",
       "      <td>...</td>\n",
       "      <td>NaN</td>\n",
       "      <td>0.0</td>\n",
       "      <td>NaN</td>\n",
       "      <td>81</td>\n",
       "      <td>82920.79</td>\n",
       "      <td>1</td>\n",
       "      <td>12</td>\n",
       "      <td>2018</td>\n",
       "      <td>первый</td>\n",
       "      <td>19.0</td>\n",
       "    </tr>\n",
       "    <tr>\n",
       "      <th>2</th>\n",
       "      <td>10</td>\n",
       "      <td>5196000.0</td>\n",
       "      <td>56.0</td>\n",
       "      <td>2015-08-20</td>\n",
       "      <td>2</td>\n",
       "      <td>NaN</td>\n",
       "      <td>5.0</td>\n",
       "      <td>34.3</td>\n",
       "      <td>4</td>\n",
       "      <td>True</td>\n",
       "      <td>...</td>\n",
       "      <td>90.0</td>\n",
       "      <td>2.0</td>\n",
       "      <td>574.0</td>\n",
       "      <td>558</td>\n",
       "      <td>92785.71</td>\n",
       "      <td>3</td>\n",
       "      <td>8</td>\n",
       "      <td>2015</td>\n",
       "      <td>другой</td>\n",
       "      <td>14.0</td>\n",
       "    </tr>\n",
       "    <tr>\n",
       "      <th>3</th>\n",
       "      <td>0</td>\n",
       "      <td>64900000.0</td>\n",
       "      <td>159.0</td>\n",
       "      <td>2015-07-24</td>\n",
       "      <td>3</td>\n",
       "      <td>NaN</td>\n",
       "      <td>14.0</td>\n",
       "      <td>NaN</td>\n",
       "      <td>9</td>\n",
       "      <td>True</td>\n",
       "      <td>...</td>\n",
       "      <td>84.0</td>\n",
       "      <td>3.0</td>\n",
       "      <td>234.0</td>\n",
       "      <td>424</td>\n",
       "      <td>408176.10</td>\n",
       "      <td>4</td>\n",
       "      <td>7</td>\n",
       "      <td>2015</td>\n",
       "      <td>другой</td>\n",
       "      <td>7.0</td>\n",
       "    </tr>\n",
       "    <tr>\n",
       "      <th>4</th>\n",
       "      <td>2</td>\n",
       "      <td>10000000.0</td>\n",
       "      <td>100.0</td>\n",
       "      <td>2018-06-19</td>\n",
       "      <td>2</td>\n",
       "      <td>3.03</td>\n",
       "      <td>14.0</td>\n",
       "      <td>32.0</td>\n",
       "      <td>13</td>\n",
       "      <td>True</td>\n",
       "      <td>...</td>\n",
       "      <td>112.0</td>\n",
       "      <td>1.0</td>\n",
       "      <td>48.0</td>\n",
       "      <td>121</td>\n",
       "      <td>100000.00</td>\n",
       "      <td>1</td>\n",
       "      <td>6</td>\n",
       "      <td>2018</td>\n",
       "      <td>другой</td>\n",
       "      <td>8.0</td>\n",
       "    </tr>\n",
       "  </tbody>\n",
       "</table>\n",
       "<p>5 rows × 28 columns</p>\n",
       "</div>"
      ],
      "text/plain": [
       "   total_images  last_price  total_area first_day_exposition  rooms  \\\n",
       "0            20  13000000.0       108.0           2019-03-07      3   \n",
       "1             7   3350000.0        40.4           2018-12-04      1   \n",
       "2            10   5196000.0        56.0           2015-08-20      2   \n",
       "3             0  64900000.0       159.0           2015-07-24      3   \n",
       "4             2  10000000.0       100.0           2018-06-19      2   \n",
       "\n",
       "   ceiling_height  floors_total  living_area  floor  is_apartment  ...  \\\n",
       "0            2.70          16.0         51.0      8          True  ...   \n",
       "1             NaN          11.0         18.6      1          True  ...   \n",
       "2             NaN           5.0         34.3      4          True  ...   \n",
       "3             NaN          14.0          NaN      9          True  ...   \n",
       "4            3.03          14.0         32.0     13          True  ...   \n",
       "\n",
       "   parks_nearest  ponds_around3000  ponds_nearest  days_exposition  \\\n",
       "0          482.0               2.0          755.0             <NA>   \n",
       "1            NaN               0.0            NaN               81   \n",
       "2           90.0               2.0          574.0              558   \n",
       "3           84.0               3.0          234.0              424   \n",
       "4          112.0               1.0           48.0              121   \n",
       "\n",
       "  one_square_price  weekday_exposition  month_exposition  year_exposition  \\\n",
       "0        120370.37                   3                 3             2019   \n",
       "1         82920.79                   1                12             2018   \n",
       "2         92785.71                   3                 8             2015   \n",
       "3        408176.10                   4                 7             2015   \n",
       "4        100000.00                   1                 6             2018   \n",
       "\n",
       "   floor_category  city_centers_nearest_km  \n",
       "0          другой                     16.0  \n",
       "1          первый                     19.0  \n",
       "2          другой                     14.0  \n",
       "3          другой                      7.0  \n",
       "4          другой                      8.0  \n",
       "\n",
       "[5 rows x 28 columns]"
      ]
     },
     "execution_count": 15,
     "metadata": {},
     "output_type": "execute_result"
    }
   ],
   "source": [
    "#расстояние до центра города в километрах\n",
    "data['city_centers_nearest_km'] = round(data['cityCenters_nearest'] / 1000)\n",
    "data.head()"
   ]
  },
  {
   "cell_type": "markdown",
   "metadata": {},
   "source": [
    "### Проведите исследовательский анализ данных"
   ]
  },
  {
   "cell_type": "code",
   "execution_count": 16,
   "metadata": {},
   "outputs": [
    {
     "data": {
      "text/plain": [
       "array([[<AxesSubplot:title={'center':'total_area'}>]], dtype=object)"
      ]
     },
     "execution_count": 16,
     "metadata": {},
     "output_type": "execute_result"
    },
    {
     "data": {
      "image/png": "[encoded data removed]",
      "text/plain": [
       "<Figure size 432x288 with 1 Axes>"
      ]
     },
     "metadata": {
      "needs_background": "light"
     },
     "output_type": "display_data"
    }
   ],
   "source": [
    "#общая площадь\n",
    "data.hist('total_area', bins = 30)\n",
    "#выбросы есть, но сильно они не влияют на данные"
   ]
  },
  {
   "cell_type": "code",
   "execution_count": 17,
   "metadata": {},
   "outputs": [
    {
     "data": {
      "text/plain": [
       "array([[<AxesSubplot:title={'center':'living_area'}>]], dtype=object)"
      ]
     },
     "execution_count": 17,
     "metadata": {},
     "output_type": "execute_result"
    },
    {
     "data": {
      "image/png": "[encoded data removed]",
      "text/plain": [
       "<Figure size 432x288 with 1 Axes>"
      ]
     },
     "metadata": {
      "needs_background": "light"
     },
     "output_type": "display_data"
    }
   ],
   "source": [
    "#жилая площадь\n",
    "data.hist('living_area', bins = 30)\n",
    "#выбросы есть, но сильно они не влияют на данные"
   ]
  },
  {
   "cell_type": "code",
   "execution_count": 18,
   "metadata": {},
   "outputs": [
    {
     "data": {
      "text/plain": [
       "array([[<AxesSubplot:title={'center':'kitchen_area'}>]], dtype=object)"
      ]
     },
     "execution_count": 18,
     "metadata": {},
     "output_type": "execute_result"
    },
    {
     "data": {
      "image/png": "[encoded data removed]",
      "text/plain": [
       "<Figure size 432x288 with 1 Axes>"
      ]
     },
     "metadata": {
      "needs_background": "light"
     },
     "output_type": "display_data"
    }
   ],
   "source": [
    "#общая площадь\n",
    "data.hist('kitchen_area', bins = 30)\n",
    "#выбросы есть, но сильно они не влияют на данные"
   ]
  },
  {
   "cell_type": "code",
   "execution_count": 19,
   "metadata": {},
   "outputs": [
    {
     "data": {
      "text/html": [
       "<div>\n",
       "<style scoped>\n",
       "    .dataframe tbody tr th:only-of-type {\n",
       "        vertical-align: middle;\n",
       "    }\n",
       "\n",
       "    .dataframe tbody tr th {\n",
       "        vertical-align: top;\n",
       "    }\n",
       "\n",
       "    .dataframe thead th {\n",
       "        text-align: right;\n",
       "    }\n",
       "</style>\n",
       "<table border=\"1\" class=\"dataframe\">\n",
       "  <thead>\n",
       "    <tr style=\"text-align: right;\">\n",
       "      <th></th>\n",
       "      <th>total_images</th>\n",
       "      <th>last_price</th>\n",
       "      <th>total_area</th>\n",
       "      <th>first_day_exposition</th>\n",
       "      <th>rooms</th>\n",
       "      <th>ceiling_height</th>\n",
       "      <th>floors_total</th>\n",
       "      <th>living_area</th>\n",
       "      <th>floor</th>\n",
       "      <th>is_apartment</th>\n",
       "      <th>...</th>\n",
       "      <th>parks_nearest</th>\n",
       "      <th>ponds_around3000</th>\n",
       "      <th>ponds_nearest</th>\n",
       "      <th>days_exposition</th>\n",
       "      <th>one_square_price</th>\n",
       "      <th>weekday_exposition</th>\n",
       "      <th>month_exposition</th>\n",
       "      <th>year_exposition</th>\n",
       "      <th>floor_category</th>\n",
       "      <th>city_centers_nearest_km</th>\n",
       "    </tr>\n",
       "  </thead>\n",
       "  <tbody>\n",
       "    <tr>\n",
       "      <th>7543</th>\n",
       "      <td>20</td>\n",
       "      <td>130000000.0</td>\n",
       "      <td>307.8</td>\n",
       "      <td>2016-04-24</td>\n",
       "      <td>5</td>\n",
       "      <td>NaN</td>\n",
       "      <td>4.0</td>\n",
       "      <td>187.9</td>\n",
       "      <td>3</td>\n",
       "      <td>True</td>\n",
       "      <td>...</td>\n",
       "      <td>NaN</td>\n",
       "      <td>1.0</td>\n",
       "      <td>603.0</td>\n",
       "      <td>1094</td>\n",
       "      <td>422352.18</td>\n",
       "      <td>6</td>\n",
       "      <td>4</td>\n",
       "      <td>2016</td>\n",
       "      <td>другой</td>\n",
       "      <td>5.0</td>\n",
       "    </tr>\n",
       "    <tr>\n",
       "      <th>19499</th>\n",
       "      <td>10</td>\n",
       "      <td>8000000.0</td>\n",
       "      <td>118.0</td>\n",
       "      <td>2017-08-31</td>\n",
       "      <td>3</td>\n",
       "      <td>3.0</td>\n",
       "      <td>5.0</td>\n",
       "      <td>36.0</td>\n",
       "      <td>4</td>\n",
       "      <td>False</td>\n",
       "      <td>...</td>\n",
       "      <td>569.0</td>\n",
       "      <td>0.0</td>\n",
       "      <td>NaN</td>\n",
       "      <td>7</td>\n",
       "      <td>67796.61</td>\n",
       "      <td>3</td>\n",
       "      <td>8</td>\n",
       "      <td>2017</td>\n",
       "      <td>другой</td>\n",
       "      <td>31.0</td>\n",
       "    </tr>\n",
       "    <tr>\n",
       "      <th>15780</th>\n",
       "      <td>9</td>\n",
       "      <td>12990000.0</td>\n",
       "      <td>119.6</td>\n",
       "      <td>2017-03-13</td>\n",
       "      <td>3</td>\n",
       "      <td>3.0</td>\n",
       "      <td>5.0</td>\n",
       "      <td>36.4</td>\n",
       "      <td>4</td>\n",
       "      <td>False</td>\n",
       "      <td>...</td>\n",
       "      <td>569.0</td>\n",
       "      <td>0.0</td>\n",
       "      <td>NaN</td>\n",
       "      <td>&lt;NA&gt;</td>\n",
       "      <td>108612.04</td>\n",
       "      <td>0</td>\n",
       "      <td>3</td>\n",
       "      <td>2017</td>\n",
       "      <td>другой</td>\n",
       "      <td>31.0</td>\n",
       "    </tr>\n",
       "    <tr>\n",
       "      <th>17912</th>\n",
       "      <td>17</td>\n",
       "      <td>135000000.0</td>\n",
       "      <td>166.0</td>\n",
       "      <td>2019-02-07</td>\n",
       "      <td>3</td>\n",
       "      <td>3.3</td>\n",
       "      <td>7.0</td>\n",
       "      <td>52.0</td>\n",
       "      <td>1</td>\n",
       "      <td>True</td>\n",
       "      <td>...</td>\n",
       "      <td>230.0</td>\n",
       "      <td>3.0</td>\n",
       "      <td>215.0</td>\n",
       "      <td>&lt;NA&gt;</td>\n",
       "      <td>813253.01</td>\n",
       "      <td>3</td>\n",
       "      <td>2</td>\n",
       "      <td>2019</td>\n",
       "      <td>первый</td>\n",
       "      <td>6.0</td>\n",
       "    </tr>\n",
       "    <tr>\n",
       "      <th>18447</th>\n",
       "      <td>17</td>\n",
       "      <td>21800000.0</td>\n",
       "      <td>187.0</td>\n",
       "      <td>2018-01-14</td>\n",
       "      <td>5</td>\n",
       "      <td>NaN</td>\n",
       "      <td>4.0</td>\n",
       "      <td>120.0</td>\n",
       "      <td>4</td>\n",
       "      <td>True</td>\n",
       "      <td>...</td>\n",
       "      <td>756.0</td>\n",
       "      <td>2.0</td>\n",
       "      <td>278.0</td>\n",
       "      <td>&lt;NA&gt;</td>\n",
       "      <td>116577.54</td>\n",
       "      <td>6</td>\n",
       "      <td>1</td>\n",
       "      <td>2018</td>\n",
       "      <td>последний</td>\n",
       "      <td>15.0</td>\n",
       "    </tr>\n",
       "    <tr>\n",
       "      <th>22980</th>\n",
       "      <td>19</td>\n",
       "      <td>24500000.0</td>\n",
       "      <td>155.4</td>\n",
       "      <td>2017-10-10</td>\n",
       "      <td>3</td>\n",
       "      <td>3.0</td>\n",
       "      <td>4.0</td>\n",
       "      <td>72.0</td>\n",
       "      <td>2</td>\n",
       "      <td>True</td>\n",
       "      <td>...</td>\n",
       "      <td>756.0</td>\n",
       "      <td>2.0</td>\n",
       "      <td>278.0</td>\n",
       "      <td>325</td>\n",
       "      <td>157657.66</td>\n",
       "      <td>1</td>\n",
       "      <td>10</td>\n",
       "      <td>2017</td>\n",
       "      <td>другой</td>\n",
       "      <td>15.0</td>\n",
       "    </tr>\n",
       "    <tr>\n",
       "      <th>1085</th>\n",
       "      <td>16</td>\n",
       "      <td>75000000.0</td>\n",
       "      <td>323.0</td>\n",
       "      <td>2017-07-10</td>\n",
       "      <td>5</td>\n",
       "      <td>4.0</td>\n",
       "      <td>5.0</td>\n",
       "      <td>255.7</td>\n",
       "      <td>4</td>\n",
       "      <td>True</td>\n",
       "      <td>...</td>\n",
       "      <td>398.0</td>\n",
       "      <td>2.0</td>\n",
       "      <td>515.0</td>\n",
       "      <td>259</td>\n",
       "      <td>232198.14</td>\n",
       "      <td>0</td>\n",
       "      <td>7</td>\n",
       "      <td>2017</td>\n",
       "      <td>другой</td>\n",
       "      <td>1.0</td>\n",
       "    </tr>\n",
       "    <tr>\n",
       "      <th>15651</th>\n",
       "      <td>20</td>\n",
       "      <td>300000000.0</td>\n",
       "      <td>618.0</td>\n",
       "      <td>2017-12-18</td>\n",
       "      <td>7</td>\n",
       "      <td>3.4</td>\n",
       "      <td>7.0</td>\n",
       "      <td>258.0</td>\n",
       "      <td>5</td>\n",
       "      <td>True</td>\n",
       "      <td>...</td>\n",
       "      <td>NaN</td>\n",
       "      <td>2.0</td>\n",
       "      <td>198.0</td>\n",
       "      <td>111</td>\n",
       "      <td>485436.89</td>\n",
       "      <td>0</td>\n",
       "      <td>12</td>\n",
       "      <td>2017</td>\n",
       "      <td>другой</td>\n",
       "      <td>5.0</td>\n",
       "    </tr>\n",
       "    <tr>\n",
       "      <th>6193</th>\n",
       "      <td>19</td>\n",
       "      <td>24300000.0</td>\n",
       "      <td>230.0</td>\n",
       "      <td>2016-06-03</td>\n",
       "      <td>4</td>\n",
       "      <td>NaN</td>\n",
       "      <td>3.0</td>\n",
       "      <td>90.0</td>\n",
       "      <td>2</td>\n",
       "      <td>False</td>\n",
       "      <td>...</td>\n",
       "      <td>NaN</td>\n",
       "      <td>1.0</td>\n",
       "      <td>345.0</td>\n",
       "      <td>397</td>\n",
       "      <td>105652.17</td>\n",
       "      <td>4</td>\n",
       "      <td>6</td>\n",
       "      <td>2016</td>\n",
       "      <td>другой</td>\n",
       "      <td>15.0</td>\n",
       "    </tr>\n",
       "    <tr>\n",
       "      <th>16647</th>\n",
       "      <td>15</td>\n",
       "      <td>122000000.0</td>\n",
       "      <td>145.0</td>\n",
       "      <td>2017-04-25</td>\n",
       "      <td>3</td>\n",
       "      <td>3.3</td>\n",
       "      <td>6.0</td>\n",
       "      <td>36.0</td>\n",
       "      <td>2</td>\n",
       "      <td>True</td>\n",
       "      <td>...</td>\n",
       "      <td>478.0</td>\n",
       "      <td>3.0</td>\n",
       "      <td>250.0</td>\n",
       "      <td>335</td>\n",
       "      <td>841379.31</td>\n",
       "      <td>1</td>\n",
       "      <td>4</td>\n",
       "      <td>2017</td>\n",
       "      <td>другой</td>\n",
       "      <td>7.0</td>\n",
       "    </tr>\n",
       "    <tr>\n",
       "      <th>14644</th>\n",
       "      <td>17</td>\n",
       "      <td>47000000.0</td>\n",
       "      <td>150.0</td>\n",
       "      <td>2017-02-28</td>\n",
       "      <td>4</td>\n",
       "      <td>3.7</td>\n",
       "      <td>6.0</td>\n",
       "      <td>58.0</td>\n",
       "      <td>5</td>\n",
       "      <td>True</td>\n",
       "      <td>...</td>\n",
       "      <td>NaN</td>\n",
       "      <td>0.0</td>\n",
       "      <td>NaN</td>\n",
       "      <td>507</td>\n",
       "      <td>313333.33</td>\n",
       "      <td>1</td>\n",
       "      <td>2</td>\n",
       "      <td>2017</td>\n",
       "      <td>другой</td>\n",
       "      <td>8.0</td>\n",
       "    </tr>\n",
       "    <tr>\n",
       "      <th>4394</th>\n",
       "      <td>20</td>\n",
       "      <td>57000000.0</td>\n",
       "      <td>174.0</td>\n",
       "      <td>2015-11-09</td>\n",
       "      <td>3</td>\n",
       "      <td>3.2</td>\n",
       "      <td>10.0</td>\n",
       "      <td>95.0</td>\n",
       "      <td>6</td>\n",
       "      <td>True</td>\n",
       "      <td>...</td>\n",
       "      <td>193.0</td>\n",
       "      <td>3.0</td>\n",
       "      <td>199.0</td>\n",
       "      <td>1039</td>\n",
       "      <td>327586.21</td>\n",
       "      <td>0</td>\n",
       "      <td>11</td>\n",
       "      <td>2015</td>\n",
       "      <td>другой</td>\n",
       "      <td>4.0</td>\n",
       "    </tr>\n",
       "    <tr>\n",
       "      <th>492</th>\n",
       "      <td>18</td>\n",
       "      <td>95000000.0</td>\n",
       "      <td>216.0</td>\n",
       "      <td>2017-12-05</td>\n",
       "      <td>4</td>\n",
       "      <td>3.0</td>\n",
       "      <td>5.0</td>\n",
       "      <td>86.0</td>\n",
       "      <td>4</td>\n",
       "      <td>True</td>\n",
       "      <td>...</td>\n",
       "      <td>138.0</td>\n",
       "      <td>3.0</td>\n",
       "      <td>620.0</td>\n",
       "      <td>14</td>\n",
       "      <td>439814.81</td>\n",
       "      <td>1</td>\n",
       "      <td>12</td>\n",
       "      <td>2017</td>\n",
       "      <td>другой</td>\n",
       "      <td>0.0</td>\n",
       "    </tr>\n",
       "    <tr>\n",
       "      <th>10867</th>\n",
       "      <td>1</td>\n",
       "      <td>56844500.0</td>\n",
       "      <td>177.9</td>\n",
       "      <td>2015-01-15</td>\n",
       "      <td>3</td>\n",
       "      <td>NaN</td>\n",
       "      <td>6.0</td>\n",
       "      <td>87.2</td>\n",
       "      <td>5</td>\n",
       "      <td>True</td>\n",
       "      <td>...</td>\n",
       "      <td>160.0</td>\n",
       "      <td>3.0</td>\n",
       "      <td>569.0</td>\n",
       "      <td>&lt;NA&gt;</td>\n",
       "      <td>319530.64</td>\n",
       "      <td>3</td>\n",
       "      <td>1</td>\n",
       "      <td>2015</td>\n",
       "      <td>другой</td>\n",
       "      <td>0.0</td>\n",
       "    </tr>\n",
       "    <tr>\n",
       "      <th>16797</th>\n",
       "      <td>9</td>\n",
       "      <td>65850000.0</td>\n",
       "      <td>146.0</td>\n",
       "      <td>2017-07-14</td>\n",
       "      <td>2</td>\n",
       "      <td>NaN</td>\n",
       "      <td>9.0</td>\n",
       "      <td>40.0</td>\n",
       "      <td>3</td>\n",
       "      <td>True</td>\n",
       "      <td>...</td>\n",
       "      <td>116.0</td>\n",
       "      <td>0.0</td>\n",
       "      <td>NaN</td>\n",
       "      <td>77</td>\n",
       "      <td>451027.40</td>\n",
       "      <td>4</td>\n",
       "      <td>7</td>\n",
       "      <td>2017</td>\n",
       "      <td>другой</td>\n",
       "      <td>6.0</td>\n",
       "    </tr>\n",
       "    <tr>\n",
       "      <th>16239</th>\n",
       "      <td>5</td>\n",
       "      <td>82400000.0</td>\n",
       "      <td>181.1</td>\n",
       "      <td>2017-05-24</td>\n",
       "      <td>3</td>\n",
       "      <td>3.9</td>\n",
       "      <td>9.0</td>\n",
       "      <td>58.2</td>\n",
       "      <td>4</td>\n",
       "      <td>False</td>\n",
       "      <td>...</td>\n",
       "      <td>116.0</td>\n",
       "      <td>0.0</td>\n",
       "      <td>NaN</td>\n",
       "      <td>501</td>\n",
       "      <td>454997.24</td>\n",
       "      <td>2</td>\n",
       "      <td>5</td>\n",
       "      <td>2017</td>\n",
       "      <td>другой</td>\n",
       "      <td>6.0</td>\n",
       "    </tr>\n",
       "    <tr>\n",
       "      <th>5358</th>\n",
       "      <td>20</td>\n",
       "      <td>65000000.0</td>\n",
       "      <td>590.0</td>\n",
       "      <td>2019-02-14</td>\n",
       "      <td>15</td>\n",
       "      <td>3.5</td>\n",
       "      <td>6.0</td>\n",
       "      <td>409.0</td>\n",
       "      <td>3</td>\n",
       "      <td>True</td>\n",
       "      <td>...</td>\n",
       "      <td>767.0</td>\n",
       "      <td>0.0</td>\n",
       "      <td>NaN</td>\n",
       "      <td>14</td>\n",
       "      <td>110169.49</td>\n",
       "      <td>3</td>\n",
       "      <td>2</td>\n",
       "      <td>2019</td>\n",
       "      <td>другой</td>\n",
       "      <td>5.0</td>\n",
       "    </tr>\n",
       "    <tr>\n",
       "      <th>2489</th>\n",
       "      <td>9</td>\n",
       "      <td>12500000.0</td>\n",
       "      <td>255.0</td>\n",
       "      <td>2017-04-21</td>\n",
       "      <td>3</td>\n",
       "      <td>NaN</td>\n",
       "      <td>2.0</td>\n",
       "      <td>153.9</td>\n",
       "      <td>2</td>\n",
       "      <td>True</td>\n",
       "      <td>...</td>\n",
       "      <td>NaN</td>\n",
       "      <td>3.0</td>\n",
       "      <td>198.0</td>\n",
       "      <td>102</td>\n",
       "      <td>49019.61</td>\n",
       "      <td>4</td>\n",
       "      <td>4</td>\n",
       "      <td>2017</td>\n",
       "      <td>последний</td>\n",
       "      <td>7.0</td>\n",
       "    </tr>\n",
       "    <tr>\n",
       "      <th>20215</th>\n",
       "      <td>2</td>\n",
       "      <td>85000000.0</td>\n",
       "      <td>249.7</td>\n",
       "      <td>2018-02-01</td>\n",
       "      <td>3</td>\n",
       "      <td>NaN</td>\n",
       "      <td>10.0</td>\n",
       "      <td>72.0</td>\n",
       "      <td>9</td>\n",
       "      <td>True</td>\n",
       "      <td>...</td>\n",
       "      <td>2218.0</td>\n",
       "      <td>2.0</td>\n",
       "      <td>99.0</td>\n",
       "      <td>26</td>\n",
       "      <td>340408.49</td>\n",
       "      <td>3</td>\n",
       "      <td>2</td>\n",
       "      <td>2018</td>\n",
       "      <td>другой</td>\n",
       "      <td>5.0</td>\n",
       "    </tr>\n",
       "    <tr>\n",
       "      <th>19540</th>\n",
       "      <td>8</td>\n",
       "      <td>420000000.0</td>\n",
       "      <td>900.0</td>\n",
       "      <td>2017-12-06</td>\n",
       "      <td>12</td>\n",
       "      <td>2.8</td>\n",
       "      <td>25.0</td>\n",
       "      <td>409.7</td>\n",
       "      <td>25</td>\n",
       "      <td>True</td>\n",
       "      <td>...</td>\n",
       "      <td>NaN</td>\n",
       "      <td>2.0</td>\n",
       "      <td>318.0</td>\n",
       "      <td>106</td>\n",
       "      <td>466666.67</td>\n",
       "      <td>2</td>\n",
       "      <td>12</td>\n",
       "      <td>2017</td>\n",
       "      <td>последний</td>\n",
       "      <td>8.0</td>\n",
       "    </tr>\n",
       "  </tbody>\n",
       "</table>\n",
       "<p>20 rows × 28 columns</p>\n",
       "</div>"
      ],
      "text/plain": [
       "       total_images   last_price  total_area first_day_exposition  rooms  \\\n",
       "7543             20  130000000.0       307.8           2016-04-24      5   \n",
       "19499            10    8000000.0       118.0           2017-08-31      3   \n",
       "15780             9   12990000.0       119.6           2017-03-13      3   \n",
       "17912            17  135000000.0       166.0           2019-02-07      3   \n",
       "18447            17   21800000.0       187.0           2018-01-14      5   \n",
       "22980            19   24500000.0       155.4           2017-10-10      3   \n",
       "1085             16   75000000.0       323.0           2017-07-10      5   \n",
       "15651            20  300000000.0       618.0           2017-12-18      7   \n",
       "6193             19   24300000.0       230.0           2016-06-03      4   \n",
       "16647            15  122000000.0       145.0           2017-04-25      3   \n",
       "14644            17   47000000.0       150.0           2017-02-28      4   \n",
       "4394             20   57000000.0       174.0           2015-11-09      3   \n",
       "492              18   95000000.0       216.0           2017-12-05      4   \n",
       "10867             1   56844500.0       177.9           2015-01-15      3   \n",
       "16797             9   65850000.0       146.0           2017-07-14      2   \n",
       "16239             5   82400000.0       181.1           2017-05-24      3   \n",
       "5358             20   65000000.0       590.0           2019-02-14     15   \n",
       "2489              9   12500000.0       255.0           2017-04-21      3   \n",
       "20215             2   85000000.0       249.7           2018-02-01      3   \n",
       "19540             8  420000000.0       900.0           2017-12-06     12   \n",
       "\n",
       "       ceiling_height  floors_total  living_area  floor  is_apartment  ...  \\\n",
       "7543              NaN           4.0        187.9      3          True  ...   \n",
       "19499             3.0           5.0         36.0      4         False  ...   \n",
       "15780             3.0           5.0         36.4      4         False  ...   \n",
       "17912             3.3           7.0         52.0      1          True  ...   \n",
       "18447             NaN           4.0        120.0      4          True  ...   \n",
       "22980             3.0           4.0         72.0      2          True  ...   \n",
       "1085              4.0           5.0        255.7      4          True  ...   \n",
       "15651             3.4           7.0        258.0      5          True  ...   \n",
       "6193              NaN           3.0         90.0      2         False  ...   \n",
       "16647             3.3           6.0         36.0      2          True  ...   \n",
       "14644             3.7           6.0         58.0      5          True  ...   \n",
       "4394              3.2          10.0         95.0      6          True  ...   \n",
       "492               3.0           5.0         86.0      4          True  ...   \n",
       "10867             NaN           6.0         87.2      5          True  ...   \n",
       "16797             NaN           9.0         40.0      3          True  ...   \n",
       "16239             3.9           9.0         58.2      4         False  ...   \n",
       "5358              3.5           6.0        409.0      3          True  ...   \n",
       "2489              NaN           2.0        153.9      2          True  ...   \n",
       "20215             NaN          10.0         72.0      9          True  ...   \n",
       "19540             2.8          25.0        409.7     25          True  ...   \n",
       "\n",
       "       parks_nearest  ponds_around3000  ponds_nearest  days_exposition  \\\n",
       "7543             NaN               1.0          603.0             1094   \n",
       "19499          569.0               0.0            NaN                7   \n",
       "15780          569.0               0.0            NaN             <NA>   \n",
       "17912          230.0               3.0          215.0             <NA>   \n",
       "18447          756.0               2.0          278.0             <NA>   \n",
       "22980          756.0               2.0          278.0              325   \n",
       "1085           398.0               2.0          515.0              259   \n",
       "15651            NaN               2.0          198.0              111   \n",
       "6193             NaN               1.0          345.0              397   \n",
       "16647          478.0               3.0          250.0              335   \n",
       "14644            NaN               0.0            NaN              507   \n",
       "4394           193.0               3.0          199.0             1039   \n",
       "492            138.0               3.0          620.0               14   \n",
       "10867          160.0               3.0          569.0             <NA>   \n",
       "16797          116.0               0.0            NaN               77   \n",
       "16239          116.0               0.0            NaN              501   \n",
       "5358           767.0               0.0            NaN               14   \n",
       "2489             NaN               3.0          198.0              102   \n",
       "20215         2218.0               2.0           99.0               26   \n",
       "19540            NaN               2.0          318.0              106   \n",
       "\n",
       "      one_square_price  weekday_exposition  month_exposition  year_exposition  \\\n",
       "7543         422352.18                   6                 4             2016   \n",
       "19499         67796.61                   3                 8             2017   \n",
       "15780        108612.04                   0                 3             2017   \n",
       "17912        813253.01                   3                 2             2019   \n",
       "18447        116577.54                   6                 1             2018   \n",
       "22980        157657.66                   1                10             2017   \n",
       "1085         232198.14                   0                 7             2017   \n",
       "15651        485436.89                   0                12             2017   \n",
       "6193         105652.17                   4                 6             2016   \n",
       "16647        841379.31                   1                 4             2017   \n",
       "14644        313333.33                   1                 2             2017   \n",
       "4394         327586.21                   0                11             2015   \n",
       "492          439814.81                   1                12             2017   \n",
       "10867        319530.64                   3                 1             2015   \n",
       "16797        451027.40                   4                 7             2017   \n",
       "16239        454997.24                   2                 5             2017   \n",
       "5358         110169.49                   3                 2             2019   \n",
       "2489          49019.61                   4                 4             2017   \n",
       "20215        340408.49                   3                 2             2018   \n",
       "19540        466666.67                   2                12             2017   \n",
       "\n",
       "       floor_category  city_centers_nearest_km  \n",
       "7543           другой                      5.0  \n",
       "19499          другой                     31.0  \n",
       "15780          другой                     31.0  \n",
       "17912          первый                      6.0  \n",
       "18447       последний                     15.0  \n",
       "22980          другой                     15.0  \n",
       "1085           другой                      1.0  \n",
       "15651          другой                      5.0  \n",
       "6193           другой                     15.0  \n",
       "16647          другой                      7.0  \n",
       "14644          другой                      8.0  \n",
       "4394           другой                      4.0  \n",
       "492            другой                      0.0  \n",
       "10867          другой                      0.0  \n",
       "16797          другой                      6.0  \n",
       "16239          другой                      6.0  \n",
       "5358           другой                      5.0  \n",
       "2489        последний                      7.0  \n",
       "20215          другой                      5.0  \n",
       "19540       последний                      8.0  \n",
       "\n",
       "[20 rows x 28 columns]"
      ]
     },
     "execution_count": 19,
     "metadata": {},
     "output_type": "execute_result"
    }
   ],
   "source": [
    "data.loc[data['kitchen_area'].isna() == False].sort_values(by = 'kitchen_area').tail(20)"
   ]
  },
  {
   "cell_type": "code",
   "execution_count": 20,
   "metadata": {},
   "outputs": [
    {
     "data": {
      "text/plain": [
       "total_area      0\n",
       "kitchen_area    0\n",
       "dtype: int64"
      ]
     },
     "execution_count": 20,
     "metadata": {},
     "output_type": "execute_result"
    }
   ],
   "source": [
    "(data[['total_area', 'kitchen_area']].loc[(data['kitchen_area'].isna() == False) & (data['kitchen_area'] > data['total_area'])].\n",
    " sort_values(by = 'kitchen_area').\n",
    " count()) #проверяем, есть ли такие значения, где общая площадь меньше чем площадь кухни\n",
    "#похоже что с кухнями тоже все в норме"
   ]
  },
  {
   "cell_type": "code",
   "execution_count": 21,
   "metadata": {},
   "outputs": [
    {
     "data": {
      "text/plain": [
       "array([[<AxesSubplot:title={'center':'last_price'}>]], dtype=object)"
      ]
     },
     "execution_count": 21,
     "metadata": {},
     "output_type": "execute_result"
    },
    {
     "data": {
      "image/png": "[encoded data removed]",
      "text/plain": [
       "<Figure size 432x288 with 1 Axes>"
      ]
     },
     "metadata": {
      "needs_background": "light"
     },
     "output_type": "display_data"
    }
   ],
   "source": [
    "# цена\n",
    "data.hist('last_price', bins = 40, range = (0, 60000000))"
   ]
  },
  {
   "cell_type": "code",
   "execution_count": 22,
   "metadata": {},
   "outputs": [
    {
     "data": {
      "text/plain": [
       "count    2.369900e+04\n",
       "mean     6.541549e+06\n",
       "std      1.088701e+07\n",
       "min      1.219000e+04\n",
       "25%      3.400000e+06\n",
       "50%      4.650000e+06\n",
       "75%      6.800000e+06\n",
       "max      7.630000e+08\n",
       "Name: last_price, dtype: float64"
      ]
     },
     "execution_count": 22,
     "metadata": {},
     "output_type": "execute_result"
    }
   ],
   "source": [
    "data['last_price'].describe()\n",
    "#тут вроде тоже все нормально"
   ]
  },
  {
   "cell_type": "code",
   "execution_count": 23,
   "metadata": {
    "scrolled": true
   },
   "outputs": [
    {
     "data": {
      "text/plain": [
       "array([[<AxesSubplot:title={'center':'rooms'}>]], dtype=object)"
      ]
     },
     "execution_count": 23,
     "metadata": {},
     "output_type": "execute_result"
    },
    {
     "data": {
      "image/png": "[encoded data removed]",
      "text/plain": [
       "<Figure size 432x288 with 1 Axes>"
      ]
     },
     "metadata": {
      "needs_background": "light"
     },
     "output_type": "display_data"
    }
   ],
   "source": [
    "#комнаты\n",
    "data.hist('rooms', bins = 20)"
   ]
  },
  {
   "cell_type": "code",
   "execution_count": 24,
   "metadata": {},
   "outputs": [
    {
     "data": {
      "text/plain": [
       "count    23699.000000\n",
       "mean         2.070636\n",
       "std          1.078405\n",
       "min          0.000000\n",
       "25%          1.000000\n",
       "50%          2.000000\n",
       "75%          3.000000\n",
       "max         19.000000\n",
       "Name: rooms, dtype: float64"
      ]
     },
     "execution_count": 24,
     "metadata": {},
     "output_type": "execute_result"
    }
   ],
   "source": [
    "data['rooms'].describe()"
   ]
  },
  {
   "cell_type": "code",
   "execution_count": 25,
   "metadata": {},
   "outputs": [
    {
     "name": "stdout",
     "output_type": "stream",
     "text": [
      "197\n"
     ]
    }
   ],
   "source": [
    "print(data['rooms'].loc[data['rooms'] == 0].count()) # избавимся от данных с нулевым количеством комнат, их не так много, поэтому они не сильно повлияют на анализ\n",
    "data = data.loc[data['rooms'] != 0]"
   ]
  },
  {
   "cell_type": "code",
   "execution_count": 26,
   "metadata": {},
   "outputs": [
    {
     "data": {
      "text/plain": [
       "count    23502.000000\n",
       "mean         2.087993\n",
       "std          1.066050\n",
       "min          1.000000\n",
       "25%          1.000000\n",
       "50%          2.000000\n",
       "75%          3.000000\n",
       "max         19.000000\n",
       "Name: rooms, dtype: float64"
      ]
     },
     "execution_count": 26,
     "metadata": {},
     "output_type": "execute_result"
    }
   ],
   "source": [
    "data['rooms'].describe()"
   ]
  },
  {
   "cell_type": "code",
   "execution_count": 27,
   "metadata": {},
   "outputs": [
    {
     "data": {
      "text/plain": [
       "count    14422.000000\n",
       "mean         2.769607\n",
       "std          1.248101\n",
       "min          1.000000\n",
       "25%          2.510000\n",
       "50%          2.650000\n",
       "75%          2.800000\n",
       "max        100.000000\n",
       "Name: ceiling_height, dtype: float64"
      ]
     },
     "execution_count": 27,
     "metadata": {},
     "output_type": "execute_result"
    }
   ],
   "source": [
    "data['ceiling_height'].describe()"
   ]
  },
  {
   "cell_type": "code",
   "execution_count": 28,
   "metadata": {},
   "outputs": [
    {
     "data": {
      "text/plain": [
       "<AxesSubplot:>"
      ]
     },
     "execution_count": 28,
     "metadata": {},
     "output_type": "execute_result"
    },
    {
     "data": {
      "image/png": "[encoded data removed]",
      "text/plain": [
       "<Figure size 360x1440 with 1 Axes>"
      ]
     },
     "metadata": {
      "needs_background": "light"
     },
     "output_type": "display_data"
    }
   ],
   "source": [
    "data.boxplot('ceiling_height', figsize = (5, 20))"
   ]
  },
  {
   "cell_type": "markdown",
   "metadata": {},
   "source": [
    "прослеживаются подозрительно высокие потолки, избавимся от выбросов и заменим все значения от 25 до 40 на значения деленные на 10"
   ]
  },
  {
   "cell_type": "code",
   "execution_count": 29,
   "metadata": {},
   "outputs": [
    {
     "data": {
      "text/plain": [
       "0.004595353586928772"
      ]
     },
     "execution_count": 29,
     "metadata": {},
     "output_type": "execute_result"
    }
   ],
   "source": [
    "data.loc[(data['ceiling_height'] >= 25) & (data['ceiling_height'] <= 40), 'ceiling_height'] /= 10\n",
    "data['ceiling_height'].loc[(data['ceiling_height'] <= 2) | (data['ceiling_height'] >= 4)].count() / len(data['ceiling_height'])"
   ]
  },
  {
   "cell_type": "markdown",
   "metadata": {},
   "source": [
    "выбросы составляют менее процента, поэтому избавимся от них"
   ]
  },
  {
   "cell_type": "code",
   "execution_count": 30,
   "metadata": {},
   "outputs": [
    {
     "data": {
      "text/plain": [
       "count    14422.000000\n",
       "mean         2.739559\n",
       "std          0.913085\n",
       "min          1.000000\n",
       "25%          2.510000\n",
       "50%          2.650000\n",
       "75%          2.800000\n",
       "max        100.000000\n",
       "Name: ceiling_height, dtype: float64"
      ]
     },
     "execution_count": 30,
     "metadata": {},
     "output_type": "execute_result"
    }
   ],
   "source": [
    "data['ceiling_height'].describe()"
   ]
  },
  {
   "cell_type": "code",
   "execution_count": 31,
   "metadata": {},
   "outputs": [],
   "source": [
    "#data = data.loc[(data['ceiling_height'] >= 2) & (data['ceiling_height'] <= 4)]\n",
    "#data.boxplot('ceiling_height', figsize = (5, 20))"
   ]
  },
  {
   "cell_type": "code",
   "execution_count": 32,
   "metadata": {},
   "outputs": [
    {
     "data": {
      "text/plain": [
       "<AxesSubplot:>"
      ]
     },
     "execution_count": 32,
     "metadata": {},
     "output_type": "execute_result"
    },
    {
     "data": {
      "image/png": "[encoded data removed]",
      "text/plain": [
       "<Figure size 360x1440 with 1 Axes>"
      ]
     },
     "metadata": {
      "needs_background": "light"
     },
     "output_type": "display_data"
    }
   ],
   "source": [
    "data['ceiling_height'] = data['ceiling_height'].apply(lambda x: data['ceiling_height'].loc[data['ceiling_height'] < 4].median() if x > 4 else x)\n",
    "data.boxplot('ceiling_height', figsize = (5, 20))"
   ]
  },
  {
   "cell_type": "markdown",
   "metadata": {},
   "source": [
    "рассмотрим общее количество этажей"
   ]
  },
  {
   "cell_type": "code",
   "execution_count": 33,
   "metadata": {},
   "outputs": [
    {
     "data": {
      "text/plain": [
       "<AxesSubplot:>"
      ]
     },
     "execution_count": 33,
     "metadata": {},
     "output_type": "execute_result"
    },
    {
     "data": {
      "image/png": "[encoded data removed]",
      "text/plain": [
       "<Figure size 432x288 with 1 Axes>"
      ]
     },
     "metadata": {
      "needs_background": "light"
     },
     "output_type": "display_data"
    }
   ],
   "source": [
    "data.boxplot('floors_total')\n",
    "#вполне реальные цифры"
   ]
  },
  {
   "cell_type": "markdown",
   "metadata": {},
   "source": [
    "теперь посмотрим расстояние до центра города в метрах"
   ]
  },
  {
   "cell_type": "code",
   "execution_count": 34,
   "metadata": {},
   "outputs": [
    {
     "data": {
      "text/plain": [
       "<AxesSubplot:>"
      ]
     },
     "execution_count": 34,
     "metadata": {},
     "output_type": "execute_result"
    },
    {
     "data": {
      "image/png": "[encoded data removed]",
      "text/plain": [
       "<Figure size 432x288 with 1 Axes>"
      ]
     },
     "metadata": {
      "needs_background": "light"
     },
     "output_type": "display_data"
    }
   ],
   "source": [
    "data.boxplot('cityCenters_nearest')"
   ]
  },
  {
   "cell_type": "code",
   "execution_count": 35,
   "metadata": {},
   "outputs": [
    {
     "data": {
      "text/plain": [
       "count    18062.000000\n",
       "mean     14196.521703\n",
       "std       8626.727604\n",
       "min        181.000000\n",
       "25%       9234.000000\n",
       "50%      13093.000000\n",
       "75%      16293.000000\n",
       "max      65968.000000\n",
       "Name: cityCenters_nearest, dtype: float64"
      ]
     },
     "execution_count": 35,
     "metadata": {},
     "output_type": "execute_result"
    }
   ],
   "source": [
    "data['cityCenters_nearest'].describe()"
   ]
  },
  {
   "cell_type": "markdown",
   "metadata": {},
   "source": [
    "не будем трогать эти данные, т к неизвестна причина по которой есть такие выбросы, возможно это реальное расстояние до центра"
   ]
  },
  {
   "cell_type": "markdown",
   "metadata": {},
   "source": [
    "И напоследок посмотрим расстояние до ближайшего парка"
   ]
  },
  {
   "cell_type": "code",
   "execution_count": 36,
   "metadata": {},
   "outputs": [
    {
     "data": {
      "text/plain": [
       "<AxesSubplot:>"
      ]
     },
     "execution_count": 36,
     "metadata": {},
     "output_type": "execute_result"
    },
    {
     "data": {
      "image/png": "[encoded data removed]",
      "text/plain": [
       "<Figure size 432x288 with 1 Axes>"
      ]
     },
     "metadata": {
      "needs_background": "light"
     },
     "output_type": "display_data"
    }
   ],
   "source": [
    "data.boxplot('parks_nearest')"
   ]
  },
  {
   "cell_type": "code",
   "execution_count": 37,
   "metadata": {},
   "outputs": [
    {
     "data": {
      "text/plain": [
       "count    8050.000000\n",
       "mean      490.429689\n",
       "std       342.411533\n",
       "min         1.000000\n",
       "25%       288.000000\n",
       "50%       454.000000\n",
       "75%       612.000000\n",
       "max      3190.000000\n",
       "Name: parks_nearest, dtype: float64"
      ]
     },
     "execution_count": 37,
     "metadata": {},
     "output_type": "execute_result"
    }
   ],
   "source": [
    "data['parks_nearest'].describe()"
   ]
  },
  {
   "cell_type": "markdown",
   "metadata": {},
   "source": [
    "График для категории этажей:"
   ]
  },
  {
   "cell_type": "code",
   "execution_count": 38,
   "metadata": {},
   "outputs": [
    {
     "data": {
      "text/plain": [
       "<AxesSubplot:>"
      ]
     },
     "execution_count": 38,
     "metadata": {},
     "output_type": "execute_result"
    },
    {
     "data": {
      "image/png": "[encoded data removed]",
      "text/plain": [
       "<Figure size 432x288 with 1 Axes>"
      ]
     },
     "metadata": {
      "needs_background": "light"
     },
     "output_type": "display_data"
    }
   ],
   "source": [
    "data['floor_category'].value_counts().plot(kind='bar')"
   ]
  },
  {
   "cell_type": "markdown",
   "metadata": {},
   "source": [
    "Все значения выглядят правдоподобными"
   ]
  },
  {
   "cell_type": "markdown",
   "metadata": {},
   "source": [
    "#### Рассмотрим как долго продавались квартиры:"
   ]
  },
  {
   "cell_type": "code",
   "execution_count": 39,
   "metadata": {},
   "outputs": [
    {
     "data": {
      "text/plain": [
       "count    20335.000000\n",
       "mean       181.533956\n",
       "std        220.096252\n",
       "min          1.000000\n",
       "25%         45.000000\n",
       "50%         96.000000\n",
       "75%        232.000000\n",
       "max       1580.000000\n",
       "Name: days_exposition, dtype: float64"
      ]
     },
     "execution_count": 39,
     "metadata": {},
     "output_type": "execute_result"
    }
   ],
   "source": [
    "data['days_exposition'].describe()"
   ]
  },
  {
   "cell_type": "code",
   "execution_count": 40,
   "metadata": {},
   "outputs": [
    {
     "data": {
      "text/plain": [
       "<AxesSubplot:>"
      ]
     },
     "execution_count": 40,
     "metadata": {},
     "output_type": "execute_result"
    },
    {
     "data": {
      "image/png": "[encoded data removed]",
      "text/plain": [
       "<Figure size 432x288 with 1 Axes>"
      ]
     },
     "metadata": {
      "needs_background": "light"
     },
     "output_type": "display_data"
    }
   ],
   "source": [
    "data['days_exposition'].hist(bins = 40)"
   ]
  },
  {
   "cell_type": "code",
   "execution_count": 41,
   "metadata": {},
   "outputs": [
    {
     "data": {
      "text/plain": [
       "<AxesSubplot:>"
      ]
     },
     "execution_count": 41,
     "metadata": {},
     "output_type": "execute_result"
    },
    {
     "data": {
      "image/png": "[encoded data removed]",
      "text/plain": [
       "<Figure size 360x720 with 1 Axes>"
      ]
     },
     "metadata": {
      "needs_background": "light"
     },
     "output_type": "display_data"
    }
   ],
   "source": [
    "data.boxplot('days_exposition', figsize = (5, 10))"
   ]
  },
  {
   "cell_type": "code",
   "execution_count": 42,
   "metadata": {},
   "outputs": [
    {
     "name": "stdout",
     "output_type": "stream",
     "text": [
      "Среднее значение: 181.53395623309564\n",
      "Медианное значение: 96.0\n"
     ]
    }
   ],
   "source": [
    "print('Среднее значение:', data['days_exposition'].mean())\n",
    "print(f'Медианное значение:', data['days_exposition'].median())"
   ]
  },
  {
   "cell_type": "markdown",
   "metadata": {},
   "source": [
    "Мы видим, что среднее значение больше медианного чуть больше чем в два раза, на это повлияли выбросы и большие значения, которые просматриваются на графике с усами.\n",
    "В среднем квартиры продаются 2-3 месяца, но есть и такие, которые продаются в самый первые 10 дней, либо наоборот, продаются слишком долго, более 1.5 года."
   ]
  },
  {
   "cell_type": "code",
   "execution_count": 43,
   "metadata": {},
   "outputs": [
    {
     "data": {
      "text/plain": [
       "7    228\n",
       "4    173\n",
       "3    154\n",
       "5    148\n",
       "9    142\n",
       "8    138\n",
       "6    123\n",
       "2      3\n",
       "1      1\n",
       "Name: days_exposition, dtype: Int64"
      ]
     },
     "execution_count": 43,
     "metadata": {},
     "output_type": "execute_result"
    }
   ],
   "source": [
    "data['days_exposition'].loc[data['days_exposition'] < 10].value_counts()#объявление висевшие менее 10 дней"
   ]
  },
  {
   "cell_type": "markdown",
   "metadata": {},
   "source": [
    "Подозрительно много продаж в первst день выставления объявления, попробуем понять почему так, рассмотрев среднюю цену за квадратный метр в первые 10 дней и во все остальные."
   ]
  },
  {
   "cell_type": "code",
   "execution_count": 44,
   "metadata": {
    "scrolled": true
   },
   "outputs": [
    {
     "name": "stdout",
     "output_type": "stream",
     "text": [
      "Медианное значение цены за квадратный метр в первые 10 дней: 96414.8\n"
     ]
    }
   ],
   "source": [
    "print('Медианное значение цены за квадратный метр в первые 10 дней:', data['one_square_price'].loc[data['days_exposition'] < 11].median())"
   ]
  },
  {
   "cell_type": "code",
   "execution_count": 45,
   "metadata": {},
   "outputs": [
    {
     "name": "stdout",
     "output_type": "stream",
     "text": [
      "Медианное значение цены за квадратный метр не в остальные дни: 93750.0\n"
     ]
    }
   ],
   "source": [
    "print('Медианное значение цены за квадратный метр не в остальные дни:', data['one_square_price'].loc[data['days_exposition'] > 10].median())"
   ]
  },
  {
   "cell_type": "markdown",
   "metadata": {},
   "source": [
    "Похоже, что быстрые продажи никак не связаны с ценой, оставим это и рассмортим далее долгие продажи по тому же принципу"
   ]
  },
  {
   "cell_type": "code",
   "execution_count": 46,
   "metadata": {},
   "outputs": [
    {
     "data": {
      "text/plain": [
       "549     13\n",
       "507     11\n",
       "594     11\n",
       "719     11\n",
       "626     10\n",
       "        ..\n",
       "1257     1\n",
       "1313     1\n",
       "1406     1\n",
       "1396     1\n",
       "1580     1\n",
       "Name: days_exposition, Length: 641, dtype: Int64"
      ]
     },
     "execution_count": 46,
     "metadata": {},
     "output_type": "execute_result"
    }
   ],
   "source": [
    "data['days_exposition'].loc[data['days_exposition'] > 500].value_counts() #Продажи висевшие более 500 дней"
   ]
  },
  {
   "cell_type": "code",
   "execution_count": 47,
   "metadata": {},
   "outputs": [
    {
     "name": "stdout",
     "output_type": "stream",
     "text": [
      "Медианное значение цены за кв м объявлений висевших более 10 дней и менее 500: 93589.74\n",
      "Медианное значение цены за кв объявлений висевших более более 500 дней: 95192.31\n"
     ]
    }
   ],
   "source": [
    "print('Медианное значение цены за кв м объявлений висевших более 10 дней и менее 500:', data['one_square_price'].loc[(data['days_exposition'] < 500) & (data['days_exposition'] > 10)].median())\n",
    "print('Медианное значение цены за кв объявлений висевших более более 500 дней:', data['one_square_price'].loc[(data['days_exposition']) > 500].median())\n"
   ]
  },
  {
   "cell_type": "markdown",
   "metadata": {},
   "source": [
    "Та же ситуация что и с быстрыми продажами, непонятно вообще из-за чего квартиры продаются так долго"
   ]
  },
  {
   "cell_type": "markdown",
   "metadata": {},
   "source": [
    "#### Рассмотрим какие значения вляют на общую стоимость объекта"
   ]
  },
  {
   "cell_type": "code",
   "execution_count": 48,
   "metadata": {},
   "outputs": [
    {
     "name": "stdout",
     "output_type": "stream",
     "text": [
      "0.6531162323425472 - корреляция\n"
     ]
    },
    {
     "data": {
      "image/png": "[encoded data removed]",
      "text/plain": [
       "<Figure size 360x360 with 1 Axes>"
      ]
     },
     "metadata": {
      "needs_background": "light"
     },
     "output_type": "display_data"
    }
   ],
   "source": [
    "data.plot(x='total_area', y='last_price', kind='scatter', alpha=0.1, figsize = (5,5), title = 'Зависимость цены от общей площади')\n",
    "print(data['total_area'].corr(data['last_price']), '- корреляция') #кореляция"
   ]
  },
  {
   "cell_type": "markdown",
   "metadata": {},
   "source": [
    "По графику и по корреляция можно понять, что цена за объект зависит от общей площади, чем больше площадь, тем больше стоимость квартиры"
   ]
  },
  {
   "cell_type": "code",
   "execution_count": 49,
   "metadata": {
    "scrolled": true
   },
   "outputs": [
    {
     "name": "stdout",
     "output_type": "stream",
     "text": [
      "0.5660247789274262 - корреляция\n"
     ]
    },
    {
     "data": {
      "image/png": "[encoded data removed]",
      "text/plain": [
       "<Figure size 360x360 with 1 Axes>"
      ]
     },
     "metadata": {
      "needs_background": "light"
     },
     "output_type": "display_data"
    }
   ],
   "source": [
    "data.plot(x='living_area', y='last_price', kind='scatter', alpha=0.1, figsize = (5,5), title = 'Зависимость цены от жилой площади')\n",
    "print(data['living_area'].corr(data['last_price']), '- корреляция') #кореляция"
   ]
  },
  {
   "cell_type": "markdown",
   "metadata": {},
   "source": [
    "По графику и по корреляция можно понять, что цена за объект на прямую зависит от жилой площади, чем больше площадь, тем больше стоимость квартиры"
   ]
  },
  {
   "cell_type": "code",
   "execution_count": 50,
   "metadata": {},
   "outputs": [
    {
     "name": "stdout",
     "output_type": "stream",
     "text": [
      "0.5198690130216392 - корреляция\n"
     ]
    },
    {
     "data": {
      "image/png": "[encoded data removed]",
      "text/plain": [
       "<Figure size 360x360 with 1 Axes>"
      ]
     },
     "metadata": {
      "needs_background": "light"
     },
     "output_type": "display_data"
    }
   ],
   "source": [
    "data.plot(x='kitchen_area', y='last_price', kind='scatter', alpha=0.1, figsize = (5,5), title = 'Зависимость цены от площади кухни')\n",
    "print(data['kitchen_area'].corr(data['last_price']), '- корреляция') #кореляция"
   ]
  },
  {
   "cell_type": "markdown",
   "metadata": {},
   "source": [
    "по корреляции можно понять, что есть связь между ценой и площадью кухни есть но не слишком сильная, чем больше площадь кухни, тем больше цена, но так бывает не всегда."
   ]
  },
  {
   "cell_type": "code",
   "execution_count": 51,
   "metadata": {},
   "outputs": [
    {
     "data": {
      "text/html": [
       "<div>\n",
       "<style scoped>\n",
       "    .dataframe tbody tr th:only-of-type {\n",
       "        vertical-align: middle;\n",
       "    }\n",
       "\n",
       "    .dataframe tbody tr th {\n",
       "        vertical-align: top;\n",
       "    }\n",
       "\n",
       "    .dataframe thead th {\n",
       "        text-align: right;\n",
       "    }\n",
       "</style>\n",
       "<table border=\"1\" class=\"dataframe\">\n",
       "  <thead>\n",
       "    <tr style=\"text-align: right;\">\n",
       "      <th></th>\n",
       "      <th>mean</th>\n",
       "      <th>count</th>\n",
       "      <th>median</th>\n",
       "    </tr>\n",
       "    <tr>\n",
       "      <th>floor_category</th>\n",
       "      <th></th>\n",
       "      <th></th>\n",
       "      <th></th>\n",
       "    </tr>\n",
       "  </thead>\n",
       "  <tbody>\n",
       "    <tr>\n",
       "      <th>первый</th>\n",
       "      <td>81899.058689</td>\n",
       "      <td>2899</td>\n",
       "      <td>81218.27</td>\n",
       "    </tr>\n",
       "    <tr>\n",
       "      <th>последний</th>\n",
       "      <td>93380.911335</td>\n",
       "      <td>3325</td>\n",
       "      <td>87771.20</td>\n",
       "    </tr>\n",
       "  </tbody>\n",
       "</table>\n",
       "</div>"
      ],
      "text/plain": [
       "                        mean  count    median\n",
       "floor_category                               \n",
       "первый          81899.058689   2899  81218.27\n",
       "последний       93380.911335   3325  87771.20"
      ]
     },
     "execution_count": 51,
     "metadata": {},
     "output_type": "execute_result"
    },
    {
     "data": {
      "image/png": "[encoded data removed]",
      "text/plain": [
       "<Figure size 432x288 with 1 Axes>"
      ]
     },
     "metadata": {
      "needs_background": "light"
     },
     "output_type": "display_data"
    }
   ],
   "source": [
    "pivot_table_floor_category = data.query('floor_category != \"другой\"').pivot_table(index = 'floor_category', values = 'one_square_price', aggfunc = ['mean', 'count', 'median'])\n",
    "pivot_table_floor_category.columns = ['mean', 'count', 'median']\n",
    "pivot_table_floor_category.plot.bar(y = 'median')\n",
    "pivot_table_floor_category"
   ]
  },
  {
   "cell_type": "markdown",
   "metadata": {},
   "source": [
    "Трудно сделать какие либо выводы по этим графикам, цена на первый этаж немного ниже чем на последний"
   ]
  },
  {
   "cell_type": "markdown",
   "metadata": {},
   "source": [
    "Изучим зависимость цены от дня недели:"
   ]
  },
  {
   "cell_type": "code",
   "execution_count": 52,
   "metadata": {},
   "outputs": [
    {
     "data": {
      "text/html": [
       "<div>\n",
       "<style scoped>\n",
       "    .dataframe tbody tr th:only-of-type {\n",
       "        vertical-align: middle;\n",
       "    }\n",
       "\n",
       "    .dataframe tbody tr th {\n",
       "        vertical-align: top;\n",
       "    }\n",
       "\n",
       "    .dataframe thead th {\n",
       "        text-align: right;\n",
       "    }\n",
       "</style>\n",
       "<table border=\"1\" class=\"dataframe\">\n",
       "  <thead>\n",
       "    <tr style=\"text-align: right;\">\n",
       "      <th></th>\n",
       "      <th>mean</th>\n",
       "      <th>count</th>\n",
       "      <th>median</th>\n",
       "    </tr>\n",
       "    <tr>\n",
       "      <th>weekday_exposition</th>\n",
       "      <th></th>\n",
       "      <th></th>\n",
       "      <th></th>\n",
       "    </tr>\n",
       "  </thead>\n",
       "  <tbody>\n",
       "    <tr>\n",
       "      <th>1</th>\n",
       "      <td>99693.295400</td>\n",
       "      <td>4148</td>\n",
       "      <td>95533.860</td>\n",
       "    </tr>\n",
       "    <tr>\n",
       "      <th>2</th>\n",
       "      <td>99543.492115</td>\n",
       "      <td>3944</td>\n",
       "      <td>95454.550</td>\n",
       "    </tr>\n",
       "    <tr>\n",
       "      <th>3</th>\n",
       "      <td>100029.766093</td>\n",
       "      <td>4257</td>\n",
       "      <td>95000.000</td>\n",
       "    </tr>\n",
       "    <tr>\n",
       "      <th>0</th>\n",
       "      <td>99415.216948</td>\n",
       "      <td>3591</td>\n",
       "      <td>94666.670</td>\n",
       "    </tr>\n",
       "    <tr>\n",
       "      <th>4</th>\n",
       "      <td>98889.712332</td>\n",
       "      <td>3950</td>\n",
       "      <td>94444.440</td>\n",
       "    </tr>\n",
       "    <tr>\n",
       "      <th>6</th>\n",
       "      <td>97648.673092</td>\n",
       "      <td>1688</td>\n",
       "      <td>94444.440</td>\n",
       "    </tr>\n",
       "    <tr>\n",
       "      <th>5</th>\n",
       "      <td>98969.515192</td>\n",
       "      <td>1924</td>\n",
       "      <td>93473.365</td>\n",
       "    </tr>\n",
       "  </tbody>\n",
       "</table>\n",
       "</div>"
      ],
      "text/plain": [
       "                             mean  count     median\n",
       "weekday_exposition                                 \n",
       "1                    99693.295400   4148  95533.860\n",
       "2                    99543.492115   3944  95454.550\n",
       "3                   100029.766093   4257  95000.000\n",
       "0                    99415.216948   3591  94666.670\n",
       "4                    98889.712332   3950  94444.440\n",
       "6                    97648.673092   1688  94444.440\n",
       "5                    98969.515192   1924  93473.365"
      ]
     },
     "execution_count": 52,
     "metadata": {},
     "output_type": "execute_result"
    },
    {
     "data": {
      "image/png": "[encoded data removed]",
      "text/plain": [
       "<Figure size 432x288 with 1 Axes>"
      ]
     },
     "metadata": {
      "needs_background": "light"
     },
     "output_type": "display_data"
    }
   ],
   "source": [
    "pivot_table_weekday_exposition = data.pivot_table(index = 'weekday_exposition', values = 'one_square_price', aggfunc = ['mean', 'count', 'median'])\n",
    "pivot_table_weekday_exposition.columns = ['mean', 'count', 'median']\n",
    "pivot_table_weekday_exposition.plot(y = 'median')\n",
    "\n",
    "pivot_table_weekday_exposition.sort_values('median', ascending = False)"
   ]
  },
  {
   "cell_type": "markdown",
   "metadata": {},
   "source": [
    "Значения различаются, но незначительно, мы видим, что именно в рабочие дни цена выше."
   ]
  },
  {
   "cell_type": "markdown",
   "metadata": {},
   "source": [
    "Рассмотрим зависимость цены от месяца:"
   ]
  },
  {
   "cell_type": "code",
   "execution_count": 53,
   "metadata": {
    "scrolled": false
   },
   "outputs": [
    {
     "data": {
      "text/html": [
       "<div>\n",
       "<style scoped>\n",
       "    .dataframe tbody tr th:only-of-type {\n",
       "        vertical-align: middle;\n",
       "    }\n",
       "\n",
       "    .dataframe tbody tr th {\n",
       "        vertical-align: top;\n",
       "    }\n",
       "\n",
       "    .dataframe thead th {\n",
       "        text-align: right;\n",
       "    }\n",
       "</style>\n",
       "<table border=\"1\" class=\"dataframe\">\n",
       "  <thead>\n",
       "    <tr style=\"text-align: right;\">\n",
       "      <th></th>\n",
       "      <th>mean</th>\n",
       "      <th>count</th>\n",
       "      <th>median</th>\n",
       "    </tr>\n",
       "    <tr>\n",
       "      <th>month_exposition</th>\n",
       "      <th></th>\n",
       "      <th></th>\n",
       "      <th></th>\n",
       "    </tr>\n",
       "  </thead>\n",
       "  <tbody>\n",
       "    <tr>\n",
       "      <th>4</th>\n",
       "      <td>101886.824537</td>\n",
       "      <td>2365</td>\n",
       "      <td>96385.540</td>\n",
       "    </tr>\n",
       "    <tr>\n",
       "      <th>8</th>\n",
       "      <td>100002.000366</td>\n",
       "      <td>1723</td>\n",
       "      <td>95774.650</td>\n",
       "    </tr>\n",
       "    <tr>\n",
       "      <th>9</th>\n",
       "      <td>100475.387655</td>\n",
       "      <td>1957</td>\n",
       "      <td>95592.140</td>\n",
       "    </tr>\n",
       "    <tr>\n",
       "      <th>11</th>\n",
       "      <td>99049.212679</td>\n",
       "      <td>2340</td>\n",
       "      <td>95459.970</td>\n",
       "    </tr>\n",
       "    <tr>\n",
       "      <th>3</th>\n",
       "      <td>98954.926280</td>\n",
       "      <td>2570</td>\n",
       "      <td>95228.100</td>\n",
       "    </tr>\n",
       "    <tr>\n",
       "      <th>1</th>\n",
       "      <td>99882.965746</td>\n",
       "      <td>1488</td>\n",
       "      <td>95200.945</td>\n",
       "    </tr>\n",
       "    <tr>\n",
       "      <th>2</th>\n",
       "      <td>98680.180092</td>\n",
       "      <td>2622</td>\n",
       "      <td>95000.000</td>\n",
       "    </tr>\n",
       "    <tr>\n",
       "      <th>7</th>\n",
       "      <td>99348.749690</td>\n",
       "      <td>1678</td>\n",
       "      <td>94888.455</td>\n",
       "    </tr>\n",
       "    <tr>\n",
       "      <th>10</th>\n",
       "      <td>97869.525902</td>\n",
       "      <td>2111</td>\n",
       "      <td>94142.860</td>\n",
       "    </tr>\n",
       "    <tr>\n",
       "      <th>12</th>\n",
       "      <td>99551.931445</td>\n",
       "      <td>1626</td>\n",
       "      <td>94130.060</td>\n",
       "    </tr>\n",
       "    <tr>\n",
       "      <th>6</th>\n",
       "      <td>97731.281657</td>\n",
       "      <td>1756</td>\n",
       "      <td>92799.540</td>\n",
       "    </tr>\n",
       "    <tr>\n",
       "      <th>5</th>\n",
       "      <td>98474.475229</td>\n",
       "      <td>1266</td>\n",
       "      <td>92689.780</td>\n",
       "    </tr>\n",
       "  </tbody>\n",
       "</table>\n",
       "</div>"
      ],
      "text/plain": [
       "                           mean  count     median\n",
       "month_exposition                                 \n",
       "4                 101886.824537   2365  96385.540\n",
       "8                 100002.000366   1723  95774.650\n",
       "9                 100475.387655   1957  95592.140\n",
       "11                 99049.212679   2340  95459.970\n",
       "3                  98954.926280   2570  95228.100\n",
       "1                  99882.965746   1488  95200.945\n",
       "2                  98680.180092   2622  95000.000\n",
       "7                  99348.749690   1678  94888.455\n",
       "10                 97869.525902   2111  94142.860\n",
       "12                 99551.931445   1626  94130.060\n",
       "6                  97731.281657   1756  92799.540\n",
       "5                  98474.475229   1266  92689.780"
      ]
     },
     "execution_count": 53,
     "metadata": {},
     "output_type": "execute_result"
    },
    {
     "data": {
      "image/png": "[encoded data removed]",
      "text/plain": [
       "<Figure size 720x720 with 1 Axes>"
      ]
     },
     "metadata": {
      "needs_background": "light"
     },
     "output_type": "display_data"
    }
   ],
   "source": [
    "pivot_table_month_exposition = data.pivot_table(index = 'month_exposition', values = 'one_square_price', aggfunc = ['mean', 'count', 'median'])\n",
    "pivot_table_month_exposition.columns = ['mean', 'count', 'median']\n",
    "pivot_table_month_exposition.plot.bar(y = 'median', figsize = (10,10))\n",
    "\n",
    "pivot_table_month_exposition.sort_values('median', ascending = False)"
   ]
  },
  {
   "cell_type": "markdown",
   "metadata": {},
   "source": [
    "Мы видим что цена ниже всего в объявлениях, выставленных в мае и июне, а самая высокая стоимость в апреле и августе"
   ]
  },
  {
   "cell_type": "markdown",
   "metadata": {},
   "source": [
    "Рассмотрим зависимость цены от года"
   ]
  },
  {
   "cell_type": "code",
   "execution_count": 54,
   "metadata": {},
   "outputs": [
    {
     "data": {
      "text/html": [
       "<div>\n",
       "<style scoped>\n",
       "    .dataframe tbody tr th:only-of-type {\n",
       "        vertical-align: middle;\n",
       "    }\n",
       "\n",
       "    .dataframe tbody tr th {\n",
       "        vertical-align: top;\n",
       "    }\n",
       "\n",
       "    .dataframe thead th {\n",
       "        text-align: right;\n",
       "    }\n",
       "</style>\n",
       "<table border=\"1\" class=\"dataframe\">\n",
       "  <thead>\n",
       "    <tr style=\"text-align: right;\">\n",
       "      <th></th>\n",
       "      <th>mean</th>\n",
       "      <th>count</th>\n",
       "      <th>median</th>\n",
       "    </tr>\n",
       "    <tr>\n",
       "      <th>year_exposition</th>\n",
       "      <th></th>\n",
       "      <th></th>\n",
       "      <th></th>\n",
       "    </tr>\n",
       "  </thead>\n",
       "  <tbody>\n",
       "    <tr>\n",
       "      <th>2014</th>\n",
       "      <td>124830.426569</td>\n",
       "      <td>137</td>\n",
       "      <td>107000.000</td>\n",
       "    </tr>\n",
       "    <tr>\n",
       "      <th>2019</th>\n",
       "      <td>107091.141506</td>\n",
       "      <td>2862</td>\n",
       "      <td>103195.725</td>\n",
       "    </tr>\n",
       "    <tr>\n",
       "      <th>2018</th>\n",
       "      <td>97656.520873</td>\n",
       "      <td>8445</td>\n",
       "      <td>95563.140</td>\n",
       "    </tr>\n",
       "    <tr>\n",
       "      <th>2015</th>\n",
       "      <td>104646.466052</td>\n",
       "      <td>1188</td>\n",
       "      <td>93426.065</td>\n",
       "    </tr>\n",
       "    <tr>\n",
       "      <th>2017</th>\n",
       "      <td>97512.451254</td>\n",
       "      <td>8091</td>\n",
       "      <td>92378.750</td>\n",
       "    </tr>\n",
       "    <tr>\n",
       "      <th>2016</th>\n",
       "      <td>98315.067539</td>\n",
       "      <td>2779</td>\n",
       "      <td>91666.670</td>\n",
       "    </tr>\n",
       "  </tbody>\n",
       "</table>\n",
       "</div>"
      ],
      "text/plain": [
       "                          mean  count      median\n",
       "year_exposition                                  \n",
       "2014             124830.426569    137  107000.000\n",
       "2019             107091.141506   2862  103195.725\n",
       "2018              97656.520873   8445   95563.140\n",
       "2015             104646.466052   1188   93426.065\n",
       "2017              97512.451254   8091   92378.750\n",
       "2016              98315.067539   2779   91666.670"
      ]
     },
     "execution_count": 54,
     "metadata": {},
     "output_type": "execute_result"
    },
    {
     "data": {
      "image/png": "[encoded data removed]",
      "text/plain": [
       "<Figure size 432x288 with 1 Axes>"
      ]
     },
     "metadata": {
      "needs_background": "light"
     },
     "output_type": "display_data"
    }
   ],
   "source": [
    "pivot_table_year_exposition = data.pivot_table(index = 'year_exposition', values = 'one_square_price', aggfunc = ['mean', 'count', 'median'])\n",
    "pivot_table_year_exposition.columns = ['mean', 'count', 'median']\n",
    "pivot_table_year_exposition.plot.bar(y = 'median')\n",
    "\n",
    "pivot_table_year_exposition.sort_values('median', ascending = False)"
   ]
  },
  {
   "cell_type": "markdown",
   "metadata": {},
   "source": [
    "Мы видим, что в 2014 году, цена была самой высокой, но затем, до 2016 года она падала, и только с 2017 года снова начала расти"
   ]
  },
  {
   "cell_type": "markdown",
   "metadata": {},
   "source": [
    "Теперь рассмотрим зависимость цены от кол-ва комнат в квартире:"
   ]
  },
  {
   "cell_type": "code",
   "execution_count": 55,
   "metadata": {
    "scrolled": true
   },
   "outputs": [
    {
     "name": "stdout",
     "output_type": "stream",
     "text": [
      "0.36473613698747404 - корреляция\n"
     ]
    },
    {
     "data": {
      "image/png": "[encoded data removed]",
      "text/plain": [
       "<Figure size 360x360 with 1 Axes>"
      ]
     },
     "metadata": {
      "needs_background": "light"
     },
     "output_type": "display_data"
    }
   ],
   "source": [
    "data.plot(x='rooms', y='last_price', kind='scatter', alpha=0.1, figsize = (5,5), title = 'Зависимость цены от количества комнат')\n",
    "print(data['rooms'].corr(data['last_price']), '- корреляция') #кореляция"
   ]
  },
  {
   "cell_type": "markdown",
   "metadata": {},
   "source": [
    "похоже что цена на квартиры не так сильно зависит от кол-ва комнат, как другие факторы"
   ]
  },
  {
   "cell_type": "markdown",
   "metadata": {},
   "source": [
    "#### Теперь посмотрим на населенные пункты с самыми низкими и высокими ценами на квартиры"
   ]
  },
  {
   "cell_type": "code",
   "execution_count": 56,
   "metadata": {},
   "outputs": [
    {
     "data": {
      "text/html": [
       "<div>\n",
       "<style scoped>\n",
       "    .dataframe tbody tr th:only-of-type {\n",
       "        vertical-align: middle;\n",
       "    }\n",
       "\n",
       "    .dataframe tbody tr th {\n",
       "        vertical-align: top;\n",
       "    }\n",
       "\n",
       "    .dataframe thead tr th {\n",
       "        text-align: left;\n",
       "    }\n",
       "\n",
       "    .dataframe thead tr:last-of-type th {\n",
       "        text-align: right;\n",
       "    }\n",
       "</style>\n",
       "<table border=\"1\" class=\"dataframe\">\n",
       "  <thead>\n",
       "    <tr>\n",
       "      <th></th>\n",
       "      <th>mean</th>\n",
       "      <th>count</th>\n",
       "    </tr>\n",
       "    <tr>\n",
       "      <th></th>\n",
       "      <th>one_square_price</th>\n",
       "      <th>one_square_price</th>\n",
       "    </tr>\n",
       "    <tr>\n",
       "      <th>locality_name</th>\n",
       "      <th></th>\n",
       "      <th></th>\n",
       "    </tr>\n",
       "  </thead>\n",
       "  <tbody>\n",
       "    <tr>\n",
       "      <th>Бокситогорск</th>\n",
       "      <td>17551.591250</td>\n",
       "      <td>16</td>\n",
       "    </tr>\n",
       "    <tr>\n",
       "      <th>Волосово</th>\n",
       "      <td>40183.326111</td>\n",
       "      <td>36</td>\n",
       "    </tr>\n",
       "    <tr>\n",
       "      <th>Волхов</th>\n",
       "      <td>35087.680000</td>\n",
       "      <td>111</td>\n",
       "    </tr>\n",
       "    <tr>\n",
       "      <th>Всеволожск</th>\n",
       "      <td>68618.013724</td>\n",
       "      <td>392</td>\n",
       "    </tr>\n",
       "    <tr>\n",
       "      <th>Выборг</th>\n",
       "      <td>58141.909325</td>\n",
       "      <td>237</td>\n",
       "    </tr>\n",
       "  </tbody>\n",
       "</table>\n",
       "</div>"
      ],
      "text/plain": [
       "                          mean            count\n",
       "              one_square_price one_square_price\n",
       "locality_name                                  \n",
       "Бокситогорск      17551.591250               16\n",
       "Волосово          40183.326111               36\n",
       "Волхов            35087.680000              111\n",
       "Всеволожск        68618.013724              392\n",
       "Выборг            58141.909325              237"
      ]
     },
     "execution_count": 56,
     "metadata": {},
     "output_type": "execute_result"
    }
   ],
   "source": [
    "locality_price = data.pivot_table(index = 'locality_name', values = 'one_square_price', aggfunc = ['mean', 'count'])\n",
    "locality_price.head(5)"
   ]
  },
  {
   "cell_type": "code",
   "execution_count": 57,
   "metadata": {},
   "outputs": [
    {
     "data": {
      "text/html": [
       "<div>\n",
       "<style scoped>\n",
       "    .dataframe tbody tr th:only-of-type {\n",
       "        vertical-align: middle;\n",
       "    }\n",
       "\n",
       "    .dataframe tbody tr th {\n",
       "        vertical-align: top;\n",
       "    }\n",
       "\n",
       "    .dataframe thead th {\n",
       "        text-align: right;\n",
       "    }\n",
       "</style>\n",
       "<table border=\"1\" class=\"dataframe\">\n",
       "  <thead>\n",
       "    <tr style=\"text-align: right;\">\n",
       "      <th></th>\n",
       "      <th>mean_price</th>\n",
       "      <th>locality_count</th>\n",
       "    </tr>\n",
       "    <tr>\n",
       "      <th>locality_name</th>\n",
       "      <th></th>\n",
       "      <th></th>\n",
       "    </tr>\n",
       "  </thead>\n",
       "  <tbody>\n",
       "    <tr>\n",
       "      <th>Выборг</th>\n",
       "      <td>58141.909325</td>\n",
       "      <td>237</td>\n",
       "    </tr>\n",
       "    <tr>\n",
       "      <th>Всеволожск</th>\n",
       "      <td>68618.013724</td>\n",
       "      <td>392</td>\n",
       "    </tr>\n",
       "    <tr>\n",
       "      <th>Гатчина</th>\n",
       "      <td>68746.146515</td>\n",
       "      <td>307</td>\n",
       "    </tr>\n",
       "    <tr>\n",
       "      <th>Колпино</th>\n",
       "      <td>75424.579112</td>\n",
       "      <td>338</td>\n",
       "    </tr>\n",
       "    <tr>\n",
       "      <th>поселок Шушары</th>\n",
       "      <td>78405.738532</td>\n",
       "      <td>436</td>\n",
       "    </tr>\n",
       "    <tr>\n",
       "      <th>поселок Мурино</th>\n",
       "      <td>85443.035730</td>\n",
       "      <td>562</td>\n",
       "    </tr>\n",
       "    <tr>\n",
       "      <th>поселок Парголово</th>\n",
       "      <td>90289.778019</td>\n",
       "      <td>323</td>\n",
       "    </tr>\n",
       "    <tr>\n",
       "      <th>деревня Кудрово</th>\n",
       "      <td>92297.218834</td>\n",
       "      <td>283</td>\n",
       "    </tr>\n",
       "    <tr>\n",
       "      <th>Пушкин</th>\n",
       "      <td>103125.819377</td>\n",
       "      <td>369</td>\n",
       "    </tr>\n",
       "    <tr>\n",
       "      <th>Санкт-Петербург</th>\n",
       "      <td>114788.752732</td>\n",
       "      <td>15611</td>\n",
       "    </tr>\n",
       "  </tbody>\n",
       "</table>\n",
       "</div>"
      ],
      "text/plain": [
       "                      mean_price  locality_count\n",
       "locality_name                                   \n",
       "Выборг              58141.909325             237\n",
       "Всеволожск          68618.013724             392\n",
       "Гатчина             68746.146515             307\n",
       "Колпино             75424.579112             338\n",
       "поселок Шушары      78405.738532             436\n",
       "поселок Мурино      85443.035730             562\n",
       "поселок Парголово   90289.778019             323\n",
       "деревня Кудрово     92297.218834             283\n",
       "Пушкин             103125.819377             369\n",
       "Санкт-Петербург    114788.752732           15611"
      ]
     },
     "execution_count": 57,
     "metadata": {},
     "output_type": "execute_result"
    }
   ],
   "source": [
    "locality_price.columns = ['mean_price', 'locality_count']\n",
    "locality_price = locality_price.sort_values(by = 'locality_count', ascending = False).head(10)\n",
    "locality_price.sort_values(by = 'mean_price')"
   ]
  },
  {
   "cell_type": "markdown",
   "metadata": {},
   "source": [
    "пункт с самой дешевой ценой за квадратный метр - Всеволжск и Выборг, а с самой дорогой ценой за кв метр - Санкт-Петербург, похоже на правду"
   ]
  },
  {
   "cell_type": "markdown",
   "metadata": {},
   "source": [
    "#### Зависимость цены на квартиры в Санкт - Петербурге от удаленности от центра:"
   ]
  },
  {
   "cell_type": "code",
   "execution_count": 58,
   "metadata": {},
   "outputs": [
    {
     "data": {
      "text/plain": [
       "<AxesSubplot:title={'center':'Зависимость цены от расстояния до центра города'}, xlabel='city_centers_nearest_km'>"
      ]
     },
     "execution_count": 58,
     "metadata": {},
     "output_type": "execute_result"
    },
    {
     "data": {
      "image/png": "[encoded data removed]",
      "text/plain": [
       "<Figure size 864x360 with 1 Axes>"
      ]
     },
     "metadata": {
      "needs_background": "light"
     },
     "output_type": "display_data"
    }
   ],
   "source": [
    "(data.loc[data['locality_name'] == 'Санкт-Петербург'].\n",
    "pivot_table(index = 'city_centers_nearest_km', values = 'last_price').\n",
    "plot(grid=True, figsize=(12, 5), title = 'Зависимость цены от расстояния до центра города'))"
   ]
  },
  {
   "cell_type": "markdown",
   "metadata": {},
   "source": [
    "мы видим, что чем ближе расстояние к центру, тем дороже цена на квартиру, но есть и выделяющиеся значения в промежутке от 25 до 30 км, возможно это как-то связано с другими параметрами квартир"
   ]
  },
  {
   "cell_type": "markdown",
   "metadata": {},
   "source": [
    "### Общий вывод"
   ]
  },
  {
   "cell_type": "markdown",
   "metadata": {},
   "source": [
    "**Вывод:** В ходе исследовательской работы были устранены неполадки с данными, удалены все дубликаты, заполнены пустые значения, где это возможно, убраны аномалии. Посчитали и добавили в таблицу цену квадратного метра жилья, вывели из даты дни недели, месяцы и года размещения объявлений, добавили категории по этажам квартир. Изучили следующие параметры на наличие выбивающихся значений - площадь, цена, число комнат, высота потолков. Были определены аномалии в данных параметрах. Мы выявили, что нормальные значения продажи квартир варьируются от 1 до 500 дней. Была проведена работа по установке связи определенных параметров и стоимости квартиры, каждый параметр описан и построены графики и так же коэфициент корреляции, мы выяснили, что больше всего на стоимость квартиры влиет размер общей и жилой площади, стоит так же учитывать площадь кухни и расстояние до центра города. Таким образом, проделанная работа позволит отследить аномалии и мошеническую деятельность.\n"
   ]
  }
 ],
 "metadata": {
  "ExecuteTimeLog": [
   {
    "duration": 656,
    "start_time": "2023-11-23T16:12:03.598Z"
   },
   {
    "duration": 165,
    "start_time": "2023-11-23T16:12:26.752Z"
   },
   {
    "duration": 93,
    "start_time": "2023-11-23T16:12:40.953Z"
   },
   {
    "duration": 93,
    "start_time": "2023-11-23T16:12:53.273Z"
   },
   {
    "duration": 107,
    "start_time": "2023-11-23T16:13:38.359Z"
   },
   {
    "duration": 88,
    "start_time": "2023-11-23T16:13:56.960Z"
   },
   {
    "duration": 101,
    "start_time": "2023-11-23T16:14:17.130Z"
   },
   {
    "duration": 107,
    "start_time": "2023-11-23T16:14:25.060Z"
   },
   {
    "duration": 109,
    "start_time": "2023-11-23T16:14:47.962Z"
   },
   {
    "duration": 97,
    "start_time": "2023-11-23T16:15:38.229Z"
   },
   {
    "duration": 102,
    "start_time": "2023-11-23T16:16:06.961Z"
   },
   {
    "duration": 96,
    "start_time": "2023-11-23T16:20:18.253Z"
   },
   {
    "duration": 93,
    "start_time": "2023-11-23T16:22:06.743Z"
   },
   {
    "duration": 106,
    "start_time": "2023-11-23T16:24:22.062Z"
   },
   {
    "duration": 90,
    "start_time": "2023-11-23T16:25:21.895Z"
   },
   {
    "duration": 6,
    "start_time": "2023-11-23T16:26:08.064Z"
   },
   {
    "duration": 381,
    "start_time": "2023-11-23T16:26:29.571Z"
   },
   {
    "duration": 112,
    "start_time": "2023-11-23T16:26:37.070Z"
   },
   {
    "duration": 24,
    "start_time": "2023-11-23T16:26:39.429Z"
   },
   {
    "duration": 13,
    "start_time": "2023-11-23T16:27:15.914Z"
   },
   {
    "duration": 34,
    "start_time": "2023-11-23T16:28:18.230Z"
   },
   {
    "duration": 1650,
    "start_time": "2023-11-23T16:28:36.979Z"
   },
   {
    "duration": 1951,
    "start_time": "2023-11-23T16:29:05.836Z"
   },
   {
    "duration": 3850,
    "start_time": "2023-11-23T16:29:33.758Z"
   },
   {
    "duration": 2416,
    "start_time": "2023-11-23T16:29:46.549Z"
   },
   {
    "duration": 2100,
    "start_time": "2023-11-23T16:30:04.877Z"
   },
   {
    "duration": 2062,
    "start_time": "2023-11-23T16:31:18.392Z"
   },
   {
    "duration": 14,
    "start_time": "2023-11-23T16:44:01.327Z"
   },
   {
    "duration": 9,
    "start_time": "2023-11-23T16:45:07.778Z"
   },
   {
    "duration": 19,
    "start_time": "2023-11-23T16:47:03.439Z"
   },
   {
    "duration": 24,
    "start_time": "2023-11-23T16:47:20.263Z"
   },
   {
    "duration": 25,
    "start_time": "2023-11-23T16:49:53.820Z"
   },
   {
    "duration": 32,
    "start_time": "2023-11-23T16:50:46.968Z"
   },
   {
    "duration": 53,
    "start_time": "2023-11-23T16:53:41.142Z"
   },
   {
    "duration": 4,
    "start_time": "2023-11-23T17:51:06.752Z"
   },
   {
    "duration": 217,
    "start_time": "2023-11-23T17:51:32.145Z"
   },
   {
    "duration": 156,
    "start_time": "2023-11-23T17:51:55.670Z"
   },
   {
    "duration": 164,
    "start_time": "2023-11-23T17:52:17.297Z"
   },
   {
    "duration": 151,
    "start_time": "2023-11-23T17:52:45.926Z"
   },
   {
    "duration": 149,
    "start_time": "2023-11-23T17:53:00.984Z"
   },
   {
    "duration": 169,
    "start_time": "2023-11-23T17:53:08.985Z"
   },
   {
    "duration": 4,
    "start_time": "2023-11-23T17:56:39.263Z"
   },
   {
    "duration": 15,
    "start_time": "2023-11-23T17:56:52.157Z"
   },
   {
    "duration": 24,
    "start_time": "2023-11-23T18:03:28.826Z"
   },
   {
    "duration": 11,
    "start_time": "2023-11-23T18:03:38.499Z"
   },
   {
    "duration": 11,
    "start_time": "2023-11-23T18:03:45.363Z"
   },
   {
    "duration": 7,
    "start_time": "2023-11-23T18:12:21.166Z"
   },
   {
    "duration": 49,
    "start_time": "2023-11-27T09:45:01.123Z"
   },
   {
    "duration": 523,
    "start_time": "2023-11-27T09:45:14.324Z"
   },
   {
    "duration": 2581,
    "start_time": "2023-11-27T09:45:14.849Z"
   },
   {
    "duration": 42,
    "start_time": "2023-11-27T09:45:17.432Z"
   },
   {
    "duration": 4,
    "start_time": "2023-11-27T09:45:17.475Z"
   },
   {
    "duration": 209,
    "start_time": "2023-11-27T09:45:17.481Z"
   },
   {
    "duration": 12,
    "start_time": "2023-11-27T09:45:17.691Z"
   },
   {
    "duration": 726,
    "start_time": "2023-11-27T16:24:25.236Z"
   },
   {
    "duration": 2294,
    "start_time": "2023-11-27T16:24:25.964Z"
   },
   {
    "duration": 4,
    "start_time": "2023-11-27T16:24:28.259Z"
   },
   {
    "duration": 160,
    "start_time": "2023-11-27T16:24:28.264Z"
   },
   {
    "duration": 10,
    "start_time": "2023-11-27T16:24:28.426Z"
   },
   {
    "duration": 1815,
    "start_time": "2023-11-27T16:24:53.383Z"
   },
   {
    "duration": 106,
    "start_time": "2023-11-27T16:25:05.194Z"
   },
   {
    "duration": 9,
    "start_time": "2023-11-27T16:27:40.736Z"
   },
   {
    "duration": 6,
    "start_time": "2023-11-27T16:32:58.834Z"
   },
   {
    "duration": 69,
    "start_time": "2023-11-27T16:38:03.981Z"
   },
   {
    "duration": 9,
    "start_time": "2023-11-27T16:38:31.361Z"
   },
   {
    "duration": 8,
    "start_time": "2023-11-27T16:38:37.947Z"
   },
   {
    "duration": 7,
    "start_time": "2023-11-27T16:38:52.362Z"
   },
   {
    "duration": 10,
    "start_time": "2023-11-27T16:39:18.165Z"
   },
   {
    "duration": 9,
    "start_time": "2023-11-27T16:40:17.198Z"
   },
   {
    "duration": 7,
    "start_time": "2023-11-27T16:40:38.643Z"
   },
   {
    "duration": 9,
    "start_time": "2023-11-27T16:41:11.139Z"
   },
   {
    "duration": 7,
    "start_time": "2023-11-27T16:41:20.621Z"
   },
   {
    "duration": 7,
    "start_time": "2023-11-27T16:41:29.393Z"
   },
   {
    "duration": 8,
    "start_time": "2023-11-27T16:41:34.769Z"
   },
   {
    "duration": 8,
    "start_time": "2023-11-27T16:44:50.371Z"
   },
   {
    "duration": 8,
    "start_time": "2023-11-27T16:45:24.705Z"
   },
   {
    "duration": 25,
    "start_time": "2023-11-27T16:45:36.854Z"
   },
   {
    "duration": 15,
    "start_time": "2023-11-27T16:48:18.675Z"
   },
   {
    "duration": 13,
    "start_time": "2023-11-27T16:48:42.232Z"
   },
   {
    "duration": 35,
    "start_time": "2023-11-27T16:53:51.766Z"
   },
   {
    "duration": 24,
    "start_time": "2023-11-27T16:54:03.609Z"
   },
   {
    "duration": 27,
    "start_time": "2023-11-27T16:55:08.732Z"
   },
   {
    "duration": 4,
    "start_time": "2023-11-27T16:55:58.975Z"
   },
   {
    "duration": 73,
    "start_time": "2023-11-27T16:55:59.442Z"
   },
   {
    "duration": 22,
    "start_time": "2023-11-27T16:55:59.892Z"
   },
   {
    "duration": 25,
    "start_time": "2023-11-27T16:56:05.531Z"
   },
   {
    "duration": 6,
    "start_time": "2023-11-27T16:56:17.978Z"
   },
   {
    "duration": 24,
    "start_time": "2023-11-27T16:58:17.898Z"
   },
   {
    "duration": 30,
    "start_time": "2023-11-27T16:59:48.800Z"
   },
   {
    "duration": 5,
    "start_time": "2023-11-27T16:59:56.879Z"
   },
   {
    "duration": 23,
    "start_time": "2023-11-27T17:00:20.859Z"
   },
   {
    "duration": 4,
    "start_time": "2023-11-27T17:02:41.740Z"
   },
   {
    "duration": 6,
    "start_time": "2023-11-27T17:02:55.555Z"
   },
   {
    "duration": 8,
    "start_time": "2023-11-27T17:08:36.368Z"
   },
   {
    "duration": 5,
    "start_time": "2023-11-27T17:09:05.209Z"
   },
   {
    "duration": 8,
    "start_time": "2023-11-27T17:24:07.120Z"
   },
   {
    "duration": 26,
    "start_time": "2023-11-27T17:24:11.208Z"
   },
   {
    "duration": 18,
    "start_time": "2023-11-27T17:24:21.375Z"
   },
   {
    "duration": 8,
    "start_time": "2023-11-27T17:26:09.904Z"
   },
   {
    "duration": 7,
    "start_time": "2023-11-27T17:26:26.250Z"
   },
   {
    "duration": 7,
    "start_time": "2023-11-27T17:26:36.654Z"
   },
   {
    "duration": 6,
    "start_time": "2023-11-27T17:26:59.587Z"
   },
   {
    "duration": 27,
    "start_time": "2023-11-27T17:34:11.081Z"
   },
   {
    "duration": 74,
    "start_time": "2023-11-27T17:34:14.092Z"
   },
   {
    "duration": 6,
    "start_time": "2023-11-27T17:34:22.802Z"
   },
   {
    "duration": 28,
    "start_time": "2023-11-27T17:34:42.478Z"
   },
   {
    "duration": 52,
    "start_time": "2023-11-27T17:38:09.956Z"
   },
   {
    "duration": 6,
    "start_time": "2023-11-27T17:38:12.113Z"
   },
   {
    "duration": 70,
    "start_time": "2023-11-27T17:38:56.513Z"
   },
   {
    "duration": 9,
    "start_time": "2023-11-27T17:38:58.444Z"
   },
   {
    "duration": 6,
    "start_time": "2023-11-27T17:39:27.684Z"
   },
   {
    "duration": 68,
    "start_time": "2023-11-27T17:39:57.193Z"
   },
   {
    "duration": 6,
    "start_time": "2023-11-27T17:39:58.214Z"
   },
   {
    "duration": 4,
    "start_time": "2023-11-27T17:40:39.528Z"
   },
   {
    "duration": 5,
    "start_time": "2023-11-27T17:40:40.179Z"
   },
   {
    "duration": 40,
    "start_time": "2023-11-27T17:40:54.981Z"
   },
   {
    "duration": 8,
    "start_time": "2023-11-27T17:40:56.696Z"
   },
   {
    "duration": 29,
    "start_time": "2023-11-27T17:47:20.509Z"
   },
   {
    "duration": 34,
    "start_time": "2023-11-27T17:47:53.112Z"
   },
   {
    "duration": 7,
    "start_time": "2023-11-27T17:47:54.179Z"
   },
   {
    "duration": 31,
    "start_time": "2023-11-27T18:01:23.454Z"
   },
   {
    "duration": 6,
    "start_time": "2023-11-27T18:01:24.981Z"
   },
   {
    "duration": 33,
    "start_time": "2023-11-27T18:04:03.128Z"
   },
   {
    "duration": 3,
    "start_time": "2023-11-27T18:07:40.236Z"
   },
   {
    "duration": 24,
    "start_time": "2023-11-27T18:07:47.061Z"
   },
   {
    "duration": 24,
    "start_time": "2023-11-27T18:08:33.598Z"
   },
   {
    "duration": 9,
    "start_time": "2023-11-27T18:12:06.007Z"
   },
   {
    "duration": 113,
    "start_time": "2023-11-27T18:13:34.603Z"
   },
   {
    "duration": 76,
    "start_time": "2023-11-27T18:14:03.504Z"
   },
   {
    "duration": 7,
    "start_time": "2023-11-27T18:17:41.582Z"
   },
   {
    "duration": 200,
    "start_time": "2023-11-27T18:18:26.956Z"
   },
   {
    "duration": 8,
    "start_time": "2023-11-27T18:18:34.808Z"
   },
   {
    "duration": 71,
    "start_time": "2023-11-27T18:18:53.446Z"
   },
   {
    "duration": 521,
    "start_time": "2023-11-27T18:19:25.263Z"
   },
   {
    "duration": 92,
    "start_time": "2023-11-27T18:19:37.622Z"
   },
   {
    "duration": 120,
    "start_time": "2023-11-27T18:20:07.181Z"
   },
   {
    "duration": 111,
    "start_time": "2023-11-27T18:20:55.399Z"
   },
   {
    "duration": 104,
    "start_time": "2023-11-27T18:21:10.730Z"
   },
   {
    "duration": 19,
    "start_time": "2023-11-27T18:24:16.917Z"
   },
   {
    "duration": 138,
    "start_time": "2023-11-27T18:24:35.433Z"
   },
   {
    "duration": 260,
    "start_time": "2023-11-27T18:24:52.935Z"
   },
   {
    "duration": 268,
    "start_time": "2023-11-27T18:25:01.644Z"
   },
   {
    "duration": 191,
    "start_time": "2023-11-27T18:25:36.536Z"
   },
   {
    "duration": 4,
    "start_time": "2023-11-27T18:34:13.664Z"
   },
   {
    "duration": 9,
    "start_time": "2023-11-27T18:36:18.317Z"
   },
   {
    "duration": 729,
    "start_time": "2023-11-27T18:36:39.447Z"
   },
   {
    "duration": 1876,
    "start_time": "2023-11-27T18:36:40.178Z"
   },
   {
    "duration": 9,
    "start_time": "2023-11-27T18:36:42.055Z"
   },
   {
    "duration": 10,
    "start_time": "2023-11-27T18:36:42.065Z"
   },
   {
    "duration": 7,
    "start_time": "2023-11-27T18:36:42.077Z"
   },
   {
    "duration": 29,
    "start_time": "2023-11-27T18:36:42.085Z"
   },
   {
    "duration": 36,
    "start_time": "2023-11-27T18:36:42.116Z"
   },
   {
    "duration": 5,
    "start_time": "2023-11-27T18:36:42.153Z"
   },
   {
    "duration": 5,
    "start_time": "2023-11-27T18:36:42.160Z"
   },
   {
    "duration": 6,
    "start_time": "2023-11-27T18:36:42.167Z"
   },
   {
    "duration": 34,
    "start_time": "2023-11-27T18:36:42.174Z"
   },
   {
    "duration": 4,
    "start_time": "2023-11-27T18:36:42.210Z"
   },
   {
    "duration": 49,
    "start_time": "2023-11-27T18:36:42.215Z"
   },
   {
    "duration": 28,
    "start_time": "2023-11-27T18:37:58.278Z"
   },
   {
    "duration": 85,
    "start_time": "2023-11-27T18:43:31.403Z"
   },
   {
    "duration": 94,
    "start_time": "2023-11-27T18:44:20.168Z"
   },
   {
    "duration": 310,
    "start_time": "2023-11-27T18:44:39.989Z"
   },
   {
    "duration": 26,
    "start_time": "2023-11-27T18:48:26.954Z"
   },
   {
    "duration": 8,
    "start_time": "2023-11-27T18:48:41.335Z"
   },
   {
    "duration": 14,
    "start_time": "2023-11-27T18:49:01.537Z"
   },
   {
    "duration": 24,
    "start_time": "2023-11-27T18:49:13.450Z"
   },
   {
    "duration": 8,
    "start_time": "2023-11-27T18:51:30.201Z"
   },
   {
    "duration": 808,
    "start_time": "2023-11-27T19:33:44.718Z"
   },
   {
    "duration": 103,
    "start_time": "2023-11-27T19:33:57.976Z"
   },
   {
    "duration": 194,
    "start_time": "2023-11-27T19:34:26.505Z"
   },
   {
    "duration": 136,
    "start_time": "2023-11-27T19:34:46.891Z"
   },
   {
    "duration": 120,
    "start_time": "2023-11-27T19:35:01.224Z"
   },
   {
    "duration": 119,
    "start_time": "2023-11-27T19:35:50.706Z"
   },
   {
    "duration": 149,
    "start_time": "2023-11-27T19:37:04.009Z"
   },
   {
    "duration": 132,
    "start_time": "2023-11-27T19:38:28.401Z"
   },
   {
    "duration": 135,
    "start_time": "2023-11-27T19:38:33.978Z"
   },
   {
    "duration": 196,
    "start_time": "2023-11-27T19:38:51.182Z"
   },
   {
    "duration": 136,
    "start_time": "2023-11-27T19:39:57.586Z"
   },
   {
    "duration": 138,
    "start_time": "2023-11-27T19:40:06.682Z"
   },
   {
    "duration": 8,
    "start_time": "2023-11-27T19:40:55.107Z"
   },
   {
    "duration": 1412,
    "start_time": "2023-11-27T19:41:39.025Z"
   },
   {
    "duration": 1258,
    "start_time": "2023-11-27T19:41:57.578Z"
   },
   {
    "duration": 11,
    "start_time": "2023-11-27T19:42:14.185Z"
   },
   {
    "duration": 12,
    "start_time": "2023-11-27T19:42:34.005Z"
   },
   {
    "duration": 42,
    "start_time": "2023-11-27T19:42:48.454Z"
   },
   {
    "duration": 406,
    "start_time": "2023-11-27T19:45:35.344Z"
   },
   {
    "duration": 36,
    "start_time": "2023-11-27T19:46:00.041Z"
   },
   {
    "duration": 35,
    "start_time": "2023-11-27T19:47:14.756Z"
   },
   {
    "duration": 9,
    "start_time": "2023-11-27T19:48:35.755Z"
   },
   {
    "duration": 39,
    "start_time": "2023-11-27T19:49:14.829Z"
   },
   {
    "duration": 8,
    "start_time": "2023-11-27T19:49:28.029Z"
   },
   {
    "duration": 12,
    "start_time": "2023-11-27T19:50:09.800Z"
   },
   {
    "duration": 9,
    "start_time": "2023-11-27T19:51:18.290Z"
   },
   {
    "duration": 7,
    "start_time": "2023-11-27T19:51:51.881Z"
   },
   {
    "duration": 12,
    "start_time": "2023-11-27T19:52:49.920Z"
   },
   {
    "duration": 144,
    "start_time": "2023-11-27T19:53:12.261Z"
   },
   {
    "duration": 181,
    "start_time": "2023-11-27T19:53:26.198Z"
   },
   {
    "duration": 120,
    "start_time": "2023-11-27T19:53:30.590Z"
   },
   {
    "duration": 134,
    "start_time": "2023-11-27T19:54:01.252Z"
   },
   {
    "duration": 163,
    "start_time": "2023-11-27T19:54:40.771Z"
   },
   {
    "duration": 161,
    "start_time": "2023-11-27T19:55:01.473Z"
   },
   {
    "duration": 183,
    "start_time": "2023-11-27T19:55:13.501Z"
   },
   {
    "duration": 153,
    "start_time": "2023-11-27T19:55:47.890Z"
   },
   {
    "duration": 150,
    "start_time": "2023-11-27T19:55:51.182Z"
   },
   {
    "duration": 146,
    "start_time": "2023-11-27T19:55:53.358Z"
   },
   {
    "duration": 165,
    "start_time": "2023-11-27T19:55:55.594Z"
   },
   {
    "duration": 160,
    "start_time": "2023-11-27T19:55:59.298Z"
   },
   {
    "duration": 8,
    "start_time": "2023-11-27T20:00:44.159Z"
   },
   {
    "duration": 6,
    "start_time": "2023-11-27T20:00:48.797Z"
   },
   {
    "duration": 4,
    "start_time": "2023-11-27T20:05:43.616Z"
   },
   {
    "duration": 131,
    "start_time": "2023-11-27T20:06:56.569Z"
   },
   {
    "duration": 132,
    "start_time": "2023-11-27T20:07:10.473Z"
   },
   {
    "duration": 144,
    "start_time": "2023-11-27T20:07:15.662Z"
   },
   {
    "duration": 144,
    "start_time": "2023-11-27T20:07:51.648Z"
   },
   {
    "duration": 146,
    "start_time": "2023-11-27T20:08:36.588Z"
   },
   {
    "duration": 138,
    "start_time": "2023-11-27T20:08:50.233Z"
   },
   {
    "duration": 154,
    "start_time": "2023-11-27T20:09:54.044Z"
   },
   {
    "duration": 14,
    "start_time": "2023-11-27T20:10:08.289Z"
   },
   {
    "duration": 13,
    "start_time": "2023-11-27T20:10:11.863Z"
   },
   {
    "duration": 762,
    "start_time": "2023-11-27T20:10:29.883Z"
   },
   {
    "duration": 1919,
    "start_time": "2023-11-27T20:10:30.647Z"
   },
   {
    "duration": 11,
    "start_time": "2023-11-27T20:10:32.567Z"
   },
   {
    "duration": 50,
    "start_time": "2023-11-27T20:10:32.580Z"
   },
   {
    "duration": 17,
    "start_time": "2023-11-27T20:10:32.632Z"
   },
   {
    "duration": 33,
    "start_time": "2023-11-27T20:10:32.651Z"
   },
   {
    "duration": 26,
    "start_time": "2023-11-27T20:10:32.686Z"
   },
   {
    "duration": 6,
    "start_time": "2023-11-27T20:10:32.714Z"
   },
   {
    "duration": 25,
    "start_time": "2023-11-27T20:10:32.722Z"
   },
   {
    "duration": 15,
    "start_time": "2023-11-27T20:10:32.750Z"
   },
   {
    "duration": 81,
    "start_time": "2023-11-27T20:10:32.766Z"
   },
   {
    "duration": 46,
    "start_time": "2023-11-27T20:10:32.849Z"
   },
   {
    "duration": 52,
    "start_time": "2023-11-27T20:10:32.897Z"
   },
   {
    "duration": 288,
    "start_time": "2023-11-27T20:10:32.951Z"
   },
   {
    "duration": 28,
    "start_time": "2023-11-27T20:10:33.240Z"
   },
   {
    "duration": 146,
    "start_time": "2023-11-27T20:10:33.269Z"
   },
   {
    "duration": 157,
    "start_time": "2023-11-27T20:10:33.417Z"
   },
   {
    "duration": 202,
    "start_time": "2023-11-27T20:10:33.575Z"
   },
   {
    "duration": 40,
    "start_time": "2023-11-27T20:10:33.778Z"
   },
   {
    "duration": 9,
    "start_time": "2023-11-27T20:10:33.819Z"
   },
   {
    "duration": 178,
    "start_time": "2023-11-27T20:10:33.829Z"
   },
   {
    "duration": 161,
    "start_time": "2023-11-27T20:10:34.009Z"
   },
   {
    "duration": 5,
    "start_time": "2023-11-27T20:10:48.333Z"
   },
   {
    "duration": 1226,
    "start_time": "2023-11-27T20:11:07.066Z"
   },
   {
    "duration": 694,
    "start_time": "2023-11-27T20:11:25.782Z"
   },
   {
    "duration": 1804,
    "start_time": "2023-11-27T20:11:26.478Z"
   },
   {
    "duration": 9,
    "start_time": "2023-11-27T20:11:28.283Z"
   },
   {
    "duration": 5,
    "start_time": "2023-11-27T20:11:28.294Z"
   },
   {
    "duration": 7,
    "start_time": "2023-11-27T20:11:28.300Z"
   },
   {
    "duration": 25,
    "start_time": "2023-11-27T20:11:28.309Z"
   },
   {
    "duration": 34,
    "start_time": "2023-11-27T20:11:28.336Z"
   },
   {
    "duration": 5,
    "start_time": "2023-11-27T20:11:28.371Z"
   },
   {
    "duration": 6,
    "start_time": "2023-11-27T20:11:28.378Z"
   },
   {
    "duration": 7,
    "start_time": "2023-11-27T20:11:28.387Z"
   },
   {
    "duration": 29,
    "start_time": "2023-11-27T20:11:28.396Z"
   },
   {
    "duration": 27,
    "start_time": "2023-11-27T20:11:28.426Z"
   },
   {
    "duration": 37,
    "start_time": "2023-11-27T20:11:28.455Z"
   },
   {
    "duration": 283,
    "start_time": "2023-11-27T20:11:28.493Z"
   },
   {
    "duration": 23,
    "start_time": "2023-11-27T20:11:28.778Z"
   },
   {
    "duration": 154,
    "start_time": "2023-11-27T20:11:28.803Z"
   },
   {
    "duration": 158,
    "start_time": "2023-11-27T20:11:28.959Z"
   },
   {
    "duration": 213,
    "start_time": "2023-11-27T20:11:29.119Z"
   },
   {
    "duration": 48,
    "start_time": "2023-11-27T20:11:29.334Z"
   },
   {
    "duration": 8,
    "start_time": "2023-11-27T20:11:29.384Z"
   },
   {
    "duration": 174,
    "start_time": "2023-11-27T20:11:29.393Z"
   },
   {
    "duration": 155,
    "start_time": "2023-11-27T20:11:29.569Z"
   },
   {
    "duration": 5,
    "start_time": "2023-11-27T20:11:29.726Z"
   },
   {
    "duration": 82,
    "start_time": "2023-11-27T20:11:29.733Z"
   },
   {
    "duration": 910,
    "start_time": "2023-11-27T20:11:43.782Z"
   },
   {
    "duration": 1201,
    "start_time": "2023-11-27T20:13:36.090Z"
   },
   {
    "duration": 1013,
    "start_time": "2023-11-27T20:15:20.055Z"
   },
   {
    "duration": 951,
    "start_time": "2023-11-27T20:15:36.200Z"
   },
   {
    "duration": 963,
    "start_time": "2023-11-27T20:15:51.796Z"
   },
   {
    "duration": 960,
    "start_time": "2023-11-27T20:15:58.306Z"
   },
   {
    "duration": 712,
    "start_time": "2023-11-27T20:16:09.692Z"
   },
   {
    "duration": 1863,
    "start_time": "2023-11-27T20:16:10.406Z"
   },
   {
    "duration": 8,
    "start_time": "2023-11-27T20:16:12.271Z"
   },
   {
    "duration": 8,
    "start_time": "2023-11-27T20:16:12.281Z"
   },
   {
    "duration": 7,
    "start_time": "2023-11-27T20:16:12.292Z"
   },
   {
    "duration": 24,
    "start_time": "2023-11-27T20:16:12.300Z"
   },
   {
    "duration": 35,
    "start_time": "2023-11-27T20:16:12.326Z"
   },
   {
    "duration": 5,
    "start_time": "2023-11-27T20:16:12.362Z"
   },
   {
    "duration": 7,
    "start_time": "2023-11-27T20:16:12.368Z"
   },
   {
    "duration": 7,
    "start_time": "2023-11-27T20:16:12.376Z"
   },
   {
    "duration": 32,
    "start_time": "2023-11-27T20:16:12.384Z"
   },
   {
    "duration": 4,
    "start_time": "2023-11-27T20:16:12.417Z"
   },
   {
    "duration": 54,
    "start_time": "2023-11-27T20:16:12.422Z"
   },
   {
    "duration": 304,
    "start_time": "2023-11-27T20:16:12.479Z"
   },
   {
    "duration": 22,
    "start_time": "2023-11-27T20:16:12.785Z"
   },
   {
    "duration": 145,
    "start_time": "2023-11-27T20:16:12.808Z"
   },
   {
    "duration": 148,
    "start_time": "2023-11-27T20:16:12.955Z"
   },
   {
    "duration": 196,
    "start_time": "2023-11-27T20:16:13.105Z"
   },
   {
    "duration": 39,
    "start_time": "2023-11-27T20:16:13.302Z"
   },
   {
    "duration": 15,
    "start_time": "2023-11-27T20:16:13.342Z"
   },
   {
    "duration": 175,
    "start_time": "2023-11-27T20:16:13.358Z"
   },
   {
    "duration": 168,
    "start_time": "2023-11-27T20:16:13.535Z"
   },
   {
    "duration": 11,
    "start_time": "2023-11-27T20:16:13.705Z"
   },
   {
    "duration": 8,
    "start_time": "2023-11-27T20:16:13.717Z"
   },
   {
    "duration": 4,
    "start_time": "2023-11-27T20:17:14.548Z"
   },
   {
    "duration": 5,
    "start_time": "2023-11-27T20:17:25.574Z"
   },
   {
    "duration": 5,
    "start_time": "2023-11-27T20:17:34.064Z"
   },
   {
    "duration": 4,
    "start_time": "2023-11-27T20:18:49.113Z"
   },
   {
    "duration": 5,
    "start_time": "2023-11-27T20:18:54.437Z"
   },
   {
    "duration": 8,
    "start_time": "2023-11-27T20:19:38.514Z"
   },
   {
    "duration": 7,
    "start_time": "2023-11-27T20:20:11.808Z"
   },
   {
    "duration": 9,
    "start_time": "2023-11-27T20:20:31.985Z"
   },
   {
    "duration": 137,
    "start_time": "2023-11-27T20:23:10.964Z"
   },
   {
    "duration": 145,
    "start_time": "2023-11-27T20:23:21.964Z"
   },
   {
    "duration": 166,
    "start_time": "2023-11-27T20:23:32.801Z"
   },
   {
    "duration": 179,
    "start_time": "2023-11-27T20:23:58.126Z"
   },
   {
    "duration": 747,
    "start_time": "2023-11-27T20:24:40.430Z"
   },
   {
    "duration": 680,
    "start_time": "2023-11-27T20:24:52.127Z"
   },
   {
    "duration": 177,
    "start_time": "2023-11-27T20:24:59.188Z"
   },
   {
    "duration": 102,
    "start_time": "2023-11-27T20:25:21.017Z"
   },
   {
    "duration": 212,
    "start_time": "2023-11-27T20:25:44.596Z"
   },
   {
    "duration": 116,
    "start_time": "2023-11-27T20:25:50.725Z"
   },
   {
    "duration": 117,
    "start_time": "2023-11-27T20:26:21.531Z"
   },
   {
    "duration": 3,
    "start_time": "2023-11-27T20:29:39.027Z"
   },
   {
    "duration": 81,
    "start_time": "2023-11-27T20:31:32.444Z"
   },
   {
    "duration": 5,
    "start_time": "2023-11-27T20:38:35.410Z"
   },
   {
    "duration": 120,
    "start_time": "2023-11-27T20:38:43.747Z"
   },
   {
    "duration": 1300,
    "start_time": "2023-11-27T20:39:46.822Z"
   },
   {
    "duration": 8,
    "start_time": "2023-11-27T20:40:00.575Z"
   },
   {
    "duration": 75,
    "start_time": "2023-11-27T20:42:22.271Z"
   },
   {
    "duration": 89,
    "start_time": "2023-11-27T20:42:53.035Z"
   },
   {
    "duration": 12,
    "start_time": "2023-11-27T20:44:13.224Z"
   },
   {
    "duration": 7,
    "start_time": "2023-11-27T20:44:36.495Z"
   },
   {
    "duration": 12,
    "start_time": "2023-11-27T20:45:22.263Z"
   },
   {
    "duration": 8,
    "start_time": "2023-11-27T20:47:16.593Z"
   },
   {
    "duration": 7,
    "start_time": "2023-11-27T20:47:34.900Z"
   },
   {
    "duration": 9,
    "start_time": "2023-11-27T20:47:46.749Z"
   },
   {
    "duration": 7,
    "start_time": "2023-11-27T20:47:54.936Z"
   },
   {
    "duration": 6,
    "start_time": "2023-11-27T20:50:26.563Z"
   },
   {
    "duration": 137,
    "start_time": "2023-11-27T20:50:41.914Z"
   },
   {
    "duration": 95,
    "start_time": "2023-11-27T20:54:13.276Z"
   },
   {
    "duration": 94,
    "start_time": "2023-11-27T20:55:13.592Z"
   },
   {
    "duration": 93,
    "start_time": "2023-11-27T20:57:15.944Z"
   },
   {
    "duration": 9,
    "start_time": "2023-11-27T20:59:18.896Z"
   },
   {
    "duration": 90,
    "start_time": "2023-11-27T21:05:14.638Z"
   },
   {
    "duration": 7,
    "start_time": "2023-11-27T21:05:45.631Z"
   },
   {
    "duration": 52,
    "start_time": "2023-11-28T09:46:54.024Z"
   },
   {
    "duration": 1195,
    "start_time": "2023-11-28T09:47:01.824Z"
   },
   {
    "duration": 2312,
    "start_time": "2023-11-28T09:47:03.022Z"
   },
   {
    "duration": 11,
    "start_time": "2023-11-28T09:47:05.336Z"
   },
   {
    "duration": 20,
    "start_time": "2023-11-28T09:47:05.349Z"
   },
   {
    "duration": 36,
    "start_time": "2023-11-28T09:47:05.372Z"
   },
   {
    "duration": 47,
    "start_time": "2023-11-28T09:47:05.409Z"
   },
   {
    "duration": 47,
    "start_time": "2023-11-28T09:47:05.458Z"
   },
   {
    "duration": 11,
    "start_time": "2023-11-28T09:47:05.507Z"
   },
   {
    "duration": 17,
    "start_time": "2023-11-28T09:47:05.520Z"
   },
   {
    "duration": 16,
    "start_time": "2023-11-28T09:47:05.540Z"
   },
   {
    "duration": 62,
    "start_time": "2023-11-28T09:47:05.559Z"
   },
   {
    "duration": 5,
    "start_time": "2023-11-28T09:47:05.623Z"
   },
   {
    "duration": 63,
    "start_time": "2023-11-28T09:47:05.630Z"
   },
   {
    "duration": 357,
    "start_time": "2023-11-28T09:47:05.697Z"
   },
   {
    "duration": 34,
    "start_time": "2023-11-28T09:47:06.056Z"
   },
   {
    "duration": 191,
    "start_time": "2023-11-28T09:47:06.106Z"
   },
   {
    "duration": 199,
    "start_time": "2023-11-28T09:47:06.299Z"
   },
   {
    "duration": 243,
    "start_time": "2023-11-28T09:47:06.500Z"
   },
   {
    "duration": 65,
    "start_time": "2023-11-28T09:47:06.745Z"
   },
   {
    "duration": 9,
    "start_time": "2023-11-28T09:47:06.812Z"
   },
   {
    "duration": 204,
    "start_time": "2023-11-28T09:47:06.823Z"
   },
   {
    "duration": 10,
    "start_time": "2023-11-28T09:47:07.029Z"
   },
   {
    "duration": 200,
    "start_time": "2023-11-28T09:47:07.041Z"
   },
   {
    "duration": 8,
    "start_time": "2023-11-28T09:47:07.242Z"
   },
   {
    "duration": 24,
    "start_time": "2023-11-28T09:47:07.252Z"
   },
   {
    "duration": 157,
    "start_time": "2023-11-28T09:47:07.277Z"
   },
   {
    "duration": 8,
    "start_time": "2023-11-28T09:47:07.436Z"
   },
   {
    "duration": 165,
    "start_time": "2023-11-28T09:47:07.445Z"
   },
   {
    "duration": 123,
    "start_time": "2023-11-28T09:47:07.611Z"
   },
   {
    "duration": 129,
    "start_time": "2023-11-28T09:47:07.735Z"
   },
   {
    "duration": 9,
    "start_time": "2023-11-28T09:47:07.865Z"
   },
   {
    "duration": 125,
    "start_time": "2023-11-28T09:47:07.876Z"
   },
   {
    "duration": 9,
    "start_time": "2023-11-28T09:47:08.006Z"
   },
   {
    "duration": 186,
    "start_time": "2023-11-28T09:47:08.016Z"
   },
   {
    "duration": 191,
    "start_time": "2023-11-28T09:47:52.543Z"
   },
   {
    "duration": 133,
    "start_time": "2023-11-28T09:48:53.696Z"
   },
   {
    "duration": 134,
    "start_time": "2023-11-28T09:49:23.777Z"
   },
   {
    "duration": 10,
    "start_time": "2023-11-28T09:50:11.829Z"
   },
   {
    "duration": 72,
    "start_time": "2023-11-28T09:53:56.612Z"
   },
   {
    "duration": 82,
    "start_time": "2023-11-28T09:54:11.777Z"
   },
   {
    "duration": 154,
    "start_time": "2023-11-28T09:55:02.318Z"
   },
   {
    "duration": 6,
    "start_time": "2023-11-28T09:55:23.638Z"
   },
   {
    "duration": 6,
    "start_time": "2023-11-28T10:03:29.077Z"
   },
   {
    "duration": 5,
    "start_time": "2023-11-28T10:07:14.593Z"
   },
   {
    "duration": 6,
    "start_time": "2023-11-28T10:08:03.978Z"
   },
   {
    "duration": 83,
    "start_time": "2023-11-28T10:08:50.657Z"
   },
   {
    "duration": 5,
    "start_time": "2023-11-28T10:08:58.429Z"
   },
   {
    "duration": 6,
    "start_time": "2023-11-28T10:09:40.958Z"
   },
   {
    "duration": 5,
    "start_time": "2023-11-28T10:11:07.217Z"
   },
   {
    "duration": 6,
    "start_time": "2023-11-28T10:11:21.878Z"
   },
   {
    "duration": 6,
    "start_time": "2023-11-28T10:15:10.299Z"
   },
   {
    "duration": 80,
    "start_time": "2023-11-28T10:18:03.468Z"
   },
   {
    "duration": 7,
    "start_time": "2023-11-28T10:18:50.657Z"
   },
   {
    "duration": 6,
    "start_time": "2023-11-28T10:19:51.825Z"
   },
   {
    "duration": 6,
    "start_time": "2023-11-28T10:20:57.037Z"
   },
   {
    "duration": 8,
    "start_time": "2023-11-28T10:21:29.536Z"
   },
   {
    "duration": 7,
    "start_time": "2023-11-28T10:21:47.137Z"
   },
   {
    "duration": 6,
    "start_time": "2023-11-28T10:22:23.884Z"
   },
   {
    "duration": 3,
    "start_time": "2023-11-28T10:23:16.549Z"
   },
   {
    "duration": 9,
    "start_time": "2023-11-28T10:23:22.049Z"
   },
   {
    "duration": 101,
    "start_time": "2023-11-28T10:24:47.564Z"
   },
   {
    "duration": 43,
    "start_time": "2023-11-28T10:25:41.016Z"
   },
   {
    "duration": 9,
    "start_time": "2023-11-28T10:25:52.158Z"
   },
   {
    "duration": 8,
    "start_time": "2023-11-28T10:26:09.336Z"
   },
   {
    "duration": 157,
    "start_time": "2023-11-28T10:39:12.550Z"
   },
   {
    "duration": 146,
    "start_time": "2023-11-28T10:39:57.827Z"
   },
   {
    "duration": 16,
    "start_time": "2023-11-28T10:40:56.429Z"
   },
   {
    "duration": 14,
    "start_time": "2023-11-28T10:41:05.397Z"
   },
   {
    "duration": 174,
    "start_time": "2023-11-28T10:42:40.198Z"
   },
   {
    "duration": 150,
    "start_time": "2023-11-28T10:44:42.270Z"
   },
   {
    "duration": 127,
    "start_time": "2023-11-28T10:44:50.278Z"
   },
   {
    "duration": 149,
    "start_time": "2023-11-28T10:44:57.937Z"
   },
   {
    "duration": 8,
    "start_time": "2023-11-28T10:57:25.853Z"
   },
   {
    "duration": 5,
    "start_time": "2023-11-28T10:57:40.633Z"
   },
   {
    "duration": 169,
    "start_time": "2023-11-28T11:03:23.713Z"
   },
   {
    "duration": 173,
    "start_time": "2023-11-28T11:05:31.373Z"
   },
   {
    "duration": 173,
    "start_time": "2023-11-28T11:05:46.194Z"
   },
   {
    "duration": 156,
    "start_time": "2023-11-28T11:07:07.593Z"
   },
   {
    "duration": 158,
    "start_time": "2023-11-28T11:07:47.493Z"
   },
   {
    "duration": 156,
    "start_time": "2023-11-28T11:07:54.853Z"
   },
   {
    "duration": 168,
    "start_time": "2023-11-28T11:08:08.225Z"
   },
   {
    "duration": 332,
    "start_time": "2023-11-28T11:08:31.574Z"
   },
   {
    "duration": 158,
    "start_time": "2023-11-28T11:16:37.892Z"
   },
   {
    "duration": 159,
    "start_time": "2023-11-28T11:18:56.394Z"
   },
   {
    "duration": 170,
    "start_time": "2023-11-28T11:21:03.124Z"
   },
   {
    "duration": 182,
    "start_time": "2023-11-28T11:21:32.632Z"
   },
   {
    "duration": 160,
    "start_time": "2023-11-28T11:22:08.948Z"
   },
   {
    "duration": 482,
    "start_time": "2023-11-28T11:26:34.942Z"
   },
   {
    "duration": 145,
    "start_time": "2023-11-28T11:27:12.150Z"
   },
   {
    "duration": 157,
    "start_time": "2023-11-28T11:27:59.075Z"
   },
   {
    "duration": 284,
    "start_time": "2023-11-28T11:30:39.186Z"
   },
   {
    "duration": 1352,
    "start_time": "2023-11-28T11:31:13.230Z"
   },
   {
    "duration": 2001,
    "start_time": "2023-11-28T11:31:23.335Z"
   },
   {
    "duration": 148,
    "start_time": "2023-11-28T11:31:47.239Z"
   },
   {
    "duration": 1689,
    "start_time": "2023-11-28T11:35:45.097Z"
   },
   {
    "duration": 7,
    "start_time": "2023-11-28T11:36:06.223Z"
   },
   {
    "duration": 8,
    "start_time": "2023-11-28T11:36:46.034Z"
   },
   {
    "duration": 7,
    "start_time": "2023-11-28T11:38:28.467Z"
   },
   {
    "duration": 10,
    "start_time": "2023-11-28T11:38:29.506Z"
   },
   {
    "duration": 807,
    "start_time": "2023-11-28T11:38:53.673Z"
   },
   {
    "duration": 2184,
    "start_time": "2023-11-28T11:38:54.482Z"
   },
   {
    "duration": 12,
    "start_time": "2023-11-28T11:38:56.668Z"
   },
   {
    "duration": 19,
    "start_time": "2023-11-28T11:38:56.683Z"
   },
   {
    "duration": 25,
    "start_time": "2023-11-28T11:38:56.704Z"
   },
   {
    "duration": 29,
    "start_time": "2023-11-28T11:38:56.731Z"
   },
   {
    "duration": 27,
    "start_time": "2023-11-28T11:38:56.762Z"
   },
   {
    "duration": 22,
    "start_time": "2023-11-28T11:38:56.790Z"
   },
   {
    "duration": 17,
    "start_time": "2023-11-28T11:38:56.813Z"
   },
   {
    "duration": 9,
    "start_time": "2023-11-28T11:38:56.833Z"
   },
   {
    "duration": 36,
    "start_time": "2023-11-28T11:38:56.844Z"
   },
   {
    "duration": 5,
    "start_time": "2023-11-28T11:38:56.882Z"
   },
   {
    "duration": 36,
    "start_time": "2023-11-28T11:38:56.907Z"
   },
   {
    "duration": 339,
    "start_time": "2023-11-28T11:38:56.945Z"
   },
   {
    "duration": 34,
    "start_time": "2023-11-28T11:38:57.286Z"
   },
   {
    "duration": 186,
    "start_time": "2023-11-28T11:38:57.321Z"
   },
   {
    "duration": 226,
    "start_time": "2023-11-28T11:38:57.508Z"
   },
   {
    "duration": 248,
    "start_time": "2023-11-28T11:38:57.735Z"
   },
   {
    "duration": 58,
    "start_time": "2023-11-28T11:38:57.984Z"
   },
   {
    "duration": 9,
    "start_time": "2023-11-28T11:38:58.043Z"
   },
   {
    "duration": 221,
    "start_time": "2023-11-28T11:38:58.053Z"
   },
   {
    "duration": 10,
    "start_time": "2023-11-28T11:38:58.276Z"
   },
   {
    "duration": 203,
    "start_time": "2023-11-28T11:38:58.288Z"
   },
   {
    "duration": 19,
    "start_time": "2023-11-28T11:38:58.492Z"
   },
   {
    "duration": 9,
    "start_time": "2023-11-28T11:38:58.513Z"
   },
   {
    "duration": 13,
    "start_time": "2023-11-28T11:38:58.525Z"
   },
   {
    "duration": 13,
    "start_time": "2023-11-28T11:38:58.540Z"
   },
   {
    "duration": 222,
    "start_time": "2023-11-28T11:38:58.559Z"
   },
   {
    "duration": 10,
    "start_time": "2023-11-28T11:38:58.784Z"
   },
   {
    "duration": 165,
    "start_time": "2023-11-28T11:38:58.807Z"
   },
   {
    "duration": 127,
    "start_time": "2023-11-28T11:38:58.974Z"
   },
   {
    "duration": 130,
    "start_time": "2023-11-28T11:38:59.102Z"
   },
   {
    "duration": 9,
    "start_time": "2023-11-28T11:38:59.234Z"
   },
   {
    "duration": 159,
    "start_time": "2023-11-28T11:38:59.245Z"
   },
   {
    "duration": 9,
    "start_time": "2023-11-28T11:38:59.405Z"
   },
   {
    "duration": 66,
    "start_time": "2023-11-28T11:38:59.416Z"
   },
   {
    "duration": 202,
    "start_time": "2023-11-28T11:38:59.485Z"
   },
   {
    "duration": 165,
    "start_time": "2023-11-28T11:38:59.689Z"
   },
   {
    "duration": 6,
    "start_time": "2023-11-28T11:38:59.857Z"
   },
   {
    "duration": 8,
    "start_time": "2023-11-28T11:38:59.865Z"
   },
   {
    "duration": 8,
    "start_time": "2023-11-28T11:38:59.875Z"
   },
   {
    "duration": 7,
    "start_time": "2023-11-28T11:38:59.907Z"
   },
   {
    "duration": 7,
    "start_time": "2023-11-28T11:38:59.915Z"
   },
   {
    "duration": 11,
    "start_time": "2023-11-28T11:38:59.924Z"
   },
   {
    "duration": 200,
    "start_time": "2023-11-28T11:38:59.937Z"
   },
   {
    "duration": 195,
    "start_time": "2023-11-28T11:39:00.139Z"
   },
   {
    "duration": 285,
    "start_time": "2023-11-28T11:39:00.336Z"
   },
   {
    "duration": 184,
    "start_time": "2023-11-28T11:39:00.624Z"
   },
   {
    "duration": 175,
    "start_time": "2023-11-28T11:40:16.635Z"
   },
   {
    "duration": 192,
    "start_time": "2023-11-28T11:40:48.695Z"
   },
   {
    "duration": 177,
    "start_time": "2023-11-28T11:41:10.682Z"
   },
   {
    "duration": 172,
    "start_time": "2023-11-28T11:41:20.856Z"
   },
   {
    "duration": 78,
    "start_time": "2023-11-28T11:48:05.957Z"
   },
   {
    "duration": 7,
    "start_time": "2023-11-28T11:48:14.120Z"
   },
   {
    "duration": 22,
    "start_time": "2023-11-28T11:49:12.048Z"
   },
   {
    "duration": 23,
    "start_time": "2023-11-28T11:49:57.939Z"
   },
   {
    "duration": 24,
    "start_time": "2023-11-28T11:50:43.379Z"
   },
   {
    "duration": 21,
    "start_time": "2023-11-28T11:51:06.300Z"
   },
   {
    "duration": 29,
    "start_time": "2023-11-28T11:51:17.928Z"
   },
   {
    "duration": 21,
    "start_time": "2023-11-28T11:51:41.396Z"
   },
   {
    "duration": 22,
    "start_time": "2023-11-28T11:52:14.531Z"
   },
   {
    "duration": 8,
    "start_time": "2023-11-28T11:55:58.052Z"
   },
   {
    "duration": 8,
    "start_time": "2023-11-28T11:56:31.003Z"
   },
   {
    "duration": 10,
    "start_time": "2023-11-28T11:57:16.792Z"
   },
   {
    "duration": 9,
    "start_time": "2023-11-28T11:58:39.792Z"
   },
   {
    "duration": 10,
    "start_time": "2023-11-28T11:59:51.752Z"
   },
   {
    "duration": 10,
    "start_time": "2023-11-28T12:00:21.352Z"
   },
   {
    "duration": 141,
    "start_time": "2023-11-28T12:31:04.950Z"
   },
   {
    "duration": 28,
    "start_time": "2023-11-28T12:31:12.477Z"
   },
   {
    "duration": 17,
    "start_time": "2023-11-28T12:33:26.462Z"
   },
   {
    "duration": 15,
    "start_time": "2023-11-28T12:35:31.922Z"
   },
   {
    "duration": 20,
    "start_time": "2023-11-28T12:36:20.001Z"
   },
   {
    "duration": 2023,
    "start_time": "2023-11-28T12:38:46.801Z"
   },
   {
    "duration": 3034,
    "start_time": "2023-11-28T12:39:05.333Z"
   },
   {
    "duration": 21,
    "start_time": "2023-11-28T12:40:00.119Z"
   },
   {
    "duration": 1037,
    "start_time": "2023-11-28T18:09:48.704Z"
   },
   {
    "duration": 1730,
    "start_time": "2023-11-28T18:09:49.742Z"
   },
   {
    "duration": 9,
    "start_time": "2023-11-28T18:09:51.473Z"
   },
   {
    "duration": 8,
    "start_time": "2023-11-28T18:09:51.483Z"
   },
   {
    "duration": 20,
    "start_time": "2023-11-28T18:09:51.493Z"
   },
   {
    "duration": 24,
    "start_time": "2023-11-28T18:09:51.514Z"
   },
   {
    "duration": 21,
    "start_time": "2023-11-28T18:09:51.539Z"
   },
   {
    "duration": 16,
    "start_time": "2023-11-28T18:09:51.561Z"
   },
   {
    "duration": 18,
    "start_time": "2023-11-28T18:09:51.578Z"
   },
   {
    "duration": 6,
    "start_time": "2023-11-28T18:09:51.598Z"
   },
   {
    "duration": 34,
    "start_time": "2023-11-28T18:09:51.605Z"
   },
   {
    "duration": 5,
    "start_time": "2023-11-28T18:09:51.641Z"
   },
   {
    "duration": 31,
    "start_time": "2023-11-28T18:09:51.647Z"
   },
   {
    "duration": 271,
    "start_time": "2023-11-28T18:09:51.681Z"
   },
   {
    "duration": 20,
    "start_time": "2023-11-28T18:09:51.953Z"
   },
   {
    "duration": 136,
    "start_time": "2023-11-28T18:09:51.982Z"
   },
   {
    "duration": 137,
    "start_time": "2023-11-28T18:09:52.119Z"
   },
   {
    "duration": 192,
    "start_time": "2023-11-28T18:09:52.257Z"
   },
   {
    "duration": 48,
    "start_time": "2023-11-28T18:09:52.450Z"
   },
   {
    "duration": 6,
    "start_time": "2023-11-28T18:09:52.500Z"
   },
   {
    "duration": 204,
    "start_time": "2023-11-28T18:09:52.508Z"
   },
   {
    "duration": 8,
    "start_time": "2023-11-28T18:09:52.713Z"
   },
   {
    "duration": 152,
    "start_time": "2023-11-28T18:09:52.722Z"
   },
   {
    "duration": 10,
    "start_time": "2023-11-28T18:09:52.875Z"
   },
   {
    "duration": 7,
    "start_time": "2023-11-28T18:09:52.886Z"
   },
   {
    "duration": 15,
    "start_time": "2023-11-28T18:09:52.894Z"
   },
   {
    "duration": 7,
    "start_time": "2023-11-28T18:09:52.911Z"
   },
   {
    "duration": 123,
    "start_time": "2023-11-28T18:09:52.919Z"
   },
   {
    "duration": 7,
    "start_time": "2023-11-28T18:09:53.044Z"
   },
   {
    "duration": 163,
    "start_time": "2023-11-28T18:09:53.053Z"
   },
   {
    "duration": 100,
    "start_time": "2023-11-28T18:09:53.218Z"
   },
   {
    "duration": 108,
    "start_time": "2023-11-28T18:09:53.319Z"
   },
   {
    "duration": 7,
    "start_time": "2023-11-28T18:09:53.428Z"
   },
   {
    "duration": 97,
    "start_time": "2023-11-28T18:09:53.436Z"
   },
   {
    "duration": 8,
    "start_time": "2023-11-28T18:09:53.534Z"
   },
   {
    "duration": 13,
    "start_time": "2023-11-28T18:09:53.543Z"
   },
   {
    "duration": 152,
    "start_time": "2023-11-28T18:09:53.558Z"
   },
   {
    "duration": 120,
    "start_time": "2023-11-28T18:09:53.712Z"
   },
   {
    "duration": 5,
    "start_time": "2023-11-28T18:09:53.833Z"
   },
   {
    "duration": 11,
    "start_time": "2023-11-28T18:09:53.839Z"
   },
   {
    "duration": 5,
    "start_time": "2023-11-28T18:09:53.854Z"
   },
   {
    "duration": 21,
    "start_time": "2023-11-28T18:09:53.861Z"
   },
   {
    "duration": 5,
    "start_time": "2023-11-28T18:09:53.883Z"
   },
   {
    "duration": 7,
    "start_time": "2023-11-28T18:09:53.889Z"
   },
   {
    "duration": 143,
    "start_time": "2023-11-28T18:09:53.897Z"
   },
   {
    "duration": 156,
    "start_time": "2023-11-28T18:09:54.041Z"
   },
   {
    "duration": 209,
    "start_time": "2023-11-28T18:09:54.198Z"
   },
   {
    "duration": 128,
    "start_time": "2023-11-28T18:09:54.409Z"
   },
   {
    "duration": 150,
    "start_time": "2023-11-28T18:09:54.538Z"
   },
   {
    "duration": 19,
    "start_time": "2023-11-28T18:09:54.689Z"
   },
   {
    "duration": 7,
    "start_time": "2023-11-28T18:09:54.710Z"
   },
   {
    "duration": 75,
    "start_time": "2023-11-28T18:09:54.719Z"
   },
   {
    "duration": 86,
    "start_time": "2023-11-28T18:10:06.594Z"
   },
   {
    "duration": 92,
    "start_time": "2023-11-28T18:10:21.013Z"
   },
   {
    "duration": 151,
    "start_time": "2023-11-28T18:10:24.773Z"
   },
   {
    "duration": 156,
    "start_time": "2023-11-28T18:12:00.261Z"
   },
   {
    "duration": 775,
    "start_time": "2023-11-28T18:59:28.391Z"
   },
   {
    "duration": 2052,
    "start_time": "2023-11-28T18:59:29.168Z"
   },
   {
    "duration": 11,
    "start_time": "2023-11-28T18:59:31.222Z"
   },
   {
    "duration": 30,
    "start_time": "2023-11-28T18:59:31.236Z"
   },
   {
    "duration": 25,
    "start_time": "2023-11-28T18:59:31.268Z"
   },
   {
    "duration": 38,
    "start_time": "2023-11-28T18:59:31.295Z"
   },
   {
    "duration": 25,
    "start_time": "2023-11-28T18:59:31.335Z"
   },
   {
    "duration": 6,
    "start_time": "2023-11-28T18:59:31.361Z"
   },
   {
    "duration": 26,
    "start_time": "2023-11-28T18:59:31.368Z"
   },
   {
    "duration": 17,
    "start_time": "2023-11-28T18:59:31.397Z"
   },
   {
    "duration": 48,
    "start_time": "2023-11-28T18:59:31.416Z"
   },
   {
    "duration": 14,
    "start_time": "2023-11-28T18:59:31.465Z"
   },
   {
    "duration": 48,
    "start_time": "2023-11-28T18:59:31.480Z"
   },
   {
    "duration": 322,
    "start_time": "2023-11-28T18:59:31.529Z"
   },
   {
    "duration": 24,
    "start_time": "2023-11-28T18:59:31.853Z"
   },
   {
    "duration": 169,
    "start_time": "2023-11-28T18:59:31.879Z"
   },
   {
    "duration": 174,
    "start_time": "2023-11-28T18:59:32.050Z"
   },
   {
    "duration": 222,
    "start_time": "2023-11-28T18:59:32.226Z"
   },
   {
    "duration": 44,
    "start_time": "2023-11-28T18:59:32.449Z"
   },
   {
    "duration": 8,
    "start_time": "2023-11-28T18:59:32.495Z"
   },
   {
    "duration": 189,
    "start_time": "2023-11-28T18:59:32.523Z"
   },
   {
    "duration": 15,
    "start_time": "2023-11-28T18:59:32.714Z"
   },
   {
    "duration": 194,
    "start_time": "2023-11-28T18:59:32.730Z"
   },
   {
    "duration": 8,
    "start_time": "2023-11-28T18:59:32.926Z"
   },
   {
    "duration": 67,
    "start_time": "2023-11-28T18:59:32.936Z"
   },
   {
    "duration": 12,
    "start_time": "2023-11-28T18:59:33.005Z"
   },
   {
    "duration": 13,
    "start_time": "2023-11-28T18:59:33.019Z"
   },
   {
    "duration": 163,
    "start_time": "2023-11-28T18:59:33.035Z"
   },
   {
    "duration": 8,
    "start_time": "2023-11-28T18:59:33.200Z"
   },
   {
    "duration": 149,
    "start_time": "2023-11-28T18:59:33.209Z"
   },
   {
    "duration": 113,
    "start_time": "2023-11-28T18:59:33.360Z"
   },
   {
    "duration": 123,
    "start_time": "2023-11-28T18:59:33.475Z"
   },
   {
    "duration": 8,
    "start_time": "2023-11-28T18:59:33.600Z"
   },
   {
    "duration": 107,
    "start_time": "2023-11-28T18:59:33.622Z"
   },
   {
    "duration": 8,
    "start_time": "2023-11-28T18:59:33.730Z"
   },
   {
    "duration": 8,
    "start_time": "2023-11-28T18:59:33.740Z"
   },
   {
    "duration": 189,
    "start_time": "2023-11-28T18:59:33.749Z"
   },
   {
    "duration": 156,
    "start_time": "2023-11-28T18:59:33.939Z"
   },
   {
    "duration": 4,
    "start_time": "2023-11-28T18:59:34.097Z"
   },
   {
    "duration": 20,
    "start_time": "2023-11-28T18:59:34.103Z"
   },
   {
    "duration": 5,
    "start_time": "2023-11-28T18:59:34.124Z"
   },
   {
    "duration": 5,
    "start_time": "2023-11-28T18:59:34.131Z"
   },
   {
    "duration": 6,
    "start_time": "2023-11-28T18:59:34.138Z"
   },
   {
    "duration": 9,
    "start_time": "2023-11-28T18:59:34.145Z"
   },
   {
    "duration": 179,
    "start_time": "2023-11-28T18:59:34.155Z"
   },
   {
    "duration": 172,
    "start_time": "2023-11-28T18:59:34.335Z"
   },
   {
    "duration": 249,
    "start_time": "2023-11-28T18:59:34.509Z"
   },
   {
    "duration": 164,
    "start_time": "2023-11-28T18:59:34.760Z"
   },
   {
    "duration": 160,
    "start_time": "2023-11-28T18:59:34.925Z"
   },
   {
    "duration": 38,
    "start_time": "2023-11-28T18:59:35.087Z"
   },
   {
    "duration": 9,
    "start_time": "2023-11-28T18:59:35.126Z"
   },
   {
    "duration": 192,
    "start_time": "2023-11-28T18:59:35.137Z"
   },
   {
    "duration": 7,
    "start_time": "2023-11-28T19:43:36.101Z"
   },
   {
    "duration": 77,
    "start_time": "2023-11-28T19:44:16.938Z"
   },
   {
    "duration": 741,
    "start_time": "2023-11-28T19:44:40.466Z"
   },
   {
    "duration": 2040,
    "start_time": "2023-11-28T19:44:41.209Z"
   },
   {
    "duration": 10,
    "start_time": "2023-11-28T19:44:43.250Z"
   },
   {
    "duration": 38,
    "start_time": "2023-11-28T19:44:43.261Z"
   },
   {
    "duration": 30,
    "start_time": "2023-11-28T19:44:43.301Z"
   },
   {
    "duration": 42,
    "start_time": "2023-11-28T19:44:43.332Z"
   },
   {
    "duration": 48,
    "start_time": "2023-11-28T19:44:43.375Z"
   },
   {
    "duration": 6,
    "start_time": "2023-11-28T19:44:43.424Z"
   },
   {
    "duration": 25,
    "start_time": "2023-11-28T19:44:43.431Z"
   },
   {
    "duration": 17,
    "start_time": "2023-11-28T19:44:43.458Z"
   },
   {
    "duration": 44,
    "start_time": "2023-11-28T19:44:43.477Z"
   },
   {
    "duration": 4,
    "start_time": "2023-11-28T19:44:43.522Z"
   },
   {
    "duration": 37,
    "start_time": "2023-11-28T19:44:43.527Z"
   },
   {
    "duration": 304,
    "start_time": "2023-11-28T19:44:43.567Z"
   },
   {
    "duration": 25,
    "start_time": "2023-11-28T19:44:43.873Z"
   },
   {
    "duration": 179,
    "start_time": "2023-11-28T19:44:43.900Z"
   },
   {
    "duration": 176,
    "start_time": "2023-11-28T19:44:44.081Z"
   },
   {
    "duration": 225,
    "start_time": "2023-11-28T19:44:44.259Z"
   },
   {
    "duration": 45,
    "start_time": "2023-11-28T19:44:44.486Z"
   },
   {
    "duration": 8,
    "start_time": "2023-11-28T19:44:44.533Z"
   },
   {
    "duration": 192,
    "start_time": "2023-11-28T19:44:44.542Z"
   },
   {
    "duration": 8,
    "start_time": "2023-11-28T19:44:44.736Z"
   },
   {
    "duration": 190,
    "start_time": "2023-11-28T19:44:44.746Z"
   },
   {
    "duration": 8,
    "start_time": "2023-11-28T19:44:44.938Z"
   },
   {
    "duration": 9,
    "start_time": "2023-11-28T19:44:44.947Z"
   },
   {
    "duration": 15,
    "start_time": "2023-11-28T19:44:44.957Z"
   },
   {
    "duration": 10,
    "start_time": "2023-11-28T19:44:44.974Z"
   },
   {
    "duration": 157,
    "start_time": "2023-11-28T19:44:44.985Z"
   },
   {
    "duration": 96,
    "start_time": "2023-11-28T19:44:45.143Z"
   },
   {
    "duration": 7,
    "start_time": "2023-11-28T19:44:45.240Z"
   },
   {
    "duration": 95,
    "start_time": "2023-11-28T19:44:45.249Z"
   },
   {
    "duration": 157,
    "start_time": "2023-11-28T19:44:45.345Z"
   },
   {
    "duration": 119,
    "start_time": "2023-11-28T19:44:45.504Z"
   },
   {
    "duration": 123,
    "start_time": "2023-11-28T19:44:45.625Z"
   },
   {
    "duration": 9,
    "start_time": "2023-11-28T19:44:45.750Z"
   },
   {
    "duration": 122,
    "start_time": "2023-11-28T19:44:45.760Z"
   },
   {
    "duration": 9,
    "start_time": "2023-11-28T19:44:45.883Z"
   },
   {
    "duration": 7,
    "start_time": "2023-11-28T19:44:45.893Z"
   },
   {
    "duration": 191,
    "start_time": "2023-11-28T19:44:45.901Z"
   },
   {
    "duration": 136,
    "start_time": "2023-11-28T19:44:46.093Z"
   },
   {
    "duration": 6,
    "start_time": "2023-11-28T19:44:46.233Z"
   },
   {
    "duration": 6,
    "start_time": "2023-11-28T19:44:46.240Z"
   },
   {
    "duration": 4,
    "start_time": "2023-11-28T19:44:46.248Z"
   },
   {
    "duration": 4,
    "start_time": "2023-11-28T19:44:46.254Z"
   },
   {
    "duration": 6,
    "start_time": "2023-11-28T19:44:46.260Z"
   },
   {
    "duration": 7,
    "start_time": "2023-11-28T19:44:46.267Z"
   },
   {
    "duration": 199,
    "start_time": "2023-11-28T19:44:46.275Z"
   },
   {
    "duration": 176,
    "start_time": "2023-11-28T19:44:46.475Z"
   },
   {
    "duration": 247,
    "start_time": "2023-11-28T19:44:46.653Z"
   },
   {
    "duration": 158,
    "start_time": "2023-11-28T19:44:46.901Z"
   },
   {
    "duration": 172,
    "start_time": "2023-11-28T19:44:47.061Z"
   },
   {
    "duration": 22,
    "start_time": "2023-11-28T19:44:47.234Z"
   },
   {
    "duration": 10,
    "start_time": "2023-11-28T19:44:47.257Z"
   },
   {
    "duration": 221,
    "start_time": "2023-11-28T19:44:47.268Z"
   },
   {
    "duration": 726,
    "start_time": "2023-11-28T19:44:57.654Z"
   },
   {
    "duration": 2039,
    "start_time": "2023-11-28T19:44:58.381Z"
   },
   {
    "duration": 9,
    "start_time": "2023-11-28T19:45:00.422Z"
   },
   {
    "duration": 32,
    "start_time": "2023-11-28T19:45:00.433Z"
   },
   {
    "duration": 10,
    "start_time": "2023-11-28T19:45:00.467Z"
   },
   {
    "duration": 35,
    "start_time": "2023-11-28T19:45:00.479Z"
   },
   {
    "duration": 41,
    "start_time": "2023-11-28T19:45:00.516Z"
   },
   {
    "duration": 30,
    "start_time": "2023-11-28T19:45:00.559Z"
   },
   {
    "duration": 43,
    "start_time": "2023-11-28T19:45:00.591Z"
   },
   {
    "duration": 67,
    "start_time": "2023-11-28T19:45:00.636Z"
   },
   {
    "duration": 61,
    "start_time": "2023-11-28T19:45:00.705Z"
   },
   {
    "duration": 6,
    "start_time": "2023-11-28T19:45:00.768Z"
   },
   {
    "duration": 64,
    "start_time": "2023-11-28T19:45:00.775Z"
   },
   {
    "duration": 321,
    "start_time": "2023-11-28T19:45:00.840Z"
   },
   {
    "duration": 26,
    "start_time": "2023-11-28T19:45:01.162Z"
   },
   {
    "duration": 175,
    "start_time": "2023-11-28T19:45:01.189Z"
   },
   {
    "duration": 174,
    "start_time": "2023-11-28T19:45:01.365Z"
   },
   {
    "duration": 224,
    "start_time": "2023-11-28T19:45:01.541Z"
   },
   {
    "duration": 44,
    "start_time": "2023-11-28T19:45:01.766Z"
   },
   {
    "duration": 8,
    "start_time": "2023-11-28T19:45:01.822Z"
   },
   {
    "duration": 209,
    "start_time": "2023-11-28T19:45:01.832Z"
   },
   {
    "duration": 12,
    "start_time": "2023-11-28T19:45:02.042Z"
   },
   {
    "duration": 265,
    "start_time": "2023-11-28T19:45:02.056Z"
   },
   {
    "duration": 8,
    "start_time": "2023-11-28T19:45:02.322Z"
   },
   {
    "duration": 28,
    "start_time": "2023-11-28T19:45:02.331Z"
   },
   {
    "duration": 24,
    "start_time": "2023-11-28T19:45:02.360Z"
   },
   {
    "duration": 25,
    "start_time": "2023-11-28T19:45:02.386Z"
   },
   {
    "duration": 147,
    "start_time": "2023-11-28T19:45:02.415Z"
   },
   {
    "duration": 9,
    "start_time": "2023-11-28T19:45:02.563Z"
   },
   {
    "duration": 162,
    "start_time": "2023-11-28T19:45:02.574Z"
   },
   {
    "duration": 86,
    "start_time": "2023-11-28T19:45:02.737Z"
   },
   {
    "duration": 126,
    "start_time": "2023-11-28T19:45:02.824Z"
   },
   {
    "duration": 118,
    "start_time": "2023-11-28T19:45:02.952Z"
   },
   {
    "duration": 10,
    "start_time": "2023-11-28T19:45:03.072Z"
   },
   {
    "duration": 118,
    "start_time": "2023-11-28T19:45:03.083Z"
   },
   {
    "duration": 21,
    "start_time": "2023-11-28T19:45:03.202Z"
   },
   {
    "duration": 14,
    "start_time": "2023-11-28T19:45:03.225Z"
   },
   {
    "duration": 186,
    "start_time": "2023-11-28T19:45:03.240Z"
   },
   {
    "duration": 148,
    "start_time": "2023-11-28T19:45:03.428Z"
   },
   {
    "duration": 5,
    "start_time": "2023-11-28T19:45:03.578Z"
   },
   {
    "duration": 45,
    "start_time": "2023-11-28T19:45:03.585Z"
   },
   {
    "duration": 27,
    "start_time": "2023-11-28T19:45:03.631Z"
   },
   {
    "duration": 41,
    "start_time": "2023-11-28T19:45:03.660Z"
   },
   {
    "duration": 29,
    "start_time": "2023-11-28T19:45:03.703Z"
   },
   {
    "duration": 35,
    "start_time": "2023-11-28T19:45:03.734Z"
   },
   {
    "duration": 188,
    "start_time": "2023-11-28T19:45:03.771Z"
   },
   {
    "duration": 177,
    "start_time": "2023-11-28T19:45:03.961Z"
   },
   {
    "duration": 236,
    "start_time": "2023-11-28T19:45:04.140Z"
   },
   {
    "duration": 144,
    "start_time": "2023-11-28T19:45:04.378Z"
   },
   {
    "duration": 172,
    "start_time": "2023-11-28T19:45:04.524Z"
   },
   {
    "duration": 27,
    "start_time": "2023-11-28T19:45:04.697Z"
   },
   {
    "duration": 9,
    "start_time": "2023-11-28T19:45:04.726Z"
   },
   {
    "duration": 213,
    "start_time": "2023-11-28T19:45:04.737Z"
   },
   {
    "duration": 90,
    "start_time": "2023-11-28T22:12:57.533Z"
   },
   {
    "duration": 43,
    "start_time": "2023-11-28T22:14:14.411Z"
   },
   {
    "duration": 988,
    "start_time": "2023-11-28T22:14:22.906Z"
   },
   {
    "duration": 1984,
    "start_time": "2023-11-28T22:14:23.896Z"
   },
   {
    "duration": 9,
    "start_time": "2023-11-28T22:14:25.882Z"
   },
   {
    "duration": 5,
    "start_time": "2023-11-28T22:14:25.893Z"
   },
   {
    "duration": 7,
    "start_time": "2023-11-28T22:14:25.899Z"
   },
   {
    "duration": 25,
    "start_time": "2023-11-28T22:14:25.914Z"
   },
   {
    "duration": 24,
    "start_time": "2023-11-28T22:14:25.940Z"
   },
   {
    "duration": 5,
    "start_time": "2023-11-28T22:14:25.966Z"
   },
   {
    "duration": 96,
    "start_time": "2023-11-28T22:14:25.973Z"
   },
   {
    "duration": 0,
    "start_time": "2023-11-28T22:14:26.072Z"
   },
   {
    "duration": 0,
    "start_time": "2023-11-28T22:14:26.073Z"
   },
   {
    "duration": 1,
    "start_time": "2023-11-28T22:14:26.074Z"
   },
   {
    "duration": 0,
    "start_time": "2023-11-28T22:14:26.076Z"
   },
   {
    "duration": 0,
    "start_time": "2023-11-28T22:14:26.077Z"
   },
   {
    "duration": 0,
    "start_time": "2023-11-28T22:14:26.079Z"
   },
   {
    "duration": 0,
    "start_time": "2023-11-28T22:14:26.080Z"
   },
   {
    "duration": 0,
    "start_time": "2023-11-28T22:14:26.082Z"
   },
   {
    "duration": 0,
    "start_time": "2023-11-28T22:14:26.083Z"
   },
   {
    "duration": 0,
    "start_time": "2023-11-28T22:14:26.085Z"
   },
   {
    "duration": 0,
    "start_time": "2023-11-28T22:14:26.086Z"
   },
   {
    "duration": 0,
    "start_time": "2023-11-28T22:14:26.088Z"
   },
   {
    "duration": 0,
    "start_time": "2023-11-28T22:14:26.115Z"
   },
   {
    "duration": 0,
    "start_time": "2023-11-28T22:14:26.116Z"
   },
   {
    "duration": 0,
    "start_time": "2023-11-28T22:14:26.117Z"
   },
   {
    "duration": 0,
    "start_time": "2023-11-28T22:14:26.118Z"
   },
   {
    "duration": 0,
    "start_time": "2023-11-28T22:14:26.119Z"
   },
   {
    "duration": 0,
    "start_time": "2023-11-28T22:14:26.120Z"
   },
   {
    "duration": 0,
    "start_time": "2023-11-28T22:14:26.120Z"
   },
   {
    "duration": 0,
    "start_time": "2023-11-28T22:14:26.121Z"
   },
   {
    "duration": 0,
    "start_time": "2023-11-28T22:14:26.122Z"
   },
   {
    "duration": 0,
    "start_time": "2023-11-28T22:14:26.123Z"
   },
   {
    "duration": 0,
    "start_time": "2023-11-28T22:14:26.124Z"
   },
   {
    "duration": 0,
    "start_time": "2023-11-28T22:14:26.125Z"
   },
   {
    "duration": 0,
    "start_time": "2023-11-28T22:14:26.126Z"
   },
   {
    "duration": 0,
    "start_time": "2023-11-28T22:14:26.127Z"
   },
   {
    "duration": 0,
    "start_time": "2023-11-28T22:14:26.128Z"
   },
   {
    "duration": 0,
    "start_time": "2023-11-28T22:14:26.129Z"
   },
   {
    "duration": 0,
    "start_time": "2023-11-28T22:14:26.129Z"
   },
   {
    "duration": 0,
    "start_time": "2023-11-28T22:14:26.130Z"
   },
   {
    "duration": 0,
    "start_time": "2023-11-28T22:14:26.131Z"
   },
   {
    "duration": 0,
    "start_time": "2023-11-28T22:14:26.132Z"
   },
   {
    "duration": 0,
    "start_time": "2023-11-28T22:14:26.133Z"
   },
   {
    "duration": 0,
    "start_time": "2023-11-28T22:14:26.134Z"
   },
   {
    "duration": 0,
    "start_time": "2023-11-28T22:14:26.135Z"
   },
   {
    "duration": 0,
    "start_time": "2023-11-28T22:14:26.135Z"
   },
   {
    "duration": 0,
    "start_time": "2023-11-28T22:14:26.136Z"
   },
   {
    "duration": 0,
    "start_time": "2023-11-28T22:14:26.137Z"
   },
   {
    "duration": 0,
    "start_time": "2023-11-28T22:14:26.138Z"
   },
   {
    "duration": 0,
    "start_time": "2023-11-28T22:14:26.139Z"
   },
   {
    "duration": 0,
    "start_time": "2023-11-28T22:14:26.140Z"
   },
   {
    "duration": 0,
    "start_time": "2023-11-28T22:14:26.141Z"
   },
   {
    "duration": 0,
    "start_time": "2023-11-28T22:14:26.142Z"
   },
   {
    "duration": 85,
    "start_time": "2023-11-28T22:17:03.144Z"
   },
   {
    "duration": 3,
    "start_time": "2023-11-28T22:20:40.364Z"
   },
   {
    "duration": 125,
    "start_time": "2023-11-28T22:24:34.780Z"
   },
   {
    "duration": 8,
    "start_time": "2023-11-28T22:25:07.944Z"
   },
   {
    "duration": 6,
    "start_time": "2023-11-28T22:25:42.519Z"
   },
   {
    "duration": 724,
    "start_time": "2023-11-28T22:25:55.761Z"
   },
   {
    "duration": 1917,
    "start_time": "2023-11-28T22:25:56.487Z"
   },
   {
    "duration": 9,
    "start_time": "2023-11-28T22:25:58.406Z"
   },
   {
    "duration": 4,
    "start_time": "2023-11-28T22:25:58.417Z"
   },
   {
    "duration": 7,
    "start_time": "2023-11-28T22:25:58.422Z"
   },
   {
    "duration": 25,
    "start_time": "2023-11-28T22:25:58.430Z"
   },
   {
    "duration": 23,
    "start_time": "2023-11-28T22:25:58.456Z"
   },
   {
    "duration": 5,
    "start_time": "2023-11-28T22:25:58.481Z"
   },
   {
    "duration": 33,
    "start_time": "2023-11-28T22:25:58.487Z"
   },
   {
    "duration": 8,
    "start_time": "2023-11-28T22:25:58.522Z"
   },
   {
    "duration": 37,
    "start_time": "2023-11-28T22:25:58.532Z"
   },
   {
    "duration": 4,
    "start_time": "2023-11-28T22:25:58.570Z"
   },
   {
    "duration": 51,
    "start_time": "2023-11-28T22:25:58.576Z"
   },
   {
    "duration": 316,
    "start_time": "2023-11-28T22:25:58.629Z"
   },
   {
    "duration": 25,
    "start_time": "2023-11-28T22:25:58.947Z"
   },
   {
    "duration": 171,
    "start_time": "2023-11-28T22:25:58.974Z"
   },
   {
    "duration": 160,
    "start_time": "2023-11-28T22:25:59.147Z"
   },
   {
    "duration": 230,
    "start_time": "2023-11-28T22:25:59.309Z"
   },
   {
    "duration": 43,
    "start_time": "2023-11-28T22:25:59.541Z"
   },
   {
    "duration": 8,
    "start_time": "2023-11-28T22:25:59.586Z"
   },
   {
    "duration": 201,
    "start_time": "2023-11-28T22:25:59.596Z"
   },
   {
    "duration": 16,
    "start_time": "2023-11-28T22:25:59.799Z"
   },
   {
    "duration": 167,
    "start_time": "2023-11-28T22:25:59.817Z"
   },
   {
    "duration": 8,
    "start_time": "2023-11-28T22:25:59.985Z"
   },
   {
    "duration": 21,
    "start_time": "2023-11-28T22:25:59.995Z"
   },
   {
    "duration": 29,
    "start_time": "2023-11-28T22:26:00.018Z"
   },
   {
    "duration": 49,
    "start_time": "2023-11-28T22:26:00.048Z"
   },
   {
    "duration": 148,
    "start_time": "2023-11-28T22:26:00.100Z"
   },
   {
    "duration": 6,
    "start_time": "2023-11-28T22:26:00.250Z"
   },
   {
    "duration": 175,
    "start_time": "2023-11-28T22:26:00.258Z"
   },
   {
    "duration": 116,
    "start_time": "2023-11-28T22:26:00.434Z"
   },
   {
    "duration": 119,
    "start_time": "2023-11-28T22:26:00.551Z"
   },
   {
    "duration": 8,
    "start_time": "2023-11-28T22:26:00.672Z"
   },
   {
    "duration": 165,
    "start_time": "2023-11-28T22:26:00.681Z"
   },
   {
    "duration": 8,
    "start_time": "2023-11-28T22:26:00.848Z"
   },
   {
    "duration": 40,
    "start_time": "2023-11-28T22:26:00.857Z"
   },
   {
    "duration": 214,
    "start_time": "2023-11-28T22:26:00.898Z"
   },
   {
    "duration": 129,
    "start_time": "2023-11-28T22:26:01.114Z"
   },
   {
    "duration": 6,
    "start_time": "2023-11-28T22:26:01.244Z"
   },
   {
    "duration": 35,
    "start_time": "2023-11-28T22:26:01.251Z"
   },
   {
    "duration": 33,
    "start_time": "2023-11-28T22:26:01.287Z"
   },
   {
    "duration": 41,
    "start_time": "2023-11-28T22:26:01.321Z"
   },
   {
    "duration": 22,
    "start_time": "2023-11-28T22:26:01.364Z"
   },
   {
    "duration": 39,
    "start_time": "2023-11-28T22:26:01.388Z"
   },
   {
    "duration": 188,
    "start_time": "2023-11-28T22:26:01.429Z"
   },
   {
    "duration": 169,
    "start_time": "2023-11-28T22:26:01.618Z"
   },
   {
    "duration": 243,
    "start_time": "2023-11-28T22:26:01.788Z"
   },
   {
    "duration": 146,
    "start_time": "2023-11-28T22:26:02.033Z"
   },
   {
    "duration": 163,
    "start_time": "2023-11-28T22:26:02.181Z"
   },
   {
    "duration": 22,
    "start_time": "2023-11-28T22:26:02.345Z"
   },
   {
    "duration": 11,
    "start_time": "2023-11-28T22:26:02.368Z"
   },
   {
    "duration": 209,
    "start_time": "2023-11-28T22:26:02.380Z"
   },
   {
    "duration": 10,
    "start_time": "2023-11-28T23:10:55.286Z"
   },
   {
    "duration": 143,
    "start_time": "2023-11-28T23:17:25.643Z"
   },
   {
    "duration": 139,
    "start_time": "2023-11-28T23:19:24.325Z"
   },
   {
    "duration": 9,
    "start_time": "2023-11-28T23:19:39.428Z"
   },
   {
    "duration": 10,
    "start_time": "2023-11-28T23:19:51.043Z"
   },
   {
    "duration": 2,
    "start_time": "2023-11-28T23:21:02.901Z"
   },
   {
    "duration": 8,
    "start_time": "2023-11-28T23:21:03.733Z"
   },
   {
    "duration": 8,
    "start_time": "2023-11-28T23:21:09.675Z"
   },
   {
    "duration": 784,
    "start_time": "2023-11-28T23:21:26.916Z"
   },
   {
    "duration": 2026,
    "start_time": "2023-11-28T23:21:27.702Z"
   },
   {
    "duration": 9,
    "start_time": "2023-11-28T23:21:29.730Z"
   },
   {
    "duration": 5,
    "start_time": "2023-11-28T23:21:29.741Z"
   },
   {
    "duration": 8,
    "start_time": "2023-11-28T23:21:29.748Z"
   },
   {
    "duration": 26,
    "start_time": "2023-11-28T23:21:29.757Z"
   },
   {
    "duration": 39,
    "start_time": "2023-11-28T23:21:29.784Z"
   },
   {
    "duration": 7,
    "start_time": "2023-11-28T23:21:29.824Z"
   },
   {
    "duration": 7,
    "start_time": "2023-11-28T23:21:29.833Z"
   },
   {
    "duration": 8,
    "start_time": "2023-11-28T23:21:29.842Z"
   },
   {
    "duration": 34,
    "start_time": "2023-11-28T23:21:29.852Z"
   },
   {
    "duration": 28,
    "start_time": "2023-11-28T23:21:29.887Z"
   },
   {
    "duration": 46,
    "start_time": "2023-11-28T23:21:29.917Z"
   },
   {
    "duration": 301,
    "start_time": "2023-11-28T23:21:29.965Z"
   },
   {
    "duration": 26,
    "start_time": "2023-11-28T23:21:30.267Z"
   },
   {
    "duration": 176,
    "start_time": "2023-11-28T23:21:30.295Z"
   },
   {
    "duration": 175,
    "start_time": "2023-11-28T23:21:30.472Z"
   },
   {
    "duration": 228,
    "start_time": "2023-11-28T23:21:30.649Z"
   },
   {
    "duration": 52,
    "start_time": "2023-11-28T23:21:30.879Z"
   },
   {
    "duration": 8,
    "start_time": "2023-11-28T23:21:30.932Z"
   },
   {
    "duration": 207,
    "start_time": "2023-11-28T23:21:30.941Z"
   },
   {
    "duration": 9,
    "start_time": "2023-11-28T23:21:31.149Z"
   },
   {
    "duration": 177,
    "start_time": "2023-11-28T23:21:31.159Z"
   },
   {
    "duration": 8,
    "start_time": "2023-11-28T23:21:31.338Z"
   },
   {
    "duration": 21,
    "start_time": "2023-11-28T23:21:31.348Z"
   },
   {
    "duration": 24,
    "start_time": "2023-11-28T23:21:31.371Z"
   },
   {
    "duration": 8,
    "start_time": "2023-11-28T23:21:31.397Z"
   },
   {
    "duration": 134,
    "start_time": "2023-11-28T23:21:31.410Z"
   },
   {
    "duration": 9,
    "start_time": "2023-11-28T23:21:31.546Z"
   },
   {
    "duration": 39,
    "start_time": "2023-11-28T23:21:31.557Z"
   },
   {
    "duration": 10,
    "start_time": "2023-11-28T23:21:31.598Z"
   },
   {
    "duration": 83,
    "start_time": "2023-11-28T23:21:31.610Z"
   },
   {
    "duration": 104,
    "start_time": "2023-11-28T23:21:31.695Z"
   },
   {
    "duration": 120,
    "start_time": "2023-11-28T23:21:31.801Z"
   },
   {
    "duration": 8,
    "start_time": "2023-11-28T23:21:31.922Z"
   },
   {
    "duration": 115,
    "start_time": "2023-11-28T23:21:31.932Z"
   },
   {
    "duration": 9,
    "start_time": "2023-11-28T23:21:32.049Z"
   },
   {
    "duration": 18,
    "start_time": "2023-11-28T23:21:32.059Z"
   },
   {
    "duration": 188,
    "start_time": "2023-11-28T23:21:32.079Z"
   },
   {
    "duration": 146,
    "start_time": "2023-11-28T23:21:32.269Z"
   },
   {
    "duration": 6,
    "start_time": "2023-11-28T23:21:32.417Z"
   },
   {
    "duration": 12,
    "start_time": "2023-11-28T23:21:32.425Z"
   },
   {
    "duration": 11,
    "start_time": "2023-11-28T23:21:32.438Z"
   },
   {
    "duration": 10,
    "start_time": "2023-11-28T23:21:32.451Z"
   },
   {
    "duration": 37,
    "start_time": "2023-11-28T23:21:32.463Z"
   },
   {
    "duration": 33,
    "start_time": "2023-11-28T23:21:32.502Z"
   },
   {
    "duration": 222,
    "start_time": "2023-11-28T23:21:32.537Z"
   },
   {
    "duration": 205,
    "start_time": "2023-11-28T23:21:32.761Z"
   },
   {
    "duration": 190,
    "start_time": "2023-11-28T23:21:32.967Z"
   },
   {
    "duration": 273,
    "start_time": "2023-11-28T23:21:33.158Z"
   },
   {
    "duration": 204,
    "start_time": "2023-11-28T23:21:33.433Z"
   },
   {
    "duration": 23,
    "start_time": "2023-11-28T23:21:33.639Z"
   },
   {
    "duration": 9,
    "start_time": "2023-11-28T23:21:33.663Z"
   },
   {
    "duration": 190,
    "start_time": "2023-11-28T23:21:33.673Z"
   },
   {
    "duration": 134,
    "start_time": "2023-11-28T23:21:47.110Z"
   },
   {
    "duration": 744,
    "start_time": "2023-11-28T23:23:20.733Z"
   },
   {
    "duration": 1941,
    "start_time": "2023-11-28T23:23:21.479Z"
   },
   {
    "duration": 9,
    "start_time": "2023-11-28T23:23:23.422Z"
   },
   {
    "duration": 14,
    "start_time": "2023-11-28T23:23:23.433Z"
   },
   {
    "duration": 20,
    "start_time": "2023-11-28T23:23:23.448Z"
   },
   {
    "duration": 36,
    "start_time": "2023-11-28T23:23:23.469Z"
   },
   {
    "duration": 27,
    "start_time": "2023-11-28T23:23:23.506Z"
   },
   {
    "duration": 9,
    "start_time": "2023-11-28T23:23:23.535Z"
   },
   {
    "duration": 7,
    "start_time": "2023-11-28T23:23:23.546Z"
   },
   {
    "duration": 12,
    "start_time": "2023-11-28T23:23:23.556Z"
   },
   {
    "duration": 47,
    "start_time": "2023-11-28T23:23:23.570Z"
   },
   {
    "duration": 3,
    "start_time": "2023-11-28T23:23:23.619Z"
   },
   {
    "duration": 35,
    "start_time": "2023-11-28T23:23:23.624Z"
   },
   {
    "duration": 312,
    "start_time": "2023-11-28T23:23:23.660Z"
   },
   {
    "duration": 25,
    "start_time": "2023-11-28T23:23:23.974Z"
   },
   {
    "duration": 165,
    "start_time": "2023-11-28T23:23:24.001Z"
   },
   {
    "duration": 167,
    "start_time": "2023-11-28T23:23:24.167Z"
   },
   {
    "duration": 218,
    "start_time": "2023-11-28T23:23:24.336Z"
   },
   {
    "duration": 46,
    "start_time": "2023-11-28T23:23:24.555Z"
   },
   {
    "duration": 17,
    "start_time": "2023-11-28T23:23:24.603Z"
   },
   {
    "duration": 179,
    "start_time": "2023-11-28T23:23:24.621Z"
   },
   {
    "duration": 16,
    "start_time": "2023-11-28T23:23:24.802Z"
   },
   {
    "duration": 163,
    "start_time": "2023-11-28T23:23:24.819Z"
   },
   {
    "duration": 8,
    "start_time": "2023-11-28T23:23:24.984Z"
   },
   {
    "duration": 22,
    "start_time": "2023-11-28T23:23:24.993Z"
   },
   {
    "duration": 9,
    "start_time": "2023-11-28T23:23:25.016Z"
   },
   {
    "duration": 10,
    "start_time": "2023-11-28T23:23:25.026Z"
   },
   {
    "duration": 153,
    "start_time": "2023-11-28T23:23:25.040Z"
   },
   {
    "duration": 9,
    "start_time": "2023-11-28T23:23:25.195Z"
   },
   {
    "duration": 9,
    "start_time": "2023-11-28T23:23:25.215Z"
   },
   {
    "duration": 3,
    "start_time": "2023-11-28T23:23:25.225Z"
   },
   {
    "duration": 197,
    "start_time": "2023-11-28T23:23:25.229Z"
   },
   {
    "duration": 122,
    "start_time": "2023-11-28T23:23:25.428Z"
   },
   {
    "duration": 117,
    "start_time": "2023-11-28T23:23:25.552Z"
   },
   {
    "duration": 9,
    "start_time": "2023-11-28T23:23:25.671Z"
   },
   {
    "duration": 113,
    "start_time": "2023-11-28T23:23:25.681Z"
   },
   {
    "duration": 21,
    "start_time": "2023-11-28T23:23:25.796Z"
   },
   {
    "duration": 21,
    "start_time": "2023-11-28T23:23:25.819Z"
   },
   {
    "duration": 177,
    "start_time": "2023-11-28T23:23:25.841Z"
   },
   {
    "duration": 140,
    "start_time": "2023-11-28T23:23:26.020Z"
   },
   {
    "duration": 5,
    "start_time": "2023-11-28T23:23:26.162Z"
   },
   {
    "duration": 14,
    "start_time": "2023-11-28T23:23:26.168Z"
   },
   {
    "duration": 14,
    "start_time": "2023-11-28T23:23:26.184Z"
   },
   {
    "duration": 17,
    "start_time": "2023-11-28T23:23:26.200Z"
   },
   {
    "duration": 17,
    "start_time": "2023-11-28T23:23:26.219Z"
   },
   {
    "duration": 12,
    "start_time": "2023-11-28T23:23:26.237Z"
   },
   {
    "duration": 201,
    "start_time": "2023-11-28T23:23:26.251Z"
   },
   {
    "duration": 205,
    "start_time": "2023-11-28T23:23:26.453Z"
   },
   {
    "duration": 263,
    "start_time": "2023-11-28T23:23:26.659Z"
   },
   {
    "duration": 181,
    "start_time": "2023-11-28T23:23:26.924Z"
   },
   {
    "duration": 192,
    "start_time": "2023-11-28T23:23:27.106Z"
   },
   {
    "duration": 29,
    "start_time": "2023-11-28T23:23:27.300Z"
   },
   {
    "duration": 9,
    "start_time": "2023-11-28T23:23:27.331Z"
   },
   {
    "duration": 183,
    "start_time": "2023-11-28T23:23:27.341Z"
   },
   {
    "duration": 1823,
    "start_time": "2023-11-28T23:25:26.943Z"
   },
   {
    "duration": 14,
    "start_time": "2023-11-28T23:26:09.528Z"
   },
   {
    "duration": 13,
    "start_time": "2023-11-28T23:28:38.552Z"
   },
   {
    "duration": 16,
    "start_time": "2023-11-28T23:28:57.866Z"
   },
   {
    "duration": 14,
    "start_time": "2023-11-28T23:30:15.832Z"
   },
   {
    "duration": 6,
    "start_time": "2023-11-28T23:30:53.406Z"
   },
   {
    "duration": 109,
    "start_time": "2023-11-28T23:31:01.147Z"
   },
   {
    "duration": 92,
    "start_time": "2023-11-28T23:31:58.408Z"
   },
   {
    "duration": 756,
    "start_time": "2023-11-28T23:33:52.340Z"
   },
   {
    "duration": 1971,
    "start_time": "2023-11-28T23:33:53.097Z"
   },
   {
    "duration": 8,
    "start_time": "2023-11-28T23:33:55.070Z"
   },
   {
    "duration": 5,
    "start_time": "2023-11-28T23:33:55.080Z"
   },
   {
    "duration": 7,
    "start_time": "2023-11-28T23:33:55.087Z"
   },
   {
    "duration": 26,
    "start_time": "2023-11-28T23:33:55.096Z"
   },
   {
    "duration": 25,
    "start_time": "2023-11-28T23:33:55.124Z"
   },
   {
    "duration": 6,
    "start_time": "2023-11-28T23:33:55.150Z"
   },
   {
    "duration": 6,
    "start_time": "2023-11-28T23:33:55.157Z"
   },
   {
    "duration": 8,
    "start_time": "2023-11-28T23:33:55.164Z"
   },
   {
    "duration": 59,
    "start_time": "2023-11-28T23:33:55.173Z"
   },
   {
    "duration": 4,
    "start_time": "2023-11-28T23:33:55.234Z"
   },
   {
    "duration": 32,
    "start_time": "2023-11-28T23:33:55.239Z"
   },
   {
    "duration": 315,
    "start_time": "2023-11-28T23:33:55.274Z"
   },
   {
    "duration": 31,
    "start_time": "2023-11-28T23:33:55.591Z"
   },
   {
    "duration": 147,
    "start_time": "2023-11-28T23:33:55.623Z"
   },
   {
    "duration": 164,
    "start_time": "2023-11-28T23:33:55.772Z"
   },
   {
    "duration": 210,
    "start_time": "2023-11-28T23:33:55.938Z"
   },
   {
    "duration": 44,
    "start_time": "2023-11-28T23:33:56.149Z"
   },
   {
    "duration": 22,
    "start_time": "2023-11-28T23:33:56.194Z"
   },
   {
    "duration": 181,
    "start_time": "2023-11-28T23:33:56.218Z"
   },
   {
    "duration": 17,
    "start_time": "2023-11-28T23:33:56.401Z"
   },
   {
    "duration": 164,
    "start_time": "2023-11-28T23:33:56.419Z"
   },
   {
    "duration": 9,
    "start_time": "2023-11-28T23:33:56.585Z"
   },
   {
    "duration": 20,
    "start_time": "2023-11-28T23:33:56.596Z"
   },
   {
    "duration": 8,
    "start_time": "2023-11-28T23:33:56.618Z"
   },
   {
    "duration": 8,
    "start_time": "2023-11-28T23:33:56.628Z"
   },
   {
    "duration": 149,
    "start_time": "2023-11-28T23:33:56.638Z"
   },
   {
    "duration": 8,
    "start_time": "2023-11-28T23:33:56.788Z"
   },
   {
    "duration": 22,
    "start_time": "2023-11-28T23:33:56.798Z"
   },
   {
    "duration": 2,
    "start_time": "2023-11-28T23:33:56.822Z"
   },
   {
    "duration": 207,
    "start_time": "2023-11-28T23:33:56.825Z"
   },
   {
    "duration": 120,
    "start_time": "2023-11-28T23:33:57.033Z"
   },
   {
    "duration": 118,
    "start_time": "2023-11-28T23:33:57.154Z"
   },
   {
    "duration": 8,
    "start_time": "2023-11-28T23:33:57.273Z"
   },
   {
    "duration": 110,
    "start_time": "2023-11-28T23:33:57.282Z"
   },
   {
    "duration": 8,
    "start_time": "2023-11-28T23:33:57.394Z"
   },
   {
    "duration": 119,
    "start_time": "2023-11-28T23:33:57.415Z"
   },
   {
    "duration": 18,
    "start_time": "2023-11-28T23:33:57.536Z"
   },
   {
    "duration": 173,
    "start_time": "2023-11-28T23:33:57.556Z"
   },
   {
    "duration": 137,
    "start_time": "2023-11-28T23:33:57.733Z"
   },
   {
    "duration": 6,
    "start_time": "2023-11-28T23:33:57.871Z"
   },
   {
    "duration": 55,
    "start_time": "2023-11-28T23:33:57.878Z"
   },
   {
    "duration": 4,
    "start_time": "2023-11-28T23:33:57.935Z"
   },
   {
    "duration": 5,
    "start_time": "2023-11-28T23:33:57.940Z"
   },
   {
    "duration": 7,
    "start_time": "2023-11-28T23:33:57.946Z"
   },
   {
    "duration": 6,
    "start_time": "2023-11-28T23:33:57.954Z"
   },
   {
    "duration": 185,
    "start_time": "2023-11-28T23:33:57.962Z"
   },
   {
    "duration": 282,
    "start_time": "2023-11-28T23:33:58.148Z"
   },
   {
    "duration": 182,
    "start_time": "2023-11-28T23:33:58.431Z"
   },
   {
    "duration": 176,
    "start_time": "2023-11-28T23:33:58.615Z"
   },
   {
    "duration": 206,
    "start_time": "2023-11-28T23:33:58.792Z"
   },
   {
    "duration": 29,
    "start_time": "2023-11-28T23:33:58.999Z"
   },
   {
    "duration": 8,
    "start_time": "2023-11-28T23:33:59.030Z"
   },
   {
    "duration": 174,
    "start_time": "2023-11-28T23:33:59.039Z"
   },
   {
    "duration": 715,
    "start_time": "2023-11-28T23:38:09.070Z"
   },
   {
    "duration": 1929,
    "start_time": "2023-11-28T23:38:09.787Z"
   },
   {
    "duration": 9,
    "start_time": "2023-11-28T23:38:11.718Z"
   },
   {
    "duration": 5,
    "start_time": "2023-11-28T23:38:11.729Z"
   },
   {
    "duration": 7,
    "start_time": "2023-11-28T23:38:11.736Z"
   },
   {
    "duration": 24,
    "start_time": "2023-11-28T23:38:11.744Z"
   },
   {
    "duration": 51,
    "start_time": "2023-11-28T23:38:11.769Z"
   },
   {
    "duration": 5,
    "start_time": "2023-11-28T23:38:11.822Z"
   },
   {
    "duration": 15,
    "start_time": "2023-11-28T23:38:11.829Z"
   },
   {
    "duration": 7,
    "start_time": "2023-11-28T23:38:11.847Z"
   },
   {
    "duration": 36,
    "start_time": "2023-11-28T23:38:11.856Z"
   },
   {
    "duration": 3,
    "start_time": "2023-11-28T23:38:11.894Z"
   },
   {
    "duration": 44,
    "start_time": "2023-11-28T23:38:11.899Z"
   },
   {
    "duration": 306,
    "start_time": "2023-11-28T23:38:11.945Z"
   },
   {
    "duration": 25,
    "start_time": "2023-11-28T23:38:12.252Z"
   },
   {
    "duration": 161,
    "start_time": "2023-11-28T23:38:12.279Z"
   },
   {
    "duration": 163,
    "start_time": "2023-11-28T23:38:12.441Z"
   },
   {
    "duration": 211,
    "start_time": "2023-11-28T23:38:12.606Z"
   },
   {
    "duration": 42,
    "start_time": "2023-11-28T23:38:12.819Z"
   },
   {
    "duration": 7,
    "start_time": "2023-11-28T23:38:12.863Z"
   },
   {
    "duration": 202,
    "start_time": "2023-11-28T23:38:12.872Z"
   },
   {
    "duration": 10,
    "start_time": "2023-11-28T23:38:13.076Z"
   },
   {
    "duration": 171,
    "start_time": "2023-11-28T23:38:13.088Z"
   },
   {
    "duration": 8,
    "start_time": "2023-11-28T23:38:13.261Z"
   },
   {
    "duration": 9,
    "start_time": "2023-11-28T23:38:13.271Z"
   },
   {
    "duration": 8,
    "start_time": "2023-11-28T23:38:13.282Z"
   },
   {
    "duration": 31,
    "start_time": "2023-11-28T23:38:13.291Z"
   },
   {
    "duration": 136,
    "start_time": "2023-11-28T23:38:13.325Z"
   },
   {
    "duration": 7,
    "start_time": "2023-11-28T23:38:13.463Z"
   },
   {
    "duration": 9,
    "start_time": "2023-11-28T23:38:13.471Z"
   },
   {
    "duration": 2,
    "start_time": "2023-11-28T23:38:13.481Z"
   },
   {
    "duration": 211,
    "start_time": "2023-11-28T23:38:13.485Z"
   },
   {
    "duration": 118,
    "start_time": "2023-11-28T23:38:13.698Z"
   },
   {
    "duration": 119,
    "start_time": "2023-11-28T23:38:13.818Z"
   },
   {
    "duration": 10,
    "start_time": "2023-11-28T23:38:13.938Z"
   },
   {
    "duration": 111,
    "start_time": "2023-11-28T23:38:13.950Z"
   },
   {
    "duration": 8,
    "start_time": "2023-11-28T23:38:14.063Z"
   },
   {
    "duration": 121,
    "start_time": "2023-11-28T23:38:14.072Z"
   },
   {
    "duration": 29,
    "start_time": "2023-11-28T23:38:14.194Z"
   },
   {
    "duration": 165,
    "start_time": "2023-11-28T23:38:14.224Z"
   },
   {
    "duration": 135,
    "start_time": "2023-11-28T23:38:14.390Z"
   },
   {
    "duration": 6,
    "start_time": "2023-11-28T23:38:14.526Z"
   },
   {
    "duration": 7,
    "start_time": "2023-11-28T23:38:14.534Z"
   },
   {
    "duration": 15,
    "start_time": "2023-11-28T23:38:14.543Z"
   },
   {
    "duration": 6,
    "start_time": "2023-11-28T23:38:14.559Z"
   },
   {
    "duration": 7,
    "start_time": "2023-11-28T23:38:14.567Z"
   },
   {
    "duration": 6,
    "start_time": "2023-11-28T23:38:14.576Z"
   },
   {
    "duration": 198,
    "start_time": "2023-11-28T23:38:14.584Z"
   },
   {
    "duration": 306,
    "start_time": "2023-11-28T23:38:14.783Z"
   },
   {
    "duration": 178,
    "start_time": "2023-11-28T23:38:15.090Z"
   },
   {
    "duration": 205,
    "start_time": "2023-11-28T23:43:42.771Z"
   },
   {
    "duration": 21,
    "start_time": "2023-11-28T23:43:42.977Z"
   },
   {
    "duration": 23,
    "start_time": "2023-11-28T23:43:42.999Z"
   },
   {
    "duration": 186,
    "start_time": "2023-11-28T23:43:43.023Z"
   },
   {
    "duration": 739,
    "start_time": "2023-11-28T23:46:19.232Z"
   },
   {
    "duration": 1943,
    "start_time": "2023-11-28T23:46:19.973Z"
   },
   {
    "duration": 12,
    "start_time": "2023-11-28T23:46:21.919Z"
   },
   {
    "duration": 6,
    "start_time": "2023-11-28T23:46:21.933Z"
   },
   {
    "duration": 9,
    "start_time": "2023-11-28T23:46:21.940Z"
   },
   {
    "duration": 65,
    "start_time": "2023-11-28T23:46:21.951Z"
   },
   {
    "duration": 26,
    "start_time": "2023-11-28T23:46:22.018Z"
   },
   {
    "duration": 7,
    "start_time": "2023-11-28T23:46:22.045Z"
   },
   {
    "duration": 9,
    "start_time": "2023-11-28T23:46:22.053Z"
   },
   {
    "duration": 8,
    "start_time": "2023-11-28T23:46:22.065Z"
   },
   {
    "duration": 67,
    "start_time": "2023-11-28T23:46:22.075Z"
   },
   {
    "duration": 4,
    "start_time": "2023-11-28T23:46:22.144Z"
   },
   {
    "duration": 34,
    "start_time": "2023-11-28T23:46:22.150Z"
   },
   {
    "duration": 319,
    "start_time": "2023-11-28T23:46:22.186Z"
   },
   {
    "duration": 30,
    "start_time": "2023-11-28T23:46:22.507Z"
   },
   {
    "duration": 163,
    "start_time": "2023-11-28T23:46:22.539Z"
   },
   {
    "duration": 167,
    "start_time": "2023-11-28T23:46:22.704Z"
   },
   {
    "duration": 220,
    "start_time": "2023-11-28T23:46:22.872Z"
   },
   {
    "duration": 49,
    "start_time": "2023-11-28T23:46:23.093Z"
   },
   {
    "duration": 7,
    "start_time": "2023-11-28T23:46:23.144Z"
   },
   {
    "duration": 180,
    "start_time": "2023-11-28T23:46:23.152Z"
   },
   {
    "duration": 9,
    "start_time": "2023-11-28T23:46:23.334Z"
   },
   {
    "duration": 175,
    "start_time": "2023-11-28T23:46:23.344Z"
   },
   {
    "duration": 7,
    "start_time": "2023-11-28T23:46:23.520Z"
   },
   {
    "duration": 23,
    "start_time": "2023-11-28T23:46:23.529Z"
   },
   {
    "duration": 26,
    "start_time": "2023-11-28T23:46:23.553Z"
   },
   {
    "duration": 32,
    "start_time": "2023-11-28T23:46:23.581Z"
   },
   {
    "duration": 133,
    "start_time": "2023-11-28T23:46:23.617Z"
   },
   {
    "duration": 8,
    "start_time": "2023-11-28T23:46:23.752Z"
   },
   {
    "duration": 42,
    "start_time": "2023-11-28T23:46:23.762Z"
   },
   {
    "duration": 32,
    "start_time": "2023-11-28T23:46:23.805Z"
   },
   {
    "duration": 225,
    "start_time": "2023-11-28T23:46:23.839Z"
   },
   {
    "duration": 120,
    "start_time": "2023-11-28T23:46:24.065Z"
   },
   {
    "duration": 116,
    "start_time": "2023-11-28T23:46:24.186Z"
   },
   {
    "duration": 12,
    "start_time": "2023-11-28T23:46:24.303Z"
   },
   {
    "duration": 122,
    "start_time": "2023-11-28T23:46:24.317Z"
   },
   {
    "duration": 8,
    "start_time": "2023-11-28T23:46:24.441Z"
   },
   {
    "duration": 124,
    "start_time": "2023-11-28T23:46:24.450Z"
   },
   {
    "duration": 18,
    "start_time": "2023-11-28T23:46:24.575Z"
   },
   {
    "duration": 182,
    "start_time": "2023-11-28T23:46:24.595Z"
   },
   {
    "duration": 145,
    "start_time": "2023-11-28T23:46:24.778Z"
   },
   {
    "duration": 6,
    "start_time": "2023-11-28T23:46:24.925Z"
   },
   {
    "duration": 26,
    "start_time": "2023-11-28T23:46:24.933Z"
   },
   {
    "duration": 24,
    "start_time": "2023-11-28T23:46:24.960Z"
   },
   {
    "duration": 45,
    "start_time": "2023-11-28T23:46:24.985Z"
   },
   {
    "duration": 30,
    "start_time": "2023-11-28T23:46:25.031Z"
   },
   {
    "duration": 33,
    "start_time": "2023-11-28T23:46:25.063Z"
   },
   {
    "duration": 199,
    "start_time": "2023-11-28T23:46:25.097Z"
   },
   {
    "duration": 306,
    "start_time": "2023-11-28T23:46:25.298Z"
   },
   {
    "duration": 183,
    "start_time": "2023-11-28T23:46:25.606Z"
   },
   {
    "duration": 830,
    "start_time": "2023-11-28T23:50:03.805Z"
   },
   {
    "duration": 2163,
    "start_time": "2023-11-28T23:50:04.637Z"
   },
   {
    "duration": 19,
    "start_time": "2023-11-28T23:50:06.802Z"
   },
   {
    "duration": 9,
    "start_time": "2023-11-28T23:50:06.824Z"
   },
   {
    "duration": 8,
    "start_time": "2023-11-28T23:50:06.836Z"
   },
   {
    "duration": 26,
    "start_time": "2023-11-28T23:50:06.846Z"
   },
   {
    "duration": 61,
    "start_time": "2023-11-28T23:50:06.874Z"
   },
   {
    "duration": 6,
    "start_time": "2023-11-28T23:50:06.936Z"
   },
   {
    "duration": 24,
    "start_time": "2023-11-28T23:50:06.943Z"
   },
   {
    "duration": 7,
    "start_time": "2023-11-28T23:50:06.969Z"
   },
   {
    "duration": 35,
    "start_time": "2023-11-28T23:50:06.977Z"
   },
   {
    "duration": 9,
    "start_time": "2023-11-28T23:50:07.014Z"
   },
   {
    "duration": 52,
    "start_time": "2023-11-28T23:50:07.025Z"
   },
   {
    "duration": 333,
    "start_time": "2023-11-28T23:50:07.080Z"
   },
   {
    "duration": 31,
    "start_time": "2023-11-28T23:50:07.416Z"
   },
   {
    "duration": 182,
    "start_time": "2023-11-28T23:50:07.449Z"
   },
   {
    "duration": 169,
    "start_time": "2023-11-28T23:50:07.632Z"
   },
   {
    "duration": 244,
    "start_time": "2023-11-28T23:50:07.802Z"
   },
   {
    "duration": 43,
    "start_time": "2023-11-28T23:50:08.048Z"
   },
   {
    "duration": 8,
    "start_time": "2023-11-28T23:50:08.092Z"
   },
   {
    "duration": 184,
    "start_time": "2023-11-28T23:50:08.125Z"
   },
   {
    "duration": 18,
    "start_time": "2023-11-28T23:50:08.311Z"
   },
   {
    "duration": 199,
    "start_time": "2023-11-28T23:50:08.330Z"
   },
   {
    "duration": 8,
    "start_time": "2023-11-28T23:50:08.531Z"
   },
   {
    "duration": 9,
    "start_time": "2023-11-28T23:50:08.540Z"
   },
   {
    "duration": 8,
    "start_time": "2023-11-28T23:50:08.550Z"
   },
   {
    "duration": 9,
    "start_time": "2023-11-28T23:50:08.559Z"
   },
   {
    "duration": 165,
    "start_time": "2023-11-28T23:50:08.569Z"
   },
   {
    "duration": 8,
    "start_time": "2023-11-28T23:50:08.735Z"
   },
   {
    "duration": 16,
    "start_time": "2023-11-28T23:50:08.744Z"
   },
   {
    "duration": 12,
    "start_time": "2023-11-28T23:50:08.762Z"
   },
   {
    "duration": 216,
    "start_time": "2023-11-28T23:50:08.776Z"
   },
   {
    "duration": 138,
    "start_time": "2023-11-28T23:50:08.994Z"
   },
   {
    "duration": 131,
    "start_time": "2023-11-28T23:50:09.133Z"
   },
   {
    "duration": 9,
    "start_time": "2023-11-28T23:50:09.266Z"
   },
   {
    "duration": 125,
    "start_time": "2023-11-28T23:50:09.276Z"
   },
   {
    "duration": 31,
    "start_time": "2023-11-28T23:50:09.402Z"
   },
   {
    "duration": 120,
    "start_time": "2023-11-28T23:50:09.435Z"
   },
   {
    "duration": 19,
    "start_time": "2023-11-28T23:50:09.557Z"
   },
   {
    "duration": 215,
    "start_time": "2023-11-28T23:50:09.578Z"
   },
   {
    "duration": 177,
    "start_time": "2023-11-28T23:50:09.797Z"
   },
   {
    "duration": 6,
    "start_time": "2023-11-28T23:50:09.975Z"
   },
   {
    "duration": 10,
    "start_time": "2023-11-28T23:50:09.982Z"
   },
   {
    "duration": 8,
    "start_time": "2023-11-28T23:50:09.993Z"
   },
   {
    "duration": 28,
    "start_time": "2023-11-28T23:50:10.003Z"
   },
   {
    "duration": 19,
    "start_time": "2023-11-28T23:50:10.033Z"
   },
   {
    "duration": 9,
    "start_time": "2023-11-28T23:50:10.054Z"
   },
   {
    "duration": 297,
    "start_time": "2023-11-28T23:50:10.065Z"
   },
   {
    "duration": 404,
    "start_time": "2023-11-28T23:50:10.364Z"
   },
   {
    "duration": 199,
    "start_time": "2023-11-28T23:50:10.770Z"
   },
   {
    "duration": 44,
    "start_time": "2023-11-28T23:50:47.910Z"
   },
   {
    "duration": 748,
    "start_time": "2023-11-28T23:50:52.741Z"
   },
   {
    "duration": 1961,
    "start_time": "2023-11-28T23:50:53.491Z"
   },
   {
    "duration": 9,
    "start_time": "2023-11-28T23:50:55.454Z"
   },
   {
    "duration": 5,
    "start_time": "2023-11-28T23:50:55.465Z"
   },
   {
    "duration": 8,
    "start_time": "2023-11-28T23:50:55.472Z"
   },
   {
    "duration": 26,
    "start_time": "2023-11-28T23:50:55.481Z"
   },
   {
    "duration": 24,
    "start_time": "2023-11-28T23:50:55.515Z"
   },
   {
    "duration": 6,
    "start_time": "2023-11-28T23:50:55.540Z"
   },
   {
    "duration": 7,
    "start_time": "2023-11-28T23:50:55.547Z"
   },
   {
    "duration": 10,
    "start_time": "2023-11-28T23:50:55.557Z"
   },
   {
    "duration": 48,
    "start_time": "2023-11-28T23:50:55.568Z"
   },
   {
    "duration": 4,
    "start_time": "2023-11-28T23:50:55.617Z"
   },
   {
    "duration": 34,
    "start_time": "2023-11-28T23:50:55.622Z"
   },
   {
    "duration": 309,
    "start_time": "2023-11-28T23:50:55.657Z"
   },
   {
    "duration": 26,
    "start_time": "2023-11-28T23:50:55.968Z"
   },
   {
    "duration": 161,
    "start_time": "2023-11-28T23:50:55.995Z"
   },
   {
    "duration": 167,
    "start_time": "2023-11-28T23:50:56.157Z"
   },
   {
    "duration": 213,
    "start_time": "2023-11-28T23:50:56.325Z"
   },
   {
    "duration": 41,
    "start_time": "2023-11-28T23:50:56.539Z"
   },
   {
    "duration": 7,
    "start_time": "2023-11-28T23:50:56.582Z"
   },
   {
    "duration": 191,
    "start_time": "2023-11-28T23:50:56.590Z"
   },
   {
    "duration": 8,
    "start_time": "2023-11-28T23:50:56.783Z"
   },
   {
    "duration": 178,
    "start_time": "2023-11-28T23:50:56.792Z"
   },
   {
    "duration": 8,
    "start_time": "2023-11-28T23:50:56.972Z"
   },
   {
    "duration": 15,
    "start_time": "2023-11-28T23:50:56.981Z"
   },
   {
    "duration": 19,
    "start_time": "2023-11-28T23:50:56.997Z"
   },
   {
    "duration": 15,
    "start_time": "2023-11-28T23:50:57.017Z"
   },
   {
    "duration": 150,
    "start_time": "2023-11-28T23:50:57.036Z"
   },
   {
    "duration": 9,
    "start_time": "2023-11-28T23:50:57.188Z"
   },
   {
    "duration": 22,
    "start_time": "2023-11-28T23:50:57.199Z"
   },
   {
    "duration": 3,
    "start_time": "2023-11-28T23:50:57.223Z"
   },
   {
    "duration": 200,
    "start_time": "2023-11-28T23:50:57.227Z"
   },
   {
    "duration": 120,
    "start_time": "2023-11-28T23:50:57.429Z"
   },
   {
    "duration": 127,
    "start_time": "2023-11-28T23:50:57.550Z"
   },
   {
    "duration": 9,
    "start_time": "2023-11-28T23:50:57.678Z"
   },
   {
    "duration": 114,
    "start_time": "2023-11-28T23:50:57.688Z"
   },
   {
    "duration": 18,
    "start_time": "2023-11-28T23:50:57.803Z"
   },
   {
    "duration": 120,
    "start_time": "2023-11-28T23:50:57.822Z"
   },
   {
    "duration": 18,
    "start_time": "2023-11-28T23:50:57.943Z"
   },
   {
    "duration": 171,
    "start_time": "2023-11-28T23:50:57.962Z"
   },
   {
    "duration": 151,
    "start_time": "2023-11-28T23:50:58.134Z"
   },
   {
    "duration": 7,
    "start_time": "2023-11-28T23:50:58.287Z"
   },
   {
    "duration": 24,
    "start_time": "2023-11-28T23:50:58.296Z"
   },
   {
    "duration": 4,
    "start_time": "2023-11-28T23:50:58.322Z"
   },
   {
    "duration": 5,
    "start_time": "2023-11-28T23:50:58.328Z"
   },
   {
    "duration": 7,
    "start_time": "2023-11-28T23:50:58.334Z"
   },
   {
    "duration": 7,
    "start_time": "2023-11-28T23:50:58.343Z"
   },
   {
    "duration": 228,
    "start_time": "2023-11-28T23:50:58.352Z"
   },
   {
    "duration": 312,
    "start_time": "2023-11-28T23:50:58.581Z"
   },
   {
    "duration": 193,
    "start_time": "2023-11-28T23:50:58.895Z"
   },
   {
    "duration": 746,
    "start_time": "2023-11-28T23:51:27.525Z"
   },
   {
    "duration": 1987,
    "start_time": "2023-11-28T23:51:28.953Z"
   },
   {
    "duration": 10,
    "start_time": "2023-11-28T23:51:31.777Z"
   },
   {
    "duration": 6,
    "start_time": "2023-11-28T23:51:32.437Z"
   },
   {
    "duration": 8,
    "start_time": "2023-11-28T23:51:33.139Z"
   },
   {
    "duration": 23,
    "start_time": "2023-11-28T23:51:33.612Z"
   },
   {
    "duration": 25,
    "start_time": "2023-11-28T23:51:33.840Z"
   },
   {
    "duration": 5,
    "start_time": "2023-11-28T23:51:34.202Z"
   },
   {
    "duration": 6,
    "start_time": "2023-11-28T23:51:34.864Z"
   },
   {
    "duration": 8,
    "start_time": "2023-11-28T23:51:35.771Z"
   },
   {
    "duration": 32,
    "start_time": "2023-11-28T23:51:36.140Z"
   },
   {
    "duration": 4,
    "start_time": "2023-11-28T23:51:37.083Z"
   },
   {
    "duration": 33,
    "start_time": "2023-11-28T23:51:37.489Z"
   },
   {
    "duration": 287,
    "start_time": "2023-11-28T23:51:40.029Z"
   },
   {
    "duration": 25,
    "start_time": "2023-11-28T23:51:41.073Z"
   },
   {
    "duration": 143,
    "start_time": "2023-11-28T23:51:42.004Z"
   },
   {
    "duration": 151,
    "start_time": "2023-11-28T23:51:42.441Z"
   },
   {
    "duration": 210,
    "start_time": "2023-11-28T23:51:42.761Z"
   },
   {
    "duration": 56,
    "start_time": "2023-11-28T23:51:42.972Z"
   },
   {
    "duration": 7,
    "start_time": "2023-11-28T23:51:43.163Z"
   },
   {
    "duration": 167,
    "start_time": "2023-11-28T23:51:43.363Z"
   },
   {
    "duration": 9,
    "start_time": "2023-11-28T23:51:43.764Z"
   },
   {
    "duration": 159,
    "start_time": "2023-11-28T23:51:43.980Z"
   },
   {
    "duration": 9,
    "start_time": "2023-11-28T23:51:44.182Z"
   },
   {
    "duration": 8,
    "start_time": "2023-11-28T23:51:44.379Z"
   },
   {
    "duration": 8,
    "start_time": "2023-11-28T23:51:44.596Z"
   },
   {
    "duration": 9,
    "start_time": "2023-11-28T23:51:44.819Z"
   },
   {
    "duration": 131,
    "start_time": "2023-11-28T23:51:45.023Z"
   },
   {
    "duration": 8,
    "start_time": "2023-11-28T23:51:45.457Z"
   },
   {
    "duration": 10,
    "start_time": "2023-11-28T23:51:46.371Z"
   },
   {
    "duration": 2,
    "start_time": "2023-11-28T23:51:46.939Z"
   },
   {
    "duration": 184,
    "start_time": "2023-11-28T23:51:47.348Z"
   },
   {
    "duration": 109,
    "start_time": "2023-11-28T23:51:49.358Z"
   },
   {
    "duration": 118,
    "start_time": "2023-11-28T23:51:50.097Z"
   },
   {
    "duration": 10,
    "start_time": "2023-11-28T23:51:50.669Z"
   },
   {
    "duration": 96,
    "start_time": "2023-11-28T23:51:51.200Z"
   },
   {
    "duration": 9,
    "start_time": "2023-11-28T23:51:51.395Z"
   },
   {
    "duration": 107,
    "start_time": "2023-11-28T23:51:52.023Z"
   },
   {
    "duration": 18,
    "start_time": "2023-11-28T23:51:53.214Z"
   },
   {
    "duration": 168,
    "start_time": "2023-11-28T23:51:53.660Z"
   },
   {
    "duration": 137,
    "start_time": "2023-11-28T23:51:53.830Z"
   },
   {
    "duration": 5,
    "start_time": "2023-11-28T23:51:54.356Z"
   },
   {
    "duration": 7,
    "start_time": "2023-11-28T23:51:54.703Z"
   },
   {
    "duration": 5,
    "start_time": "2023-11-28T23:51:55.351Z"
   },
   {
    "duration": 5,
    "start_time": "2023-11-28T23:51:55.834Z"
   },
   {
    "duration": 7,
    "start_time": "2023-11-28T23:51:56.297Z"
   },
   {
    "duration": 8,
    "start_time": "2023-11-28T23:51:56.491Z"
   },
   {
    "duration": 175,
    "start_time": "2023-11-28T23:51:57.305Z"
   },
   {
    "duration": 275,
    "start_time": "2023-11-28T23:51:57.730Z"
   },
   {
    "duration": 171,
    "start_time": "2023-11-28T23:51:59.373Z"
   },
   {
    "duration": 51,
    "start_time": "2023-11-28T23:53:52.234Z"
   },
   {
    "duration": 745,
    "start_time": "2023-11-28T23:54:07.929Z"
   },
   {
    "duration": 2084,
    "start_time": "2023-11-28T23:54:08.676Z"
   },
   {
    "duration": 10,
    "start_time": "2023-11-28T23:54:10.762Z"
   },
   {
    "duration": 14,
    "start_time": "2023-11-28T23:54:10.773Z"
   },
   {
    "duration": 18,
    "start_time": "2023-11-28T23:54:10.788Z"
   },
   {
    "duration": 46,
    "start_time": "2023-11-28T23:54:10.808Z"
   },
   {
    "duration": 24,
    "start_time": "2023-11-28T23:54:10.856Z"
   },
   {
    "duration": 13,
    "start_time": "2023-11-28T23:54:10.881Z"
   },
   {
    "duration": 17,
    "start_time": "2023-11-28T23:54:10.896Z"
   },
   {
    "duration": 8,
    "start_time": "2023-11-28T23:54:10.915Z"
   },
   {
    "duration": 36,
    "start_time": "2023-11-28T23:54:10.925Z"
   },
   {
    "duration": 5,
    "start_time": "2023-11-28T23:54:10.962Z"
   },
   {
    "duration": 62,
    "start_time": "2023-11-28T23:54:10.968Z"
   },
   {
    "duration": 303,
    "start_time": "2023-11-28T23:54:11.032Z"
   },
   {
    "duration": 25,
    "start_time": "2023-11-28T23:54:11.336Z"
   },
   {
    "duration": 158,
    "start_time": "2023-11-28T23:54:11.362Z"
   },
   {
    "duration": 165,
    "start_time": "2023-11-28T23:54:11.521Z"
   },
   {
    "duration": 217,
    "start_time": "2023-11-28T23:54:11.688Z"
   },
   {
    "duration": 50,
    "start_time": "2023-11-28T23:54:11.906Z"
   },
   {
    "duration": 8,
    "start_time": "2023-11-28T23:54:11.957Z"
   },
   {
    "duration": 191,
    "start_time": "2023-11-28T23:54:11.966Z"
   },
   {
    "duration": 9,
    "start_time": "2023-11-28T23:54:12.158Z"
   },
   {
    "duration": 169,
    "start_time": "2023-11-28T23:54:12.168Z"
   },
   {
    "duration": 8,
    "start_time": "2023-11-28T23:54:12.339Z"
   },
   {
    "duration": 9,
    "start_time": "2023-11-28T23:54:12.348Z"
   },
   {
    "duration": 7,
    "start_time": "2023-11-28T23:54:12.358Z"
   },
   {
    "duration": 8,
    "start_time": "2023-11-28T23:54:12.367Z"
   },
   {
    "duration": 154,
    "start_time": "2023-11-28T23:54:12.378Z"
   },
   {
    "duration": 8,
    "start_time": "2023-11-28T23:54:12.534Z"
   },
   {
    "duration": 20,
    "start_time": "2023-11-28T23:54:12.543Z"
   },
   {
    "duration": 9,
    "start_time": "2023-11-28T23:54:12.565Z"
   },
   {
    "duration": 197,
    "start_time": "2023-11-28T23:54:12.575Z"
   },
   {
    "duration": 115,
    "start_time": "2023-11-28T23:54:12.773Z"
   },
   {
    "duration": 129,
    "start_time": "2023-11-28T23:54:12.889Z"
   },
   {
    "duration": 9,
    "start_time": "2023-11-28T23:54:13.020Z"
   },
   {
    "duration": 137,
    "start_time": "2023-11-28T23:54:13.031Z"
   },
   {
    "duration": 9,
    "start_time": "2023-11-28T23:54:13.170Z"
   },
   {
    "duration": 120,
    "start_time": "2023-11-28T23:54:13.181Z"
   },
   {
    "duration": 27,
    "start_time": "2023-11-28T23:54:13.303Z"
   },
   {
    "duration": 175,
    "start_time": "2023-11-28T23:54:13.332Z"
   },
   {
    "duration": 135,
    "start_time": "2023-11-28T23:54:13.509Z"
   },
   {
    "duration": 5,
    "start_time": "2023-11-28T23:54:13.645Z"
   },
   {
    "duration": 7,
    "start_time": "2023-11-28T23:54:13.651Z"
   },
   {
    "duration": 28,
    "start_time": "2023-11-28T23:54:13.659Z"
   },
   {
    "duration": 5,
    "start_time": "2023-11-28T23:54:13.688Z"
   },
   {
    "duration": 7,
    "start_time": "2023-11-28T23:54:13.695Z"
   },
   {
    "duration": 15,
    "start_time": "2023-11-28T23:54:13.704Z"
   },
   {
    "duration": 199,
    "start_time": "2023-11-28T23:54:13.721Z"
   },
   {
    "duration": 292,
    "start_time": "2023-11-28T23:54:13.922Z"
   },
   {
    "duration": 178,
    "start_time": "2023-11-28T23:54:14.216Z"
   },
   {
    "duration": 199,
    "start_time": "2023-11-28T23:58:44.462Z"
   },
   {
    "duration": 9060,
    "start_time": "2023-11-28T23:59:24.272Z"
   },
   {
    "duration": 0,
    "start_time": "2023-11-29T00:00:06.961Z"
   },
   {
    "duration": 0,
    "start_time": "2023-11-29T00:00:06.963Z"
   },
   {
    "duration": 6558,
    "start_time": "2023-11-29T00:00:09.768Z"
   },
   {
    "duration": 6458,
    "start_time": "2023-11-29T00:00:55.109Z"
   },
   {
    "duration": 723,
    "start_time": "2023-11-29T00:01:21.478Z"
   },
   {
    "duration": 2026,
    "start_time": "2023-11-29T00:01:22.203Z"
   },
   {
    "duration": 9,
    "start_time": "2023-11-29T00:01:24.230Z"
   },
   {
    "duration": 5,
    "start_time": "2023-11-29T00:01:24.241Z"
   },
   {
    "duration": 7,
    "start_time": "2023-11-29T00:01:24.247Z"
   },
   {
    "duration": 25,
    "start_time": "2023-11-29T00:01:24.255Z"
   },
   {
    "duration": 44,
    "start_time": "2023-11-29T00:01:24.281Z"
   },
   {
    "duration": 6,
    "start_time": "2023-11-29T00:01:24.327Z"
   },
   {
    "duration": 10,
    "start_time": "2023-11-29T00:01:24.334Z"
   },
   {
    "duration": 8,
    "start_time": "2023-11-29T00:01:24.346Z"
   },
   {
    "duration": 36,
    "start_time": "2023-11-29T00:01:24.355Z"
   },
   {
    "duration": 3,
    "start_time": "2023-11-29T00:01:24.393Z"
   },
   {
    "duration": 52,
    "start_time": "2023-11-29T00:01:24.397Z"
   },
   {
    "duration": 332,
    "start_time": "2023-11-29T00:01:24.451Z"
   },
   {
    "duration": 44,
    "start_time": "2023-11-29T00:01:24.784Z"
   },
   {
    "duration": 163,
    "start_time": "2023-11-29T00:01:24.830Z"
   },
   {
    "duration": 195,
    "start_time": "2023-11-29T00:01:24.995Z"
   },
   {
    "duration": 241,
    "start_time": "2023-11-29T00:01:25.192Z"
   },
   {
    "duration": 43,
    "start_time": "2023-11-29T00:01:25.435Z"
   },
   {
    "duration": 7,
    "start_time": "2023-11-29T00:01:25.480Z"
   },
   {
    "duration": 199,
    "start_time": "2023-11-29T00:01:25.488Z"
   },
   {
    "duration": 9,
    "start_time": "2023-11-29T00:01:25.688Z"
   },
   {
    "duration": 179,
    "start_time": "2023-11-29T00:01:25.698Z"
   },
   {
    "duration": 7,
    "start_time": "2023-11-29T00:01:25.879Z"
   },
   {
    "duration": 9,
    "start_time": "2023-11-29T00:01:25.888Z"
   },
   {
    "duration": 26,
    "start_time": "2023-11-29T00:01:25.898Z"
   },
   {
    "duration": 11,
    "start_time": "2023-11-29T00:01:25.926Z"
   },
   {
    "duration": 156,
    "start_time": "2023-11-29T00:01:25.941Z"
   },
   {
    "duration": 9,
    "start_time": "2023-11-29T00:01:26.098Z"
   },
   {
    "duration": 20,
    "start_time": "2023-11-29T00:01:26.108Z"
   },
   {
    "duration": 2,
    "start_time": "2023-11-29T00:01:26.130Z"
   },
   {
    "duration": 217,
    "start_time": "2023-11-29T00:01:26.134Z"
   },
   {
    "duration": 128,
    "start_time": "2023-11-29T00:01:26.353Z"
   },
   {
    "duration": 130,
    "start_time": "2023-11-29T00:01:26.483Z"
   },
   {
    "duration": 22,
    "start_time": "2023-11-29T00:01:26.614Z"
   },
   {
    "duration": 119,
    "start_time": "2023-11-29T00:01:26.637Z"
   },
   {
    "duration": 9,
    "start_time": "2023-11-29T00:01:26.757Z"
   },
   {
    "duration": 127,
    "start_time": "2023-11-29T00:01:26.768Z"
   },
   {
    "duration": 29,
    "start_time": "2023-11-29T00:01:26.896Z"
   },
   {
    "duration": 185,
    "start_time": "2023-11-29T00:01:26.927Z"
   },
   {
    "duration": 152,
    "start_time": "2023-11-29T00:01:27.113Z"
   },
   {
    "duration": 5,
    "start_time": "2023-11-29T00:01:27.267Z"
   },
   {
    "duration": 7,
    "start_time": "2023-11-29T00:01:27.274Z"
   },
   {
    "duration": 11,
    "start_time": "2023-11-29T00:01:27.282Z"
   },
   {
    "duration": 30,
    "start_time": "2023-11-29T00:01:27.295Z"
   },
   {
    "duration": 30,
    "start_time": "2023-11-29T00:01:27.326Z"
   },
   {
    "duration": 16,
    "start_time": "2023-11-29T00:01:27.357Z"
   },
   {
    "duration": 204,
    "start_time": "2023-11-29T00:01:27.375Z"
   },
   {
    "duration": 299,
    "start_time": "2023-11-29T00:01:27.581Z"
   },
   {
    "duration": 187,
    "start_time": "2023-11-29T00:01:27.881Z"
   },
   {
    "duration": 49434,
    "start_time": "2023-11-29T00:01:28.070Z"
   },
   {
    "duration": 229,
    "start_time": "2023-11-29T00:02:17.505Z"
   },
   {
    "duration": 23,
    "start_time": "2023-11-29T00:02:17.735Z"
   },
   {
    "duration": 9,
    "start_time": "2023-11-29T00:02:17.760Z"
   },
   {
    "duration": 188,
    "start_time": "2023-11-29T00:02:17.770Z"
   },
   {
    "duration": 190,
    "start_time": "2023-11-29T00:02:18.150Z"
   },
   {
    "duration": 198,
    "start_time": "2023-11-29T00:02:28.099Z"
   },
   {
    "duration": 121,
    "start_time": "2023-11-29T00:02:56.389Z"
   },
   {
    "duration": 84,
    "start_time": "2023-11-29T00:03:08.393Z"
   },
   {
    "duration": 13,
    "start_time": "2023-11-29T00:03:16.069Z"
   },
   {
    "duration": 161,
    "start_time": "2023-11-29T00:04:41.757Z"
   },
   {
    "duration": 155,
    "start_time": "2023-11-29T00:05:41.981Z"
   },
   {
    "duration": 165,
    "start_time": "2023-11-29T00:09:01.777Z"
   },
   {
    "duration": 143,
    "start_time": "2023-11-29T00:09:33.925Z"
   },
   {
    "duration": 159,
    "start_time": "2023-11-29T00:12:29.705Z"
   },
   {
    "duration": 178,
    "start_time": "2023-11-29T00:12:50.299Z"
   },
   {
    "duration": 199,
    "start_time": "2023-11-29T00:13:25.110Z"
   },
   {
    "duration": 157,
    "start_time": "2023-11-29T00:16:50.341Z"
   },
   {
    "duration": 147,
    "start_time": "2023-11-29T00:16:56.694Z"
   },
   {
    "duration": 100,
    "start_time": "2023-11-29T00:20:23.888Z"
   },
   {
    "duration": 5,
    "start_time": "2023-11-29T00:30:27.283Z"
   },
   {
    "duration": 5,
    "start_time": "2023-11-29T00:30:42.892Z"
   },
   {
    "duration": 5,
    "start_time": "2023-11-29T00:31:42.753Z"
   },
   {
    "duration": 6,
    "start_time": "2023-11-29T00:31:43.239Z"
   },
   {
    "duration": 4,
    "start_time": "2023-11-29T00:32:26.279Z"
   },
   {
    "duration": 5,
    "start_time": "2023-11-29T00:33:00.434Z"
   },
   {
    "duration": 5,
    "start_time": "2023-11-29T00:33:17.468Z"
   },
   {
    "duration": 8,
    "start_time": "2023-11-29T00:37:00.985Z"
   },
   {
    "duration": 120,
    "start_time": "2023-11-29T00:38:24.939Z"
   },
   {
    "duration": 1383,
    "start_time": "2023-11-29T08:51:49.206Z"
   },
   {
    "duration": 4604,
    "start_time": "2023-11-29T08:51:50.592Z"
   },
   {
    "duration": 11,
    "start_time": "2023-11-29T08:51:55.197Z"
   },
   {
    "duration": 66,
    "start_time": "2023-11-29T08:51:55.209Z"
   },
   {
    "duration": 30,
    "start_time": "2023-11-29T08:51:55.278Z"
   },
   {
    "duration": 76,
    "start_time": "2023-11-29T08:51:55.310Z"
   },
   {
    "duration": 86,
    "start_time": "2023-11-29T08:51:55.388Z"
   },
   {
    "duration": 6,
    "start_time": "2023-11-29T08:51:55.476Z"
   },
   {
    "duration": 20,
    "start_time": "2023-11-29T08:51:55.485Z"
   },
   {
    "duration": 8,
    "start_time": "2023-11-29T08:51:55.507Z"
   },
   {
    "duration": 34,
    "start_time": "2023-11-29T08:51:55.573Z"
   },
   {
    "duration": 66,
    "start_time": "2023-11-29T08:51:55.609Z"
   },
   {
    "duration": 97,
    "start_time": "2023-11-29T08:51:55.677Z"
   },
   {
    "duration": 712,
    "start_time": "2023-11-29T08:51:55.777Z"
   },
   {
    "duration": 99,
    "start_time": "2023-11-29T08:51:56.490Z"
   },
   {
    "duration": 320,
    "start_time": "2023-11-29T08:51:56.591Z"
   },
   {
    "duration": 384,
    "start_time": "2023-11-29T08:51:56.913Z"
   },
   {
    "duration": 482,
    "start_time": "2023-11-29T08:51:57.299Z"
   },
   {
    "duration": 97,
    "start_time": "2023-11-29T08:51:57.782Z"
   },
   {
    "duration": 8,
    "start_time": "2023-11-29T08:51:57.881Z"
   },
   {
    "duration": 423,
    "start_time": "2023-11-29T08:51:57.891Z"
   },
   {
    "duration": 64,
    "start_time": "2023-11-29T08:51:58.316Z"
   },
   {
    "duration": 336,
    "start_time": "2023-11-29T08:51:58.382Z"
   },
   {
    "duration": 9,
    "start_time": "2023-11-29T08:51:58.772Z"
   },
   {
    "duration": 14,
    "start_time": "2023-11-29T08:51:58.782Z"
   },
   {
    "duration": 8,
    "start_time": "2023-11-29T08:51:58.797Z"
   },
   {
    "duration": 74,
    "start_time": "2023-11-29T08:51:58.807Z"
   },
   {
    "duration": 302,
    "start_time": "2023-11-29T08:51:58.883Z"
   },
   {
    "duration": 8,
    "start_time": "2023-11-29T08:51:59.186Z"
   },
   {
    "duration": 17,
    "start_time": "2023-11-29T08:51:59.196Z"
   },
   {
    "duration": 2,
    "start_time": "2023-11-29T08:51:59.215Z"
   },
   {
    "duration": 407,
    "start_time": "2023-11-29T08:51:59.219Z"
   },
   {
    "duration": 120,
    "start_time": "2023-11-29T08:51:59.628Z"
   },
   {
    "duration": 136,
    "start_time": "2023-11-29T08:51:59.750Z"
   },
   {
    "duration": 9,
    "start_time": "2023-11-29T08:51:59.888Z"
   },
   {
    "duration": 126,
    "start_time": "2023-11-29T08:51:59.898Z"
   },
   {
    "duration": 9,
    "start_time": "2023-11-29T08:52:00.026Z"
   },
   {
    "duration": 142,
    "start_time": "2023-11-29T08:52:00.036Z"
   },
   {
    "duration": 18,
    "start_time": "2023-11-29T08:52:00.179Z"
   },
   {
    "duration": 190,
    "start_time": "2023-11-29T08:52:00.199Z"
   },
   {
    "duration": 152,
    "start_time": "2023-11-29T08:52:00.393Z"
   },
   {
    "duration": 6,
    "start_time": "2023-11-29T08:52:00.546Z"
   },
   {
    "duration": 67,
    "start_time": "2023-11-29T08:52:00.554Z"
   },
   {
    "duration": 33,
    "start_time": "2023-11-29T08:52:00.623Z"
   },
   {
    "duration": 38,
    "start_time": "2023-11-29T08:52:00.657Z"
   },
   {
    "duration": 33,
    "start_time": "2023-11-29T08:52:00.696Z"
   },
   {
    "duration": 45,
    "start_time": "2023-11-29T08:52:00.730Z"
   },
   {
    "duration": 229,
    "start_time": "2023-11-29T08:52:00.777Z"
   },
   {
    "duration": 290,
    "start_time": "2023-11-29T08:52:01.008Z"
   },
   {
    "duration": 198,
    "start_time": "2023-11-29T08:52:01.300Z"
   },
   {
    "duration": 148,
    "start_time": "2023-11-29T08:52:01.499Z"
   },
   {
    "duration": 172,
    "start_time": "2023-11-29T08:52:01.649Z"
   },
   {
    "duration": 216,
    "start_time": "2023-11-29T08:52:01.822Z"
   },
   {
    "duration": 163,
    "start_time": "2023-11-29T08:52:02.040Z"
   },
   {
    "duration": 200,
    "start_time": "2023-11-29T08:52:02.205Z"
   },
   {
    "duration": 23,
    "start_time": "2023-11-29T08:52:02.406Z"
   },
   {
    "duration": 50,
    "start_time": "2023-11-29T08:52:02.430Z"
   },
   {
    "duration": 200,
    "start_time": "2023-11-29T08:52:02.482Z"
   },
   {
    "duration": 99,
    "start_time": "2023-11-29T08:52:21.606Z"
   }
  ],
  "kernelspec": {
   "display_name": "Python 3 (ipykernel)",
   "language": "python",
   "name": "python3"
  },
  "language_info": {
   "codemirror_mode": {
    "name": "ipython",
    "version": 3
   },
   "file_extension": ".py",
   "mimetype": "text/x-python",
   "name": "python",
   "nbconvert_exporter": "python",
   "pygments_lexer": "ipython3",
   "version": "3.9.5"
  },
  "toc": {
   "base_numbering": 1,
   "nav_menu": {},
   "number_sections": true,
   "sideBar": true,
   "skip_h1_title": true,
   "title_cell": "Table of Contents",
   "title_sidebar": "Contents",
   "toc_cell": false,
   "toc_position": {},
   "toc_section_display": true,
   "toc_window_display": false
  }
 },
 "nbformat": 4,
 "nbformat_minor": 2
}
