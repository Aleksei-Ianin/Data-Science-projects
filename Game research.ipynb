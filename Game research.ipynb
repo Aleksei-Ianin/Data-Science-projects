{
 "cells": [
  {
   "cell_type": "markdown",
   "metadata": {},
   "source": [
    "**Введение**\n",
    "\n",
    "Добро пожаловать в проект анализа данных интернет-магазина \"Стримчик\"!\n",
    "\n",
    "На данный момент перед нами стоит задача выявить ключевые закономерности, определяющие успешность игр. Это позволит нам принимать обоснованные решения, делая ставку на потенциально популярные продукты и эффективно планировать рекламные кампании. В нашем арсенале - данные до 2016 года, и представим, что мы находимся в декабре 2016 года, готовясь к кампании на 2017-й.\n",
    "\n",
    "Особое внимание мы уделим аббревиатуре ESRB (Entertainment Software Rating Board), которая определяет возрастной рейтинг компьютерных игр. ESRB играет важную роль, классифицируя игры по возрастным категориям, таким образом, мы сможем анализировать, как эти рейтинги влияют на успешность продаж.\n",
    "\n",
    "Предстоит исследование, направленное на поиск ключевых факторов в мире компьютерных игр, чтобы сделать наше предложение ещё привлекательнее для клиентов и укрепить нашу позицию в индустрии развлечений.\n"
   ]
  },
  {
   "cell_type": "markdown",
   "metadata": {},
   "source": [
    "**Описание данных**\n",
    "\n",
    "Name — название игры\n",
    "\n",
    "Platform — платформа\n",
    "\n",
    "Year_of_Release — год выпуска\n",
    "\n",
    "Genre — жанр игры\n",
    "\n",
    "NA_sales — продажи в Северной Америке (миллионы проданных копий)\n",
    "\n",
    "EU_sales — продажи в Европе (миллионы проданных копий)\n",
    "\n",
    "JP_sales — продажи в Японии (миллионы проданных копий)\n",
    "\n",
    "Other_sales — продажи в других странах (миллионы проданных копий)\n",
    "\n",
    "Critic_Score — оценка критиков (максимум 100)\n",
    "\n",
    "User_Score — оценка пользователей (максимум 10)\n",
    "\n",
    "Rating — рейтинг от организации ESRB (англ. Entertainment Software Rating Board). Эта ассоциация определяет рейтинг компьютерных игр и присваивает им подходящую возрастную категорию."
   ]
  },
  {
   "cell_type": "markdown",
   "metadata": {},
   "source": [
    "#### Изучение общей информации"
   ]
  },
  {
   "cell_type": "markdown",
   "metadata": {},
   "source": [
    "Для начала подключим все необходимые библиотеки и откроем файл"
   ]
  },
  {
   "cell_type": "code",
   "execution_count": 1,
   "metadata": {},
   "outputs": [],
   "source": [
    "import pandas as pd\n",
    "import numpy as np\n",
    "import matplotlib.pyplot as plt\n",
    "from scipy import stats as st"
   ]
  },
  {
   "cell_type": "code",
   "execution_count": 2,
   "metadata": {},
   "outputs": [],
   "source": [
    "data = pd.read_csv('/datasets/games.csv')"
   ]
  },
  {
   "cell_type": "code",
   "execution_count": 3,
   "metadata": {},
   "outputs": [
    {
     "data": {
      "text/html": [
       "<div>\n",
       "<style scoped>\n",
       "    .dataframe tbody tr th:only-of-type {\n",
       "        vertical-align: middle;\n",
       "    }\n",
       "\n",
       "    .dataframe tbody tr th {\n",
       "        vertical-align: top;\n",
       "    }\n",
       "\n",
       "    .dataframe thead th {\n",
       "        text-align: right;\n",
       "    }\n",
       "</style>\n",
       "<table border=\"1\" class=\"dataframe\">\n",
       "  <thead>\n",
       "    <tr style=\"text-align: right;\">\n",
       "      <th></th>\n",
       "      <th>Name</th>\n",
       "      <th>Platform</th>\n",
       "      <th>Year_of_Release</th>\n",
       "      <th>Genre</th>\n",
       "      <th>NA_sales</th>\n",
       "      <th>EU_sales</th>\n",
       "      <th>JP_sales</th>\n",
       "      <th>Other_sales</th>\n",
       "      <th>Critic_Score</th>\n",
       "      <th>User_Score</th>\n",
       "      <th>Rating</th>\n",
       "    </tr>\n",
       "  </thead>\n",
       "  <tbody>\n",
       "    <tr>\n",
       "      <th>0</th>\n",
       "      <td>Wii Sports</td>\n",
       "      <td>Wii</td>\n",
       "      <td>2006.0</td>\n",
       "      <td>Sports</td>\n",
       "      <td>41.36</td>\n",
       "      <td>28.96</td>\n",
       "      <td>3.77</td>\n",
       "      <td>8.45</td>\n",
       "      <td>76.0</td>\n",
       "      <td>8</td>\n",
       "      <td>E</td>\n",
       "    </tr>\n",
       "    <tr>\n",
       "      <th>1</th>\n",
       "      <td>Super Mario Bros.</td>\n",
       "      <td>NES</td>\n",
       "      <td>1985.0</td>\n",
       "      <td>Platform</td>\n",
       "      <td>29.08</td>\n",
       "      <td>3.58</td>\n",
       "      <td>6.81</td>\n",
       "      <td>0.77</td>\n",
       "      <td>NaN</td>\n",
       "      <td>NaN</td>\n",
       "      <td>NaN</td>\n",
       "    </tr>\n",
       "    <tr>\n",
       "      <th>2</th>\n",
       "      <td>Mario Kart Wii</td>\n",
       "      <td>Wii</td>\n",
       "      <td>2008.0</td>\n",
       "      <td>Racing</td>\n",
       "      <td>15.68</td>\n",
       "      <td>12.76</td>\n",
       "      <td>3.79</td>\n",
       "      <td>3.29</td>\n",
       "      <td>82.0</td>\n",
       "      <td>8.3</td>\n",
       "      <td>E</td>\n",
       "    </tr>\n",
       "    <tr>\n",
       "      <th>3</th>\n",
       "      <td>Wii Sports Resort</td>\n",
       "      <td>Wii</td>\n",
       "      <td>2009.0</td>\n",
       "      <td>Sports</td>\n",
       "      <td>15.61</td>\n",
       "      <td>10.93</td>\n",
       "      <td>3.28</td>\n",
       "      <td>2.95</td>\n",
       "      <td>80.0</td>\n",
       "      <td>8</td>\n",
       "      <td>E</td>\n",
       "    </tr>\n",
       "    <tr>\n",
       "      <th>4</th>\n",
       "      <td>Pokemon Red/Pokemon Blue</td>\n",
       "      <td>GB</td>\n",
       "      <td>1996.0</td>\n",
       "      <td>Role-Playing</td>\n",
       "      <td>11.27</td>\n",
       "      <td>8.89</td>\n",
       "      <td>10.22</td>\n",
       "      <td>1.00</td>\n",
       "      <td>NaN</td>\n",
       "      <td>NaN</td>\n",
       "      <td>NaN</td>\n",
       "    </tr>\n",
       "  </tbody>\n",
       "</table>\n",
       "</div>"
      ],
      "text/plain": [
       "                       Name Platform  Year_of_Release         Genre  NA_sales  \\\n",
       "0                Wii Sports      Wii           2006.0        Sports     41.36   \n",
       "1         Super Mario Bros.      NES           1985.0      Platform     29.08   \n",
       "2            Mario Kart Wii      Wii           2008.0        Racing     15.68   \n",
       "3         Wii Sports Resort      Wii           2009.0        Sports     15.61   \n",
       "4  Pokemon Red/Pokemon Blue       GB           1996.0  Role-Playing     11.27   \n",
       "\n",
       "   EU_sales  JP_sales  Other_sales  Critic_Score User_Score Rating  \n",
       "0     28.96      3.77         8.45          76.0          8      E  \n",
       "1      3.58      6.81         0.77           NaN        NaN    NaN  \n",
       "2     12.76      3.79         3.29          82.0        8.3      E  \n",
       "3     10.93      3.28         2.95          80.0          8      E  \n",
       "4      8.89     10.22         1.00           NaN        NaN    NaN  "
      ]
     },
     "execution_count": 3,
     "metadata": {},
     "output_type": "execute_result"
    }
   ],
   "source": [
    "data.head()"
   ]
  },
  {
   "cell_type": "code",
   "execution_count": 4,
   "metadata": {},
   "outputs": [
    {
     "name": "stdout",
     "output_type": "stream",
     "text": [
      "<class 'pandas.core.frame.DataFrame'>\n",
      "RangeIndex: 16715 entries, 0 to 16714\n",
      "Data columns (total 11 columns):\n",
      " #   Column           Non-Null Count  Dtype  \n",
      "---  ------           --------------  -----  \n",
      " 0   Name             16713 non-null  object \n",
      " 1   Platform         16715 non-null  object \n",
      " 2   Year_of_Release  16446 non-null  float64\n",
      " 3   Genre            16713 non-null  object \n",
      " 4   NA_sales         16715 non-null  float64\n",
      " 5   EU_sales         16715 non-null  float64\n",
      " 6   JP_sales         16715 non-null  float64\n",
      " 7   Other_sales      16715 non-null  float64\n",
      " 8   Critic_Score     8137 non-null   float64\n",
      " 9   User_Score       10014 non-null  object \n",
      " 10  Rating           9949 non-null   object \n",
      "dtypes: float64(6), object(5)\n",
      "memory usage: 1.4+ MB\n"
     ]
    }
   ],
   "source": [
    "data.info()"
   ]
  },
  {
   "cell_type": "markdown",
   "metadata": {},
   "source": [
    "#### Предобработка данных"
   ]
  },
  {
   "cell_type": "markdown",
   "metadata": {},
   "source": [
    "Для начала приведем к нижнему регистру названия столбцов:"
   ]
  },
  {
   "cell_type": "code",
   "execution_count": 5,
   "metadata": {},
   "outputs": [],
   "source": [
    "data = data.rename(columns = {'Name': 'name', 'Platform': 'platform', 'Year_of_Release': 'year', 'Genre': 'genre', 'NA_sales': 'na_sales', 'EU_sales': 'eu_sales', 'JP_sales': 'jp_sales', 'Other_sales': 'other_sales', 'Critic_Score': 'critic_score', 'User_Score': 'user_score', 'Rating': 'rating'})"
   ]
  },
  {
   "cell_type": "code",
   "execution_count": 6,
   "metadata": {},
   "outputs": [
    {
     "name": "stdout",
     "output_type": "stream",
     "text": [
      "<class 'pandas.core.frame.DataFrame'>\n",
      "RangeIndex: 16715 entries, 0 to 16714\n",
      "Data columns (total 11 columns):\n",
      " #   Column        Non-Null Count  Dtype  \n",
      "---  ------        --------------  -----  \n",
      " 0   name          16713 non-null  object \n",
      " 1   platform      16715 non-null  object \n",
      " 2   year          16446 non-null  float64\n",
      " 3   genre         16713 non-null  object \n",
      " 4   na_sales      16715 non-null  float64\n",
      " 5   eu_sales      16715 non-null  float64\n",
      " 6   jp_sales      16715 non-null  float64\n",
      " 7   other_sales   16715 non-null  float64\n",
      " 8   critic_score  8137 non-null   float64\n",
      " 9   user_score    10014 non-null  object \n",
      " 10  rating        9949 non-null   object \n",
      "dtypes: float64(6), object(5)\n",
      "memory usage: 1.4+ MB\n"
     ]
    }
   ],
   "source": [
    "data.info()"
   ]
  },
  {
   "cell_type": "markdown",
   "metadata": {},
   "source": [
    "Теперь преобразуем типы данных:"
   ]
  },
  {
   "cell_type": "code",
   "execution_count": 7,
   "metadata": {},
   "outputs": [],
   "source": [
    "data['year'] = data['year'].astype(pd.Int64Dtype())\n",
    "data['critic_score'] = data['critic_score'].astype(pd.Int64Dtype())"
   ]
  },
  {
   "cell_type": "markdown",
   "metadata": {},
   "source": [
    "поменяли тип данных в year и critic_score на int"
   ]
  },
  {
   "cell_type": "code",
   "execution_count": 8,
   "metadata": {},
   "outputs": [
    {
     "data": {
      "text/plain": [
       "array(['8', nan, '8.3', '8.5', '6.6', '8.4', '8.6', '7.7', '6.3', '7.4',\n",
       "       '8.2', '9', '7.9', '8.1', '8.7', '7.1', '3.4', '5.3', '4.8', '3.2',\n",
       "       '8.9', '6.4', '7.8', '7.5', '2.6', '7.2', '9.2', '7', '7.3', '4.3',\n",
       "       '7.6', '5.7', '5', '9.1', '6.5', 'tbd', '8.8', '6.9', '9.4', '6.8',\n",
       "       '6.1', '6.7', '5.4', '4', '4.9', '4.5', '9.3', '6.2', '4.2', '6',\n",
       "       '3.7', '4.1', '5.8', '5.6', '5.5', '4.4', '4.6', '5.9', '3.9',\n",
       "       '3.1', '2.9', '5.2', '3.3', '4.7', '5.1', '3.5', '2.5', '1.9', '3',\n",
       "       '2.7', '2.2', '2', '9.5', '2.1', '3.6', '2.8', '1.8', '3.8', '0',\n",
       "       '1.6', '9.6', '2.4', '1.7', '1.1', '0.3', '1.5', '0.7', '1.2',\n",
       "       '2.3', '0.5', '1.3', '0.2', '0.6', '1.4', '0.9', '1', '9.7'],\n",
       "      dtype=object)"
      ]
     },
     "execution_count": 8,
     "metadata": {},
     "output_type": "execute_result"
    }
   ],
   "source": [
    "data['user_score'].unique()"
   ]
  },
  {
   "cell_type": "code",
   "execution_count": 9,
   "metadata": {},
   "outputs": [],
   "source": [
    "data = data.replace('tbd', np.nan)"
   ]
  },
  {
   "cell_type": "code",
   "execution_count": 10,
   "metadata": {},
   "outputs": [
    {
     "data": {
      "text/plain": [
       "array(['8', nan, '8.3', '8.5', '6.6', '8.4', '8.6', '7.7', '6.3', '7.4',\n",
       "       '8.2', '9', '7.9', '8.1', '8.7', '7.1', '3.4', '5.3', '4.8', '3.2',\n",
       "       '8.9', '6.4', '7.8', '7.5', '2.6', '7.2', '9.2', '7', '7.3', '4.3',\n",
       "       '7.6', '5.7', '5', '9.1', '6.5', '8.8', '6.9', '9.4', '6.8', '6.1',\n",
       "       '6.7', '5.4', '4', '4.9', '4.5', '9.3', '6.2', '4.2', '6', '3.7',\n",
       "       '4.1', '5.8', '5.6', '5.5', '4.4', '4.6', '5.9', '3.9', '3.1',\n",
       "       '2.9', '5.2', '3.3', '4.7', '5.1', '3.5', '2.5', '1.9', '3', '2.7',\n",
       "       '2.2', '2', '9.5', '2.1', '3.6', '2.8', '1.8', '3.8', '0', '1.6',\n",
       "       '9.6', '2.4', '1.7', '1.1', '0.3', '1.5', '0.7', '1.2', '2.3',\n",
       "       '0.5', '1.3', '0.2', '0.6', '1.4', '0.9', '1', '9.7'], dtype=object)"
      ]
     },
     "execution_count": 10,
     "metadata": {},
     "output_type": "execute_result"
    }
   ],
   "source": [
    "data['user_score'].unique()"
   ]
  },
  {
   "cell_type": "code",
   "execution_count": 11,
   "metadata": {},
   "outputs": [],
   "source": [
    "data['user_score'] = data['user_score'].astype(float)"
   ]
  },
  {
   "cell_type": "code",
   "execution_count": 12,
   "metadata": {},
   "outputs": [
    {
     "name": "stdout",
     "output_type": "stream",
     "text": [
      "<class 'pandas.core.frame.DataFrame'>\n",
      "RangeIndex: 16715 entries, 0 to 16714\n",
      "Data columns (total 11 columns):\n",
      " #   Column        Non-Null Count  Dtype  \n",
      "---  ------        --------------  -----  \n",
      " 0   name          16713 non-null  object \n",
      " 1   platform      16715 non-null  object \n",
      " 2   year          16446 non-null  Int64  \n",
      " 3   genre         16713 non-null  object \n",
      " 4   na_sales      16715 non-null  float64\n",
      " 5   eu_sales      16715 non-null  float64\n",
      " 6   jp_sales      16715 non-null  float64\n",
      " 7   other_sales   16715 non-null  float64\n",
      " 8   critic_score  8137 non-null   Int64  \n",
      " 9   user_score    7590 non-null   float64\n",
      " 10  rating        9949 non-null   object \n",
      "dtypes: Int64(2), float64(5), object(4)\n",
      "memory usage: 1.4+ MB\n"
     ]
    }
   ],
   "source": [
    "data.info()"
   ]
  },
  {
   "cell_type": "markdown",
   "metadata": {},
   "source": [
    "заменили tbd (рейтинг еще не определен) на пропуски и привели тип данных в user_score к float"
   ]
  },
  {
   "cell_type": "markdown",
   "metadata": {},
   "source": [
    "Посмотрим пропуски:"
   ]
  },
  {
   "cell_type": "code",
   "execution_count": 13,
   "metadata": {},
   "outputs": [
    {
     "data": {
      "text/plain": [
       "name               2\n",
       "platform           0\n",
       "year             269\n",
       "genre              2\n",
       "na_sales           0\n",
       "eu_sales           0\n",
       "jp_sales           0\n",
       "other_sales        0\n",
       "critic_score    8578\n",
       "user_score      9125\n",
       "rating          6766\n",
       "dtype: int64"
      ]
     },
     "execution_count": 13,
     "metadata": {},
     "output_type": "execute_result"
    }
   ],
   "source": [
    "data.isna().sum()"
   ]
  },
  {
   "cell_type": "markdown",
   "metadata": {},
   "source": [
    "Обнаружили, теперь обработаем"
   ]
  },
  {
   "cell_type": "code",
   "execution_count": 14,
   "metadata": {},
   "outputs": [],
   "source": [
    "data['name'] = data['name'].fillna('unnamed')\n",
    "data['genre'] = data['genre'].fillna('unnamed')"
   ]
  },
  {
   "cell_type": "code",
   "execution_count": 15,
   "metadata": {},
   "outputs": [
    {
     "data": {
      "text/plain": [
       "<IntegerArray>\n",
       "[  76, <NA>,   82,   80,   89,   58,   87,   91,   61,   97,   95,   77,   88,\n",
       "   83,   94,   93,   85,   86,   98,   96,   90,   84,   73,   74,   78,   92,\n",
       "   71,   72,   68,   62,   49,   67,   81,   66,   56,   79,   70,   59,   64,\n",
       "   75,   60,   63,   69,   50,   25,   42,   44,   55,   48,   57,   29,   47,\n",
       "   65,   54,   20,   53,   37,   38,   33,   52,   30,   32,   43,   45,   51,\n",
       "   40,   46,   39,   34,   35,   41,   36,   28,   31,   27,   26,   19,   23,\n",
       "   24,   21,   17,   22,   13]\n",
       "Length: 83, dtype: Int64"
      ]
     },
     "execution_count": 15,
     "metadata": {},
     "output_type": "execute_result"
    }
   ],
   "source": [
    "data['critic_score'].unique()"
   ]
  },
  {
   "cell_type": "code",
   "execution_count": 16,
   "metadata": {},
   "outputs": [
    {
     "data": {
      "text/plain": [
       "array(['E', nan, 'M', 'T', 'E10+', 'K-A', 'AO', 'EC', 'RP'], dtype=object)"
      ]
     },
     "execution_count": 16,
     "metadata": {},
     "output_type": "execute_result"
    }
   ],
   "source": [
    "data['rating'].unique()"
   ]
  },
  {
   "cell_type": "code",
   "execution_count": 17,
   "metadata": {},
   "outputs": [
    {
     "data": {
      "text/plain": [
       "name               0\n",
       "platform           0\n",
       "year             269\n",
       "genre              0\n",
       "na_sales           0\n",
       "eu_sales           0\n",
       "jp_sales           0\n",
       "other_sales        0\n",
       "critic_score    8578\n",
       "user_score      9125\n",
       "rating          6766\n",
       "dtype: int64"
      ]
     },
     "execution_count": 17,
     "metadata": {},
     "output_type": "execute_result"
    }
   ],
   "source": [
    "data.isna().sum()"
   ]
  },
  {
   "cell_type": "markdown",
   "metadata": {},
   "source": [
    "Избавились от пропусков в стобцах name и genre, заменив пропуск на unnamed, там где пропущен год мы так и оставим, тк не можем знать когда вышла та или иная игра, не будем трогать пропуски в трех последних стобцах, так как мы не знаем, какой рейтинг там поставили, возможно, эти игры даже не оценивали, поэтому ничего и не стоит, мы не можем заменить пропуски на ноль, поэтому оставим все как есть и продлжим работу с данными. Скорее всего пропуски в столбцах с рейтингом и оценками появились из-за того, что данные игры еще не оценивались либо эти данные были утеряны. Причина пропусков в столбце year скорее всего в том, что эти данные так же были утеряны."
   ]
  },
  {
   "cell_type": "markdown",
   "metadata": {},
   "source": [
    "добавим столбец с суммарными продажами"
   ]
  },
  {
   "cell_type": "code",
   "execution_count": 18,
   "metadata": {},
   "outputs": [],
   "source": [
    "data['sales'] = data['na_sales'] + data['eu_sales'] + data['jp_sales'] + data['other_sales']"
   ]
  },
  {
   "cell_type": "code",
   "execution_count": 19,
   "metadata": {},
   "outputs": [
    {
     "data": {
      "text/html": [
       "<div>\n",
       "<style scoped>\n",
       "    .dataframe tbody tr th:only-of-type {\n",
       "        vertical-align: middle;\n",
       "    }\n",
       "\n",
       "    .dataframe tbody tr th {\n",
       "        vertical-align: top;\n",
       "    }\n",
       "\n",
       "    .dataframe thead th {\n",
       "        text-align: right;\n",
       "    }\n",
       "</style>\n",
       "<table border=\"1\" class=\"dataframe\">\n",
       "  <thead>\n",
       "    <tr style=\"text-align: right;\">\n",
       "      <th></th>\n",
       "      <th>name</th>\n",
       "      <th>platform</th>\n",
       "      <th>year</th>\n",
       "      <th>genre</th>\n",
       "      <th>na_sales</th>\n",
       "      <th>eu_sales</th>\n",
       "      <th>jp_sales</th>\n",
       "      <th>other_sales</th>\n",
       "      <th>critic_score</th>\n",
       "      <th>user_score</th>\n",
       "      <th>rating</th>\n",
       "      <th>sales</th>\n",
       "    </tr>\n",
       "  </thead>\n",
       "  <tbody>\n",
       "    <tr>\n",
       "      <th>0</th>\n",
       "      <td>Wii Sports</td>\n",
       "      <td>Wii</td>\n",
       "      <td>2006</td>\n",
       "      <td>Sports</td>\n",
       "      <td>41.36</td>\n",
       "      <td>28.96</td>\n",
       "      <td>3.77</td>\n",
       "      <td>8.45</td>\n",
       "      <td>76</td>\n",
       "      <td>8.0</td>\n",
       "      <td>E</td>\n",
       "      <td>82.54</td>\n",
       "    </tr>\n",
       "    <tr>\n",
       "      <th>1</th>\n",
       "      <td>Super Mario Bros.</td>\n",
       "      <td>NES</td>\n",
       "      <td>1985</td>\n",
       "      <td>Platform</td>\n",
       "      <td>29.08</td>\n",
       "      <td>3.58</td>\n",
       "      <td>6.81</td>\n",
       "      <td>0.77</td>\n",
       "      <td>&lt;NA&gt;</td>\n",
       "      <td>NaN</td>\n",
       "      <td>NaN</td>\n",
       "      <td>40.24</td>\n",
       "    </tr>\n",
       "    <tr>\n",
       "      <th>2</th>\n",
       "      <td>Mario Kart Wii</td>\n",
       "      <td>Wii</td>\n",
       "      <td>2008</td>\n",
       "      <td>Racing</td>\n",
       "      <td>15.68</td>\n",
       "      <td>12.76</td>\n",
       "      <td>3.79</td>\n",
       "      <td>3.29</td>\n",
       "      <td>82</td>\n",
       "      <td>8.3</td>\n",
       "      <td>E</td>\n",
       "      <td>35.52</td>\n",
       "    </tr>\n",
       "    <tr>\n",
       "      <th>3</th>\n",
       "      <td>Wii Sports Resort</td>\n",
       "      <td>Wii</td>\n",
       "      <td>2009</td>\n",
       "      <td>Sports</td>\n",
       "      <td>15.61</td>\n",
       "      <td>10.93</td>\n",
       "      <td>3.28</td>\n",
       "      <td>2.95</td>\n",
       "      <td>80</td>\n",
       "      <td>8.0</td>\n",
       "      <td>E</td>\n",
       "      <td>32.77</td>\n",
       "    </tr>\n",
       "    <tr>\n",
       "      <th>4</th>\n",
       "      <td>Pokemon Red/Pokemon Blue</td>\n",
       "      <td>GB</td>\n",
       "      <td>1996</td>\n",
       "      <td>Role-Playing</td>\n",
       "      <td>11.27</td>\n",
       "      <td>8.89</td>\n",
       "      <td>10.22</td>\n",
       "      <td>1.00</td>\n",
       "      <td>&lt;NA&gt;</td>\n",
       "      <td>NaN</td>\n",
       "      <td>NaN</td>\n",
       "      <td>31.38</td>\n",
       "    </tr>\n",
       "  </tbody>\n",
       "</table>\n",
       "</div>"
      ],
      "text/plain": [
       "                       name platform  year         genre  na_sales  eu_sales  \\\n",
       "0                Wii Sports      Wii  2006        Sports     41.36     28.96   \n",
       "1         Super Mario Bros.      NES  1985      Platform     29.08      3.58   \n",
       "2            Mario Kart Wii      Wii  2008        Racing     15.68     12.76   \n",
       "3         Wii Sports Resort      Wii  2009        Sports     15.61     10.93   \n",
       "4  Pokemon Red/Pokemon Blue       GB  1996  Role-Playing     11.27      8.89   \n",
       "\n",
       "   jp_sales  other_sales  critic_score  user_score rating  sales  \n",
       "0      3.77         8.45            76         8.0      E  82.54  \n",
       "1      6.81         0.77          <NA>         NaN    NaN  40.24  \n",
       "2      3.79         3.29            82         8.3      E  35.52  \n",
       "3      3.28         2.95            80         8.0      E  32.77  \n",
       "4     10.22         1.00          <NA>         NaN    NaN  31.38  "
      ]
     },
     "execution_count": 19,
     "metadata": {},
     "output_type": "execute_result"
    }
   ],
   "source": [
    "data.head()"
   ]
  },
  {
   "cell_type": "markdown",
   "metadata": {},
   "source": [
    "проверим на дубликаты"
   ]
  },
  {
   "cell_type": "code",
   "execution_count": 20,
   "metadata": {},
   "outputs": [
    {
     "data": {
      "text/plain": [
       "0"
      ]
     },
     "execution_count": 20,
     "metadata": {},
     "output_type": "execute_result"
    }
   ],
   "source": [
    "data.duplicated().sum()"
   ]
  },
  {
   "cell_type": "markdown",
   "metadata": {},
   "source": [
    "Теперь проверим неявные дубликаты."
   ]
  },
  {
   "cell_type": "code",
   "execution_count": 21,
   "metadata": {},
   "outputs": [
    {
     "data": {
      "text/plain": [
       "array(['Wii', 'NES', 'GB', 'DS', 'X360', 'PS3', 'PS2', 'SNES', 'GBA',\n",
       "       'PS4', '3DS', 'N64', 'PS', 'XB', 'PC', '2600', 'PSP', 'XOne',\n",
       "       'WiiU', 'GC', 'GEN', 'DC', 'PSV', 'SAT', 'SCD', 'WS', 'NG', 'TG16',\n",
       "       '3DO', 'GG', 'PCFX'], dtype=object)"
      ]
     },
     "execution_count": 21,
     "metadata": {},
     "output_type": "execute_result"
    }
   ],
   "source": [
    "data['platform'].unique()"
   ]
  },
  {
   "cell_type": "code",
   "execution_count": 22,
   "metadata": {},
   "outputs": [
    {
     "data": {
      "text/plain": [
       "array(['Sports', 'Platform', 'Racing', 'Role-Playing', 'Puzzle', 'Misc',\n",
       "       'Shooter', 'Simulation', 'Action', 'Fighting', 'Adventure',\n",
       "       'Strategy', 'unnamed'], dtype=object)"
      ]
     },
     "execution_count": 22,
     "metadata": {},
     "output_type": "execute_result"
    }
   ],
   "source": [
    "data['genre'].unique()"
   ]
  },
  {
   "cell_type": "code",
   "execution_count": 23,
   "metadata": {},
   "outputs": [
    {
     "data": {
      "text/plain": [
       "<IntegerArray>\n",
       "[2006, 1985, 2008, 2009, 1996, 1989, 1984, 2005, 1999, 2007, 2010, 2013, 2004,\n",
       " 1990, 1988, 2002, 2001, 2011, 1998, 2015, 2012, 2014, 1992, 1997, 1993, 1994,\n",
       " 1982, 2016, 2003, 1986, 2000, <NA>, 1995, 1991, 1981, 1987, 1980, 1983]\n",
       "Length: 38, dtype: Int64"
      ]
     },
     "execution_count": 23,
     "metadata": {},
     "output_type": "execute_result"
    }
   ],
   "source": [
    "data['year'].unique()"
   ]
  },
  {
   "cell_type": "code",
   "execution_count": 24,
   "metadata": {},
   "outputs": [
    {
     "data": {
      "text/plain": [
       "array(['E', nan, 'M', 'T', 'E10+', 'K-A', 'AO', 'EC', 'RP'], dtype=object)"
      ]
     },
     "execution_count": 24,
     "metadata": {},
     "output_type": "execute_result"
    }
   ],
   "source": [
    "data['rating'].unique()"
   ]
  },
  {
   "cell_type": "markdown",
   "metadata": {},
   "source": [
    "Неявных дубликатов не обнаружено"
   ]
  },
  {
   "cell_type": "code",
   "execution_count": 25,
   "metadata": {},
   "outputs": [
    {
     "data": {
      "text/html": [
       "<div>\n",
       "<style scoped>\n",
       "    .dataframe tbody tr th:only-of-type {\n",
       "        vertical-align: middle;\n",
       "    }\n",
       "\n",
       "    .dataframe tbody tr th {\n",
       "        vertical-align: top;\n",
       "    }\n",
       "\n",
       "    .dataframe thead th {\n",
       "        text-align: right;\n",
       "    }\n",
       "</style>\n",
       "<table border=\"1\" class=\"dataframe\">\n",
       "  <thead>\n",
       "    <tr style=\"text-align: right;\">\n",
       "      <th></th>\n",
       "      <th>name</th>\n",
       "      <th>platform</th>\n",
       "      <th>year</th>\n",
       "      <th>genre</th>\n",
       "      <th>na_sales</th>\n",
       "      <th>eu_sales</th>\n",
       "      <th>jp_sales</th>\n",
       "      <th>other_sales</th>\n",
       "      <th>critic_score</th>\n",
       "      <th>user_score</th>\n",
       "      <th>rating</th>\n",
       "      <th>sales</th>\n",
       "    </tr>\n",
       "  </thead>\n",
       "  <tbody>\n",
       "    <tr>\n",
       "      <th>604</th>\n",
       "      <td>Madden NFL 13</td>\n",
       "      <td>PS3</td>\n",
       "      <td>2012</td>\n",
       "      <td>Sports</td>\n",
       "      <td>2.11</td>\n",
       "      <td>0.22</td>\n",
       "      <td>0.00</td>\n",
       "      <td>0.23</td>\n",
       "      <td>83</td>\n",
       "      <td>5.5</td>\n",
       "      <td>E</td>\n",
       "      <td>2.56</td>\n",
       "    </tr>\n",
       "    <tr>\n",
       "      <th>659</th>\n",
       "      <td>unnamed</td>\n",
       "      <td>GEN</td>\n",
       "      <td>1993</td>\n",
       "      <td>unnamed</td>\n",
       "      <td>1.78</td>\n",
       "      <td>0.53</td>\n",
       "      <td>0.00</td>\n",
       "      <td>0.08</td>\n",
       "      <td>&lt;NA&gt;</td>\n",
       "      <td>NaN</td>\n",
       "      <td>NaN</td>\n",
       "      <td>2.39</td>\n",
       "    </tr>\n",
       "    <tr>\n",
       "      <th>14244</th>\n",
       "      <td>unnamed</td>\n",
       "      <td>GEN</td>\n",
       "      <td>1993</td>\n",
       "      <td>unnamed</td>\n",
       "      <td>0.00</td>\n",
       "      <td>0.00</td>\n",
       "      <td>0.03</td>\n",
       "      <td>0.00</td>\n",
       "      <td>&lt;NA&gt;</td>\n",
       "      <td>NaN</td>\n",
       "      <td>NaN</td>\n",
       "      <td>0.03</td>\n",
       "    </tr>\n",
       "    <tr>\n",
       "      <th>16230</th>\n",
       "      <td>Madden NFL 13</td>\n",
       "      <td>PS3</td>\n",
       "      <td>2012</td>\n",
       "      <td>Sports</td>\n",
       "      <td>0.00</td>\n",
       "      <td>0.01</td>\n",
       "      <td>0.00</td>\n",
       "      <td>0.00</td>\n",
       "      <td>83</td>\n",
       "      <td>5.5</td>\n",
       "      <td>E</td>\n",
       "      <td>0.01</td>\n",
       "    </tr>\n",
       "  </tbody>\n",
       "</table>\n",
       "</div>"
      ],
      "text/plain": [
       "                name platform  year    genre  na_sales  eu_sales  jp_sales  \\\n",
       "604    Madden NFL 13      PS3  2012   Sports      2.11      0.22      0.00   \n",
       "659          unnamed      GEN  1993  unnamed      1.78      0.53      0.00   \n",
       "14244        unnamed      GEN  1993  unnamed      0.00      0.00      0.03   \n",
       "16230  Madden NFL 13      PS3  2012   Sports      0.00      0.01      0.00   \n",
       "\n",
       "       other_sales  critic_score  user_score rating  sales  \n",
       "604           0.23            83         5.5      E   2.56  \n",
       "659           0.08          <NA>         NaN    NaN   2.39  \n",
       "14244         0.00          <NA>         NaN    NaN   0.03  \n",
       "16230         0.00            83         5.5      E   0.01  "
      ]
     },
     "execution_count": 25,
     "metadata": {},
     "output_type": "execute_result"
    }
   ],
   "source": [
    "# Комментарий ревьюера 2\n",
    "temp = data.copy()\n",
    "temp[temp[['name', 'platform','year']].duplicated(keep=False)]"
   ]
  },
  {
   "cell_type": "markdown",
   "metadata": {},
   "source": [
    "Вывод: мы ознакомились с датасетом, поменяли типы данных, избавились от дубликатов и пропусков, добавили новый столбец с суммой продаж со всех регионов, заменили названия на нижний регистр."
   ]
  },
  {
   "cell_type": "markdown",
   "metadata": {},
   "source": [
    "Тут все хорошо"
   ]
  },
  {
   "cell_type": "code",
   "execution_count": 26,
   "metadata": {},
   "outputs": [
    {
     "name": "stdout",
     "output_type": "stream",
     "text": [
      "<class 'pandas.core.frame.DataFrame'>\n",
      "RangeIndex: 16715 entries, 0 to 16714\n",
      "Data columns (total 12 columns):\n",
      " #   Column        Non-Null Count  Dtype  \n",
      "---  ------        --------------  -----  \n",
      " 0   name          16715 non-null  object \n",
      " 1   platform      16715 non-null  object \n",
      " 2   year          16446 non-null  Int64  \n",
      " 3   genre         16715 non-null  object \n",
      " 4   na_sales      16715 non-null  float64\n",
      " 5   eu_sales      16715 non-null  float64\n",
      " 6   jp_sales      16715 non-null  float64\n",
      " 7   other_sales   16715 non-null  float64\n",
      " 8   critic_score  8137 non-null   Int64  \n",
      " 9   user_score    7590 non-null   float64\n",
      " 10  rating        9949 non-null   object \n",
      " 11  sales         16715 non-null  float64\n",
      "dtypes: Int64(2), float64(6), object(4)\n",
      "memory usage: 1.6+ MB\n",
      "None\n",
      "-------------------------\n",
      "name [' Beyblade Burst' ' Fire Emblem Fates' \" Frozen: Olaf's Quest\" ...\n",
      " 'unnamed' 'wwe Smackdown vs. Raw 2006' '¡Shin Chan Flipa en colores!']\n",
      "name : кол-во NaN 0 , процент NaN 0.0 %\n",
      "-------------------------\n",
      "platform ['2600' '3DO' '3DS' 'DC' 'DS' 'GB' 'GBA' 'GC' 'GEN' 'GG' 'N64' 'NES' 'NG'\n",
      " 'PC' 'PCFX' 'PS' 'PS2' 'PS3' 'PS4' 'PSP' 'PSV' 'SAT' 'SCD' 'SNES' 'TG16'\n",
      " 'WS' 'Wii' 'WiiU' 'X360' 'XB' 'XOne']\n",
      "platform : кол-во NaN 0 , процент NaN 0.0 %\n",
      "-------------------------\n",
      "year <IntegerArray>\n",
      "[1980, 1981, 1982, 1983, 1984, 1985, 1986, 1987, 1988, 1989, 1990, 1991, 1992,\n",
      " 1993, 1994, 1995, 1996, 1997, 1998, 1999, 2000, 2001, 2002, 2003, 2004, 2005,\n",
      " 2006, 2007, 2008, 2009, 2010, 2011, 2012, 2013, 2014, 2015, 2016, <NA>]\n",
      "Length: 38, dtype: Int64\n",
      "year : кол-во NaN 269 , процент NaN 1.61 %\n",
      "-------------------------\n",
      "genre ['Action' 'Adventure' 'Fighting' 'Misc' 'Platform' 'Puzzle' 'Racing'\n",
      " 'Role-Playing' 'Shooter' 'Simulation' 'Sports' 'Strategy' 'unnamed']\n",
      "genre : кол-во NaN 0 , процент NaN 0.0 %\n",
      "-------------------------\n",
      "critic_score <IntegerArray>\n",
      "[  13,   17,   19,   20,   21,   22,   23,   24,   25,   26,   27,   28,   29,\n",
      "   30,   31,   32,   33,   34,   35,   36,   37,   38,   39,   40,   41,   42,\n",
      "   43,   44,   45,   46,   47,   48,   49,   50,   51,   52,   53,   54,   55,\n",
      "   56,   57,   58,   59,   60,   61,   62,   63,   64,   65,   66,   67,   68,\n",
      "   69,   70,   71,   72,   73,   74,   75,   76,   77,   78,   79,   80,   81,\n",
      "   82,   83,   84,   85,   86,   87,   88,   89,   90,   91,   92,   93,   94,\n",
      "   95,   96,   97,   98, <NA>]\n",
      "Length: 83, dtype: Int64\n",
      "critic_score : кол-во NaN 8578 , процент NaN 51.32 %\n",
      "-------------------------\n",
      "user_score [0.  0.2 0.3 0.5 0.6 0.7 0.9 1.  1.1 1.2 1.3 1.4 1.5 1.6 1.7 1.8 1.9 2.\n",
      " 2.1 2.2 2.3 2.4 2.5 2.6 2.7 2.8 2.9 3.  3.1 3.2 3.3 3.4 3.5 3.6 3.7 3.8\n",
      " 3.9 4.  4.1 4.2 4.3 4.4 4.5 4.6 4.7 4.8 4.9 5.  5.1 5.2 5.3 5.4 5.5 5.6\n",
      " 5.7 5.8 5.9 6.  6.1 6.2 6.3 6.4 6.5 6.6 6.7 6.8 6.9 7.  7.1 7.2 7.3 7.4\n",
      " 7.5 7.6 7.7 7.8 7.9 8.  8.1 8.2 8.3 8.4 8.5 8.6 8.7 8.8 8.9 9.  9.1 9.2\n",
      " 9.3 9.4 9.5 9.6 9.7 nan]\n",
      "user_score : кол-во NaN 9125 , процент NaN 54.59 %\n",
      "-------------------------\n",
      "rating ['AO' 'E' 'E10+' 'EC' 'K-A' 'M' 'RP' 'T' nan]\n",
      "rating : кол-во NaN 6766 , процент NaN 40.48 %\n"
     ]
    }
   ],
   "source": [
    "# Комментарий ревьюера\n",
    "# Посмотрим, что осталось\n",
    "temp = data.copy() \n",
    "list_c = ['name', 'platform', 'year', 'genre', 'critic_score', 'user_score', 'rating']\n",
    "print(temp.info())\n",
    "for col_l in list_c:\n",
    "  print('-'* 25)\n",
    "  print(col_l, temp[col_l].sort_values().unique())\n",
    "  print(col_l,': кол-во NaN',temp[col_l].isna().sum(),\n",
    "        ', процент NaN', round(temp[col_l].isna().mean()*100,2),'%') "
   ]
  },
  {
   "cell_type": "markdown",
   "metadata": {},
   "source": [
    "#### Исследовательский анализ данных"
   ]
  },
  {
   "cell_type": "markdown",
   "metadata": {},
   "source": [
    "сколько игра выпускалось за разные периоды:"
   ]
  },
  {
   "cell_type": "code",
   "execution_count": 27,
   "metadata": {},
   "outputs": [
    {
     "data": {
      "image/png": "[encoded data removed]",
      "text/plain": [
       "<Figure size 720x720 with 1 Axes>"
      ]
     },
     "metadata": {
      "needs_background": "light"
     },
     "output_type": "display_data"
    }
   ],
   "source": [
    "plt.figure(figsize=(10, 10))\n",
    "plt.bar(data['year'].value_counts().index, data['year'].value_counts())\n",
    "plt.title('Распределение по годам')\n",
    "plt.xlabel('Год')\n",
    "plt.ylabel('Количество записей')\n",
    "plt.show()"
   ]
  },
  {
   "cell_type": "markdown",
   "metadata": {},
   "source": [
    "<font color='DarkBlue'><b>Комментарий ревьюера</b></font><br>\n",
    "<font color='DarkGreen'>👌 Хорошая визуализация и правильно, что оси подписаны и есть название графика.</font>"
   ]
  },
  {
   "cell_type": "markdown",
   "metadata": {},
   "source": [
    "Пожалуй самы важный промежуток это с 2000 по 2015 год, когда игры активно выпускались"
   ]
  },
  {
   "cell_type": "markdown",
   "metadata": {},
   "source": [
    "Посмотрим платформы с наибольшим кол-вом продаж:"
   ]
  },
  {
   "cell_type": "code",
   "execution_count": 28,
   "metadata": {},
   "outputs": [
    {
     "data": {
      "text/html": [
       "<div>\n",
       "<style scoped>\n",
       "    .dataframe tbody tr th:only-of-type {\n",
       "        vertical-align: middle;\n",
       "    }\n",
       "\n",
       "    .dataframe tbody tr th {\n",
       "        vertical-align: top;\n",
       "    }\n",
       "\n",
       "    .dataframe thead th {\n",
       "        text-align: right;\n",
       "    }\n",
       "</style>\n",
       "<table border=\"1\" class=\"dataframe\">\n",
       "  <thead>\n",
       "    <tr style=\"text-align: right;\">\n",
       "      <th></th>\n",
       "      <th>sales</th>\n",
       "    </tr>\n",
       "    <tr>\n",
       "      <th>platform</th>\n",
       "      <th></th>\n",
       "    </tr>\n",
       "  </thead>\n",
       "  <tbody>\n",
       "    <tr>\n",
       "      <th>PS2</th>\n",
       "      <td>1255.77</td>\n",
       "    </tr>\n",
       "    <tr>\n",
       "      <th>X360</th>\n",
       "      <td>971.42</td>\n",
       "    </tr>\n",
       "    <tr>\n",
       "      <th>PS3</th>\n",
       "      <td>939.65</td>\n",
       "    </tr>\n",
       "    <tr>\n",
       "      <th>Wii</th>\n",
       "      <td>907.51</td>\n",
       "    </tr>\n",
       "    <tr>\n",
       "      <th>DS</th>\n",
       "      <td>806.12</td>\n",
       "    </tr>\n",
       "    <tr>\n",
       "      <th>PS</th>\n",
       "      <td>730.86</td>\n",
       "    </tr>\n",
       "    <tr>\n",
       "      <th>GBA</th>\n",
       "      <td>317.85</td>\n",
       "    </tr>\n",
       "    <tr>\n",
       "      <th>PS4</th>\n",
       "      <td>314.14</td>\n",
       "    </tr>\n",
       "    <tr>\n",
       "      <th>PSP</th>\n",
       "      <td>294.05</td>\n",
       "    </tr>\n",
       "    <tr>\n",
       "      <th>PC</th>\n",
       "      <td>259.52</td>\n",
       "    </tr>\n",
       "  </tbody>\n",
       "</table>\n",
       "</div>"
      ],
      "text/plain": [
       "            sales\n",
       "platform         \n",
       "PS2       1255.77\n",
       "X360       971.42\n",
       "PS3        939.65\n",
       "Wii        907.51\n",
       "DS         806.12\n",
       "PS         730.86\n",
       "GBA        317.85\n",
       "PS4        314.14\n",
       "PSP        294.05\n",
       "PC         259.52"
      ]
     },
     "execution_count": 28,
     "metadata": {},
     "output_type": "execute_result"
    }
   ],
   "source": [
    "top = data.pivot_table(index = 'platform', \n",
    "                       values = 'sales', \n",
    "                       aggfunc = 'sum').sort_values(by = 'sales', ascending = False).head(10)\n",
    "top"
   ]
  },
  {
   "cell_type": "code",
   "execution_count": 29,
   "metadata": {},
   "outputs": [
    {
     "data": {
      "image/png": "[encoded data removed]",
      "text/plain": [
       "<Figure size 720x720 with 1 Axes>"
      ]
     },
     "metadata": {
      "needs_background": "light"
     },
     "output_type": "display_data"
    }
   ],
   "source": [
    "ax = top.plot.bar(y='sales', figsize = (10,10), grid = True)\n",
    "plt.xlabel('Платформа')\n",
    "plt.ylabel('Продажи')\n",
    "plt.title('Продажи по платформам  топ 10')\n",
    "plt.show()"
   ]
  },
  {
   "cell_type": "markdown",
   "metadata": {},
   "source": [
    "теперь посмотри продажи на этих платформах по годам"
   ]
  },
  {
   "cell_type": "code",
   "execution_count": 30,
   "metadata": {
    "scrolled": false
   },
   "outputs": [
    {
     "data": {
      "image/png": "[encoded data removed]",
      "text/plain": [
       "<Figure size 432x288 with 1 Axes>"
      ]
     },
     "metadata": {
      "needs_background": "light"
     },
     "output_type": "display_data"
    },
    {
     "data": {
      "image/png": "[encoded data removed]",
      "text/plain": [
       "<Figure size 432x288 with 1 Axes>"
      ]
     },
     "metadata": {
      "needs_background": "light"
     },
     "output_type": "display_data"
    },
    {
     "data": {
      "image/png": "[encoded data removed]",
      "text/plain": [
       "<Figure size 432x288 with 1 Axes>"
      ]
     },
     "metadata": {
      "needs_background": "light"
     },
     "output_type": "display_data"
    },
    {
     "data": {
      "image/png": "[encoded data removed]",
      "text/plain": [
       "<Figure size 432x288 with 1 Axes>"
      ]
     },
     "metadata": {
      "needs_background": "light"
     },
     "output_type": "display_data"
    },
    {
     "data": {
      "image/png": "[encoded data removed]",
      "text/plain": [
       "<Figure size 432x288 with 1 Axes>"
      ]
     },
     "metadata": {
      "needs_background": "light"
     },
     "output_type": "display_data"
    },
    {
     "data": {
      "image/png": "[encoded data removed]",
      "text/plain": [
       "<Figure size 432x288 with 1 Axes>"
      ]
     },
     "metadata": {
      "needs_background": "light"
     },
     "output_type": "display_data"
    },
    {
     "data": {
      "image/png": "[encoded data removed]",
      "text/plain": [
       "<Figure size 432x288 with 1 Axes>"
      ]
     },
     "metadata": {
      "needs_background": "light"
     },
     "output_type": "display_data"
    },
    {
     "data": {
      "image/png": "[encoded data removed]",
      "text/plain": [
       "<Figure size 432x288 with 1 Axes>"
      ]
     },
     "metadata": {
      "needs_background": "light"
     },
     "output_type": "display_data"
    },
    {
     "data": {
      "image/png": "[encoded data removed]",
      "text/plain": [
       "<Figure size 432x288 with 1 Axes>"
      ]
     },
     "metadata": {
      "needs_background": "light"
     },
     "output_type": "display_data"
    },
    {
     "data": {
      "image/png": "[encoded data removed]",
      "text/plain": [
       "<Figure size 432x288 with 1 Axes>"
      ]
     },
     "metadata": {
      "needs_background": "light"
     },
     "output_type": "display_data"
    }
   ],
   "source": [
    "first_column_values = top.index.get_level_values(0)\n",
    "for platform in first_column_values:\n",
    "    data.loc[data['platform'] == platform].pivot_table(index = 'year', values = 'sales', aggfunc = 'sum').plot.bar(y='sales')\n",
    "    plt.ylabel('Продажи')\n",
    "    plt.title(platform)\n",
    "    plt.xlabel('год')\n",
    "    plt.show()"
   ]
  },
  {
   "cell_type": "markdown",
   "metadata": {},
   "source": [
    "Вывод: обычно платформы живут около 10 лет, чаще всего они начала появляться начиная с 2006 года, так как нам нужен прогноз на 2017 год, то будем опираться на данные с 2014 по 2016 год."
   ]
  },
  {
   "cell_type": "code",
   "execution_count": 31,
   "metadata": {},
   "outputs": [
    {
     "data": {
      "text/plain": [
       "7.0"
      ]
     },
     "execution_count": 31,
     "metadata": {},
     "output_type": "execute_result"
    }
   ],
   "source": [
    "# Комментарий ревьюера\n",
    "temp = data.copy() \n",
    "time_life = temp.pivot_table(index='platform', values='year', aggfunc=['min', 'max']).reset_index()\n",
    "time_life['life'] = time_life['max'] - time_life['min'] + 1 # в срок жизни платформы, должны входить границы диапазона, \n",
    "                                                            # поэтому +1\n",
    "time_life['life'].median()"
   ]
  },
  {
   "cell_type": "markdown",
   "metadata": {},
   "source": [
    "так как нам не стоит брать данные за неактуальный период, оставим данные только для промежутка с 2014 года по 2016:"
   ]
  },
  {
   "cell_type": "code",
   "execution_count": 32,
   "metadata": {},
   "outputs": [
    {
     "data": {
      "text/plain": [
       "<IntegerArray>\n",
       "[2015, 2014, 2016]\n",
       "Length: 3, dtype: Int64"
      ]
     },
     "execution_count": 32,
     "metadata": {},
     "output_type": "execute_result"
    }
   ],
   "source": [
    "data_actual = data.loc[data['year'] > 2013]\n",
    "data_actual = data_actual.reset_index(drop = True)\n",
    "data_actual['year'].unique()"
   ]
  },
  {
   "cell_type": "code",
   "execution_count": 33,
   "metadata": {},
   "outputs": [
    {
     "data": {
      "text/html": [
       "<div>\n",
       "<style scoped>\n",
       "    .dataframe tbody tr th:only-of-type {\n",
       "        vertical-align: middle;\n",
       "    }\n",
       "\n",
       "    .dataframe tbody tr th {\n",
       "        vertical-align: top;\n",
       "    }\n",
       "\n",
       "    .dataframe thead th {\n",
       "        text-align: right;\n",
       "    }\n",
       "</style>\n",
       "<table border=\"1\" class=\"dataframe\">\n",
       "  <thead>\n",
       "    <tr style=\"text-align: right;\">\n",
       "      <th></th>\n",
       "      <th>name</th>\n",
       "      <th>platform</th>\n",
       "      <th>year</th>\n",
       "      <th>genre</th>\n",
       "      <th>na_sales</th>\n",
       "      <th>eu_sales</th>\n",
       "      <th>jp_sales</th>\n",
       "      <th>other_sales</th>\n",
       "      <th>critic_score</th>\n",
       "      <th>user_score</th>\n",
       "      <th>rating</th>\n",
       "      <th>sales</th>\n",
       "    </tr>\n",
       "  </thead>\n",
       "  <tbody>\n",
       "    <tr>\n",
       "      <th>0</th>\n",
       "      <td>Call of Duty: Black Ops 3</td>\n",
       "      <td>PS4</td>\n",
       "      <td>2015</td>\n",
       "      <td>Shooter</td>\n",
       "      <td>6.03</td>\n",
       "      <td>5.86</td>\n",
       "      <td>0.36</td>\n",
       "      <td>2.38</td>\n",
       "      <td>&lt;NA&gt;</td>\n",
       "      <td>NaN</td>\n",
       "      <td>NaN</td>\n",
       "      <td>14.63</td>\n",
       "    </tr>\n",
       "    <tr>\n",
       "      <th>1</th>\n",
       "      <td>Grand Theft Auto V</td>\n",
       "      <td>PS4</td>\n",
       "      <td>2014</td>\n",
       "      <td>Action</td>\n",
       "      <td>3.96</td>\n",
       "      <td>6.31</td>\n",
       "      <td>0.38</td>\n",
       "      <td>1.97</td>\n",
       "      <td>97</td>\n",
       "      <td>8.3</td>\n",
       "      <td>M</td>\n",
       "      <td>12.62</td>\n",
       "    </tr>\n",
       "    <tr>\n",
       "      <th>2</th>\n",
       "      <td>Pokemon Omega Ruby/Pokemon Alpha Sapphire</td>\n",
       "      <td>3DS</td>\n",
       "      <td>2014</td>\n",
       "      <td>Role-Playing</td>\n",
       "      <td>4.35</td>\n",
       "      <td>3.49</td>\n",
       "      <td>3.10</td>\n",
       "      <td>0.74</td>\n",
       "      <td>&lt;NA&gt;</td>\n",
       "      <td>NaN</td>\n",
       "      <td>NaN</td>\n",
       "      <td>11.68</td>\n",
       "    </tr>\n",
       "    <tr>\n",
       "      <th>3</th>\n",
       "      <td>FIFA 16</td>\n",
       "      <td>PS4</td>\n",
       "      <td>2015</td>\n",
       "      <td>Sports</td>\n",
       "      <td>1.12</td>\n",
       "      <td>6.12</td>\n",
       "      <td>0.06</td>\n",
       "      <td>1.28</td>\n",
       "      <td>82</td>\n",
       "      <td>4.3</td>\n",
       "      <td>E</td>\n",
       "      <td>8.58</td>\n",
       "    </tr>\n",
       "    <tr>\n",
       "      <th>4</th>\n",
       "      <td>Star Wars Battlefront (2015)</td>\n",
       "      <td>PS4</td>\n",
       "      <td>2015</td>\n",
       "      <td>Shooter</td>\n",
       "      <td>2.99</td>\n",
       "      <td>3.49</td>\n",
       "      <td>0.22</td>\n",
       "      <td>1.28</td>\n",
       "      <td>&lt;NA&gt;</td>\n",
       "      <td>NaN</td>\n",
       "      <td>NaN</td>\n",
       "      <td>7.98</td>\n",
       "    </tr>\n",
       "  </tbody>\n",
       "</table>\n",
       "</div>"
      ],
      "text/plain": [
       "                                        name platform  year         genre  \\\n",
       "0                  Call of Duty: Black Ops 3      PS4  2015       Shooter   \n",
       "1                         Grand Theft Auto V      PS4  2014        Action   \n",
       "2  Pokemon Omega Ruby/Pokemon Alpha Sapphire      3DS  2014  Role-Playing   \n",
       "3                                    FIFA 16      PS4  2015        Sports   \n",
       "4               Star Wars Battlefront (2015)      PS4  2015       Shooter   \n",
       "\n",
       "   na_sales  eu_sales  jp_sales  other_sales  critic_score  user_score rating  \\\n",
       "0      6.03      5.86      0.36         2.38          <NA>         NaN    NaN   \n",
       "1      3.96      6.31      0.38         1.97            97         8.3      M   \n",
       "2      4.35      3.49      3.10         0.74          <NA>         NaN    NaN   \n",
       "3      1.12      6.12      0.06         1.28            82         4.3      E   \n",
       "4      2.99      3.49      0.22         1.28          <NA>         NaN    NaN   \n",
       "\n",
       "   sales  \n",
       "0  14.63  \n",
       "1  12.62  \n",
       "2  11.68  \n",
       "3   8.58  \n",
       "4   7.98  "
      ]
     },
     "execution_count": 33,
     "metadata": {},
     "output_type": "execute_result"
    }
   ],
   "source": [
    "data_actual.head()"
   ]
  },
  {
   "cell_type": "markdown",
   "metadata": {},
   "source": [
    "теперь рассмотрим какие платформы лидируют по продажам за 2014 - 2016:"
   ]
  },
  {
   "cell_type": "code",
   "execution_count": 34,
   "metadata": {},
   "outputs": [
    {
     "data": {
      "text/html": [
       "<div>\n",
       "<style scoped>\n",
       "    .dataframe tbody tr th:only-of-type {\n",
       "        vertical-align: middle;\n",
       "    }\n",
       "\n",
       "    .dataframe tbody tr th {\n",
       "        vertical-align: top;\n",
       "    }\n",
       "\n",
       "    .dataframe thead th {\n",
       "        text-align: right;\n",
       "    }\n",
       "</style>\n",
       "<table border=\"1\" class=\"dataframe\">\n",
       "  <thead>\n",
       "    <tr style=\"text-align: right;\">\n",
       "      <th></th>\n",
       "      <th>sales</th>\n",
       "    </tr>\n",
       "    <tr>\n",
       "      <th>platform</th>\n",
       "      <th></th>\n",
       "    </tr>\n",
       "  </thead>\n",
       "  <tbody>\n",
       "    <tr>\n",
       "      <th>PS4</th>\n",
       "      <td>288.15</td>\n",
       "    </tr>\n",
       "    <tr>\n",
       "      <th>XOne</th>\n",
       "      <td>140.36</td>\n",
       "    </tr>\n",
       "    <tr>\n",
       "      <th>3DS</th>\n",
       "      <td>86.68</td>\n",
       "    </tr>\n",
       "    <tr>\n",
       "      <th>PS3</th>\n",
       "      <td>68.18</td>\n",
       "    </tr>\n",
       "    <tr>\n",
       "      <th>X360</th>\n",
       "      <td>48.22</td>\n",
       "    </tr>\n",
       "    <tr>\n",
       "      <th>WiiU</th>\n",
       "      <td>42.98</td>\n",
       "    </tr>\n",
       "    <tr>\n",
       "      <th>PC</th>\n",
       "      <td>27.05</td>\n",
       "    </tr>\n",
       "    <tr>\n",
       "      <th>PSV</th>\n",
       "      <td>22.40</td>\n",
       "    </tr>\n",
       "    <tr>\n",
       "      <th>Wii</th>\n",
       "      <td>5.07</td>\n",
       "    </tr>\n",
       "    <tr>\n",
       "      <th>PSP</th>\n",
       "      <td>0.36</td>\n",
       "    </tr>\n",
       "  </tbody>\n",
       "</table>\n",
       "</div>"
      ],
      "text/plain": [
       "           sales\n",
       "platform        \n",
       "PS4       288.15\n",
       "XOne      140.36\n",
       "3DS        86.68\n",
       "PS3        68.18\n",
       "X360       48.22\n",
       "WiiU       42.98\n",
       "PC         27.05\n",
       "PSV        22.40\n",
       "Wii         5.07\n",
       "PSP         0.36"
      ]
     },
     "execution_count": 34,
     "metadata": {},
     "output_type": "execute_result"
    }
   ],
   "source": [
    "top2 = (data_actual.pivot_table(index = 'platform', \n",
    "                       values = 'sales', \n",
    "                       aggfunc = 'sum')\n",
    "                      .sort_values(by = 'sales', ascending = False).head(20))\n",
    "top2"
   ]
  },
  {
   "cell_type": "code",
   "execution_count": 35,
   "metadata": {},
   "outputs": [
    {
     "data": {
      "image/png": "[encoded data removed]",
      "text/plain": [
       "<Figure size 720x720 with 1 Axes>"
      ]
     },
     "metadata": {
      "needs_background": "light"
     },
     "output_type": "display_data"
    }
   ],
   "source": [
    "ax = top2.plot.bar(y='sales', figsize = (10,10), grid = True)\n",
    "plt.xlabel('Платформа')\n",
    "plt.ylabel('Продажи')\n",
    "plt.title('Продажи по платформам  топ 10 за 2014 - 2016')\n",
    "plt.show()"
   ]
  },
  {
   "cell_type": "markdown",
   "metadata": {},
   "source": [
    "рассмотрим теперь каждую платформу по отдельности"
   ]
  },
  {
   "cell_type": "code",
   "execution_count": 36,
   "metadata": {
    "scrolled": false
   },
   "outputs": [
    {
     "data": {
      "image/png": "[encoded data removed]",
      "text/plain": [
       "<Figure size 432x288 with 1 Axes>"
      ]
     },
     "metadata": {
      "needs_background": "light"
     },
     "output_type": "display_data"
    },
    {
     "data": {
      "image/png": "[encoded data removed]",
      "text/plain": [
       "<Figure size 432x288 with 1 Axes>"
      ]
     },
     "metadata": {
      "needs_background": "light"
     },
     "output_type": "display_data"
    },
    {
     "data": {
      "image/png": "[encoded data removed]",
      "text/plain": [
       "<Figure size 432x288 with 1 Axes>"
      ]
     },
     "metadata": {
      "needs_background": "light"
     },
     "output_type": "display_data"
    },
    {
     "data": {
      "image/png": "[encoded data removed]",
      "text/plain": [
       "<Figure size 432x288 with 1 Axes>"
      ]
     },
     "metadata": {
      "needs_background": "light"
     },
     "output_type": "display_data"
    },
    {
     "data": {
      "image/png": "[encoded data removed]",
      "text/plain": [
       "<Figure size 432x288 with 1 Axes>"
      ]
     },
     "metadata": {
      "needs_background": "light"
     },
     "output_type": "display_data"
    },
    {
     "data": {
      "image/png": "[encoded data removed]",
      "text/plain": [
       "<Figure size 432x288 with 1 Axes>"
      ]
     },
     "metadata": {
      "needs_background": "light"
     },
     "output_type": "display_data"
    },
    {
     "data": {
      "image/png": "[encoded data removed]",
      "text/plain": [
       "<Figure size 432x288 with 1 Axes>"
      ]
     },
     "metadata": {
      "needs_background": "light"
     },
     "output_type": "display_data"
    },
    {
     "data": {
      "image/png": "[encoded data removed]",
      "text/plain": [
       "<Figure size 432x288 with 1 Axes>"
      ]
     },
     "metadata": {
      "needs_background": "light"
     },
     "output_type": "display_data"
    },
    {
     "data": {
      "image/png": "[encoded data removed]",
      "text/plain": [
       "<Figure size 432x288 with 1 Axes>"
      ]
     },
     "metadata": {
      "needs_background": "light"
     },
     "output_type": "display_data"
    },
    {
     "data": {
      "image/png": "[encoded data removed]",
      "text/plain": [
       "<Figure size 432x288 with 1 Axes>"
      ]
     },
     "metadata": {
      "needs_background": "light"
     },
     "output_type": "display_data"
    }
   ],
   "source": [
    "first_column_values = top2.index.get_level_values(0)\n",
    "for platform in first_column_values:\n",
    "    data_actual.loc[data_actual['platform'] == platform].pivot_table(index = 'year', values = 'sales', aggfunc = 'sum').plot.bar(y='sales')\n",
    "    plt.ylabel('Продажи')\n",
    "    plt.title(platform)\n",
    "    plt.xlabel('год')\n",
    "    plt.show()"
   ]
  },
  {
   "cell_type": "markdown",
   "metadata": {},
   "source": [
    "судя по графикам, можно выделить пару платформ, которые хоть как-то держатся на рынке, к таким относятся PS4, PC, XOne, 3DS все остальные платформы можно считать устаревшими и вышедшими из тренда, они не будут потенциально прибыльными."
   ]
  },
  {
   "cell_type": "markdown",
   "metadata": {},
   "source": [
    "Построим график ящик с усами для этих платформ."
   ]
  },
  {
   "cell_type": "code",
   "execution_count": 37,
   "metadata": {},
   "outputs": [
    {
     "data": {
      "image/png": "[encoded data removed]",
      "text/plain": [
       "<Figure size 1080x720 with 1 Axes>"
      ]
     },
     "metadata": {
      "needs_background": "light"
     },
     "output_type": "display_data"
    }
   ],
   "source": [
    "(data_actual.loc[data_actual['year'] == 2014].pivot_table(index = 'name',\n",
    "                         columns = 'platform', \n",
    "                         values = 'sales', \n",
    "                         aggfunc = 'sum').plot(kind='box', ylim=(0,2), figsize = (15, 10)))\n",
    "plt.ylabel('Общие продажи')\n",
    "plt.title('Продажи по перспективным платформам за 2014 год')\n",
    "plt.xlabel('Платформа')\n",
    "plt.show()"
   ]
  },
  {
   "cell_type": "code",
   "execution_count": 38,
   "metadata": {
    "scrolled": false
   },
   "outputs": [
    {
     "data": {
      "image/png": "[encoded data removed]",
      "text/plain": [
       "<Figure size 1080x720 with 1 Axes>"
      ]
     },
     "metadata": {
      "needs_background": "light"
     },
     "output_type": "display_data"
    }
   ],
   "source": [
    "(data_actual.loc[data_actual['year'] == 2015].pivot_table(index = 'name',\n",
    "                         columns = 'platform', \n",
    "                         values = 'sales', \n",
    "                         aggfunc = 'sum').plot(kind='box', ylim=(0,2), figsize = (15, 10)))\n",
    "plt.ylabel('Общие продажи')\n",
    "plt.title('Продажи по перспективным платформам за 2015 год')\n",
    "plt.xlabel('Платформа')\n",
    "plt.show()"
   ]
  },
  {
   "cell_type": "code",
   "execution_count": 39,
   "metadata": {},
   "outputs": [
    {
     "data": {
      "image/png": "[encoded data removed]",
      "text/plain": [
       "<Figure size 1080x720 with 1 Axes>"
      ]
     },
     "metadata": {
      "needs_background": "light"
     },
     "output_type": "display_data"
    }
   ],
   "source": [
    "(data_actual.loc[data_actual['year'] == 2016].pivot_table(index = 'name',\n",
    "                         columns = 'platform', \n",
    "                         values = 'sales', \n",
    "                         aggfunc = 'sum').plot(kind='box', ylim=(0,2), figsize = (15, 10)))\n",
    "plt.ylabel('Общие продажи')\n",
    "plt.title('Продажи по перспективным платформам за 2016 год')\n",
    "plt.xlabel('Платформа')\n",
    "plt.show()"
   ]
  },
  {
   "cell_type": "markdown",
   "metadata": {},
   "source": [
    "Мы видим в целом очень хорошие медианные показатели у выбранных нами платформ."
   ]
  },
  {
   "cell_type": "markdown",
   "metadata": {},
   "source": [
    "Возьмем платформу PS4 и другие и рассмотрим как отзывы влияют на продажи, рассчитав корреляцию и построив график рассеивания."
   ]
  },
  {
   "cell_type": "code",
   "execution_count": 40,
   "metadata": {
    "scrolled": false
   },
   "outputs": [
    {
     "name": "stdout",
     "output_type": "stream",
     "text": [
      "1 PS4\n",
      "              critic_score  user_score     sales\n",
      "critic_score      1.000000    0.546434  0.402661\n",
      "user_score        0.546434    1.000000 -0.040132\n",
      "sales             0.402661   -0.040132  1.000000\n"
     ]
    },
    {
     "data": {
      "image/png": "[encoded data removed]",
      "text/plain": [
       "<Figure size 432x288 with 1 Axes>"
      ]
     },
     "metadata": {
      "needs_background": "light"
     },
     "output_type": "display_data"
    },
    {
     "data": {
      "image/png": "[encoded data removed]",
      "text/plain": [
       "<Figure size 432x288 with 1 Axes>"
      ]
     },
     "metadata": {
      "needs_background": "light"
     },
     "output_type": "display_data"
    },
    {
     "name": "stdout",
     "output_type": "stream",
     "text": [
      "------------------------------------------------------------------\n",
      "2 3DS\n",
      "              critic_score  user_score     sales\n",
      "critic_score      1.000000    0.862485  0.314117\n",
      "user_score        0.862485    1.000000  0.215193\n",
      "sales             0.314117    0.215193  1.000000\n"
     ]
    },
    {
     "data": {
      "image/png": "[encoded data removed]",
      "text/plain": [
       "<Figure size 432x288 with 1 Axes>"
      ]
     },
     "metadata": {
      "needs_background": "light"
     },
     "output_type": "display_data"
    },
    {
     "data": {
      "image/png": "[encoded data removed]",
      "text/plain": [
       "<Figure size 432x288 with 1 Axes>"
      ]
     },
     "metadata": {
      "needs_background": "light"
     },
     "output_type": "display_data"
    },
    {
     "name": "stdout",
     "output_type": "stream",
     "text": [
      "------------------------------------------------------------------\n",
      "3 XOne\n",
      "              critic_score  user_score     sales\n",
      "critic_score      1.000000    0.440977  0.428677\n",
      "user_score        0.440977    1.000000 -0.070384\n",
      "sales             0.428677   -0.070384  1.000000\n"
     ]
    },
    {
     "data": {
      "image/png": "[encoded data removed]",
      "text/plain": [
       "<Figure size 432x288 with 1 Axes>"
      ]
     },
     "metadata": {
      "needs_background": "light"
     },
     "output_type": "display_data"
    },
    {
     "data": {
      "image/png": "[encoded data removed]",
      "text/plain": [
       "<Figure size 432x288 with 1 Axes>"
      ]
     },
     "metadata": {
      "needs_background": "light"
     },
     "output_type": "display_data"
    },
    {
     "name": "stdout",
     "output_type": "stream",
     "text": [
      "------------------------------------------------------------------\n",
      "4 WiiU\n",
      "              critic_score  user_score     sales\n",
      "critic_score      1.000000    0.763536  0.370201\n",
      "user_score        0.763536    1.000000  0.407926\n",
      "sales             0.370201    0.407926  1.000000\n"
     ]
    },
    {
     "data": {
      "image/png": "[encoded data removed]",
      "text/plain": [
       "<Figure size 432x288 with 1 Axes>"
      ]
     },
     "metadata": {
      "needs_background": "light"
     },
     "output_type": "display_data"
    },
    {
     "data": {
      "image/png": "[encoded data removed]",
      "text/plain": [
       "<Figure size 432x288 with 1 Axes>"
      ]
     },
     "metadata": {
      "needs_background": "light"
     },
     "output_type": "display_data"
    },
    {
     "name": "stdout",
     "output_type": "stream",
     "text": [
      "------------------------------------------------------------------\n",
      "5 PS3\n",
      "              critic_score  user_score     sales\n",
      "critic_score      1.000000    0.693445  0.446575\n",
      "user_score        0.693445    1.000000 -0.166761\n",
      "sales             0.446575   -0.166761  1.000000\n"
     ]
    },
    {
     "data": {
      "image/png": "[encoded data removed]",
      "text/plain": [
       "<Figure size 432x288 with 1 Axes>"
      ]
     },
     "metadata": {
      "needs_background": "light"
     },
     "output_type": "display_data"
    },
    {
     "data": {
      "image/png": "[encoded data removed]",
      "text/plain": [
       "<Figure size 432x288 with 1 Axes>"
      ]
     },
     "metadata": {
      "needs_background": "light"
     },
     "output_type": "display_data"
    },
    {
     "name": "stdout",
     "output_type": "stream",
     "text": [
      "------------------------------------------------------------------\n"
     ]
    }
   ],
   "source": [
    "k = 1\n",
    "for platform in data_actual['platform'].unique():\n",
    "    print(k, platform)\n",
    "    print(data_actual[['critic_score','user_score', 'sales']].loc[data_actual['platform'] == platform].corr())\n",
    "    data_actual.loc[data_actual['platform'] == platform].plot(y = 'sales', x = 'critic_score', kind = 'scatter')\n",
    "    plt.ylabel('Продажи')\n",
    "    plt.title(platform)\n",
    "    plt.xlabel('Оценка критика')\n",
    "    plt.show()\n",
    "    data_actual.loc[data_actual['platform'] == platform].plot(y = 'sales', x = 'user_score', kind = 'scatter')\n",
    "    plt.ylabel('Продажи')\n",
    "    plt.title(platform)\n",
    "    plt.xlabel('Оценка пользователя')\n",
    "    plt.show()\n",
    "    print('------------------------------------------------------------------')\n",
    "    k += 1\n",
    "    if k == 6:\n",
    "        break"
   ]
  },
  {
   "cell_type": "markdown",
   "metadata": {},
   "source": [
    "по таблице корреляции мы видим, что продажи не зависят от отзывов пользователей, но немного зависят от отзывов критиков, чем выше оценка, тем больше продаж, думаю продажи игра на остальных платформах имеют те же свойства, но не стоит забывать об актуальности самой платформы."
   ]
  },
  {
   "cell_type": "markdown",
   "metadata": {},
   "source": [
    "Теперь рассмотрим как жанры игр влияют на стоимость."
   ]
  },
  {
   "cell_type": "code",
   "execution_count": 41,
   "metadata": {
    "scrolled": false
   },
   "outputs": [
    {
     "name": "stdout",
     "output_type": "stream",
     "text": [
      "1 PS4\n",
      "         sales\n",
      "genre         \n",
      "Action   91.62\n",
      "Shooter  78.46\n",
      "Sports   50.01\n"
     ]
    },
    {
     "data": {
      "image/png": "[encoded data removed]",
      "text/plain": [
       "<Figure size 432x288 with 1 Axes>"
      ]
     },
     "metadata": {
      "needs_background": "light"
     },
     "output_type": "display_data"
    },
    {
     "name": "stdout",
     "output_type": "stream",
     "text": [
      "----------------------------------------------------------------------------------------------\n",
      "2 3DS\n",
      "              sales\n",
      "genre              \n",
      "Role-Playing  40.02\n",
      "Action        22.06\n",
      "Fighting       8.10\n"
     ]
    },
    {
     "data": {
      "image/png": "[encoded data removed]",
      "text/plain": [
       "<Figure size 432x288 with 1 Axes>"
      ]
     },
     "metadata": {
      "needs_background": "light"
     },
     "output_type": "display_data"
    },
    {
     "name": "stdout",
     "output_type": "stream",
     "text": [
      "----------------------------------------------------------------------------------------------\n",
      "3 XOne\n",
      "         sales\n",
      "genre         \n",
      "Shooter  55.39\n",
      "Action   31.06\n",
      "Sports   23.68\n"
     ]
    },
    {
     "data": {
      "image/png": "[encoded data removed]",
      "text/plain": [
       "<Figure size 432x288 with 1 Axes>"
      ]
     },
     "metadata": {
      "needs_background": "light"
     },
     "output_type": "display_data"
    },
    {
     "name": "stdout",
     "output_type": "stream",
     "text": [
      "----------------------------------------------------------------------------------------------\n",
      "4 WiiU\n",
      "          sales\n",
      "genre          \n",
      "Action     9.99\n",
      "Racing     7.09\n",
      "Platform   6.87\n"
     ]
    },
    {
     "data": {
      "image/png": "[encoded data removed]",
      "text/plain": [
       "<Figure size 432x288 with 1 Axes>"
      ]
     },
     "metadata": {
      "needs_background": "light"
     },
     "output_type": "display_data"
    },
    {
     "name": "stdout",
     "output_type": "stream",
     "text": [
      "----------------------------------------------------------------------------------------------\n",
      "5 PS3\n",
      "         sales\n",
      "genre         \n",
      "Action   18.10\n",
      "Sports   17.47\n",
      "Shooter  12.17\n"
     ]
    },
    {
     "data": {
      "image/png": "[encoded data removed]",
      "text/plain": [
       "<Figure size 432x288 with 1 Axes>"
      ]
     },
     "metadata": {
      "needs_background": "light"
     },
     "output_type": "display_data"
    },
    {
     "name": "stdout",
     "output_type": "stream",
     "text": [
      "----------------------------------------------------------------------------------------------\n",
      "6 X360\n",
      "         sales\n",
      "genre         \n",
      "Shooter  13.66\n",
      "Sports   13.40\n",
      "Action   12.33\n"
     ]
    },
    {
     "data": {
      "image/png": "[encoded data removed]",
      "text/plain": [
       "<Figure size 432x288 with 1 Axes>"
      ]
     },
     "metadata": {
      "needs_background": "light"
     },
     "output_type": "display_data"
    },
    {
     "name": "stdout",
     "output_type": "stream",
     "text": [
      "----------------------------------------------------------------------------------------------\n",
      "7 PC\n",
      "            sales\n",
      "genre            \n",
      "Simulation   6.59\n",
      "Shooter      5.79\n",
      "Action       5.34\n"
     ]
    },
    {
     "data": {
      "image/png": "[encoded data removed]",
      "text/plain": [
       "<Figure size 432x288 with 1 Axes>"
      ]
     },
     "metadata": {
      "needs_background": "light"
     },
     "output_type": "display_data"
    },
    {
     "name": "stdout",
     "output_type": "stream",
     "text": [
      "----------------------------------------------------------------------------------------------\n",
      "8 Wii\n",
      "        sales\n",
      "genre        \n",
      "Misc     3.14\n",
      "Action   1.19\n",
      "Sports   0.56\n"
     ]
    },
    {
     "data": {
      "image/png": "[encoded data removed]",
      "text/plain": [
       "<Figure size 432x288 with 1 Axes>"
      ]
     },
     "metadata": {
      "needs_background": "light"
     },
     "output_type": "display_data"
    },
    {
     "name": "stdout",
     "output_type": "stream",
     "text": [
      "----------------------------------------------------------------------------------------------\n",
      "9 PSV\n",
      "              sales\n",
      "genre              \n",
      "Action         7.47\n",
      "Role-Playing   6.10\n",
      "Misc           3.43\n"
     ]
    },
    {
     "data": {
      "image/png": "[encoded data removed]",
      "text/plain": [
       "<Figure size 432x288 with 1 Axes>"
      ]
     },
     "metadata": {
      "needs_background": "light"
     },
     "output_type": "display_data"
    },
    {
     "name": "stdout",
     "output_type": "stream",
     "text": [
      "----------------------------------------------------------------------------------------------\n",
      "10 PSP\n",
      "           sales\n",
      "genre           \n",
      "Action      0.20\n",
      "Sports      0.09\n",
      "Adventure   0.05\n"
     ]
    },
    {
     "data": {
      "image/png": "[encoded data removed]",
      "text/plain": [
       "<Figure size 432x288 with 1 Axes>"
      ]
     },
     "metadata": {
      "needs_background": "light"
     },
     "output_type": "display_data"
    },
    {
     "name": "stdout",
     "output_type": "stream",
     "text": [
      "----------------------------------------------------------------------------------------------\n"
     ]
    }
   ],
   "source": [
    "k = 1\n",
    "for platform in data_actual['platform'].unique():\n",
    "    print(k, platform)\n",
    "    print(data_actual.loc[data_actual['platform'] == platform].pivot_table(index = 'genre', values = 'sales', aggfunc = 'sum').sort_values(by = 'sales', ascending = False).head(3))\n",
    "    (data_actual.loc[data_actual['platform'] == platform].pivot_table(index = 'genre', values = 'sales', aggfunc = 'sum').sort_values(by = 'sales', ascending = False).head(3).plot(y = 'sales', kind = 'bar'))\n",
    "    plt.ylabel('Продажи')\n",
    "    plt.title(platform)\n",
    "    plt.xlabel('Жанр')\n",
    "    plt.show()\n",
    "    print('----------------------------------------------------------------------------------------------')\n",
    "    k += 1"
   ]
  },
  {
   "cell_type": "code",
   "execution_count": 42,
   "metadata": {},
   "outputs": [
    {
     "data": {
      "image/png": "[encoded data removed]",
      "text/plain": [
       "<Figure size 1080x720 with 1 Axes>"
      ]
     },
     "metadata": {
      "needs_background": "light"
     },
     "output_type": "display_data"
    }
   ],
   "source": [
    "(data_actual.pivot_table(index = 'name',\n",
    "                         columns = 'genre', \n",
    "                         values = 'sales', \n",
    "                         aggfunc = 'sum').plot(kind='box', ylim=(0,10), figsize = (15, 10)))\n",
    "plt.ylabel('Общие продажи')\n",
    "plt.title('Продажи различных жанров за 2014-2016')\n",
    "plt.xlabel('Жанр')\n",
    "plt.show()"
   ]
  },
  {
   "cell_type": "markdown",
   "metadata": {},
   "source": [
    "мы видим, что самыми прибыльными являются такие жанры как Sports, Shooter, Platform, их стоит взять на заметку, возможно они так же будут приносить большую прибыль и в 2017 году. Что касается самых низкоприбыльных жанров, то к таким относятся Puzzle и Adventure, скорее всего там мало экшена и такое не привлекает большое количество пользователей."
   ]
  },
  {
   "cell_type": "markdown",
   "metadata": {},
   "source": [
    "####  Портрет пользователя каждого региона"
   ]
  },
  {
   "cell_type": "markdown",
   "metadata": {},
   "source": [
    "будем опираться на актуальные данные с 2014 - 2016 год."
   ]
  },
  {
   "cell_type": "markdown",
   "metadata": {},
   "source": [
    "рассмотрим самые популярные платформы в каждом регионе:"
   ]
  },
  {
   "cell_type": "markdown",
   "metadata": {},
   "source": [
    "*Начнем с Северной Америкики*"
   ]
  },
  {
   "cell_type": "code",
   "execution_count": 43,
   "metadata": {},
   "outputs": [
    {
     "data": {
      "text/html": [
       "<div>\n",
       "<style scoped>\n",
       "    .dataframe tbody tr th:only-of-type {\n",
       "        vertical-align: middle;\n",
       "    }\n",
       "\n",
       "    .dataframe tbody tr th {\n",
       "        vertical-align: top;\n",
       "    }\n",
       "\n",
       "    .dataframe thead th {\n",
       "        text-align: right;\n",
       "    }\n",
       "</style>\n",
       "<table border=\"1\" class=\"dataframe\">\n",
       "  <thead>\n",
       "    <tr style=\"text-align: right;\">\n",
       "      <th></th>\n",
       "      <th>na_sales</th>\n",
       "    </tr>\n",
       "    <tr>\n",
       "      <th>platform</th>\n",
       "      <th></th>\n",
       "    </tr>\n",
       "  </thead>\n",
       "  <tbody>\n",
       "    <tr>\n",
       "      <th>PS4</th>\n",
       "      <td>98.61</td>\n",
       "    </tr>\n",
       "    <tr>\n",
       "      <th>XOne</th>\n",
       "      <td>81.27</td>\n",
       "    </tr>\n",
       "    <tr>\n",
       "      <th>X360</th>\n",
       "      <td>28.30</td>\n",
       "    </tr>\n",
       "    <tr>\n",
       "      <th>3DS</th>\n",
       "      <td>22.64</td>\n",
       "    </tr>\n",
       "    <tr>\n",
       "      <th>PS3</th>\n",
       "      <td>22.05</td>\n",
       "    </tr>\n",
       "  </tbody>\n",
       "</table>\n",
       "</div>"
      ],
      "text/plain": [
       "          na_sales\n",
       "platform          \n",
       "PS4          98.61\n",
       "XOne         81.27\n",
       "X360         28.30\n",
       "3DS          22.64\n",
       "PS3          22.05"
      ]
     },
     "execution_count": 43,
     "metadata": {},
     "output_type": "execute_result"
    }
   ],
   "source": [
    "data_actual.pivot_table(index = 'platform', values = 'na_sales', aggfunc = 'sum').sort_values(by = 'na_sales', ascending = False).head()"
   ]
  },
  {
   "cell_type": "markdown",
   "metadata": {},
   "source": [
    "Мы видим, что преобладает по продажам американская консоль X360, а так же видим что в Северной Америке довольно популярны такие платформы как Wii, PS3, DS, PS2."
   ]
  },
  {
   "cell_type": "markdown",
   "metadata": {},
   "source": [
    "*Европа:*"
   ]
  },
  {
   "cell_type": "code",
   "execution_count": 44,
   "metadata": {},
   "outputs": [
    {
     "data": {
      "text/html": [
       "<div>\n",
       "<style scoped>\n",
       "    .dataframe tbody tr th:only-of-type {\n",
       "        vertical-align: middle;\n",
       "    }\n",
       "\n",
       "    .dataframe tbody tr th {\n",
       "        vertical-align: top;\n",
       "    }\n",
       "\n",
       "    .dataframe thead th {\n",
       "        text-align: right;\n",
       "    }\n",
       "</style>\n",
       "<table border=\"1\" class=\"dataframe\">\n",
       "  <thead>\n",
       "    <tr style=\"text-align: right;\">\n",
       "      <th></th>\n",
       "      <th>eu_sales</th>\n",
       "    </tr>\n",
       "    <tr>\n",
       "      <th>platform</th>\n",
       "      <th></th>\n",
       "    </tr>\n",
       "  </thead>\n",
       "  <tbody>\n",
       "    <tr>\n",
       "      <th>PS4</th>\n",
       "      <td>130.04</td>\n",
       "    </tr>\n",
       "    <tr>\n",
       "      <th>XOne</th>\n",
       "      <td>46.25</td>\n",
       "    </tr>\n",
       "    <tr>\n",
       "      <th>PS3</th>\n",
       "      <td>25.54</td>\n",
       "    </tr>\n",
       "    <tr>\n",
       "      <th>PC</th>\n",
       "      <td>17.97</td>\n",
       "    </tr>\n",
       "    <tr>\n",
       "      <th>3DS</th>\n",
       "      <td>16.12</td>\n",
       "    </tr>\n",
       "  </tbody>\n",
       "</table>\n",
       "</div>"
      ],
      "text/plain": [
       "          eu_sales\n",
       "platform          \n",
       "PS4         130.04\n",
       "XOne         46.25\n",
       "PS3          25.54\n",
       "PC           17.97\n",
       "3DS          16.12"
      ]
     },
     "execution_count": 44,
     "metadata": {},
     "output_type": "execute_result"
    }
   ],
   "source": [
    "data_actual.pivot_table(index = 'platform', values = 'eu_sales', aggfunc = 'sum').sort_values(by = 'eu_sales', ascending = False).head()"
   ]
  },
  {
   "cell_type": "markdown",
   "metadata": {},
   "source": [
    "Мы видим что в Европе преобладает PS3 и X360, похоже что PS4 только набирает популярность там и стоит обратить на это внимание"
   ]
  },
  {
   "cell_type": "markdown",
   "metadata": {},
   "source": [
    "*Япония:*"
   ]
  },
  {
   "cell_type": "code",
   "execution_count": 45,
   "metadata": {},
   "outputs": [
    {
     "data": {
      "text/html": [
       "<div>\n",
       "<style scoped>\n",
       "    .dataframe tbody tr th:only-of-type {\n",
       "        vertical-align: middle;\n",
       "    }\n",
       "\n",
       "    .dataframe tbody tr th {\n",
       "        vertical-align: top;\n",
       "    }\n",
       "\n",
       "    .dataframe thead th {\n",
       "        text-align: right;\n",
       "    }\n",
       "</style>\n",
       "<table border=\"1\" class=\"dataframe\">\n",
       "  <thead>\n",
       "    <tr style=\"text-align: right;\">\n",
       "      <th></th>\n",
       "      <th>jp_sales</th>\n",
       "    </tr>\n",
       "    <tr>\n",
       "      <th>platform</th>\n",
       "      <th></th>\n",
       "    </tr>\n",
       "  </thead>\n",
       "  <tbody>\n",
       "    <tr>\n",
       "      <th>3DS</th>\n",
       "      <td>44.24</td>\n",
       "    </tr>\n",
       "    <tr>\n",
       "      <th>PS4</th>\n",
       "      <td>15.02</td>\n",
       "    </tr>\n",
       "    <tr>\n",
       "      <th>PSV</th>\n",
       "      <td>14.54</td>\n",
       "    </tr>\n",
       "    <tr>\n",
       "      <th>PS3</th>\n",
       "      <td>11.22</td>\n",
       "    </tr>\n",
       "    <tr>\n",
       "      <th>WiiU</th>\n",
       "      <td>7.31</td>\n",
       "    </tr>\n",
       "  </tbody>\n",
       "</table>\n",
       "</div>"
      ],
      "text/plain": [
       "          jp_sales\n",
       "platform          \n",
       "3DS          44.24\n",
       "PS4          15.02\n",
       "PSV          14.54\n",
       "PS3          11.22\n",
       "WiiU          7.31"
      ]
     },
     "execution_count": 45,
     "metadata": {},
     "output_type": "execute_result"
    }
   ],
   "source": [
    "data_actual.pivot_table(index = 'platform', values = 'jp_sales', aggfunc = 'sum').sort_values(by = 'jp_sales', ascending = False).head()"
   ]
  },
  {
   "cell_type": "markdown",
   "metadata": {},
   "source": [
    "Вы видим, что в японии в основном преобладают японские консоли и по сравнению с другими регионами, в Японии продажи ниже"
   ]
  },
  {
   "cell_type": "markdown",
   "metadata": {},
   "source": [
    "Вывод: больше всего приносит прибыль американское комьюнити, с консолью X360 в топе, а меньше всего играют в игры в Японии, но это скорее всего связано с ее населением"
   ]
  },
  {
   "cell_type": "markdown",
   "metadata": {},
   "source": [
    "Теперь рассмотрим жанры в различных регионах по тому же принципу:"
   ]
  },
  {
   "cell_type": "markdown",
   "metadata": {},
   "source": [
    "*Северная Америка:*"
   ]
  },
  {
   "cell_type": "code",
   "execution_count": 46,
   "metadata": {
    "scrolled": true
   },
   "outputs": [
    {
     "data": {
      "text/html": [
       "<div>\n",
       "<style scoped>\n",
       "    .dataframe tbody tr th:only-of-type {\n",
       "        vertical-align: middle;\n",
       "    }\n",
       "\n",
       "    .dataframe tbody tr th {\n",
       "        vertical-align: top;\n",
       "    }\n",
       "\n",
       "    .dataframe thead th {\n",
       "        text-align: right;\n",
       "    }\n",
       "</style>\n",
       "<table border=\"1\" class=\"dataframe\">\n",
       "  <thead>\n",
       "    <tr style=\"text-align: right;\">\n",
       "      <th></th>\n",
       "      <th>na_sales</th>\n",
       "    </tr>\n",
       "    <tr>\n",
       "      <th>genre</th>\n",
       "      <th></th>\n",
       "    </tr>\n",
       "  </thead>\n",
       "  <tbody>\n",
       "    <tr>\n",
       "      <th>Shooter</th>\n",
       "      <td>79.02</td>\n",
       "    </tr>\n",
       "    <tr>\n",
       "      <th>Action</th>\n",
       "      <td>72.53</td>\n",
       "    </tr>\n",
       "    <tr>\n",
       "      <th>Sports</th>\n",
       "      <td>46.13</td>\n",
       "    </tr>\n",
       "    <tr>\n",
       "      <th>Role-Playing</th>\n",
       "      <td>33.47</td>\n",
       "    </tr>\n",
       "    <tr>\n",
       "      <th>Misc</th>\n",
       "      <td>15.05</td>\n",
       "    </tr>\n",
       "  </tbody>\n",
       "</table>\n",
       "</div>"
      ],
      "text/plain": [
       "              na_sales\n",
       "genre                 \n",
       "Shooter          79.02\n",
       "Action           72.53\n",
       "Sports           46.13\n",
       "Role-Playing     33.47\n",
       "Misc             15.05"
      ]
     },
     "execution_count": 46,
     "metadata": {},
     "output_type": "execute_result"
    }
   ],
   "source": [
    "data_actual.pivot_table(index = 'genre', values = 'na_sales', aggfunc = 'sum').sort_values(by = 'na_sales', ascending = False).head()"
   ]
  },
  {
   "cell_type": "markdown",
   "metadata": {},
   "source": [
    "*Европа:*"
   ]
  },
  {
   "cell_type": "code",
   "execution_count": 47,
   "metadata": {},
   "outputs": [
    {
     "data": {
      "text/html": [
       "<div>\n",
       "<style scoped>\n",
       "    .dataframe tbody tr th:only-of-type {\n",
       "        vertical-align: middle;\n",
       "    }\n",
       "\n",
       "    .dataframe tbody tr th {\n",
       "        vertical-align: top;\n",
       "    }\n",
       "\n",
       "    .dataframe thead th {\n",
       "        text-align: right;\n",
       "    }\n",
       "</style>\n",
       "<table border=\"1\" class=\"dataframe\">\n",
       "  <thead>\n",
       "    <tr style=\"text-align: right;\">\n",
       "      <th></th>\n",
       "      <th>eu_sales</th>\n",
       "    </tr>\n",
       "    <tr>\n",
       "      <th>genre</th>\n",
       "      <th></th>\n",
       "    </tr>\n",
       "  </thead>\n",
       "  <tbody>\n",
       "    <tr>\n",
       "      <th>Action</th>\n",
       "      <td>74.68</td>\n",
       "    </tr>\n",
       "    <tr>\n",
       "      <th>Shooter</th>\n",
       "      <td>65.52</td>\n",
       "    </tr>\n",
       "    <tr>\n",
       "      <th>Sports</th>\n",
       "      <td>45.73</td>\n",
       "    </tr>\n",
       "    <tr>\n",
       "      <th>Role-Playing</th>\n",
       "      <td>28.17</td>\n",
       "    </tr>\n",
       "    <tr>\n",
       "      <th>Racing</th>\n",
       "      <td>14.13</td>\n",
       "    </tr>\n",
       "  </tbody>\n",
       "</table>\n",
       "</div>"
      ],
      "text/plain": [
       "              eu_sales\n",
       "genre                 \n",
       "Action           74.68\n",
       "Shooter          65.52\n",
       "Sports           45.73\n",
       "Role-Playing     28.17\n",
       "Racing           14.13"
      ]
     },
     "execution_count": 47,
     "metadata": {},
     "output_type": "execute_result"
    }
   ],
   "source": [
    "data_actual.pivot_table(index = 'genre', values = 'eu_sales', aggfunc = 'sum').sort_values(by = 'eu_sales', ascending = False).head()"
   ]
  },
  {
   "cell_type": "markdown",
   "metadata": {},
   "source": [
    "*Япония:*"
   ]
  },
  {
   "cell_type": "code",
   "execution_count": 48,
   "metadata": {},
   "outputs": [
    {
     "data": {
      "text/html": [
       "<div>\n",
       "<style scoped>\n",
       "    .dataframe tbody tr th:only-of-type {\n",
       "        vertical-align: middle;\n",
       "    }\n",
       "\n",
       "    .dataframe tbody tr th {\n",
       "        vertical-align: top;\n",
       "    }\n",
       "\n",
       "    .dataframe thead th {\n",
       "        text-align: right;\n",
       "    }\n",
       "</style>\n",
       "<table border=\"1\" class=\"dataframe\">\n",
       "  <thead>\n",
       "    <tr style=\"text-align: right;\">\n",
       "      <th></th>\n",
       "      <th>jp_sales</th>\n",
       "    </tr>\n",
       "    <tr>\n",
       "      <th>genre</th>\n",
       "      <th></th>\n",
       "    </tr>\n",
       "  </thead>\n",
       "  <tbody>\n",
       "    <tr>\n",
       "      <th>Role-Playing</th>\n",
       "      <td>31.16</td>\n",
       "    </tr>\n",
       "    <tr>\n",
       "      <th>Action</th>\n",
       "      <td>29.58</td>\n",
       "    </tr>\n",
       "    <tr>\n",
       "      <th>Fighting</th>\n",
       "      <td>6.37</td>\n",
       "    </tr>\n",
       "    <tr>\n",
       "      <th>Misc</th>\n",
       "      <td>5.61</td>\n",
       "    </tr>\n",
       "    <tr>\n",
       "      <th>Shooter</th>\n",
       "      <td>4.87</td>\n",
       "    </tr>\n",
       "  </tbody>\n",
       "</table>\n",
       "</div>"
      ],
      "text/plain": [
       "              jp_sales\n",
       "genre                 \n",
       "Role-Playing     31.16\n",
       "Action           29.58\n",
       "Fighting          6.37\n",
       "Misc              5.61\n",
       "Shooter           4.87"
      ]
     },
     "execution_count": 48,
     "metadata": {},
     "output_type": "execute_result"
    }
   ],
   "source": [
    "data_actual.pivot_table(index = 'genre', values = 'jp_sales', aggfunc = 'sum').sort_values(by = 'jp_sales', ascending = False).head()"
   ]
  },
  {
   "cell_type": "markdown",
   "metadata": {},
   "source": [
    "*Вывод:* можно заметить, что топ жанров в Америке и в Европе очень похож, самым прибыльным жанром оказался Action, кстати в Японии он также занимает второе место, поэтому стоит обратить на это внимание и можно предположить, что качественный Action в 2017 принесет хорошую прибыль, вне зависимости от региона."
   ]
  },
  {
   "cell_type": "markdown",
   "metadata": {},
   "source": [
    "*Влияет ли рейтинг ESRB на продажи в отдельном регионе?* - Давайте точно так же составим таблицу для каждого региона, на которой сразу станет ясно, влияет ли этот рейтинг на продажи игр.\n"
   ]
  },
  {
   "cell_type": "markdown",
   "metadata": {},
   "source": [
    "*Северная Америка:*"
   ]
  },
  {
   "cell_type": "code",
   "execution_count": 49,
   "metadata": {},
   "outputs": [
    {
     "data": {
      "text/html": [
       "<div>\n",
       "<style scoped>\n",
       "    .dataframe tbody tr th:only-of-type {\n",
       "        vertical-align: middle;\n",
       "    }\n",
       "\n",
       "    .dataframe tbody tr th {\n",
       "        vertical-align: top;\n",
       "    }\n",
       "\n",
       "    .dataframe thead th {\n",
       "        text-align: right;\n",
       "    }\n",
       "</style>\n",
       "<table border=\"1\" class=\"dataframe\">\n",
       "  <thead>\n",
       "    <tr style=\"text-align: right;\">\n",
       "      <th></th>\n",
       "      <th>na_sales</th>\n",
       "    </tr>\n",
       "    <tr>\n",
       "      <th>rating</th>\n",
       "      <th></th>\n",
       "    </tr>\n",
       "  </thead>\n",
       "  <tbody>\n",
       "    <tr>\n",
       "      <th>M</th>\n",
       "      <td>96.42</td>\n",
       "    </tr>\n",
       "    <tr>\n",
       "      <th>E</th>\n",
       "      <td>50.74</td>\n",
       "    </tr>\n",
       "    <tr>\n",
       "      <th>T</th>\n",
       "      <td>38.95</td>\n",
       "    </tr>\n",
       "    <tr>\n",
       "      <th>E10+</th>\n",
       "      <td>33.23</td>\n",
       "    </tr>\n",
       "  </tbody>\n",
       "</table>\n",
       "</div>"
      ],
      "text/plain": [
       "        na_sales\n",
       "rating          \n",
       "M          96.42\n",
       "E          50.74\n",
       "T          38.95\n",
       "E10+       33.23"
      ]
     },
     "execution_count": 49,
     "metadata": {},
     "output_type": "execute_result"
    }
   ],
   "source": [
    "data_actual.pivot_table(index = 'rating', values = 'na_sales', aggfunc = 'sum').sort_values(by = 'na_sales', ascending = False).head(10)"
   ]
  },
  {
   "cell_type": "markdown",
   "metadata": {},
   "source": [
    "*Европа:*"
   ]
  },
  {
   "cell_type": "code",
   "execution_count": 50,
   "metadata": {},
   "outputs": [
    {
     "data": {
      "text/html": [
       "<div>\n",
       "<style scoped>\n",
       "    .dataframe tbody tr th:only-of-type {\n",
       "        vertical-align: middle;\n",
       "    }\n",
       "\n",
       "    .dataframe tbody tr th {\n",
       "        vertical-align: top;\n",
       "    }\n",
       "\n",
       "    .dataframe thead th {\n",
       "        text-align: right;\n",
       "    }\n",
       "</style>\n",
       "<table border=\"1\" class=\"dataframe\">\n",
       "  <thead>\n",
       "    <tr style=\"text-align: right;\">\n",
       "      <th></th>\n",
       "      <th>eu_sales</th>\n",
       "    </tr>\n",
       "    <tr>\n",
       "      <th>rating</th>\n",
       "      <th></th>\n",
       "    </tr>\n",
       "  </thead>\n",
       "  <tbody>\n",
       "    <tr>\n",
       "      <th>M</th>\n",
       "      <td>93.44</td>\n",
       "    </tr>\n",
       "    <tr>\n",
       "      <th>E</th>\n",
       "      <td>58.06</td>\n",
       "    </tr>\n",
       "    <tr>\n",
       "      <th>T</th>\n",
       "      <td>34.07</td>\n",
       "    </tr>\n",
       "    <tr>\n",
       "      <th>E10+</th>\n",
       "      <td>26.16</td>\n",
       "    </tr>\n",
       "  </tbody>\n",
       "</table>\n",
       "</div>"
      ],
      "text/plain": [
       "        eu_sales\n",
       "rating          \n",
       "M          93.44\n",
       "E          58.06\n",
       "T          34.07\n",
       "E10+       26.16"
      ]
     },
     "execution_count": 50,
     "metadata": {},
     "output_type": "execute_result"
    }
   ],
   "source": [
    "data_actual.pivot_table(index = 'rating', values = 'eu_sales', aggfunc = 'sum').sort_values(by = 'eu_sales', ascending = False).head(10)"
   ]
  },
  {
   "cell_type": "markdown",
   "metadata": {},
   "source": [
    "*Япония:*"
   ]
  },
  {
   "cell_type": "code",
   "execution_count": 51,
   "metadata": {},
   "outputs": [
    {
     "data": {
      "text/html": [
       "<div>\n",
       "<style scoped>\n",
       "    .dataframe tbody tr th:only-of-type {\n",
       "        vertical-align: middle;\n",
       "    }\n",
       "\n",
       "    .dataframe tbody tr th {\n",
       "        vertical-align: top;\n",
       "    }\n",
       "\n",
       "    .dataframe thead th {\n",
       "        text-align: right;\n",
       "    }\n",
       "</style>\n",
       "<table border=\"1\" class=\"dataframe\">\n",
       "  <thead>\n",
       "    <tr style=\"text-align: right;\">\n",
       "      <th></th>\n",
       "      <th>jp_sales</th>\n",
       "    </tr>\n",
       "    <tr>\n",
       "      <th>rating</th>\n",
       "      <th></th>\n",
       "    </tr>\n",
       "  </thead>\n",
       "  <tbody>\n",
       "    <tr>\n",
       "      <th>T</th>\n",
       "      <td>14.78</td>\n",
       "    </tr>\n",
       "    <tr>\n",
       "      <th>E</th>\n",
       "      <td>8.94</td>\n",
       "    </tr>\n",
       "    <tr>\n",
       "      <th>M</th>\n",
       "      <td>8.01</td>\n",
       "    </tr>\n",
       "    <tr>\n",
       "      <th>E10+</th>\n",
       "      <td>4.46</td>\n",
       "    </tr>\n",
       "  </tbody>\n",
       "</table>\n",
       "</div>"
      ],
      "text/plain": [
       "        jp_sales\n",
       "rating          \n",
       "T          14.78\n",
       "E           8.94\n",
       "M           8.01\n",
       "E10+        4.46"
      ]
     },
     "execution_count": 51,
     "metadata": {},
     "output_type": "execute_result"
    }
   ],
   "source": [
    "data_actual.pivot_table(index = 'rating', values = 'jp_sales', aggfunc = 'sum').sort_values(by = 'jp_sales', ascending = False).head(10)"
   ]
  },
  {
   "cell_type": "markdown",
   "metadata": {},
   "source": [
    "Да, рейтинг влияет на продажи в отдельных регионах. рейтинг EC продавался только в Америке, а рейтинг RP только в европе."
   ]
  },
  {
   "cell_type": "code",
   "execution_count": 52,
   "metadata": {},
   "outputs": [
    {
     "name": "stdout",
     "output_type": "stream",
     "text": [
      "749 0.443457667258733\n"
     ]
    },
    {
     "data": {
      "text/plain": [
       "T       271\n",
       "M       265\n",
       "E       219\n",
       "E10+    185\n",
       "Name: rating, dtype: int64"
      ]
     },
     "execution_count": 52,
     "metadata": {},
     "output_type": "execute_result"
    }
   ],
   "source": [
    "# Комментарий ревьюера\n",
    "temp = data_actual.copy()\n",
    "print(temp.rating.isna().sum(), temp.rating.isna().sum()/len(temp))\n",
    "temp.rating.value_counts()"
   ]
  },
  {
   "cell_type": "markdown",
   "metadata": {},
   "source": [
    "#### Гипотезы"
   ]
  },
  {
   "cell_type": "code",
   "execution_count": 53,
   "metadata": {},
   "outputs": [
    {
     "name": "stdout",
     "output_type": "stream",
     "text": [
      "Средний пользовательский рейтинг жанра Action: 6.760606060606061\n",
      "Средний пользовательский рейтинг жанра Sports 5.2251968503937\n"
     ]
    }
   ],
   "source": [
    "Action = data_actual[(data_actual['genre'] == 'Action') &  (data_actual['user_score'] > 0)]['user_score']\n",
    "Sports = data_actual[(data_actual['genre'] == 'Sports') &  (data_actual['user_score'] > 0)]['user_score']\n",
    "print('Средний пользовательский рейтинг жанра Action:', Action.mean())\n",
    "print('Средний пользовательский рейтинг жанра Sports', Sports.mean())"
   ]
  },
  {
   "cell_type": "markdown",
   "metadata": {},
   "source": [
    "Нулевая гипотеза Средние пользовательские рейтинги платформ Xbox One и PC одинаковые\n",
    "\n",
    "Альтернативная: Средние пользовательские рейтинги платформ Xbox One и PC не одинаковые."
   ]
  },
  {
   "cell_type": "code",
   "execution_count": 54,
   "metadata": {},
   "outputs": [
    {
     "name": "stdout",
     "output_type": "stream",
     "text": [
      "0.10450507919348415\n",
      "Не удалось отвергнуть нулевую гипотезу\n"
     ]
    }
   ],
   "source": [
    "results = (st.ttest_ind(data_actual.loc[(data_actual['platform'] == 'XOne') & (data_actual['user_score'] > 0 )]['user_score'],\n",
    "                        data_actual.loc[(data_actual['platform'] == 'PC') & (data_actual['user_score'] > 0)]['user_score']))\n",
    "alpha = 0.01\n",
    "print(results.pvalue)\n",
    "if results.pvalue < alpha:\n",
    "    print('Отвергаем нулевую гипотезу')\n",
    "else:\n",
    "    print('Не удалось отвергнуть нулевую гипотезу')"
   ]
  },
  {
   "cell_type": "markdown",
   "metadata": {},
   "source": [
    "Вывод: Средние пользовательские рейтинги платформ Xbox One и PC действительно близки по значениям."
   ]
  },
  {
   "cell_type": "markdown",
   "metadata": {},
   "source": [
    "Гипотеза 2:\n",
    "\n",
    "Нулевая: Средние пользовательские рейтинги жанров Action (англ. «действие», экшен-игры) и Sports (англ. «спортивные соревнования») одинаковы.\n",
    "\n",
    "Альтернативная: Средние пользовательские рейтинги жанров Action (англ. «действие», экшен-игры) и Sports (англ. «спортивные соревнования») различны."
   ]
  },
  {
   "cell_type": "code",
   "execution_count": 55,
   "metadata": {},
   "outputs": [
    {
     "name": "stdout",
     "output_type": "stream",
     "text": [
      "1.1825550382644557e-14\n",
      "Отвергаем нулевую гипотезу\n"
     ]
    }
   ],
   "source": [
    "results = (st.ttest_ind(data_actual.loc[(data_actual['genre'] == 'Action') & (data_actual['user_score'] > 0 )]['user_score'],\n",
    "                        data_actual.loc[(data_actual['genre'] == 'Sports') & (data_actual['user_score'] > 0)]['user_score'], equal_var = False))\n",
    "alpha = 0.01\n",
    "print(results.pvalue)\n",
    "if results.pvalue < alpha:\n",
    "    print('Отвергаем нулевую гипотезу')\n",
    "else:\n",
    "    print('Не удалось отвергнуть нулевую гипотезу')"
   ]
  },
  {
   "cell_type": "markdown",
   "metadata": {},
   "source": [
    "Вывод: Средние пользовательские рейтинги жанров Action (англ. «действие», экшен-игры) и Sports (англ. «спортивные соревнования») различны."
   ]
  },
  {
   "cell_type": "markdown",
   "metadata": {},
   "source": [
    "#### Вывод:"
   ]
  },
  {
   "cell_type": "markdown",
   "metadata": {},
   "source": [
    "    Итак, была проделана большая работа по анализу данных для выявления закономерностей определяющих успешность игры. Для начала мы ознакомились с датасетом, поменяли типы данных, избавились от дубликатов и пропусков, добавили новый столбец с суммой продаж со всех регионов, заменили названия на нижний регистр. Затем мы начали наш исследовательский анализ данных, мы выяснили что за период с 2008-2010 год выпустилось наибольшее кольчество игр, нашли две платформы, с наибольшим кол-вом продаж к ним относятся PS2 и X360, затем избавились от неактуальных данных и оставили данные за 2015-2016 год, когда начали выпускать большое колличество различных игр. Нашли три платформы, которые потенциально могут принести прибыль в 2017 году, этими платформами являются: PS4, PC, XOne, 3DS. А среди самых прибыльных жанров можно выделить следующие: Sports, Shooter, Platform, а меньше всего прибыль приносят Adventure и Puzzle. Затем, используя сводные таблицы, мы составили портер каждого региона и нашли популярные платформы и жанры в этих регионах. И наконец, пятым шагом, мы опровергли две гипотезы, а именно: \n",
    "    1. Средние пользовательские рейтинги платформ Xbox One и PC одинаковые\n",
    "    2. Средние пользовательские рейтинги жанров Action (англ. «действие», экшен-игры) и Sports (англ. «спортивные соревнования») разные.\n",
    "    Были отвергнуты.\n",
    "    Таким образом, мы нашли потенциально прибыльные жанры и платформы в различных регионах, которые могут выстрельнуть в 2017 году, стоит обратить внимание на платформы PS4 и PC, а жанр Sports, Shooter, Platform!"
   ]
  }
 ],
 "metadata": {
  "ExecuteTimeLog": [
   {
    "duration": 80,
    "start_time": "2023-12-20T14:18:57.241Z"
   },
   {
    "duration": 370,
    "start_time": "2023-12-20T14:21:01.741Z"
   },
   {
    "duration": 59,
    "start_time": "2023-12-20T14:21:11.176Z"
   },
   {
    "duration": 44,
    "start_time": "2023-12-20T14:21:25.521Z"
   },
   {
    "duration": 42,
    "start_time": "2023-12-20T14:22:05.055Z"
   },
   {
    "duration": 11,
    "start_time": "2023-12-20T14:29:59.829Z"
   },
   {
    "duration": 12,
    "start_time": "2023-12-20T14:30:16.617Z"
   },
   {
    "duration": 47,
    "start_time": "2023-12-20T14:34:57.557Z"
   },
   {
    "duration": 88,
    "start_time": "2023-12-20T14:36:16.053Z"
   },
   {
    "duration": 51,
    "start_time": "2023-12-20T14:36:32.595Z"
   },
   {
    "duration": 52,
    "start_time": "2023-12-20T14:41:58.314Z"
   },
   {
    "duration": 49,
    "start_time": "2023-12-20T14:43:32.722Z"
   },
   {
    "duration": 44,
    "start_time": "2023-12-20T14:43:50.914Z"
   },
   {
    "duration": 13,
    "start_time": "2023-12-20T14:44:37.864Z"
   },
   {
    "duration": 13,
    "start_time": "2023-12-20T14:46:33.205Z"
   },
   {
    "duration": 14,
    "start_time": "2023-12-20T14:49:19.327Z"
   },
   {
    "duration": 48,
    "start_time": "2023-12-20T14:52:10.795Z"
   },
   {
    "duration": 54,
    "start_time": "2023-12-20T14:53:49.726Z"
   },
   {
    "duration": 46,
    "start_time": "2023-12-20T14:54:40.233Z"
   },
   {
    "duration": 48,
    "start_time": "2023-12-20T14:55:34.683Z"
   },
   {
    "duration": 2,
    "start_time": "2023-12-20T15:00:11.664Z"
   },
   {
    "duration": 2,
    "start_time": "2023-12-20T15:00:12.546Z"
   },
   {
    "duration": 49,
    "start_time": "2023-12-20T15:00:13.192Z"
   },
   {
    "duration": 49,
    "start_time": "2023-12-20T15:00:42.615Z"
   },
   {
    "duration": 40,
    "start_time": "2023-12-20T15:00:52.059Z"
   },
   {
    "duration": 54,
    "start_time": "2023-12-20T15:02:46.897Z"
   },
   {
    "duration": 49,
    "start_time": "2023-12-20T15:02:55.539Z"
   },
   {
    "duration": 43,
    "start_time": "2023-12-20T15:03:52.658Z"
   },
   {
    "duration": 141,
    "start_time": "2023-12-20T15:07:43.080Z"
   },
   {
    "duration": 974,
    "start_time": "2023-12-20T15:07:47.745Z"
   },
   {
    "duration": 95,
    "start_time": "2023-12-20T15:07:48.721Z"
   },
   {
    "duration": 3,
    "start_time": "2023-12-20T15:07:59.227Z"
   },
   {
    "duration": 108,
    "start_time": "2023-12-20T15:07:59.486Z"
   },
   {
    "duration": 3,
    "start_time": "2023-12-20T15:08:05.977Z"
   },
   {
    "duration": 112,
    "start_time": "2023-12-20T15:08:06.251Z"
   },
   {
    "duration": 85,
    "start_time": "2023-12-20T15:08:44.531Z"
   },
   {
    "duration": 55,
    "start_time": "2023-12-20T15:08:56.553Z"
   },
   {
    "duration": 53,
    "start_time": "2023-12-20T15:09:06.612Z"
   },
   {
    "duration": 45,
    "start_time": "2023-12-20T15:09:32.582Z"
   },
   {
    "duration": 54,
    "start_time": "2023-12-20T15:09:36.258Z"
   },
   {
    "duration": 18,
    "start_time": "2023-12-20T15:09:52.385Z"
   },
   {
    "duration": 15,
    "start_time": "2023-12-20T15:09:59.554Z"
   },
   {
    "duration": 4,
    "start_time": "2023-12-20T15:20:22.408Z"
   },
   {
    "duration": 14,
    "start_time": "2023-12-20T15:20:33.884Z"
   },
   {
    "duration": 5,
    "start_time": "2023-12-20T15:20:45.245Z"
   },
   {
    "duration": 14,
    "start_time": "2023-12-20T15:20:46.218Z"
   },
   {
    "duration": 14,
    "start_time": "2023-12-20T15:21:26.449Z"
   },
   {
    "duration": 9,
    "start_time": "2023-12-20T15:21:34.198Z"
   },
   {
    "duration": 12,
    "start_time": "2023-12-20T15:21:38.059Z"
   },
   {
    "duration": 13,
    "start_time": "2023-12-20T15:21:42.963Z"
   },
   {
    "duration": 1140,
    "start_time": "2023-12-20T15:24:40.959Z"
   },
   {
    "duration": 1112,
    "start_time": "2023-12-20T15:25:21.880Z"
   },
   {
    "duration": 1434,
    "start_time": "2023-12-20T15:25:29.995Z"
   },
   {
    "duration": 1145,
    "start_time": "2023-12-20T15:25:54.981Z"
   },
   {
    "duration": 1209,
    "start_time": "2023-12-20T15:26:36.078Z"
   },
   {
    "duration": 5,
    "start_time": "2023-12-20T15:26:42.260Z"
   },
   {
    "duration": 14,
    "start_time": "2023-12-20T15:26:42.766Z"
   },
   {
    "duration": 1110,
    "start_time": "2023-12-20T15:26:43.964Z"
   },
   {
    "duration": 4,
    "start_time": "2023-12-20T15:27:07.566Z"
   },
   {
    "duration": 13,
    "start_time": "2023-12-20T15:27:08.809Z"
   },
   {
    "duration": 2,
    "start_time": "2023-12-20T15:27:20.462Z"
   },
   {
    "duration": 56,
    "start_time": "2023-12-20T15:27:20.717Z"
   },
   {
    "duration": 14,
    "start_time": "2023-12-20T15:27:20.976Z"
   },
   {
    "duration": 15,
    "start_time": "2023-12-20T15:27:21.541Z"
   },
   {
    "duration": 5,
    "start_time": "2023-12-20T15:27:24.605Z"
   },
   {
    "duration": 14,
    "start_time": "2023-12-20T15:27:25.129Z"
   },
   {
    "duration": 4,
    "start_time": "2023-12-20T15:27:26.864Z"
   },
   {
    "duration": 4,
    "start_time": "2023-12-20T15:28:31.615Z"
   },
   {
    "duration": 14,
    "start_time": "2023-12-20T15:31:22.709Z"
   },
   {
    "duration": 5,
    "start_time": "2023-12-20T15:32:49.203Z"
   },
   {
    "duration": 6,
    "start_time": "2023-12-20T15:37:56.345Z"
   },
   {
    "duration": 11,
    "start_time": "2023-12-20T15:38:07.758Z"
   },
   {
    "duration": 5,
    "start_time": "2023-12-20T15:38:08.379Z"
   },
   {
    "duration": 10,
    "start_time": "2023-12-20T15:38:20.278Z"
   },
   {
    "duration": 9,
    "start_time": "2023-12-20T15:38:24.445Z"
   },
   {
    "duration": 6,
    "start_time": "2023-12-20T15:38:24.914Z"
   },
   {
    "duration": 2,
    "start_time": "2023-12-20T15:39:11.450Z"
   },
   {
    "duration": 54,
    "start_time": "2023-12-20T15:39:11.631Z"
   },
   {
    "duration": 14,
    "start_time": "2023-12-20T15:39:11.783Z"
   },
   {
    "duration": 14,
    "start_time": "2023-12-20T15:39:11.949Z"
   },
   {
    "duration": 5,
    "start_time": "2023-12-20T15:39:12.534Z"
   },
   {
    "duration": 16,
    "start_time": "2023-12-20T15:39:12.734Z"
   },
   {
    "duration": 5,
    "start_time": "2023-12-20T15:39:13.112Z"
   },
   {
    "duration": 17,
    "start_time": "2023-12-20T15:39:13.504Z"
   },
   {
    "duration": 5,
    "start_time": "2023-12-20T15:39:14.104Z"
   },
   {
    "duration": 9,
    "start_time": "2023-12-20T15:39:14.678Z"
   },
   {
    "duration": 6,
    "start_time": "2023-12-20T15:39:15.444Z"
   },
   {
    "duration": 4,
    "start_time": "2023-12-20T15:39:39.296Z"
   },
   {
    "duration": 4,
    "start_time": "2023-12-20T15:40:00.054Z"
   },
   {
    "duration": 14,
    "start_time": "2023-12-20T15:40:10.088Z"
   },
   {
    "duration": 10,
    "start_time": "2023-12-20T15:42:43.561Z"
   },
   {
    "duration": 4,
    "start_time": "2023-12-20T15:44:12.848Z"
   },
   {
    "duration": 7,
    "start_time": "2023-12-20T15:44:37.992Z"
   },
   {
    "duration": 5,
    "start_time": "2023-12-20T15:48:08.588Z"
   },
   {
    "duration": 19,
    "start_time": "2023-12-20T15:49:49.604Z"
   },
   {
    "duration": 4,
    "start_time": "2023-12-20T16:00:23.676Z"
   },
   {
    "duration": 5,
    "start_time": "2023-12-20T16:00:26.022Z"
   },
   {
    "duration": 5,
    "start_time": "2023-12-20T16:01:04.479Z"
   },
   {
    "duration": 5,
    "start_time": "2023-12-20T16:01:05.132Z"
   },
   {
    "duration": 8,
    "start_time": "2023-12-20T16:01:05.636Z"
   },
   {
    "duration": 7,
    "start_time": "2023-12-20T16:01:07.792Z"
   },
   {
    "duration": 3,
    "start_time": "2023-12-20T16:01:08.245Z"
   },
   {
    "duration": 14,
    "start_time": "2023-12-20T16:01:09.819Z"
   },
   {
    "duration": 5,
    "start_time": "2023-12-20T16:03:05.840Z"
   },
   {
    "duration": 6,
    "start_time": "2023-12-20T16:03:06.317Z"
   },
   {
    "duration": 5,
    "start_time": "2023-12-20T16:03:06.752Z"
   },
   {
    "duration": 3,
    "start_time": "2023-12-20T16:03:07.363Z"
   },
   {
    "duration": 14,
    "start_time": "2023-12-20T16:03:12.146Z"
   },
   {
    "duration": 9,
    "start_time": "2023-12-20T16:03:15.834Z"
   },
   {
    "duration": 6,
    "start_time": "2023-12-20T16:03:21.974Z"
   },
   {
    "duration": 8,
    "start_time": "2023-12-20T16:03:25.956Z"
   },
   {
    "duration": 413,
    "start_time": "2023-12-20T16:03:35.683Z"
   },
   {
    "duration": 54,
    "start_time": "2023-12-20T16:03:36.098Z"
   },
   {
    "duration": 21,
    "start_time": "2023-12-20T16:03:36.154Z"
   },
   {
    "duration": 125,
    "start_time": "2023-12-20T16:03:36.177Z"
   },
   {
    "duration": 20,
    "start_time": "2023-12-20T16:03:36.305Z"
   },
   {
    "duration": 42,
    "start_time": "2023-12-20T16:03:36.326Z"
   },
   {
    "duration": 60,
    "start_time": "2023-12-20T16:03:36.370Z"
   },
   {
    "duration": 98,
    "start_time": "2023-12-20T16:03:36.431Z"
   },
   {
    "duration": 66,
    "start_time": "2023-12-20T16:03:36.531Z"
   },
   {
    "duration": 188,
    "start_time": "2023-12-20T16:03:36.599Z"
   },
   {
    "duration": 30,
    "start_time": "2023-12-20T16:03:36.789Z"
   },
   {
    "duration": 30,
    "start_time": "2023-12-20T16:03:36.821Z"
   },
   {
    "duration": 29,
    "start_time": "2023-12-20T16:03:36.853Z"
   },
   {
    "duration": 34,
    "start_time": "2023-12-20T16:03:36.886Z"
   },
   {
    "duration": 49,
    "start_time": "2023-12-20T16:03:36.922Z"
   },
   {
    "duration": 5,
    "start_time": "2023-12-20T16:04:49.797Z"
   },
   {
    "duration": 21,
    "start_time": "2023-12-20T16:07:45.735Z"
   },
   {
    "duration": 4,
    "start_time": "2023-12-20T16:09:29.024Z"
   },
   {
    "duration": 6,
    "start_time": "2023-12-20T16:09:29.850Z"
   },
   {
    "duration": 3,
    "start_time": "2023-12-20T16:09:30.161Z"
   },
   {
    "duration": 15,
    "start_time": "2023-12-20T16:09:31.766Z"
   },
   {
    "duration": 11,
    "start_time": "2023-12-20T16:09:32.664Z"
   },
   {
    "duration": 7,
    "start_time": "2023-12-20T16:09:33.213Z"
   },
   {
    "duration": 8,
    "start_time": "2023-12-20T16:09:33.564Z"
   },
   {
    "duration": 5,
    "start_time": "2023-12-20T16:09:33.906Z"
   },
   {
    "duration": 19,
    "start_time": "2023-12-20T16:09:35.082Z"
   },
   {
    "duration": 374,
    "start_time": "2023-12-20T16:09:42.931Z"
   },
   {
    "duration": 56,
    "start_time": "2023-12-20T16:09:43.307Z"
   },
   {
    "duration": 19,
    "start_time": "2023-12-20T16:09:43.365Z"
   },
   {
    "duration": 16,
    "start_time": "2023-12-20T16:09:43.386Z"
   },
   {
    "duration": 4,
    "start_time": "2023-12-20T16:09:43.404Z"
   },
   {
    "duration": 28,
    "start_time": "2023-12-20T16:09:43.409Z"
   },
   {
    "duration": 6,
    "start_time": "2023-12-20T16:09:43.438Z"
   },
   {
    "duration": 25,
    "start_time": "2023-12-20T16:09:43.446Z"
   },
   {
    "duration": 25,
    "start_time": "2023-12-20T16:09:43.473Z"
   },
   {
    "duration": 9,
    "start_time": "2023-12-20T16:09:43.500Z"
   },
   {
    "duration": 13,
    "start_time": "2023-12-20T16:09:43.510Z"
   },
   {
    "duration": 19,
    "start_time": "2023-12-20T16:09:43.525Z"
   },
   {
    "duration": 11,
    "start_time": "2023-12-20T16:09:43.547Z"
   },
   {
    "duration": 13,
    "start_time": "2023-12-20T16:09:43.561Z"
   },
   {
    "duration": 14,
    "start_time": "2023-12-20T16:09:43.576Z"
   },
   {
    "duration": 10,
    "start_time": "2023-12-20T16:09:43.592Z"
   },
   {
    "duration": 45,
    "start_time": "2023-12-20T16:09:43.603Z"
   },
   {
    "duration": 23,
    "start_time": "2023-12-20T16:09:58.750Z"
   },
   {
    "duration": 14,
    "start_time": "2023-12-20T16:10:09.896Z"
   },
   {
    "duration": 7,
    "start_time": "2023-12-20T16:10:54.501Z"
   },
   {
    "duration": 403,
    "start_time": "2023-12-20T16:10:59.846Z"
   },
   {
    "duration": 56,
    "start_time": "2023-12-20T16:11:00.251Z"
   },
   {
    "duration": 21,
    "start_time": "2023-12-20T16:11:00.309Z"
   },
   {
    "duration": 62,
    "start_time": "2023-12-20T16:11:00.331Z"
   },
   {
    "duration": 44,
    "start_time": "2023-12-20T16:11:00.396Z"
   },
   {
    "duration": 75,
    "start_time": "2023-12-20T16:11:00.442Z"
   },
   {
    "duration": 96,
    "start_time": "2023-12-20T16:11:00.519Z"
   },
   {
    "duration": 178,
    "start_time": "2023-12-20T16:11:00.616Z"
   },
   {
    "duration": 180,
    "start_time": "2023-12-20T16:11:00.795Z"
   },
   {
    "duration": 296,
    "start_time": "2023-12-20T16:11:00.976Z"
   },
   {
    "duration": 477,
    "start_time": "2023-12-20T16:11:01.273Z"
   },
   {
    "duration": 284,
    "start_time": "2023-12-20T16:11:01.751Z"
   },
   {
    "duration": 73,
    "start_time": "2023-12-20T16:11:02.036Z"
   },
   {
    "duration": 29,
    "start_time": "2023-12-20T16:11:02.112Z"
   },
   {
    "duration": 34,
    "start_time": "2023-12-20T16:11:02.142Z"
   },
   {
    "duration": 78,
    "start_time": "2023-12-20T16:11:02.178Z"
   },
   {
    "duration": 50,
    "start_time": "2023-12-20T16:11:02.258Z"
   },
   {
    "duration": 70,
    "start_time": "2023-12-20T16:15:48.591Z"
   },
   {
    "duration": 19,
    "start_time": "2023-12-20T16:16:15.731Z"
   },
   {
    "duration": 11,
    "start_time": "2023-12-20T16:16:26.476Z"
   },
   {
    "duration": 5,
    "start_time": "2023-12-20T16:19:11.562Z"
   },
   {
    "duration": 15,
    "start_time": "2023-12-20T16:19:18.242Z"
   },
   {
    "duration": 81,
    "start_time": "2023-12-20T16:21:49.573Z"
   },
   {
    "duration": 17,
    "start_time": "2023-12-20T16:22:05.764Z"
   },
   {
    "duration": 14,
    "start_time": "2023-12-20T16:22:10.829Z"
   },
   {
    "duration": 7,
    "start_time": "2023-12-20T16:24:36.359Z"
   },
   {
    "duration": 7,
    "start_time": "2023-12-20T16:25:00.044Z"
   },
   {
    "duration": 6,
    "start_time": "2023-12-20T16:25:09.625Z"
   },
   {
    "duration": 238,
    "start_time": "2023-12-20T16:26:32.879Z"
   },
   {
    "duration": 187,
    "start_time": "2023-12-20T16:27:59.471Z"
   },
   {
    "duration": 175,
    "start_time": "2023-12-20T16:28:23.801Z"
   },
   {
    "duration": 209,
    "start_time": "2023-12-20T16:29:14.829Z"
   },
   {
    "duration": 69,
    "start_time": "2023-12-20T16:35:55.199Z"
   },
   {
    "duration": 8,
    "start_time": "2023-12-20T16:36:49.983Z"
   },
   {
    "duration": 547,
    "start_time": "2023-12-20T16:36:55.651Z"
   },
   {
    "duration": 507,
    "start_time": "2023-12-20T16:37:25.160Z"
   },
   {
    "duration": 503,
    "start_time": "2023-12-20T16:39:16.312Z"
   },
   {
    "duration": 10,
    "start_time": "2023-12-20T16:39:45.620Z"
   },
   {
    "duration": 14,
    "start_time": "2023-12-20T16:39:53.032Z"
   },
   {
    "duration": 15,
    "start_time": "2023-12-20T16:40:02.353Z"
   },
   {
    "duration": 14,
    "start_time": "2023-12-20T16:40:13.658Z"
   },
   {
    "duration": 16,
    "start_time": "2023-12-20T16:40:18.705Z"
   },
   {
    "duration": 15,
    "start_time": "2023-12-20T16:40:37.060Z"
   },
   {
    "duration": 15,
    "start_time": "2023-12-20T16:40:54.208Z"
   },
   {
    "duration": 14,
    "start_time": "2023-12-20T16:43:40.331Z"
   },
   {
    "duration": 1154,
    "start_time": "2023-12-20T16:44:51.013Z"
   },
   {
    "duration": 7,
    "start_time": "2023-12-20T16:45:39.315Z"
   },
   {
    "duration": 13,
    "start_time": "2023-12-20T16:46:13.429Z"
   },
   {
    "duration": 1100,
    "start_time": "2023-12-20T16:46:18.103Z"
   },
   {
    "duration": 153,
    "start_time": "2023-12-20T16:46:30.339Z"
   },
   {
    "duration": 1305,
    "start_time": "2023-12-20T16:48:02.019Z"
   },
   {
    "duration": 258,
    "start_time": "2023-12-20T16:48:13.186Z"
   },
   {
    "duration": 204,
    "start_time": "2023-12-20T16:48:27.111Z"
   },
   {
    "duration": 159,
    "start_time": "2023-12-20T16:48:47.921Z"
   },
   {
    "duration": 194,
    "start_time": "2023-12-20T16:49:36.048Z"
   },
   {
    "duration": 205,
    "start_time": "2023-12-20T16:49:45.189Z"
   },
   {
    "duration": 196,
    "start_time": "2023-12-20T16:50:09.945Z"
   },
   {
    "duration": 1180,
    "start_time": "2023-12-20T16:50:52.147Z"
   },
   {
    "duration": 652,
    "start_time": "2023-12-20T16:51:12.580Z"
   },
   {
    "duration": 55,
    "start_time": "2023-12-20T16:51:13.233Z"
   },
   {
    "duration": 17,
    "start_time": "2023-12-20T16:51:13.289Z"
   },
   {
    "duration": 28,
    "start_time": "2023-12-20T16:51:13.308Z"
   },
   {
    "duration": 6,
    "start_time": "2023-12-20T16:51:13.337Z"
   },
   {
    "duration": 38,
    "start_time": "2023-12-20T16:51:13.344Z"
   },
   {
    "duration": 7,
    "start_time": "2023-12-20T16:51:13.383Z"
   },
   {
    "duration": 12,
    "start_time": "2023-12-20T16:51:13.391Z"
   },
   {
    "duration": 24,
    "start_time": "2023-12-20T16:51:13.405Z"
   },
   {
    "duration": 11,
    "start_time": "2023-12-20T16:51:13.431Z"
   },
   {
    "duration": 13,
    "start_time": "2023-12-20T16:51:13.443Z"
   },
   {
    "duration": 20,
    "start_time": "2023-12-20T16:51:13.458Z"
   },
   {
    "duration": 9,
    "start_time": "2023-12-20T16:51:13.479Z"
   },
   {
    "duration": 10,
    "start_time": "2023-12-20T16:51:13.490Z"
   },
   {
    "duration": 9,
    "start_time": "2023-12-20T16:51:13.501Z"
   },
   {
    "duration": 20,
    "start_time": "2023-12-20T16:51:13.511Z"
   },
   {
    "duration": 16,
    "start_time": "2023-12-20T16:51:13.533Z"
   },
   {
    "duration": 6,
    "start_time": "2023-12-20T16:51:13.551Z"
   },
   {
    "duration": 30,
    "start_time": "2023-12-20T16:51:13.558Z"
   },
   {
    "duration": 18,
    "start_time": "2023-12-20T16:51:13.590Z"
   },
   {
    "duration": 244,
    "start_time": "2023-12-20T16:51:13.610Z"
   },
   {
    "duration": 18,
    "start_time": "2023-12-20T16:51:13.856Z"
   },
   {
    "duration": 270,
    "start_time": "2023-12-20T16:51:13.888Z"
   },
   {
    "duration": 1362,
    "start_time": "2023-12-20T16:51:14.161Z"
   },
   {
    "duration": 7,
    "start_time": "2023-12-20T16:51:18.844Z"
   },
   {
    "duration": 10,
    "start_time": "2023-12-20T16:51:29.475Z"
   },
   {
    "duration": 1206,
    "start_time": "2023-12-20T16:51:44.135Z"
   },
   {
    "duration": 7,
    "start_time": "2023-12-20T16:52:39.480Z"
   },
   {
    "duration": 8,
    "start_time": "2023-12-20T16:52:43.874Z"
   },
   {
    "duration": 3,
    "start_time": "2023-12-20T16:54:28.810Z"
   },
   {
    "duration": 4,
    "start_time": "2023-12-20T16:54:46.922Z"
   },
   {
    "duration": 79,
    "start_time": "2023-12-20T16:55:18.775Z"
   },
   {
    "duration": 1134,
    "start_time": "2023-12-20T16:57:36.192Z"
   },
   {
    "duration": 1775,
    "start_time": "2023-12-20T16:58:16.751Z"
   },
   {
    "duration": 1887,
    "start_time": "2023-12-20T17:00:27.171Z"
   },
   {
    "duration": 1894,
    "start_time": "2023-12-20T17:02:18.280Z"
   },
   {
    "duration": 5,
    "start_time": "2023-12-20T17:13:29.822Z"
   },
   {
    "duration": 5,
    "start_time": "2023-12-20T17:13:32.747Z"
   },
   {
    "duration": 8,
    "start_time": "2023-12-20T17:13:51.184Z"
   },
   {
    "duration": 15,
    "start_time": "2023-12-20T17:14:18.637Z"
   },
   {
    "duration": 9,
    "start_time": "2023-12-20T17:14:46.406Z"
   },
   {
    "duration": 17,
    "start_time": "2023-12-20T17:15:03.748Z"
   },
   {
    "duration": 9,
    "start_time": "2023-12-20T17:15:11.601Z"
   },
   {
    "duration": 16,
    "start_time": "2023-12-20T17:15:12.098Z"
   },
   {
    "duration": 8,
    "start_time": "2023-12-20T17:15:44.413Z"
   },
   {
    "duration": 15,
    "start_time": "2023-12-20T17:15:45.183Z"
   },
   {
    "duration": 11,
    "start_time": "2023-12-20T17:15:58.323Z"
   },
   {
    "duration": 11,
    "start_time": "2023-12-20T17:16:07.202Z"
   },
   {
    "duration": 9,
    "start_time": "2023-12-20T17:16:12.695Z"
   },
   {
    "duration": 14,
    "start_time": "2023-12-20T17:21:17.356Z"
   },
   {
    "duration": 10,
    "start_time": "2023-12-20T17:21:51.812Z"
   },
   {
    "duration": 14,
    "start_time": "2023-12-20T17:21:58.070Z"
   },
   {
    "duration": 194,
    "start_time": "2023-12-20T17:22:26.810Z"
   },
   {
    "duration": 188,
    "start_time": "2023-12-20T17:22:36.285Z"
   },
   {
    "duration": 1839,
    "start_time": "2023-12-20T17:24:11.687Z"
   },
   {
    "duration": 16,
    "start_time": "2023-12-20T17:24:50.165Z"
   },
   {
    "duration": 249,
    "start_time": "2023-12-20T17:25:03.319Z"
   },
   {
    "duration": 2702,
    "start_time": "2023-12-20T17:25:11.134Z"
   },
   {
    "duration": 2443,
    "start_time": "2023-12-20T17:28:15.897Z"
   },
   {
    "duration": 75,
    "start_time": "2023-12-20T17:34:46.443Z"
   },
   {
    "duration": 11,
    "start_time": "2023-12-20T17:34:50.021Z"
   },
   {
    "duration": 111,
    "start_time": "2023-12-20T17:35:20.395Z"
   },
   {
    "duration": 133,
    "start_time": "2023-12-20T17:36:12.767Z"
   },
   {
    "duration": 128,
    "start_time": "2023-12-20T17:39:57.853Z"
   },
   {
    "duration": 133,
    "start_time": "2023-12-20T17:40:16.189Z"
   },
   {
    "duration": 134,
    "start_time": "2023-12-20T17:41:22.113Z"
   },
   {
    "duration": 132,
    "start_time": "2023-12-20T17:41:41.022Z"
   },
   {
    "duration": 14,
    "start_time": "2023-12-20T17:47:26.661Z"
   },
   {
    "duration": 14,
    "start_time": "2023-12-20T17:47:57.102Z"
   },
   {
    "duration": 13,
    "start_time": "2023-12-20T17:48:17.374Z"
   },
   {
    "duration": 9,
    "start_time": "2023-12-20T17:48:30.139Z"
   },
   {
    "duration": 11,
    "start_time": "2023-12-20T17:49:33.842Z"
   },
   {
    "duration": 1117,
    "start_time": "2023-12-20T17:54:55.533Z"
   },
   {
    "duration": 1170,
    "start_time": "2023-12-20T17:55:07.436Z"
   },
   {
    "duration": 631,
    "start_time": "2023-12-20T17:55:14.004Z"
   },
   {
    "duration": 58,
    "start_time": "2023-12-20T17:55:14.637Z"
   },
   {
    "duration": 17,
    "start_time": "2023-12-20T17:55:14.696Z"
   },
   {
    "duration": 78,
    "start_time": "2023-12-20T17:55:14.715Z"
   },
   {
    "duration": 75,
    "start_time": "2023-12-20T17:55:14.795Z"
   },
   {
    "duration": 30,
    "start_time": "2023-12-20T17:55:14.872Z"
   },
   {
    "duration": 29,
    "start_time": "2023-12-20T17:55:14.904Z"
   },
   {
    "duration": 7,
    "start_time": "2023-12-20T17:55:14.934Z"
   },
   {
    "duration": 24,
    "start_time": "2023-12-20T17:55:14.942Z"
   },
   {
    "duration": 6,
    "start_time": "2023-12-20T17:55:14.968Z"
   },
   {
    "duration": 47,
    "start_time": "2023-12-20T17:55:14.975Z"
   },
   {
    "duration": 100,
    "start_time": "2023-12-20T17:55:15.023Z"
   },
   {
    "duration": 33,
    "start_time": "2023-12-20T17:55:15.124Z"
   },
   {
    "duration": 34,
    "start_time": "2023-12-20T17:55:15.159Z"
   },
   {
    "duration": 20,
    "start_time": "2023-12-20T17:55:15.194Z"
   },
   {
    "duration": 29,
    "start_time": "2023-12-20T17:55:15.216Z"
   },
   {
    "duration": 11,
    "start_time": "2023-12-20T17:55:15.247Z"
   },
   {
    "duration": 21,
    "start_time": "2023-12-20T17:55:15.259Z"
   },
   {
    "duration": 28,
    "start_time": "2023-12-20T17:55:15.282Z"
   },
   {
    "duration": 42,
    "start_time": "2023-12-20T17:55:15.311Z"
   },
   {
    "duration": 234,
    "start_time": "2023-12-20T17:55:15.354Z"
   },
   {
    "duration": 15,
    "start_time": "2023-12-20T17:55:15.590Z"
   },
   {
    "duration": 233,
    "start_time": "2023-12-20T17:55:15.606Z"
   },
   {
    "duration": 1823,
    "start_time": "2023-12-20T17:55:15.840Z"
   },
   {
    "duration": 9,
    "start_time": "2023-12-20T17:55:17.665Z"
   },
   {
    "duration": 25,
    "start_time": "2023-12-20T17:55:17.676Z"
   },
   {
    "duration": 21,
    "start_time": "2023-12-20T17:55:17.703Z"
   },
   {
    "duration": 271,
    "start_time": "2023-12-20T17:55:17.727Z"
   },
   {
    "duration": 2487,
    "start_time": "2023-12-20T17:55:18.001Z"
   },
   {
    "duration": 149,
    "start_time": "2023-12-20T17:55:20.490Z"
   },
   {
    "duration": 149,
    "start_time": "2023-12-20T17:55:20.641Z"
   },
   {
    "duration": 143,
    "start_time": "2023-12-20T17:55:20.791Z"
   },
   {
    "duration": 1198,
    "start_time": "2023-12-20T17:55:20.935Z"
   },
   {
    "duration": 15,
    "start_time": "2023-12-20T17:55:37.385Z"
   },
   {
    "duration": 13,
    "start_time": "2023-12-20T17:56:36.616Z"
   },
   {
    "duration": 11,
    "start_time": "2023-12-20T17:56:47.504Z"
   },
   {
    "duration": 1348,
    "start_time": "2023-12-20T17:59:09.804Z"
   },
   {
    "duration": 148,
    "start_time": "2023-12-20T18:00:08.884Z"
   },
   {
    "duration": 142,
    "start_time": "2023-12-20T18:00:31.244Z"
   },
   {
    "duration": 13,
    "start_time": "2023-12-20T18:05:45.244Z"
   },
   {
    "duration": 14,
    "start_time": "2023-12-20T18:06:16.977Z"
   },
   {
    "duration": 14,
    "start_time": "2023-12-20T18:06:32.571Z"
   },
   {
    "duration": 663,
    "start_time": "2023-12-20T18:51:23.761Z"
   },
   {
    "duration": 56,
    "start_time": "2023-12-20T18:51:24.426Z"
   },
   {
    "duration": 17,
    "start_time": "2023-12-20T18:51:24.483Z"
   },
   {
    "duration": 14,
    "start_time": "2023-12-20T18:51:24.501Z"
   },
   {
    "duration": 5,
    "start_time": "2023-12-20T18:51:24.517Z"
   },
   {
    "duration": 20,
    "start_time": "2023-12-20T18:51:24.523Z"
   },
   {
    "duration": 6,
    "start_time": "2023-12-20T18:51:24.544Z"
   },
   {
    "duration": 14,
    "start_time": "2023-12-20T18:51:24.551Z"
   },
   {
    "duration": 23,
    "start_time": "2023-12-20T18:51:24.566Z"
   },
   {
    "duration": 7,
    "start_time": "2023-12-20T18:51:24.590Z"
   },
   {
    "duration": 8,
    "start_time": "2023-12-20T18:51:24.598Z"
   },
   {
    "duration": 16,
    "start_time": "2023-12-20T18:51:24.608Z"
   },
   {
    "duration": 9,
    "start_time": "2023-12-20T18:51:24.625Z"
   },
   {
    "duration": 21,
    "start_time": "2023-12-20T18:51:24.637Z"
   },
   {
    "duration": 26,
    "start_time": "2023-12-20T18:51:24.660Z"
   },
   {
    "duration": 6,
    "start_time": "2023-12-20T18:51:24.688Z"
   },
   {
    "duration": 10,
    "start_time": "2023-12-20T18:51:24.696Z"
   },
   {
    "duration": 5,
    "start_time": "2023-12-20T18:51:24.708Z"
   },
   {
    "duration": 15,
    "start_time": "2023-12-20T18:51:24.715Z"
   },
   {
    "duration": 24,
    "start_time": "2023-12-20T18:51:24.731Z"
   },
   {
    "duration": 238,
    "start_time": "2023-12-20T18:51:24.756Z"
   },
   {
    "duration": 16,
    "start_time": "2023-12-20T18:51:24.996Z"
   },
   {
    "duration": 203,
    "start_time": "2023-12-20T18:51:25.013Z"
   },
   {
    "duration": 1752,
    "start_time": "2023-12-20T18:51:25.218Z"
   },
   {
    "duration": 18,
    "start_time": "2023-12-20T18:51:26.971Z"
   },
   {
    "duration": 21,
    "start_time": "2023-12-20T18:51:26.991Z"
   },
   {
    "duration": 19,
    "start_time": "2023-12-20T18:51:27.013Z"
   },
   {
    "duration": 231,
    "start_time": "2023-12-20T18:51:27.033Z"
   },
   {
    "duration": 2409,
    "start_time": "2023-12-20T18:51:27.265Z"
   },
   {
    "duration": 143,
    "start_time": "2023-12-20T18:51:29.676Z"
   },
   {
    "duration": 146,
    "start_time": "2023-12-20T18:51:29.821Z"
   },
   {
    "duration": 147,
    "start_time": "2023-12-20T18:51:29.969Z"
   },
   {
    "duration": 13,
    "start_time": "2023-12-20T18:51:30.119Z"
   },
   {
    "duration": 183,
    "start_time": "2023-12-20T18:51:30.134Z"
   },
   {
    "duration": 15,
    "start_time": "2023-12-20T18:51:30.318Z"
   },
   {
    "duration": 78,
    "start_time": "2023-12-20T18:53:09.716Z"
   },
   {
    "duration": 14,
    "start_time": "2023-12-20T18:55:37.357Z"
   },
   {
    "duration": 15,
    "start_time": "2023-12-20T18:56:13.126Z"
   },
   {
    "duration": 83,
    "start_time": "2023-12-20T19:00:52.258Z"
   },
   {
    "duration": 13,
    "start_time": "2023-12-20T19:00:57.498Z"
   },
   {
    "duration": 15,
    "start_time": "2023-12-20T19:02:53.088Z"
   },
   {
    "duration": 87,
    "start_time": "2023-12-20T19:04:16.146Z"
   },
   {
    "duration": 82,
    "start_time": "2023-12-20T19:06:25.317Z"
   },
   {
    "duration": 14,
    "start_time": "2023-12-20T19:07:03.828Z"
   },
   {
    "duration": 13,
    "start_time": "2023-12-20T19:07:17.497Z"
   },
   {
    "duration": 15,
    "start_time": "2023-12-20T19:07:40.536Z"
   },
   {
    "duration": 17,
    "start_time": "2023-12-20T19:07:49.950Z"
   },
   {
    "duration": 13,
    "start_time": "2023-12-20T19:08:12.856Z"
   },
   {
    "duration": 94,
    "start_time": "2023-12-20T19:08:45.117Z"
   },
   {
    "duration": 16,
    "start_time": "2023-12-20T19:13:17.757Z"
   },
   {
    "duration": 15,
    "start_time": "2023-12-20T19:16:36.256Z"
   },
   {
    "duration": 14,
    "start_time": "2023-12-20T19:17:10.165Z"
   },
   {
    "duration": 15,
    "start_time": "2023-12-20T19:20:15.588Z"
   },
   {
    "duration": 13,
    "start_time": "2023-12-20T19:20:18.317Z"
   },
   {
    "duration": 14,
    "start_time": "2023-12-20T19:20:20.136Z"
   },
   {
    "duration": 15,
    "start_time": "2023-12-20T19:20:23.336Z"
   },
   {
    "duration": 479,
    "start_time": "2023-12-20T19:24:09.789Z"
   },
   {
    "duration": 9,
    "start_time": "2023-12-20T19:32:33.637Z"
   },
   {
    "duration": 8,
    "start_time": "2023-12-20T19:33:05.936Z"
   },
   {
    "duration": 79,
    "start_time": "2023-12-20T19:39:21.309Z"
   },
   {
    "duration": 356,
    "start_time": "2023-12-20T19:39:28.869Z"
   },
   {
    "duration": 10,
    "start_time": "2023-12-20T19:40:21.317Z"
   },
   {
    "duration": 73,
    "start_time": "2023-12-20T19:43:29.311Z"
   },
   {
    "duration": 9,
    "start_time": "2023-12-20T19:45:10.758Z"
   },
   {
    "duration": 12,
    "start_time": "2023-12-20T19:45:29.257Z"
   },
   {
    "duration": 81,
    "start_time": "2023-12-20T19:46:36.266Z"
   },
   {
    "duration": 75,
    "start_time": "2023-12-20T19:46:46.408Z"
   },
   {
    "duration": 77,
    "start_time": "2023-12-20T19:47:11.109Z"
   },
   {
    "duration": 20,
    "start_time": "2023-12-20T19:47:34.549Z"
   },
   {
    "duration": 84,
    "start_time": "2023-12-20T19:48:02.738Z"
   },
   {
    "duration": 14,
    "start_time": "2023-12-20T19:50:35.530Z"
   },
   {
    "duration": 1050,
    "start_time": "2023-12-20T20:26:32.856Z"
   },
   {
    "duration": 55,
    "start_time": "2023-12-20T20:26:33.908Z"
   },
   {
    "duration": 19,
    "start_time": "2023-12-20T20:26:33.964Z"
   },
   {
    "duration": 15,
    "start_time": "2023-12-20T20:26:33.986Z"
   },
   {
    "duration": 7,
    "start_time": "2023-12-20T20:26:34.003Z"
   },
   {
    "duration": 23,
    "start_time": "2023-12-20T20:26:34.011Z"
   },
   {
    "duration": 5,
    "start_time": "2023-12-20T20:26:34.035Z"
   },
   {
    "duration": 19,
    "start_time": "2023-12-20T20:26:34.042Z"
   },
   {
    "duration": 34,
    "start_time": "2023-12-20T20:26:34.063Z"
   },
   {
    "duration": 8,
    "start_time": "2023-12-20T20:26:34.100Z"
   },
   {
    "duration": 8,
    "start_time": "2023-12-20T20:26:34.109Z"
   },
   {
    "duration": 16,
    "start_time": "2023-12-20T20:26:34.119Z"
   },
   {
    "duration": 10,
    "start_time": "2023-12-20T20:26:34.136Z"
   },
   {
    "duration": 7,
    "start_time": "2023-12-20T20:26:34.147Z"
   },
   {
    "duration": 13,
    "start_time": "2023-12-20T20:26:34.156Z"
   },
   {
    "duration": 11,
    "start_time": "2023-12-20T20:26:34.171Z"
   },
   {
    "duration": 11,
    "start_time": "2023-12-20T20:26:34.183Z"
   },
   {
    "duration": 7,
    "start_time": "2023-12-20T20:26:34.195Z"
   },
   {
    "duration": 25,
    "start_time": "2023-12-20T20:26:34.204Z"
   },
   {
    "duration": 16,
    "start_time": "2023-12-20T20:26:34.230Z"
   },
   {
    "duration": 230,
    "start_time": "2023-12-20T20:26:34.247Z"
   },
   {
    "duration": 16,
    "start_time": "2023-12-20T20:26:34.479Z"
   },
   {
    "duration": 212,
    "start_time": "2023-12-20T20:26:34.496Z"
   },
   {
    "duration": 1778,
    "start_time": "2023-12-20T20:26:34.710Z"
   },
   {
    "duration": 8,
    "start_time": "2023-12-20T20:26:36.490Z"
   },
   {
    "duration": 23,
    "start_time": "2023-12-20T20:26:36.500Z"
   },
   {
    "duration": 14,
    "start_time": "2023-12-20T20:26:36.524Z"
   },
   {
    "duration": 224,
    "start_time": "2023-12-20T20:26:36.541Z"
   },
   {
    "duration": 2274,
    "start_time": "2023-12-20T20:26:36.767Z"
   },
   {
    "duration": 132,
    "start_time": "2023-12-20T20:26:39.042Z"
   },
   {
    "duration": 132,
    "start_time": "2023-12-20T20:26:39.176Z"
   },
   {
    "duration": 219,
    "start_time": "2023-12-20T20:26:39.310Z"
   },
   {
    "duration": 11,
    "start_time": "2023-12-20T20:26:39.530Z"
   },
   {
    "duration": 161,
    "start_time": "2023-12-20T20:26:39.542Z"
   },
   {
    "duration": 13,
    "start_time": "2023-12-20T20:26:39.704Z"
   },
   {
    "duration": 37,
    "start_time": "2023-12-20T20:26:39.721Z"
   },
   {
    "duration": 17,
    "start_time": "2023-12-20T20:26:39.760Z"
   },
   {
    "duration": 12,
    "start_time": "2023-12-20T20:26:39.779Z"
   },
   {
    "duration": 12,
    "start_time": "2023-12-20T20:26:39.792Z"
   },
   {
    "duration": 13,
    "start_time": "2023-12-20T20:26:39.805Z"
   },
   {
    "duration": 12,
    "start_time": "2023-12-20T20:26:39.819Z"
   },
   {
    "duration": 16,
    "start_time": "2023-12-20T20:26:39.833Z"
   },
   {
    "duration": 13,
    "start_time": "2023-12-20T20:26:39.850Z"
   },
   {
    "duration": 13,
    "start_time": "2023-12-20T20:26:39.864Z"
   },
   {
    "duration": 9,
    "start_time": "2023-12-20T20:26:39.878Z"
   },
   {
    "duration": 38,
    "start_time": "2023-12-20T20:26:39.889Z"
   },
   {
    "duration": 1099,
    "start_time": "2023-12-20T20:37:33.099Z"
   },
   {
    "duration": 53,
    "start_time": "2023-12-20T20:37:34.200Z"
   },
   {
    "duration": 18,
    "start_time": "2023-12-20T20:37:34.255Z"
   },
   {
    "duration": 14,
    "start_time": "2023-12-20T20:37:34.274Z"
   },
   {
    "duration": 5,
    "start_time": "2023-12-20T20:37:34.290Z"
   },
   {
    "duration": 32,
    "start_time": "2023-12-20T20:37:34.297Z"
   },
   {
    "duration": 5,
    "start_time": "2023-12-20T20:37:34.330Z"
   },
   {
    "duration": 13,
    "start_time": "2023-12-20T20:37:34.337Z"
   },
   {
    "duration": 9,
    "start_time": "2023-12-20T20:37:34.352Z"
   },
   {
    "duration": 5,
    "start_time": "2023-12-20T20:37:34.362Z"
   },
   {
    "duration": 6,
    "start_time": "2023-12-20T20:37:34.368Z"
   },
   {
    "duration": 14,
    "start_time": "2023-12-20T20:37:34.375Z"
   },
   {
    "duration": 33,
    "start_time": "2023-12-20T20:37:34.390Z"
   },
   {
    "duration": 5,
    "start_time": "2023-12-20T20:37:34.426Z"
   },
   {
    "duration": 10,
    "start_time": "2023-12-20T20:37:34.432Z"
   },
   {
    "duration": 13,
    "start_time": "2023-12-20T20:37:34.443Z"
   },
   {
    "duration": 11,
    "start_time": "2023-12-20T20:37:34.457Z"
   },
   {
    "duration": 7,
    "start_time": "2023-12-20T20:37:34.469Z"
   },
   {
    "duration": 14,
    "start_time": "2023-12-20T20:37:34.478Z"
   },
   {
    "duration": 39,
    "start_time": "2023-12-20T20:37:34.494Z"
   },
   {
    "duration": 234,
    "start_time": "2023-12-20T20:37:34.534Z"
   },
   {
    "duration": 18,
    "start_time": "2023-12-20T20:37:34.770Z"
   },
   {
    "duration": 219,
    "start_time": "2023-12-20T20:37:34.790Z"
   },
   {
    "duration": 1804,
    "start_time": "2023-12-20T20:37:35.011Z"
   },
   {
    "duration": 9,
    "start_time": "2023-12-20T20:37:36.822Z"
   },
   {
    "duration": 14,
    "start_time": "2023-12-20T20:37:36.832Z"
   },
   {
    "duration": 22,
    "start_time": "2023-12-20T20:37:36.848Z"
   },
   {
    "duration": 253,
    "start_time": "2023-12-20T20:37:36.871Z"
   },
   {
    "duration": 2339,
    "start_time": "2023-12-20T20:37:37.126Z"
   },
   {
    "duration": 139,
    "start_time": "2023-12-20T20:37:39.467Z"
   },
   {
    "duration": 136,
    "start_time": "2023-12-20T20:37:39.608Z"
   },
   {
    "duration": 212,
    "start_time": "2023-12-20T20:37:39.745Z"
   },
   {
    "duration": 11,
    "start_time": "2023-12-20T20:37:39.959Z"
   },
   {
    "duration": 151,
    "start_time": "2023-12-20T20:37:39.971Z"
   },
   {
    "duration": 14,
    "start_time": "2023-12-20T20:37:40.124Z"
   },
   {
    "duration": 14,
    "start_time": "2023-12-20T20:37:40.139Z"
   },
   {
    "duration": 13,
    "start_time": "2023-12-20T20:37:40.154Z"
   },
   {
    "duration": 12,
    "start_time": "2023-12-20T20:37:40.169Z"
   },
   {
    "duration": 42,
    "start_time": "2023-12-20T20:37:40.183Z"
   },
   {
    "duration": 13,
    "start_time": "2023-12-20T20:37:40.226Z"
   },
   {
    "duration": 15,
    "start_time": "2023-12-20T20:37:40.243Z"
   },
   {
    "duration": 19,
    "start_time": "2023-12-20T20:37:40.259Z"
   },
   {
    "duration": 13,
    "start_time": "2023-12-20T20:37:40.280Z"
   },
   {
    "duration": 37,
    "start_time": "2023-12-20T20:37:40.294Z"
   },
   {
    "duration": 10,
    "start_time": "2023-12-20T20:37:40.333Z"
   },
   {
    "duration": 9,
    "start_time": "2023-12-20T20:37:40.345Z"
   },
   {
    "duration": 1305,
    "start_time": "2023-12-20T21:54:07.040Z"
   },
   {
    "duration": 84,
    "start_time": "2023-12-20T21:54:27.256Z"
   },
   {
    "duration": 13,
    "start_time": "2023-12-20T22:04:26.677Z"
   },
   {
    "duration": 22,
    "start_time": "2023-12-20T22:04:35.836Z"
   },
   {
    "duration": 10,
    "start_time": "2023-12-20T22:15:31.217Z"
   },
   {
    "duration": 49,
    "start_time": "2023-12-21T08:02:12.549Z"
   },
   {
    "duration": 1260,
    "start_time": "2023-12-21T08:02:19.337Z"
   },
   {
    "duration": 90,
    "start_time": "2023-12-21T08:02:20.599Z"
   },
   {
    "duration": 19,
    "start_time": "2023-12-21T08:02:20.690Z"
   },
   {
    "duration": 25,
    "start_time": "2023-12-21T08:02:20.711Z"
   },
   {
    "duration": 26,
    "start_time": "2023-12-21T08:02:20.738Z"
   },
   {
    "duration": 21,
    "start_time": "2023-12-21T08:02:20.766Z"
   },
   {
    "duration": 14,
    "start_time": "2023-12-21T08:02:20.789Z"
   },
   {
    "duration": 30,
    "start_time": "2023-12-21T08:02:20.804Z"
   },
   {
    "duration": 20,
    "start_time": "2023-12-21T08:02:20.836Z"
   },
   {
    "duration": 16,
    "start_time": "2023-12-21T08:02:20.857Z"
   },
   {
    "duration": 19,
    "start_time": "2023-12-21T08:02:20.875Z"
   },
   {
    "duration": 42,
    "start_time": "2023-12-21T08:02:20.896Z"
   },
   {
    "duration": 18,
    "start_time": "2023-12-21T08:02:20.940Z"
   },
   {
    "duration": 17,
    "start_time": "2023-12-21T08:02:20.961Z"
   },
   {
    "duration": 22,
    "start_time": "2023-12-21T08:02:20.980Z"
   },
   {
    "duration": 19,
    "start_time": "2023-12-21T08:02:21.004Z"
   },
   {
    "duration": 24,
    "start_time": "2023-12-21T08:02:21.025Z"
   },
   {
    "duration": 19,
    "start_time": "2023-12-21T08:02:21.051Z"
   },
   {
    "duration": 54,
    "start_time": "2023-12-21T08:02:21.072Z"
   },
   {
    "duration": 26,
    "start_time": "2023-12-21T08:02:21.129Z"
   },
   {
    "duration": 4,
    "start_time": "2023-12-21T08:02:21.157Z"
   },
   {
    "duration": 106,
    "start_time": "2023-12-21T08:02:21.163Z"
   },
   {
    "duration": 230,
    "start_time": "2023-12-21T08:02:21.270Z"
   },
   {
    "duration": 26,
    "start_time": "2023-12-21T08:02:21.502Z"
   },
   {
    "duration": 226,
    "start_time": "2023-12-21T08:02:21.529Z"
   },
   {
    "duration": 1856,
    "start_time": "2023-12-21T08:02:21.757Z"
   },
   {
    "duration": 31,
    "start_time": "2023-12-21T08:02:23.615Z"
   },
   {
    "duration": 9,
    "start_time": "2023-12-21T08:02:23.648Z"
   },
   {
    "duration": 22,
    "start_time": "2023-12-21T08:02:23.659Z"
   },
   {
    "duration": 34,
    "start_time": "2023-12-21T08:02:23.683Z"
   },
   {
    "duration": 233,
    "start_time": "2023-12-21T08:02:23.719Z"
   },
   {
    "duration": 2473,
    "start_time": "2023-12-21T08:02:23.953Z"
   },
   {
    "duration": 143,
    "start_time": "2023-12-21T08:02:26.428Z"
   },
   {
    "duration": 153,
    "start_time": "2023-12-21T08:02:26.573Z"
   },
   {
    "duration": 213,
    "start_time": "2023-12-21T08:02:26.728Z"
   },
   {
    "duration": 10,
    "start_time": "2023-12-21T08:02:26.942Z"
   },
   {
    "duration": 150,
    "start_time": "2023-12-21T08:02:26.954Z"
   },
   {
    "duration": 26,
    "start_time": "2023-12-21T08:02:27.106Z"
   },
   {
    "duration": 59,
    "start_time": "2023-12-21T08:02:27.134Z"
   },
   {
    "duration": 30,
    "start_time": "2023-12-21T08:02:27.195Z"
   },
   {
    "duration": 17,
    "start_time": "2023-12-21T08:02:27.228Z"
   },
   {
    "duration": 23,
    "start_time": "2023-12-21T08:02:27.246Z"
   },
   {
    "duration": 40,
    "start_time": "2023-12-21T08:02:27.271Z"
   },
   {
    "duration": 35,
    "start_time": "2023-12-21T08:02:27.313Z"
   },
   {
    "duration": 39,
    "start_time": "2023-12-21T08:02:27.349Z"
   },
   {
    "duration": 42,
    "start_time": "2023-12-21T08:02:27.389Z"
   },
   {
    "duration": 59,
    "start_time": "2023-12-21T08:02:27.432Z"
   },
   {
    "duration": 27,
    "start_time": "2023-12-21T08:02:27.493Z"
   },
   {
    "duration": 15,
    "start_time": "2023-12-21T08:02:27.524Z"
   },
   {
    "duration": 37,
    "start_time": "2023-12-21T08:02:27.541Z"
   },
   {
    "duration": 4,
    "start_time": "2023-12-21T08:03:45.656Z"
   },
   {
    "duration": 122,
    "start_time": "2023-12-21T08:04:03.107Z"
   },
   {
    "duration": 5,
    "start_time": "2023-12-21T08:04:16.567Z"
   },
   {
    "duration": 4,
    "start_time": "2023-12-21T08:04:29.255Z"
   },
   {
    "duration": 9,
    "start_time": "2023-12-21T08:05:35.274Z"
   },
   {
    "duration": 5,
    "start_time": "2023-12-21T08:05:45.655Z"
   },
   {
    "duration": 6,
    "start_time": "2023-12-21T08:06:28.362Z"
   },
   {
    "duration": 5,
    "start_time": "2023-12-21T08:06:37.276Z"
   },
   {
    "duration": 6,
    "start_time": "2023-12-21T08:06:51.295Z"
   },
   {
    "duration": 5,
    "start_time": "2023-12-21T08:07:09.707Z"
   },
   {
    "duration": 102,
    "start_time": "2023-12-21T08:11:04.930Z"
   },
   {
    "duration": 91,
    "start_time": "2023-12-21T08:22:23.902Z"
   },
   {
    "duration": 7,
    "start_time": "2023-12-21T08:24:04.964Z"
   },
   {
    "duration": 1156,
    "start_time": "2023-12-21T08:24:27.125Z"
   },
   {
    "duration": 62,
    "start_time": "2023-12-21T08:24:28.283Z"
   },
   {
    "duration": 17,
    "start_time": "2023-12-21T08:24:28.347Z"
   },
   {
    "duration": 22,
    "start_time": "2023-12-21T08:24:28.365Z"
   },
   {
    "duration": 10,
    "start_time": "2023-12-21T08:24:28.390Z"
   },
   {
    "duration": 31,
    "start_time": "2023-12-21T08:24:28.401Z"
   },
   {
    "duration": 12,
    "start_time": "2023-12-21T08:24:28.433Z"
   },
   {
    "duration": 12,
    "start_time": "2023-12-21T08:24:28.446Z"
   },
   {
    "duration": 16,
    "start_time": "2023-12-21T08:24:28.459Z"
   },
   {
    "duration": 9,
    "start_time": "2023-12-21T08:24:28.477Z"
   },
   {
    "duration": 5,
    "start_time": "2023-12-21T08:24:28.488Z"
   },
   {
    "duration": 21,
    "start_time": "2023-12-21T08:24:28.494Z"
   },
   {
    "duration": 12,
    "start_time": "2023-12-21T08:24:28.521Z"
   },
   {
    "duration": 7,
    "start_time": "2023-12-21T08:24:28.536Z"
   },
   {
    "duration": 12,
    "start_time": "2023-12-21T08:24:28.544Z"
   },
   {
    "duration": 10,
    "start_time": "2023-12-21T08:24:28.558Z"
   },
   {
    "duration": 13,
    "start_time": "2023-12-21T08:24:28.570Z"
   },
   {
    "duration": 6,
    "start_time": "2023-12-21T08:24:28.585Z"
   },
   {
    "duration": 40,
    "start_time": "2023-12-21T08:24:28.593Z"
   },
   {
    "duration": 21,
    "start_time": "2023-12-21T08:24:28.635Z"
   },
   {
    "duration": 4,
    "start_time": "2023-12-21T08:24:28.658Z"
   },
   {
    "duration": 5,
    "start_time": "2023-12-21T08:24:28.663Z"
   },
   {
    "duration": 6,
    "start_time": "2023-12-21T08:24:28.669Z"
   },
   {
    "duration": 5,
    "start_time": "2023-12-21T08:24:28.676Z"
   },
   {
    "duration": 113,
    "start_time": "2023-12-21T08:24:28.682Z"
   },
   {
    "duration": 263,
    "start_time": "2023-12-21T08:24:28.796Z"
   },
   {
    "duration": 16,
    "start_time": "2023-12-21T08:24:29.061Z"
   },
   {
    "duration": 208,
    "start_time": "2023-12-21T08:24:29.078Z"
   },
   {
    "duration": 1838,
    "start_time": "2023-12-21T08:24:29.288Z"
   },
   {
    "duration": 25,
    "start_time": "2023-12-21T08:24:31.128Z"
   },
   {
    "duration": 16,
    "start_time": "2023-12-21T08:24:31.155Z"
   },
   {
    "duration": 43,
    "start_time": "2023-12-21T08:24:31.172Z"
   },
   {
    "duration": 37,
    "start_time": "2023-12-21T08:24:31.216Z"
   },
   {
    "duration": 235,
    "start_time": "2023-12-21T08:24:31.255Z"
   },
   {
    "duration": 1523,
    "start_time": "2023-12-21T08:24:31.492Z"
   },
   {
    "duration": 136,
    "start_time": "2023-12-21T08:24:33.017Z"
   },
   {
    "duration": 127,
    "start_time": "2023-12-21T08:24:33.155Z"
   },
   {
    "duration": 140,
    "start_time": "2023-12-21T08:24:33.283Z"
   },
   {
    "duration": 11,
    "start_time": "2023-12-21T08:24:33.425Z"
   },
   {
    "duration": 156,
    "start_time": "2023-12-21T08:24:33.438Z"
   },
   {
    "duration": 28,
    "start_time": "2023-12-21T08:24:33.600Z"
   },
   {
    "duration": 25,
    "start_time": "2023-12-21T08:24:33.630Z"
   },
   {
    "duration": 13,
    "start_time": "2023-12-21T08:24:33.657Z"
   },
   {
    "duration": 13,
    "start_time": "2023-12-21T08:24:33.672Z"
   },
   {
    "duration": 14,
    "start_time": "2023-12-21T08:24:33.686Z"
   },
   {
    "duration": 40,
    "start_time": "2023-12-21T08:24:33.702Z"
   },
   {
    "duration": 15,
    "start_time": "2023-12-21T08:24:33.744Z"
   },
   {
    "duration": 17,
    "start_time": "2023-12-21T08:24:33.760Z"
   },
   {
    "duration": 12,
    "start_time": "2023-12-21T08:24:33.778Z"
   },
   {
    "duration": 36,
    "start_time": "2023-12-21T08:24:33.791Z"
   },
   {
    "duration": 9,
    "start_time": "2023-12-21T08:24:33.829Z"
   },
   {
    "duration": 8,
    "start_time": "2023-12-21T08:24:33.839Z"
   },
   {
    "duration": 14,
    "start_time": "2023-12-21T08:24:33.849Z"
   },
   {
    "duration": 201,
    "start_time": "2023-12-21T08:25:27.205Z"
   },
   {
    "duration": 83,
    "start_time": "2023-12-21T08:28:12.438Z"
   },
   {
    "duration": 121,
    "start_time": "2023-12-21T08:28:38.077Z"
   },
   {
    "duration": 193,
    "start_time": "2023-12-21T08:30:46.979Z"
   },
   {
    "duration": 7,
    "start_time": "2023-12-21T08:31:31.487Z"
   },
   {
    "duration": 14,
    "start_time": "2023-12-21T08:31:33.727Z"
   },
   {
    "duration": 13,
    "start_time": "2023-12-21T08:31:37.458Z"
   },
   {
    "duration": 1330,
    "start_time": "2023-12-21T08:31:46.920Z"
   },
   {
    "duration": 52,
    "start_time": "2023-12-21T08:31:48.252Z"
   },
   {
    "duration": 18,
    "start_time": "2023-12-21T08:31:48.306Z"
   },
   {
    "duration": 15,
    "start_time": "2023-12-21T08:31:48.326Z"
   },
   {
    "duration": 5,
    "start_time": "2023-12-21T08:31:48.343Z"
   },
   {
    "duration": 19,
    "start_time": "2023-12-21T08:31:48.349Z"
   },
   {
    "duration": 6,
    "start_time": "2023-12-21T08:31:48.369Z"
   },
   {
    "duration": 7,
    "start_time": "2023-12-21T08:31:48.376Z"
   },
   {
    "duration": 30,
    "start_time": "2023-12-21T08:31:48.384Z"
   },
   {
    "duration": 6,
    "start_time": "2023-12-21T08:31:48.415Z"
   },
   {
    "duration": 8,
    "start_time": "2023-12-21T08:31:48.422Z"
   },
   {
    "duration": 24,
    "start_time": "2023-12-21T08:31:48.431Z"
   },
   {
    "duration": 9,
    "start_time": "2023-12-21T08:31:48.457Z"
   },
   {
    "duration": 12,
    "start_time": "2023-12-21T08:31:48.469Z"
   },
   {
    "duration": 17,
    "start_time": "2023-12-21T08:31:48.482Z"
   },
   {
    "duration": 6,
    "start_time": "2023-12-21T08:31:48.511Z"
   },
   {
    "duration": 34,
    "start_time": "2023-12-21T08:31:48.519Z"
   },
   {
    "duration": 8,
    "start_time": "2023-12-21T08:31:48.559Z"
   },
   {
    "duration": 20,
    "start_time": "2023-12-21T08:31:48.568Z"
   },
   {
    "duration": 29,
    "start_time": "2023-12-21T08:31:48.590Z"
   },
   {
    "duration": 7,
    "start_time": "2023-12-21T08:31:48.621Z"
   },
   {
    "duration": 7,
    "start_time": "2023-12-21T08:31:48.630Z"
   },
   {
    "duration": 7,
    "start_time": "2023-12-21T08:31:48.639Z"
   },
   {
    "duration": 6,
    "start_time": "2023-12-21T08:31:48.647Z"
   },
   {
    "duration": 97,
    "start_time": "2023-12-21T08:31:48.655Z"
   },
   {
    "duration": 226,
    "start_time": "2023-12-21T08:31:48.753Z"
   },
   {
    "duration": 17,
    "start_time": "2023-12-21T08:31:48.981Z"
   },
   {
    "duration": 202,
    "start_time": "2023-12-21T08:31:49.012Z"
   },
   {
    "duration": 1851,
    "start_time": "2023-12-21T08:31:49.215Z"
   },
   {
    "duration": 23,
    "start_time": "2023-12-21T08:31:51.068Z"
   },
   {
    "duration": 7,
    "start_time": "2023-12-21T08:31:51.093Z"
   },
   {
    "duration": 18,
    "start_time": "2023-12-21T08:31:51.116Z"
   },
   {
    "duration": 14,
    "start_time": "2023-12-21T08:31:51.135Z"
   },
   {
    "duration": 217,
    "start_time": "2023-12-21T08:31:51.150Z"
   },
   {
    "duration": 1300,
    "start_time": "2023-12-21T08:31:51.369Z"
   },
   {
    "duration": 130,
    "start_time": "2023-12-21T08:31:52.671Z"
   },
   {
    "duration": 127,
    "start_time": "2023-12-21T08:31:52.803Z"
   },
   {
    "duration": 135,
    "start_time": "2023-12-21T08:31:52.931Z"
   },
   {
    "duration": 9,
    "start_time": "2023-12-21T08:31:53.068Z"
   },
   {
    "duration": 138,
    "start_time": "2023-12-21T08:31:53.079Z"
   },
   {
    "duration": 13,
    "start_time": "2023-12-21T08:31:53.221Z"
   },
   {
    "duration": 12,
    "start_time": "2023-12-21T08:31:53.236Z"
   },
   {
    "duration": 13,
    "start_time": "2023-12-21T08:31:53.250Z"
   },
   {
    "duration": 50,
    "start_time": "2023-12-21T08:31:53.264Z"
   },
   {
    "duration": 21,
    "start_time": "2023-12-21T08:31:53.316Z"
   },
   {
    "duration": 25,
    "start_time": "2023-12-21T08:31:53.338Z"
   },
   {
    "duration": 28,
    "start_time": "2023-12-21T08:31:53.365Z"
   },
   {
    "duration": 21,
    "start_time": "2023-12-21T08:31:53.395Z"
   },
   {
    "duration": 13,
    "start_time": "2023-12-21T08:31:53.418Z"
   },
   {
    "duration": 19,
    "start_time": "2023-12-21T08:31:53.433Z"
   },
   {
    "duration": 30,
    "start_time": "2023-12-21T08:31:53.454Z"
   },
   {
    "duration": 8,
    "start_time": "2023-12-21T08:31:53.486Z"
   },
   {
    "duration": 9,
    "start_time": "2023-12-21T08:31:53.510Z"
   },
   {
    "duration": 47,
    "start_time": "2023-12-21T11:20:22.408Z"
   },
   {
    "duration": 1127,
    "start_time": "2023-12-21T11:20:33.935Z"
   },
   {
    "duration": 186,
    "start_time": "2023-12-21T11:20:35.063Z"
   },
   {
    "duration": 18,
    "start_time": "2023-12-21T11:20:35.251Z"
   },
   {
    "duration": 13,
    "start_time": "2023-12-21T11:20:35.270Z"
   },
   {
    "duration": 5,
    "start_time": "2023-12-21T11:20:35.284Z"
   },
   {
    "duration": 27,
    "start_time": "2023-12-21T11:20:35.291Z"
   },
   {
    "duration": 38,
    "start_time": "2023-12-21T11:20:35.320Z"
   },
   {
    "duration": 8,
    "start_time": "2023-12-21T11:20:35.360Z"
   },
   {
    "duration": 11,
    "start_time": "2023-12-21T11:20:35.370Z"
   },
   {
    "duration": 6,
    "start_time": "2023-12-21T11:20:35.384Z"
   },
   {
    "duration": 10,
    "start_time": "2023-12-21T11:20:35.392Z"
   },
   {
    "duration": 18,
    "start_time": "2023-12-21T11:20:35.403Z"
   },
   {
    "duration": 16,
    "start_time": "2023-12-21T11:20:35.422Z"
   },
   {
    "duration": 18,
    "start_time": "2023-12-21T11:20:35.440Z"
   },
   {
    "duration": 12,
    "start_time": "2023-12-21T11:20:35.459Z"
   },
   {
    "duration": 13,
    "start_time": "2023-12-21T11:20:35.472Z"
   },
   {
    "duration": 16,
    "start_time": "2023-12-21T11:20:35.486Z"
   },
   {
    "duration": 6,
    "start_time": "2023-12-21T11:20:35.503Z"
   },
   {
    "duration": 19,
    "start_time": "2023-12-21T11:20:35.510Z"
   },
   {
    "duration": 29,
    "start_time": "2023-12-21T11:20:35.531Z"
   },
   {
    "duration": 5,
    "start_time": "2023-12-21T11:20:35.561Z"
   },
   {
    "duration": 13,
    "start_time": "2023-12-21T11:20:35.567Z"
   },
   {
    "duration": 9,
    "start_time": "2023-12-21T11:20:35.581Z"
   },
   {
    "duration": 26,
    "start_time": "2023-12-21T11:20:35.592Z"
   },
   {
    "duration": 79,
    "start_time": "2023-12-21T11:20:35.619Z"
   },
   {
    "duration": 200,
    "start_time": "2023-12-21T11:20:35.699Z"
   },
   {
    "duration": 16,
    "start_time": "2023-12-21T11:20:35.900Z"
   },
   {
    "duration": 192,
    "start_time": "2023-12-21T11:20:35.919Z"
   },
   {
    "duration": 1604,
    "start_time": "2023-12-21T11:20:36.112Z"
   },
   {
    "duration": 22,
    "start_time": "2023-12-21T11:20:37.718Z"
   },
   {
    "duration": 6,
    "start_time": "2023-12-21T11:20:37.741Z"
   },
   {
    "duration": 13,
    "start_time": "2023-12-21T11:20:37.748Z"
   },
   {
    "duration": 15,
    "start_time": "2023-12-21T11:20:37.763Z"
   },
   {
    "duration": 173,
    "start_time": "2023-12-21T11:20:37.798Z"
   },
   {
    "duration": 1187,
    "start_time": "2023-12-21T11:20:37.972Z"
   },
   {
    "duration": 217,
    "start_time": "2023-12-21T11:20:39.160Z"
   },
   {
    "duration": 9,
    "start_time": "2023-12-21T11:20:39.379Z"
   },
   {
    "duration": 136,
    "start_time": "2023-12-21T11:20:39.399Z"
   },
   {
    "duration": 14,
    "start_time": "2023-12-21T11:20:39.537Z"
   },
   {
    "duration": 25,
    "start_time": "2023-12-21T11:20:39.553Z"
   },
   {
    "duration": 19,
    "start_time": "2023-12-21T11:20:39.580Z"
   },
   {
    "duration": 20,
    "start_time": "2023-12-21T11:20:39.601Z"
   },
   {
    "duration": 10,
    "start_time": "2023-12-21T11:20:39.623Z"
   },
   {
    "duration": 12,
    "start_time": "2023-12-21T11:20:39.635Z"
   },
   {
    "duration": 14,
    "start_time": "2023-12-21T11:20:39.648Z"
   },
   {
    "duration": 11,
    "start_time": "2023-12-21T11:20:39.663Z"
   },
   {
    "duration": 23,
    "start_time": "2023-12-21T11:20:39.676Z"
   },
   {
    "duration": 12,
    "start_time": "2023-12-21T11:20:39.701Z"
   },
   {
    "duration": 19,
    "start_time": "2023-12-21T11:20:39.714Z"
   },
   {
    "duration": 28,
    "start_time": "2023-12-21T11:20:39.734Z"
   },
   {
    "duration": 22,
    "start_time": "2023-12-21T11:20:39.764Z"
   },
   {
    "duration": 244,
    "start_time": "2023-12-21T11:21:59.543Z"
   },
   {
    "duration": 252,
    "start_time": "2023-12-21T11:22:17.565Z"
   },
   {
    "duration": 339,
    "start_time": "2023-12-21T11:22:25.155Z"
   },
   {
    "duration": 259,
    "start_time": "2023-12-21T11:22:32.748Z"
   },
   {
    "duration": 245,
    "start_time": "2023-12-21T11:23:53.449Z"
   },
   {
    "duration": 232,
    "start_time": "2023-12-21T11:24:28.104Z"
   },
   {
    "duration": 303,
    "start_time": "2023-12-21T11:25:04.003Z"
   },
   {
    "duration": 233,
    "start_time": "2023-12-21T11:25:33.005Z"
   },
   {
    "duration": 315,
    "start_time": "2023-12-21T11:26:51.729Z"
   },
   {
    "duration": 242,
    "start_time": "2023-12-21T11:27:02.039Z"
   },
   {
    "duration": 230,
    "start_time": "2023-12-21T11:27:22.147Z"
   },
   {
    "duration": 93,
    "start_time": "2023-12-21T11:32:47.858Z"
   },
   {
    "duration": 2381,
    "start_time": "2023-12-21T11:33:01.928Z"
   },
   {
    "duration": 2352,
    "start_time": "2023-12-21T11:33:56.975Z"
   },
   {
    "duration": 2547,
    "start_time": "2023-12-21T11:36:27.884Z"
   },
   {
    "duration": 2458,
    "start_time": "2023-12-21T11:36:40.416Z"
   },
   {
    "duration": 2544,
    "start_time": "2023-12-21T11:37:01.676Z"
   },
   {
    "duration": 2498,
    "start_time": "2023-12-21T11:37:52.081Z"
   },
   {
    "duration": 1334,
    "start_time": "2023-12-21T11:38:04.729Z"
   },
   {
    "duration": 1194,
    "start_time": "2023-12-21T11:39:28.649Z"
   },
   {
    "duration": 55,
    "start_time": "2023-12-21T11:40:51.968Z"
   },
   {
    "duration": 51,
    "start_time": "2023-12-21T11:49:37.514Z"
   },
   {
    "duration": 53,
    "start_time": "2023-12-21T11:49:42.525Z"
   },
   {
    "duration": 64,
    "start_time": "2023-12-21T11:49:53.017Z"
   },
   {
    "duration": 63,
    "start_time": "2023-12-21T11:52:49.396Z"
   },
   {
    "duration": 65,
    "start_time": "2023-12-21T11:53:37.020Z"
   },
   {
    "duration": 67,
    "start_time": "2023-12-21T11:53:53.276Z"
   },
   {
    "duration": 937,
    "start_time": "2023-12-21T11:56:39.982Z"
   },
   {
    "duration": 810,
    "start_time": "2023-12-21T11:57:46.309Z"
   },
   {
    "duration": 1245,
    "start_time": "2023-12-21T11:58:01.555Z"
   },
   {
    "duration": 19,
    "start_time": "2023-12-21T11:58:11.378Z"
   },
   {
    "duration": 1135,
    "start_time": "2023-12-21T11:58:37.711Z"
   },
   {
    "duration": 138,
    "start_time": "2023-12-21T11:59:47.433Z"
   },
   {
    "duration": 1351,
    "start_time": "2023-12-21T12:00:07.379Z"
   },
   {
    "duration": 82,
    "start_time": "2023-12-21T12:01:40.028Z"
   },
   {
    "duration": 10,
    "start_time": "2023-12-21T12:05:08.766Z"
   },
   {
    "duration": 8,
    "start_time": "2023-12-21T12:05:29.554Z"
   },
   {
    "duration": 8,
    "start_time": "2023-12-21T12:06:01.336Z"
   },
   {
    "duration": 66,
    "start_time": "2023-12-21T12:09:32.141Z"
   },
   {
    "duration": 1068,
    "start_time": "2023-12-21T12:09:54.853Z"
   },
   {
    "duration": 53,
    "start_time": "2023-12-21T12:09:55.923Z"
   },
   {
    "duration": 17,
    "start_time": "2023-12-21T12:09:55.977Z"
   },
   {
    "duration": 15,
    "start_time": "2023-12-21T12:09:55.996Z"
   },
   {
    "duration": 4,
    "start_time": "2023-12-21T12:09:56.012Z"
   },
   {
    "duration": 17,
    "start_time": "2023-12-21T12:09:56.017Z"
   },
   {
    "duration": 5,
    "start_time": "2023-12-21T12:09:56.035Z"
   },
   {
    "duration": 11,
    "start_time": "2023-12-21T12:09:56.041Z"
   },
   {
    "duration": 14,
    "start_time": "2023-12-21T12:09:56.054Z"
   },
   {
    "duration": 8,
    "start_time": "2023-12-21T12:09:56.070Z"
   },
   {
    "duration": 20,
    "start_time": "2023-12-21T12:09:56.079Z"
   },
   {
    "duration": 19,
    "start_time": "2023-12-21T12:09:56.101Z"
   },
   {
    "duration": 9,
    "start_time": "2023-12-21T12:09:56.121Z"
   },
   {
    "duration": 6,
    "start_time": "2023-12-21T12:09:56.131Z"
   },
   {
    "duration": 17,
    "start_time": "2023-12-21T12:09:56.138Z"
   },
   {
    "duration": 14,
    "start_time": "2023-12-21T12:09:56.157Z"
   },
   {
    "duration": 9,
    "start_time": "2023-12-21T12:09:56.173Z"
   },
   {
    "duration": 19,
    "start_time": "2023-12-21T12:09:56.184Z"
   },
   {
    "duration": 14,
    "start_time": "2023-12-21T12:09:56.205Z"
   },
   {
    "duration": 21,
    "start_time": "2023-12-21T12:09:56.222Z"
   },
   {
    "duration": 4,
    "start_time": "2023-12-21T12:09:56.244Z"
   },
   {
    "duration": 7,
    "start_time": "2023-12-21T12:09:56.250Z"
   },
   {
    "duration": 5,
    "start_time": "2023-12-21T12:09:56.259Z"
   },
   {
    "duration": 5,
    "start_time": "2023-12-21T12:09:56.265Z"
   },
   {
    "duration": 90,
    "start_time": "2023-12-21T12:09:56.272Z"
   },
   {
    "duration": 213,
    "start_time": "2023-12-21T12:09:56.363Z"
   },
   {
    "duration": 23,
    "start_time": "2023-12-21T12:09:56.577Z"
   },
   {
    "duration": 195,
    "start_time": "2023-12-21T12:09:56.604Z"
   },
   {
    "duration": 1601,
    "start_time": "2023-12-21T12:09:56.800Z"
   },
   {
    "duration": 22,
    "start_time": "2023-12-21T12:09:58.402Z"
   },
   {
    "duration": 6,
    "start_time": "2023-12-21T12:09:58.425Z"
   },
   {
    "duration": 13,
    "start_time": "2023-12-21T12:09:58.432Z"
   },
   {
    "duration": 11,
    "start_time": "2023-12-21T12:09:58.447Z"
   },
   {
    "duration": 192,
    "start_time": "2023-12-21T12:09:58.460Z"
   },
   {
    "duration": 1174,
    "start_time": "2023-12-21T12:09:58.653Z"
   },
   {
    "duration": 247,
    "start_time": "2023-12-21T12:09:59.829Z"
   },
   {
    "duration": 265,
    "start_time": "2023-12-21T12:10:00.078Z"
   },
   {
    "duration": 1295,
    "start_time": "2023-12-21T12:10:00.345Z"
   },
   {
    "duration": 1313,
    "start_time": "2023-12-21T12:10:01.642Z"
   },
   {
    "duration": 14,
    "start_time": "2023-12-21T12:10:02.956Z"
   },
   {
    "duration": 31,
    "start_time": "2023-12-21T12:10:02.972Z"
   },
   {
    "duration": 62,
    "start_time": "2023-12-21T12:10:03.005Z"
   },
   {
    "duration": 49,
    "start_time": "2023-12-21T12:10:03.068Z"
   },
   {
    "duration": 14,
    "start_time": "2023-12-21T12:10:03.118Z"
   },
   {
    "duration": 11,
    "start_time": "2023-12-21T12:10:03.134Z"
   },
   {
    "duration": 21,
    "start_time": "2023-12-21T12:10:03.147Z"
   },
   {
    "duration": 40,
    "start_time": "2023-12-21T12:10:03.170Z"
   },
   {
    "duration": 23,
    "start_time": "2023-12-21T12:10:03.211Z"
   },
   {
    "duration": 41,
    "start_time": "2023-12-21T12:10:03.236Z"
   },
   {
    "duration": 69,
    "start_time": "2023-12-21T12:10:03.278Z"
   },
   {
    "duration": 48,
    "start_time": "2023-12-21T12:10:03.348Z"
   },
   {
    "duration": 94,
    "start_time": "2023-12-21T12:10:03.397Z"
   },
   {
    "duration": 57,
    "start_time": "2023-12-21T12:11:01.522Z"
   },
   {
    "duration": 9,
    "start_time": "2023-12-21T12:11:15.770Z"
   },
   {
    "duration": 8,
    "start_time": "2023-12-21T12:11:40.311Z"
   },
   {
    "duration": 1020,
    "start_time": "2023-12-21T12:17:40.512Z"
   },
   {
    "duration": 52,
    "start_time": "2023-12-21T12:17:41.534Z"
   },
   {
    "duration": 17,
    "start_time": "2023-12-21T12:17:41.588Z"
   },
   {
    "duration": 13,
    "start_time": "2023-12-21T12:17:41.606Z"
   },
   {
    "duration": 13,
    "start_time": "2023-12-21T12:17:41.620Z"
   },
   {
    "duration": 17,
    "start_time": "2023-12-21T12:17:41.634Z"
   },
   {
    "duration": 5,
    "start_time": "2023-12-21T12:17:41.652Z"
   },
   {
    "duration": 4,
    "start_time": "2023-12-21T12:17:41.659Z"
   },
   {
    "duration": 12,
    "start_time": "2023-12-21T12:17:41.665Z"
   },
   {
    "duration": 16,
    "start_time": "2023-12-21T12:17:41.678Z"
   },
   {
    "duration": 8,
    "start_time": "2023-12-21T12:17:41.696Z"
   },
   {
    "duration": 16,
    "start_time": "2023-12-21T12:17:41.706Z"
   },
   {
    "duration": 10,
    "start_time": "2023-12-21T12:17:41.724Z"
   },
   {
    "duration": 6,
    "start_time": "2023-12-21T12:17:41.737Z"
   },
   {
    "duration": 17,
    "start_time": "2023-12-21T12:17:41.745Z"
   },
   {
    "duration": 34,
    "start_time": "2023-12-21T12:17:41.763Z"
   },
   {
    "duration": 25,
    "start_time": "2023-12-21T12:17:41.798Z"
   },
   {
    "duration": 6,
    "start_time": "2023-12-21T12:17:41.824Z"
   },
   {
    "duration": 15,
    "start_time": "2023-12-21T12:17:41.831Z"
   },
   {
    "duration": 22,
    "start_time": "2023-12-21T12:17:41.847Z"
   },
   {
    "duration": 6,
    "start_time": "2023-12-21T12:17:41.870Z"
   },
   {
    "duration": 10,
    "start_time": "2023-12-21T12:17:41.877Z"
   },
   {
    "duration": 6,
    "start_time": "2023-12-21T12:17:41.899Z"
   },
   {
    "duration": 14,
    "start_time": "2023-12-21T12:17:41.907Z"
   },
   {
    "duration": 83,
    "start_time": "2023-12-21T12:17:41.922Z"
   },
   {
    "duration": 193,
    "start_time": "2023-12-21T12:17:42.006Z"
   },
   {
    "duration": 15,
    "start_time": "2023-12-21T12:17:42.200Z"
   },
   {
    "duration": 189,
    "start_time": "2023-12-21T12:17:42.217Z"
   },
   {
    "duration": 1604,
    "start_time": "2023-12-21T12:17:42.407Z"
   },
   {
    "duration": 22,
    "start_time": "2023-12-21T12:17:44.012Z"
   },
   {
    "duration": 9,
    "start_time": "2023-12-21T12:17:44.035Z"
   },
   {
    "duration": 41,
    "start_time": "2023-12-21T12:17:44.045Z"
   },
   {
    "duration": 17,
    "start_time": "2023-12-21T12:17:44.088Z"
   },
   {
    "duration": 199,
    "start_time": "2023-12-21T12:17:44.106Z"
   },
   {
    "duration": 1186,
    "start_time": "2023-12-21T12:17:44.307Z"
   },
   {
    "duration": 244,
    "start_time": "2023-12-21T12:17:45.498Z"
   },
   {
    "duration": 248,
    "start_time": "2023-12-21T12:17:45.744Z"
   },
   {
    "duration": 1283,
    "start_time": "2023-12-21T12:17:45.993Z"
   },
   {
    "duration": 1287,
    "start_time": "2023-12-21T12:17:47.278Z"
   },
   {
    "duration": 12,
    "start_time": "2023-12-21T12:17:48.566Z"
   },
   {
    "duration": 24,
    "start_time": "2023-12-21T12:17:48.581Z"
   },
   {
    "duration": 29,
    "start_time": "2023-12-21T12:17:48.606Z"
   },
   {
    "duration": 12,
    "start_time": "2023-12-21T12:17:48.637Z"
   },
   {
    "duration": 36,
    "start_time": "2023-12-21T12:17:48.651Z"
   },
   {
    "duration": 22,
    "start_time": "2023-12-21T12:17:48.688Z"
   },
   {
    "duration": 28,
    "start_time": "2023-12-21T12:17:48.711Z"
   },
   {
    "duration": 12,
    "start_time": "2023-12-21T12:17:48.740Z"
   },
   {
    "duration": 12,
    "start_time": "2023-12-21T12:17:48.754Z"
   },
   {
    "duration": 16,
    "start_time": "2023-12-21T12:17:48.767Z"
   },
   {
    "duration": 60,
    "start_time": "2023-12-21T12:17:48.784Z"
   },
   {
    "duration": 28,
    "start_time": "2023-12-21T12:17:48.845Z"
   },
   {
    "duration": 10,
    "start_time": "2023-12-21T12:17:48.875Z"
   },
   {
    "duration": 1090,
    "start_time": "2023-12-21T23:12:42.280Z"
   },
   {
    "duration": 55,
    "start_time": "2023-12-21T23:12:43.372Z"
   },
   {
    "duration": 17,
    "start_time": "2023-12-21T23:12:43.429Z"
   },
   {
    "duration": 29,
    "start_time": "2023-12-21T23:12:43.448Z"
   },
   {
    "duration": 4,
    "start_time": "2023-12-21T23:12:43.479Z"
   },
   {
    "duration": 19,
    "start_time": "2023-12-21T23:12:43.485Z"
   },
   {
    "duration": 10,
    "start_time": "2023-12-21T23:12:43.506Z"
   },
   {
    "duration": 5,
    "start_time": "2023-12-21T23:12:43.517Z"
   },
   {
    "duration": 9,
    "start_time": "2023-12-21T23:12:43.524Z"
   },
   {
    "duration": 5,
    "start_time": "2023-12-21T23:12:43.534Z"
   },
   {
    "duration": 15,
    "start_time": "2023-12-21T23:12:43.540Z"
   },
   {
    "duration": 17,
    "start_time": "2023-12-21T23:12:43.556Z"
   },
   {
    "duration": 9,
    "start_time": "2023-12-21T23:12:43.574Z"
   },
   {
    "duration": 5,
    "start_time": "2023-12-21T23:12:43.586Z"
   },
   {
    "duration": 28,
    "start_time": "2023-12-21T23:12:43.592Z"
   },
   {
    "duration": 4,
    "start_time": "2023-12-21T23:12:43.622Z"
   },
   {
    "duration": 24,
    "start_time": "2023-12-21T23:12:43.628Z"
   },
   {
    "duration": 6,
    "start_time": "2023-12-21T23:12:43.653Z"
   },
   {
    "duration": 13,
    "start_time": "2023-12-21T23:12:43.661Z"
   },
   {
    "duration": 21,
    "start_time": "2023-12-21T23:12:43.675Z"
   },
   {
    "duration": 18,
    "start_time": "2023-12-21T23:12:43.697Z"
   },
   {
    "duration": 5,
    "start_time": "2023-12-21T23:12:43.716Z"
   },
   {
    "duration": 5,
    "start_time": "2023-12-21T23:12:43.722Z"
   },
   {
    "duration": 9,
    "start_time": "2023-12-21T23:12:43.729Z"
   },
   {
    "duration": 101,
    "start_time": "2023-12-21T23:12:43.739Z"
   },
   {
    "duration": 211,
    "start_time": "2023-12-21T23:12:43.842Z"
   },
   {
    "duration": 16,
    "start_time": "2023-12-21T23:12:44.055Z"
   },
   {
    "duration": 209,
    "start_time": "2023-12-21T23:12:44.072Z"
   },
   {
    "duration": 1801,
    "start_time": "2023-12-21T23:12:44.283Z"
   },
   {
    "duration": 29,
    "start_time": "2023-12-21T23:12:46.086Z"
   },
   {
    "duration": 5,
    "start_time": "2023-12-21T23:12:46.117Z"
   },
   {
    "duration": 14,
    "start_time": "2023-12-21T23:12:46.123Z"
   },
   {
    "duration": 13,
    "start_time": "2023-12-21T23:12:46.138Z"
   },
   {
    "duration": 218,
    "start_time": "2023-12-21T23:12:46.153Z"
   },
   {
    "duration": 1274,
    "start_time": "2023-12-21T23:12:46.373Z"
   },
   {
    "duration": 270,
    "start_time": "2023-12-21T23:12:47.649Z"
   },
   {
    "duration": 264,
    "start_time": "2023-12-21T23:12:47.920Z"
   },
   {
    "duration": 1350,
    "start_time": "2023-12-21T23:12:48.186Z"
   },
   {
    "duration": 1361,
    "start_time": "2023-12-21T23:12:49.537Z"
   },
   {
    "duration": 21,
    "start_time": "2023-12-21T23:12:50.899Z"
   },
   {
    "duration": 16,
    "start_time": "2023-12-21T23:12:50.924Z"
   },
   {
    "duration": 12,
    "start_time": "2023-12-21T23:12:50.941Z"
   },
   {
    "duration": 12,
    "start_time": "2023-12-21T23:12:50.955Z"
   },
   {
    "duration": 12,
    "start_time": "2023-12-21T23:12:50.968Z"
   },
   {
    "duration": 44,
    "start_time": "2023-12-21T23:12:50.981Z"
   },
   {
    "duration": 24,
    "start_time": "2023-12-21T23:12:51.026Z"
   },
   {
    "duration": 28,
    "start_time": "2023-12-21T23:12:51.051Z"
   },
   {
    "duration": 12,
    "start_time": "2023-12-21T23:12:51.080Z"
   },
   {
    "duration": 23,
    "start_time": "2023-12-21T23:12:51.093Z"
   },
   {
    "duration": 46,
    "start_time": "2023-12-21T23:12:51.118Z"
   },
   {
    "duration": 8,
    "start_time": "2023-12-21T23:12:51.166Z"
   },
   {
    "duration": 22,
    "start_time": "2023-12-21T23:12:51.175Z"
   },
   {
    "duration": 1140,
    "start_time": "2023-12-21T23:25:37.513Z"
   },
   {
    "duration": 55,
    "start_time": "2023-12-21T23:25:38.655Z"
   },
   {
    "duration": 17,
    "start_time": "2023-12-21T23:25:38.712Z"
   },
   {
    "duration": 12,
    "start_time": "2023-12-21T23:25:38.731Z"
   },
   {
    "duration": 10,
    "start_time": "2023-12-21T23:25:38.745Z"
   },
   {
    "duration": 15,
    "start_time": "2023-12-21T23:25:38.756Z"
   },
   {
    "duration": 5,
    "start_time": "2023-12-21T23:25:38.773Z"
   },
   {
    "duration": 5,
    "start_time": "2023-12-21T23:25:38.779Z"
   },
   {
    "duration": 9,
    "start_time": "2023-12-21T23:25:38.785Z"
   },
   {
    "duration": 6,
    "start_time": "2023-12-21T23:25:38.814Z"
   },
   {
    "duration": 8,
    "start_time": "2023-12-21T23:25:38.821Z"
   },
   {
    "duration": 16,
    "start_time": "2023-12-21T23:25:38.830Z"
   },
   {
    "duration": 9,
    "start_time": "2023-12-21T23:25:38.847Z"
   },
   {
    "duration": 5,
    "start_time": "2023-12-21T23:25:38.859Z"
   },
   {
    "duration": 7,
    "start_time": "2023-12-21T23:25:38.865Z"
   },
   {
    "duration": 4,
    "start_time": "2023-12-21T23:25:38.874Z"
   },
   {
    "duration": 39,
    "start_time": "2023-12-21T23:25:38.880Z"
   },
   {
    "duration": 6,
    "start_time": "2023-12-21T23:25:38.920Z"
   },
   {
    "duration": 14,
    "start_time": "2023-12-21T23:25:38.927Z"
   },
   {
    "duration": 18,
    "start_time": "2023-12-21T23:25:38.942Z"
   },
   {
    "duration": 5,
    "start_time": "2023-12-21T23:25:38.961Z"
   },
   {
    "duration": 6,
    "start_time": "2023-12-21T23:25:38.967Z"
   },
   {
    "duration": 8,
    "start_time": "2023-12-21T23:25:38.975Z"
   },
   {
    "duration": 5,
    "start_time": "2023-12-21T23:25:39.016Z"
   },
   {
    "duration": 95,
    "start_time": "2023-12-21T23:25:39.022Z"
   },
   {
    "duration": 221,
    "start_time": "2023-12-21T23:25:39.118Z"
   },
   {
    "duration": 19,
    "start_time": "2023-12-21T23:25:39.341Z"
   },
   {
    "duration": 202,
    "start_time": "2023-12-21T23:25:39.361Z"
   },
   {
    "duration": 1773,
    "start_time": "2023-12-21T23:25:39.565Z"
   },
   {
    "duration": 22,
    "start_time": "2023-12-21T23:25:41.340Z"
   },
   {
    "duration": 5,
    "start_time": "2023-12-21T23:25:41.363Z"
   },
   {
    "duration": 17,
    "start_time": "2023-12-21T23:25:41.370Z"
   },
   {
    "duration": 30,
    "start_time": "2023-12-21T23:25:41.389Z"
   },
   {
    "duration": 194,
    "start_time": "2023-12-21T23:25:41.420Z"
   },
   {
    "duration": 1231,
    "start_time": "2023-12-21T23:25:41.616Z"
   },
   {
    "duration": 285,
    "start_time": "2023-12-21T23:25:42.849Z"
   },
   {
    "duration": 259,
    "start_time": "2023-12-21T23:25:43.135Z"
   },
   {
    "duration": 1351,
    "start_time": "2023-12-21T23:25:43.396Z"
   },
   {
    "duration": 1399,
    "start_time": "2023-12-21T23:25:44.748Z"
   },
   {
    "duration": 13,
    "start_time": "2023-12-21T23:25:46.149Z"
   },
   {
    "duration": 13,
    "start_time": "2023-12-21T23:25:46.165Z"
   },
   {
    "duration": 12,
    "start_time": "2023-12-21T23:25:46.179Z"
   },
   {
    "duration": 13,
    "start_time": "2023-12-21T23:25:46.214Z"
   },
   {
    "duration": 12,
    "start_time": "2023-12-21T23:25:46.229Z"
   },
   {
    "duration": 17,
    "start_time": "2023-12-21T23:25:46.243Z"
   },
   {
    "duration": 32,
    "start_time": "2023-12-21T23:25:46.262Z"
   },
   {
    "duration": 33,
    "start_time": "2023-12-21T23:25:46.296Z"
   },
   {
    "duration": 16,
    "start_time": "2023-12-21T23:25:46.331Z"
   },
   {
    "duration": 14,
    "start_time": "2023-12-21T23:25:46.349Z"
   },
   {
    "duration": 13,
    "start_time": "2023-12-21T23:25:46.364Z"
   },
   {
    "duration": 9,
    "start_time": "2023-12-21T23:25:46.378Z"
   },
   {
    "duration": 26,
    "start_time": "2023-12-21T23:25:46.389Z"
   },
   {
    "duration": 94,
    "start_time": "2023-12-21T23:28:39.858Z"
   },
   {
    "duration": 19,
    "start_time": "2023-12-21T23:29:02.109Z"
   },
   {
    "duration": 84,
    "start_time": "2023-12-22T13:26:07.084Z"
   },
   {
    "duration": 24,
    "start_time": "2023-12-22T13:27:58.726Z"
   },
   {
    "duration": 1494,
    "start_time": "2023-12-22T13:28:07.001Z"
   },
   {
    "duration": 216,
    "start_time": "2023-12-22T13:28:08.498Z"
   },
   {
    "duration": 27,
    "start_time": "2023-12-22T13:28:08.716Z"
   },
   {
    "duration": 19,
    "start_time": "2023-12-22T13:28:08.749Z"
   },
   {
    "duration": 7,
    "start_time": "2023-12-22T13:28:08.770Z"
   },
   {
    "duration": 14,
    "start_time": "2023-12-22T13:28:08.780Z"
   },
   {
    "duration": 20,
    "start_time": "2023-12-22T13:28:08.797Z"
   },
   {
    "duration": 59,
    "start_time": "2023-12-22T13:28:08.820Z"
   },
   {
    "duration": 19,
    "start_time": "2023-12-22T13:28:08.882Z"
   },
   {
    "duration": 26,
    "start_time": "2023-12-22T13:28:08.905Z"
   },
   {
    "duration": 24,
    "start_time": "2023-12-22T13:28:08.934Z"
   },
   {
    "duration": 26,
    "start_time": "2023-12-22T13:28:08.966Z"
   },
   {
    "duration": 15,
    "start_time": "2023-12-22T13:28:08.994Z"
   },
   {
    "duration": 15,
    "start_time": "2023-12-22T13:28:09.011Z"
   },
   {
    "duration": 20,
    "start_time": "2023-12-22T13:28:09.028Z"
   },
   {
    "duration": 23,
    "start_time": "2023-12-22T13:28:09.050Z"
   },
   {
    "duration": 17,
    "start_time": "2023-12-22T13:28:09.075Z"
   },
   {
    "duration": 14,
    "start_time": "2023-12-22T13:28:09.094Z"
   },
   {
    "duration": 23,
    "start_time": "2023-12-22T13:28:09.110Z"
   },
   {
    "duration": 52,
    "start_time": "2023-12-22T13:28:09.136Z"
   },
   {
    "duration": 7,
    "start_time": "2023-12-22T13:28:09.190Z"
   },
   {
    "duration": 24,
    "start_time": "2023-12-22T13:28:09.199Z"
   },
   {
    "duration": 24,
    "start_time": "2023-12-22T13:28:09.225Z"
   },
   {
    "duration": 11,
    "start_time": "2023-12-22T13:28:09.250Z"
   },
   {
    "duration": 44,
    "start_time": "2023-12-22T13:28:09.263Z"
   },
   {
    "duration": 134,
    "start_time": "2023-12-22T13:28:09.309Z"
   },
   {
    "duration": 317,
    "start_time": "2023-12-22T13:28:09.445Z"
   },
   {
    "duration": 19,
    "start_time": "2023-12-22T13:28:09.766Z"
   },
   {
    "duration": 257,
    "start_time": "2023-12-22T13:28:09.787Z"
   },
   {
    "duration": 2276,
    "start_time": "2023-12-22T13:28:10.046Z"
   },
   {
    "duration": 43,
    "start_time": "2023-12-22T13:28:12.324Z"
   },
   {
    "duration": 9,
    "start_time": "2023-12-22T13:28:12.369Z"
   },
   {
    "duration": 39,
    "start_time": "2023-12-22T13:28:12.380Z"
   },
   {
    "duration": 37,
    "start_time": "2023-12-22T13:28:12.421Z"
   },
   {
    "duration": 235,
    "start_time": "2023-12-22T13:28:12.460Z"
   },
   {
    "duration": 1617,
    "start_time": "2023-12-22T13:28:12.697Z"
   },
   {
    "duration": 348,
    "start_time": "2023-12-22T13:28:14.317Z"
   },
   {
    "duration": 352,
    "start_time": "2023-12-22T13:28:14.668Z"
   },
   {
    "duration": 1840,
    "start_time": "2023-12-22T13:28:15.022Z"
   },
   {
    "duration": 296,
    "start_time": "2023-12-22T13:28:16.864Z"
   },
   {
    "duration": 1,
    "start_time": "2023-12-22T13:28:17.162Z"
   },
   {
    "duration": 0,
    "start_time": "2023-12-22T13:28:17.164Z"
   },
   {
    "duration": 0,
    "start_time": "2023-12-22T13:28:17.166Z"
   },
   {
    "duration": 0,
    "start_time": "2023-12-22T13:28:17.167Z"
   },
   {
    "duration": 0,
    "start_time": "2023-12-22T13:28:17.169Z"
   },
   {
    "duration": 0,
    "start_time": "2023-12-22T13:28:17.170Z"
   },
   {
    "duration": 0,
    "start_time": "2023-12-22T13:28:17.171Z"
   },
   {
    "duration": 0,
    "start_time": "2023-12-22T13:28:17.173Z"
   },
   {
    "duration": 0,
    "start_time": "2023-12-22T13:28:17.174Z"
   },
   {
    "duration": 0,
    "start_time": "2023-12-22T13:28:17.176Z"
   },
   {
    "duration": 0,
    "start_time": "2023-12-22T13:28:17.177Z"
   },
   {
    "duration": 0,
    "start_time": "2023-12-22T13:28:17.178Z"
   },
   {
    "duration": 0,
    "start_time": "2023-12-22T13:28:17.180Z"
   },
   {
    "duration": 1627,
    "start_time": "2023-12-22T13:29:40.255Z"
   },
   {
    "duration": 1812,
    "start_time": "2023-12-22T13:30:19.130Z"
   },
   {
    "duration": 325,
    "start_time": "2023-12-22T13:32:06.350Z"
   },
   {
    "duration": 342,
    "start_time": "2023-12-22T13:33:48.614Z"
   },
   {
    "duration": 493,
    "start_time": "2023-12-22T13:33:59.200Z"
   },
   {
    "duration": 65,
    "start_time": "2023-12-22T13:35:01.208Z"
   },
   {
    "duration": 32,
    "start_time": "2023-12-22T13:37:21.332Z"
   },
   {
    "duration": 9,
    "start_time": "2023-12-22T13:39:32.560Z"
   },
   {
    "duration": 235,
    "start_time": "2023-12-22T13:40:02.544Z"
   },
   {
    "duration": 1683,
    "start_time": "2023-12-22T13:40:13.326Z"
   },
   {
    "duration": 320,
    "start_time": "2023-12-22T13:41:44.853Z"
   },
   {
    "duration": 1532,
    "start_time": "2023-12-22T13:44:56.628Z"
   },
   {
    "duration": 83,
    "start_time": "2023-12-22T13:44:58.163Z"
   },
   {
    "duration": 35,
    "start_time": "2023-12-22T13:44:58.248Z"
   },
   {
    "duration": 25,
    "start_time": "2023-12-22T13:44:58.287Z"
   },
   {
    "duration": 22,
    "start_time": "2023-12-22T13:44:58.315Z"
   },
   {
    "duration": 30,
    "start_time": "2023-12-22T13:44:58.340Z"
   },
   {
    "duration": 8,
    "start_time": "2023-12-22T13:44:58.372Z"
   },
   {
    "duration": 11,
    "start_time": "2023-12-22T13:44:58.382Z"
   },
   {
    "duration": 42,
    "start_time": "2023-12-22T13:44:58.395Z"
   },
   {
    "duration": 8,
    "start_time": "2023-12-22T13:44:58.452Z"
   },
   {
    "duration": 11,
    "start_time": "2023-12-22T13:44:58.462Z"
   },
   {
    "duration": 37,
    "start_time": "2023-12-22T13:44:58.475Z"
   },
   {
    "duration": 17,
    "start_time": "2023-12-22T13:44:58.514Z"
   },
   {
    "duration": 20,
    "start_time": "2023-12-22T13:44:58.533Z"
   },
   {
    "duration": 15,
    "start_time": "2023-12-22T13:44:58.557Z"
   },
   {
    "duration": 10,
    "start_time": "2023-12-22T13:44:58.574Z"
   },
   {
    "duration": 21,
    "start_time": "2023-12-22T13:44:58.587Z"
   },
   {
    "duration": 22,
    "start_time": "2023-12-22T13:44:58.610Z"
   },
   {
    "duration": 22,
    "start_time": "2023-12-22T13:44:58.639Z"
   },
   {
    "duration": 22,
    "start_time": "2023-12-22T13:44:58.663Z"
   },
   {
    "duration": 8,
    "start_time": "2023-12-22T13:44:58.687Z"
   },
   {
    "duration": 23,
    "start_time": "2023-12-22T13:44:58.697Z"
   },
   {
    "duration": 17,
    "start_time": "2023-12-22T13:44:58.735Z"
   },
   {
    "duration": 7,
    "start_time": "2023-12-22T13:44:58.755Z"
   },
   {
    "duration": 68,
    "start_time": "2023-12-22T13:44:58.764Z"
   },
   {
    "duration": 152,
    "start_time": "2023-12-22T13:44:58.841Z"
   },
   {
    "duration": 363,
    "start_time": "2023-12-22T13:44:58.996Z"
   },
   {
    "duration": 28,
    "start_time": "2023-12-22T13:44:59.374Z"
   },
   {
    "duration": 353,
    "start_time": "2023-12-22T13:44:59.405Z"
   },
   {
    "duration": 3246,
    "start_time": "2023-12-22T13:44:59.761Z"
   },
   {
    "duration": 54,
    "start_time": "2023-12-22T13:45:03.010Z"
   },
   {
    "duration": 23,
    "start_time": "2023-12-22T13:45:03.067Z"
   },
   {
    "duration": 105,
    "start_time": "2023-12-22T13:45:03.093Z"
   },
   {
    "duration": 64,
    "start_time": "2023-12-22T13:45:03.200Z"
   },
   {
    "duration": 331,
    "start_time": "2023-12-22T13:45:03.267Z"
   },
   {
    "duration": 1738,
    "start_time": "2023-12-22T13:45:03.601Z"
   },
   {
    "duration": 359,
    "start_time": "2023-12-22T13:45:05.341Z"
   },
   {
    "duration": 466,
    "start_time": "2023-12-22T13:45:05.703Z"
   },
   {
    "duration": 490,
    "start_time": "2023-12-22T13:45:06.172Z"
   },
   {
    "duration": 2643,
    "start_time": "2023-12-22T13:45:06.665Z"
   },
   {
    "duration": 2331,
    "start_time": "2023-12-22T13:45:09.312Z"
   },
   {
    "duration": 519,
    "start_time": "2023-12-22T13:45:11.645Z"
   },
   {
    "duration": 18,
    "start_time": "2023-12-22T13:45:12.166Z"
   },
   {
    "duration": 26,
    "start_time": "2023-12-22T13:45:12.186Z"
   },
   {
    "duration": 54,
    "start_time": "2023-12-22T13:45:12.214Z"
   },
   {
    "duration": 18,
    "start_time": "2023-12-22T13:45:12.271Z"
   },
   {
    "duration": 21,
    "start_time": "2023-12-22T13:45:12.292Z"
   },
   {
    "duration": 27,
    "start_time": "2023-12-22T13:45:12.331Z"
   },
   {
    "duration": 21,
    "start_time": "2023-12-22T13:45:12.363Z"
   },
   {
    "duration": 20,
    "start_time": "2023-12-22T13:45:12.386Z"
   },
   {
    "duration": 54,
    "start_time": "2023-12-22T13:45:12.408Z"
   },
   {
    "duration": 13,
    "start_time": "2023-12-22T13:45:12.464Z"
   },
   {
    "duration": 20,
    "start_time": "2023-12-22T13:45:12.479Z"
   },
   {
    "duration": 14,
    "start_time": "2023-12-22T13:45:12.502Z"
   },
   {
    "duration": 14,
    "start_time": "2023-12-22T13:45:12.532Z"
   },
   {
    "duration": 1261,
    "start_time": "2023-12-22T13:51:20.329Z"
   },
   {
    "duration": 76,
    "start_time": "2023-12-22T13:51:21.592Z"
   },
   {
    "duration": 30,
    "start_time": "2023-12-22T13:51:21.671Z"
   },
   {
    "duration": 29,
    "start_time": "2023-12-22T13:51:21.704Z"
   },
   {
    "duration": 7,
    "start_time": "2023-12-22T13:51:21.735Z"
   },
   {
    "duration": 28,
    "start_time": "2023-12-22T13:51:21.744Z"
   },
   {
    "duration": 7,
    "start_time": "2023-12-22T13:51:21.774Z"
   },
   {
    "duration": 6,
    "start_time": "2023-12-22T13:51:21.783Z"
   },
   {
    "duration": 13,
    "start_time": "2023-12-22T13:51:21.791Z"
   },
   {
    "duration": 19,
    "start_time": "2023-12-22T13:51:21.833Z"
   },
   {
    "duration": 11,
    "start_time": "2023-12-22T13:51:21.856Z"
   },
   {
    "duration": 28,
    "start_time": "2023-12-22T13:51:21.869Z"
   },
   {
    "duration": 12,
    "start_time": "2023-12-22T13:51:21.898Z"
   },
   {
    "duration": 13,
    "start_time": "2023-12-22T13:51:21.912Z"
   },
   {
    "duration": 18,
    "start_time": "2023-12-22T13:51:21.927Z"
   },
   {
    "duration": 11,
    "start_time": "2023-12-22T13:51:21.952Z"
   },
   {
    "duration": 26,
    "start_time": "2023-12-22T13:51:21.965Z"
   },
   {
    "duration": 9,
    "start_time": "2023-12-22T13:51:21.993Z"
   },
   {
    "duration": 28,
    "start_time": "2023-12-22T13:51:22.004Z"
   },
   {
    "duration": 26,
    "start_time": "2023-12-22T13:51:22.033Z"
   },
   {
    "duration": 10,
    "start_time": "2023-12-22T13:51:22.061Z"
   },
   {
    "duration": 12,
    "start_time": "2023-12-22T13:51:22.073Z"
   },
   {
    "duration": 10,
    "start_time": "2023-12-22T13:51:22.087Z"
   },
   {
    "duration": 16,
    "start_time": "2023-12-22T13:51:22.099Z"
   },
   {
    "duration": 31,
    "start_time": "2023-12-22T13:51:22.133Z"
   },
   {
    "duration": 143,
    "start_time": "2023-12-22T13:51:22.167Z"
   },
   {
    "duration": 249,
    "start_time": "2023-12-22T13:51:22.312Z"
   },
   {
    "duration": 19,
    "start_time": "2023-12-22T13:51:22.565Z"
   },
   {
    "duration": 249,
    "start_time": "2023-12-22T13:51:22.585Z"
   },
   {
    "duration": 2202,
    "start_time": "2023-12-22T13:51:22.836Z"
   },
   {
    "duration": 38,
    "start_time": "2023-12-22T13:51:25.044Z"
   },
   {
    "duration": 8,
    "start_time": "2023-12-22T13:51:25.084Z"
   },
   {
    "duration": 28,
    "start_time": "2023-12-22T13:51:25.094Z"
   },
   {
    "duration": 29,
    "start_time": "2023-12-22T13:51:25.133Z"
   },
   {
    "duration": 235,
    "start_time": "2023-12-22T13:51:25.164Z"
   },
   {
    "duration": 1724,
    "start_time": "2023-12-22T13:51:25.401Z"
   },
   {
    "duration": 359,
    "start_time": "2023-12-22T13:51:27.131Z"
   },
   {
    "duration": 362,
    "start_time": "2023-12-22T13:51:27.492Z"
   },
   {
    "duration": 317,
    "start_time": "2023-12-22T13:51:27.856Z"
   },
   {
    "duration": 1923,
    "start_time": "2023-12-22T13:51:28.176Z"
   },
   {
    "duration": 1800,
    "start_time": "2023-12-22T13:51:30.102Z"
   },
   {
    "duration": 358,
    "start_time": "2023-12-22T13:51:31.903Z"
   },
   {
    "duration": 17,
    "start_time": "2023-12-22T13:51:32.262Z"
   },
   {
    "duration": 202,
    "start_time": "2023-12-22T13:51:32.281Z"
   },
   {
    "duration": 202,
    "start_time": "2023-12-22T13:51:32.485Z"
   },
   {
    "duration": 105,
    "start_time": "2023-12-22T13:51:32.689Z"
   },
   {
    "duration": 46,
    "start_time": "2023-12-22T13:51:32.797Z"
   },
   {
    "duration": 24,
    "start_time": "2023-12-22T13:51:32.845Z"
   },
   {
    "duration": 19,
    "start_time": "2023-12-22T13:51:32.871Z"
   },
   {
    "duration": 50,
    "start_time": "2023-12-22T13:51:32.892Z"
   },
   {
    "duration": 19,
    "start_time": "2023-12-22T13:51:32.944Z"
   },
   {
    "duration": 12,
    "start_time": "2023-12-22T13:51:32.965Z"
   },
   {
    "duration": 14,
    "start_time": "2023-12-22T13:51:32.979Z"
   },
   {
    "duration": 20,
    "start_time": "2023-12-22T13:51:32.995Z"
   },
   {
    "duration": 18,
    "start_time": "2023-12-22T13:51:33.033Z"
   },
   {
    "duration": 51,
    "start_time": "2023-12-22T13:53:55.056Z"
   },
   {
    "duration": 1078,
    "start_time": "2023-12-22T19:16:43.827Z"
   },
   {
    "duration": 55,
    "start_time": "2023-12-22T19:16:44.907Z"
   },
   {
    "duration": 17,
    "start_time": "2023-12-22T19:16:44.964Z"
   },
   {
    "duration": 87,
    "start_time": "2023-12-22T19:16:44.982Z"
   },
   {
    "duration": 23,
    "start_time": "2023-12-22T19:16:45.071Z"
   },
   {
    "duration": 31,
    "start_time": "2023-12-22T19:16:45.095Z"
   },
   {
    "duration": 11,
    "start_time": "2023-12-22T19:16:45.127Z"
   },
   {
    "duration": 15,
    "start_time": "2023-12-22T19:16:45.139Z"
   },
   {
    "duration": 16,
    "start_time": "2023-12-22T19:16:45.155Z"
   },
   {
    "duration": 17,
    "start_time": "2023-12-22T19:16:45.172Z"
   },
   {
    "duration": 10,
    "start_time": "2023-12-22T19:16:45.191Z"
   },
   {
    "duration": 24,
    "start_time": "2023-12-22T19:16:45.202Z"
   },
   {
    "duration": 17,
    "start_time": "2023-12-22T19:16:45.227Z"
   },
   {
    "duration": 21,
    "start_time": "2023-12-22T19:16:45.247Z"
   },
   {
    "duration": 35,
    "start_time": "2023-12-22T19:16:45.270Z"
   },
   {
    "duration": 12,
    "start_time": "2023-12-22T19:16:45.306Z"
   },
   {
    "duration": 45,
    "start_time": "2023-12-22T19:16:45.319Z"
   },
   {
    "duration": 29,
    "start_time": "2023-12-22T19:16:45.366Z"
   },
   {
    "duration": 29,
    "start_time": "2023-12-22T19:16:45.397Z"
   },
   {
    "duration": 27,
    "start_time": "2023-12-22T19:16:45.427Z"
   },
   {
    "duration": 23,
    "start_time": "2023-12-22T19:16:45.456Z"
   },
   {
    "duration": 7,
    "start_time": "2023-12-22T19:16:45.480Z"
   },
   {
    "duration": 8,
    "start_time": "2023-12-22T19:16:45.488Z"
   },
   {
    "duration": 33,
    "start_time": "2023-12-22T19:16:45.497Z"
   },
   {
    "duration": 42,
    "start_time": "2023-12-22T19:16:45.532Z"
   },
   {
    "duration": 94,
    "start_time": "2023-12-22T19:16:45.576Z"
   },
   {
    "duration": 215,
    "start_time": "2023-12-22T19:16:45.671Z"
   },
   {
    "duration": 19,
    "start_time": "2023-12-22T19:16:45.888Z"
   },
   {
    "duration": 225,
    "start_time": "2023-12-22T19:16:45.909Z"
   },
   {
    "duration": 1720,
    "start_time": "2023-12-22T19:16:46.136Z"
   },
   {
    "duration": 29,
    "start_time": "2023-12-22T19:16:47.858Z"
   },
   {
    "duration": 6,
    "start_time": "2023-12-22T19:16:47.889Z"
   },
   {
    "duration": 24,
    "start_time": "2023-12-22T19:16:47.897Z"
   },
   {
    "duration": 13,
    "start_time": "2023-12-22T19:16:47.923Z"
   },
   {
    "duration": 199,
    "start_time": "2023-12-22T19:16:47.937Z"
   },
   {
    "duration": 1238,
    "start_time": "2023-12-22T19:16:48.138Z"
   },
   {
    "duration": 257,
    "start_time": "2023-12-22T19:16:49.377Z"
   },
   {
    "duration": 264,
    "start_time": "2023-12-22T19:16:49.636Z"
   },
   {
    "duration": 254,
    "start_time": "2023-12-22T19:16:49.902Z"
   },
   {
    "duration": 1389,
    "start_time": "2023-12-22T19:16:50.158Z"
   },
   {
    "duration": 1393,
    "start_time": "2023-12-22T19:16:51.551Z"
   },
   {
    "duration": 274,
    "start_time": "2023-12-22T19:16:52.945Z"
   },
   {
    "duration": 13,
    "start_time": "2023-12-22T19:16:53.220Z"
   },
   {
    "duration": 39,
    "start_time": "2023-12-22T19:16:53.235Z"
   },
   {
    "duration": 43,
    "start_time": "2023-12-22T19:16:53.275Z"
   },
   {
    "duration": 31,
    "start_time": "2023-12-22T19:16:53.319Z"
   },
   {
    "duration": 34,
    "start_time": "2023-12-22T19:16:53.352Z"
   },
   {
    "duration": 20,
    "start_time": "2023-12-22T19:16:53.387Z"
   },
   {
    "duration": 30,
    "start_time": "2023-12-22T19:16:53.409Z"
   },
   {
    "duration": 28,
    "start_time": "2023-12-22T19:16:53.440Z"
   },
   {
    "duration": 27,
    "start_time": "2023-12-22T19:16:53.469Z"
   },
   {
    "duration": 27,
    "start_time": "2023-12-22T19:16:53.497Z"
   },
   {
    "duration": 25,
    "start_time": "2023-12-22T19:16:53.526Z"
   },
   {
    "duration": 37,
    "start_time": "2023-12-22T19:16:53.553Z"
   },
   {
    "duration": 38,
    "start_time": "2023-12-22T19:16:53.591Z"
   }
  ],
  "kernelspec": {
   "display_name": "Python 3 (ipykernel)",
   "language": "python",
   "name": "python3"
  },
  "language_info": {
   "codemirror_mode": {
    "name": "ipython",
    "version": 3
   },
   "file_extension": ".py",
   "mimetype": "text/x-python",
   "name": "python",
   "nbconvert_exporter": "python",
   "pygments_lexer": "ipython3",
   "version": "3.9.5"
  },
  "toc": {
   "base_numbering": 1,
   "nav_menu": {},
   "number_sections": true,
   "sideBar": true,
   "skip_h1_title": true,
   "title_cell": "Table of Contents",
   "title_sidebar": "Contents",
   "toc_cell": false,
   "toc_position": {
    "height": "calc(100% - 180px)",
    "left": "10px",
    "top": "150px",
    "width": "165px"
   },
   "toc_section_display": true,
   "toc_window_display": true
  }
 },
 "nbformat": 4,
 "nbformat_minor": 2
}
