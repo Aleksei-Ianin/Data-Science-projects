{
 "cells": [
  {
   "cell_type": "markdown",
   "metadata": {},
   "source": [
    "# Выбор локации для скважины"
   ]
  },
  {
   "cell_type": "markdown",
   "metadata": {},
   "source": [
    "Допустим, вы работаете в добывающей компании «ГлавРосГосНефть». Нужно решить, где бурить новую скважину.\n",
    "\n",
    "Вам предоставлены пробы нефти в трёх регионах: в каждом 10 000 месторождений, где измерили качество нефти и объём её запасов. Постройте модель машинного обучения, которая поможет определить регион, где добыча принесёт наибольшую прибыль. Проанализируйте возможную прибыль и риски техникой *Bootstrap.*\n",
    "\n",
    "Шаги для выбора локации:\n",
    "\n",
    "- В избранном регионе ищут месторождения, для каждого определяют значения признаков;\n",
    "- Строят модель и оценивают объём запасов;\n",
    "- Выбирают месторождения с самым высокими оценками значений. Количество месторождений зависит от бюджета компании и стоимости разработки одной скважины;\n",
    "- Прибыль равна суммарной прибыли отобранных месторождений."
   ]
  },
  {
   "cell_type": "markdown",
   "metadata": {},
   "source": [
    "**Описание данных**\n",
    "Данные геологоразведки трёх регионов находятся в файлах: \n",
    "\n",
    "/datasets/geo_data_0.csv. \n",
    "\n",
    "/datasets/geo_data_1.csv. \n",
    "\n",
    "/datasets/geo_data_2.csv.\n",
    "\n",
    "id — уникальный идентификатор скважины;\n",
    "\n",
    "f0, f1, f2 — три признака точек (неважно, что они означают, но сами признаки значимы);\n",
    "\n",
    "product — объём запасов в скважине (тыс. баррелей)."
   ]
  },
  {
   "cell_type": "markdown",
   "metadata": {},
   "source": [
    "## Загрузка и подготовка данных"
   ]
  },
  {
   "cell_type": "code",
   "execution_count": 1,
   "metadata": {},
   "outputs": [],
   "source": [
    "import pandas as pd\n",
    "import seaborn as sns\n",
    "import numpy as np\n",
    "\n",
    "from sklearn.preprocessing import StandardScaler\n",
    "from sklearn.linear_model import LinearRegression\n",
    "from sklearn.model_selection import train_test_split\n",
    "from sklearn.metrics import mean_squared_error"
   ]
  },
  {
   "cell_type": "markdown",
   "metadata": {},
   "source": [
    "Загрузим все три датасета"
   ]
  },
  {
   "cell_type": "code",
   "execution_count": 2,
   "metadata": {},
   "outputs": [],
   "source": [
    "df1 = pd.read_csv('/datasets/geo_data_0.csv')\n",
    "df2 = pd.read_csv('/datasets/geo_data_1.csv')\n",
    "df3 = pd.read_csv('/datasets/geo_data_2.csv')"
   ]
  },
  {
   "cell_type": "markdown",
   "metadata": {},
   "source": [
    "Рассмотрим первый датафрейм"
   ]
  },
  {
   "cell_type": "code",
   "execution_count": 3,
   "metadata": {},
   "outputs": [
    {
     "data": {
      "text/html": [
       "<div>\n",
       "<style scoped>\n",
       "    .dataframe tbody tr th:only-of-type {\n",
       "        vertical-align: middle;\n",
       "    }\n",
       "\n",
       "    .dataframe tbody tr th {\n",
       "        vertical-align: top;\n",
       "    }\n",
       "\n",
       "    .dataframe thead th {\n",
       "        text-align: right;\n",
       "    }\n",
       "</style>\n",
       "<table border=\"1\" class=\"dataframe\">\n",
       "  <thead>\n",
       "    <tr style=\"text-align: right;\">\n",
       "      <th></th>\n",
       "      <th>id</th>\n",
       "      <th>f0</th>\n",
       "      <th>f1</th>\n",
       "      <th>f2</th>\n",
       "      <th>product</th>\n",
       "    </tr>\n",
       "  </thead>\n",
       "  <tbody>\n",
       "    <tr>\n",
       "      <th>0</th>\n",
       "      <td>txEyH</td>\n",
       "      <td>0.705745</td>\n",
       "      <td>-0.497823</td>\n",
       "      <td>1.221170</td>\n",
       "      <td>105.280062</td>\n",
       "    </tr>\n",
       "    <tr>\n",
       "      <th>1</th>\n",
       "      <td>2acmU</td>\n",
       "      <td>1.334711</td>\n",
       "      <td>-0.340164</td>\n",
       "      <td>4.365080</td>\n",
       "      <td>73.037750</td>\n",
       "    </tr>\n",
       "    <tr>\n",
       "      <th>2</th>\n",
       "      <td>409Wp</td>\n",
       "      <td>1.022732</td>\n",
       "      <td>0.151990</td>\n",
       "      <td>1.419926</td>\n",
       "      <td>85.265647</td>\n",
       "    </tr>\n",
       "    <tr>\n",
       "      <th>3</th>\n",
       "      <td>iJLyR</td>\n",
       "      <td>-0.032172</td>\n",
       "      <td>0.139033</td>\n",
       "      <td>2.978566</td>\n",
       "      <td>168.620776</td>\n",
       "    </tr>\n",
       "    <tr>\n",
       "      <th>4</th>\n",
       "      <td>Xdl7t</td>\n",
       "      <td>1.988431</td>\n",
       "      <td>0.155413</td>\n",
       "      <td>4.751769</td>\n",
       "      <td>154.036647</td>\n",
       "    </tr>\n",
       "  </tbody>\n",
       "</table>\n",
       "</div>"
      ],
      "text/plain": [
       "      id        f0        f1        f2     product\n",
       "0  txEyH  0.705745 -0.497823  1.221170  105.280062\n",
       "1  2acmU  1.334711 -0.340164  4.365080   73.037750\n",
       "2  409Wp  1.022732  0.151990  1.419926   85.265647\n",
       "3  iJLyR -0.032172  0.139033  2.978566  168.620776\n",
       "4  Xdl7t  1.988431  0.155413  4.751769  154.036647"
      ]
     },
     "execution_count": 3,
     "metadata": {},
     "output_type": "execute_result"
    }
   ],
   "source": [
    "df1.head()"
   ]
  },
  {
   "cell_type": "code",
   "execution_count": 4,
   "metadata": {},
   "outputs": [
    {
     "data": {
      "text/html": [
       "<div>\n",
       "<style scoped>\n",
       "    .dataframe tbody tr th:only-of-type {\n",
       "        vertical-align: middle;\n",
       "    }\n",
       "\n",
       "    .dataframe tbody tr th {\n",
       "        vertical-align: top;\n",
       "    }\n",
       "\n",
       "    .dataframe thead th {\n",
       "        text-align: right;\n",
       "    }\n",
       "</style>\n",
       "<table border=\"1\" class=\"dataframe\">\n",
       "  <thead>\n",
       "    <tr style=\"text-align: right;\">\n",
       "      <th></th>\n",
       "      <th>f0</th>\n",
       "      <th>f1</th>\n",
       "      <th>f2</th>\n",
       "      <th>product</th>\n",
       "    </tr>\n",
       "  </thead>\n",
       "  <tbody>\n",
       "    <tr>\n",
       "      <th>count</th>\n",
       "      <td>100000.000000</td>\n",
       "      <td>100000.000000</td>\n",
       "      <td>100000.000000</td>\n",
       "      <td>100000.000000</td>\n",
       "    </tr>\n",
       "    <tr>\n",
       "      <th>mean</th>\n",
       "      <td>0.500419</td>\n",
       "      <td>0.250143</td>\n",
       "      <td>2.502647</td>\n",
       "      <td>92.500000</td>\n",
       "    </tr>\n",
       "    <tr>\n",
       "      <th>std</th>\n",
       "      <td>0.871832</td>\n",
       "      <td>0.504433</td>\n",
       "      <td>3.248248</td>\n",
       "      <td>44.288691</td>\n",
       "    </tr>\n",
       "    <tr>\n",
       "      <th>min</th>\n",
       "      <td>-1.408605</td>\n",
       "      <td>-0.848218</td>\n",
       "      <td>-12.088328</td>\n",
       "      <td>0.000000</td>\n",
       "    </tr>\n",
       "    <tr>\n",
       "      <th>25%</th>\n",
       "      <td>-0.072580</td>\n",
       "      <td>-0.200881</td>\n",
       "      <td>0.287748</td>\n",
       "      <td>56.497507</td>\n",
       "    </tr>\n",
       "    <tr>\n",
       "      <th>50%</th>\n",
       "      <td>0.502360</td>\n",
       "      <td>0.250252</td>\n",
       "      <td>2.515969</td>\n",
       "      <td>91.849972</td>\n",
       "    </tr>\n",
       "    <tr>\n",
       "      <th>75%</th>\n",
       "      <td>1.073581</td>\n",
       "      <td>0.700646</td>\n",
       "      <td>4.715088</td>\n",
       "      <td>128.564089</td>\n",
       "    </tr>\n",
       "    <tr>\n",
       "      <th>max</th>\n",
       "      <td>2.362331</td>\n",
       "      <td>1.343769</td>\n",
       "      <td>16.003790</td>\n",
       "      <td>185.364347</td>\n",
       "    </tr>\n",
       "  </tbody>\n",
       "</table>\n",
       "</div>"
      ],
      "text/plain": [
       "                  f0             f1             f2        product\n",
       "count  100000.000000  100000.000000  100000.000000  100000.000000\n",
       "mean        0.500419       0.250143       2.502647      92.500000\n",
       "std         0.871832       0.504433       3.248248      44.288691\n",
       "min        -1.408605      -0.848218     -12.088328       0.000000\n",
       "25%        -0.072580      -0.200881       0.287748      56.497507\n",
       "50%         0.502360       0.250252       2.515969      91.849972\n",
       "75%         1.073581       0.700646       4.715088     128.564089\n",
       "max         2.362331       1.343769      16.003790     185.364347"
      ]
     },
     "execution_count": 4,
     "metadata": {},
     "output_type": "execute_result"
    }
   ],
   "source": [
    "df1.describe()"
   ]
  },
  {
   "cell_type": "markdown",
   "metadata": {},
   "source": [
    "Проверим на наличие пропуски и корректность типов данных"
   ]
  },
  {
   "cell_type": "code",
   "execution_count": 5,
   "metadata": {},
   "outputs": [
    {
     "name": "stdout",
     "output_type": "stream",
     "text": [
      "<class 'pandas.core.frame.DataFrame'>\n",
      "RangeIndex: 100000 entries, 0 to 99999\n",
      "Data columns (total 5 columns):\n",
      " #   Column   Non-Null Count   Dtype  \n",
      "---  ------   --------------   -----  \n",
      " 0   id       100000 non-null  object \n",
      " 1   f0       100000 non-null  float64\n",
      " 2   f1       100000 non-null  float64\n",
      " 3   f2       100000 non-null  float64\n",
      " 4   product  100000 non-null  float64\n",
      "dtypes: float64(4), object(1)\n",
      "memory usage: 3.8+ MB\n"
     ]
    }
   ],
   "source": [
    "df1.info()"
   ]
  },
  {
   "cell_type": "markdown",
   "metadata": {},
   "source": [
    "Пропусков нет, типы данных в порядке, проверим на дубликаты"
   ]
  },
  {
   "cell_type": "code",
   "execution_count": 6,
   "metadata": {},
   "outputs": [
    {
     "data": {
      "text/plain": [
       "0"
      ]
     },
     "execution_count": 6,
     "metadata": {},
     "output_type": "execute_result"
    }
   ],
   "source": [
    "df1.duplicated().sum()"
   ]
  },
  {
   "cell_type": "markdown",
   "metadata": {},
   "source": [
    "Дубликатов нет, построим гистограмму"
   ]
  },
  {
   "cell_type": "code",
   "execution_count": 7,
   "metadata": {},
   "outputs": [
    {
     "data": {
      "text/plain": [
       "array([[<AxesSubplot:title={'center':'f0'}>,\n",
       "        <AxesSubplot:title={'center':'f1'}>],\n",
       "       [<AxesSubplot:title={'center':'f2'}>,\n",
       "        <AxesSubplot:title={'center':'product'}>]], dtype=object)"
      ]
     },
     "execution_count": 7,
     "metadata": {},
     "output_type": "execute_result"
    },
    {
     "data": {
      "image/png": "[encoded data removed]",
      "text/plain": [
       "<Figure size 1152x576 with 4 Axes>"
      ]
     },
     "metadata": {
      "needs_background": "light"
     },
     "output_type": "display_data"
    }
   ],
   "source": [
    "df1.hist(bins=50, figsize=(16, 8), color='green', edgecolor='white')"
   ]
  },
  {
   "cell_type": "markdown",
   "metadata": {},
   "source": [
    "Построим матрицу корреляции"
   ]
  },
  {
   "cell_type": "markdown",
   "metadata": {},
   "source": [
    "Проанализировав первую таблицу, дубликаты не обнаружили, типы данных в порядке, пропусков нет, выбросов нет, корреляционная зависимость отсутвует, проанализируем df2 и df3 таким же образом"
   ]
  },
  {
   "cell_type": "code",
   "execution_count": 8,
   "metadata": {},
   "outputs": [
    {
     "data": {
      "text/html": [
       "<div>\n",
       "<style scoped>\n",
       "    .dataframe tbody tr th:only-of-type {\n",
       "        vertical-align: middle;\n",
       "    }\n",
       "\n",
       "    .dataframe tbody tr th {\n",
       "        vertical-align: top;\n",
       "    }\n",
       "\n",
       "    .dataframe thead th {\n",
       "        text-align: right;\n",
       "    }\n",
       "</style>\n",
       "<table border=\"1\" class=\"dataframe\">\n",
       "  <thead>\n",
       "    <tr style=\"text-align: right;\">\n",
       "      <th></th>\n",
       "      <th>id</th>\n",
       "      <th>f0</th>\n",
       "      <th>f1</th>\n",
       "      <th>f2</th>\n",
       "      <th>product</th>\n",
       "    </tr>\n",
       "  </thead>\n",
       "  <tbody>\n",
       "    <tr>\n",
       "      <th>0</th>\n",
       "      <td>kBEdx</td>\n",
       "      <td>-15.001348</td>\n",
       "      <td>-8.276000</td>\n",
       "      <td>-0.005876</td>\n",
       "      <td>3.179103</td>\n",
       "    </tr>\n",
       "    <tr>\n",
       "      <th>1</th>\n",
       "      <td>62mP7</td>\n",
       "      <td>14.272088</td>\n",
       "      <td>-3.475083</td>\n",
       "      <td>0.999183</td>\n",
       "      <td>26.953261</td>\n",
       "    </tr>\n",
       "    <tr>\n",
       "      <th>2</th>\n",
       "      <td>vyE1P</td>\n",
       "      <td>6.263187</td>\n",
       "      <td>-5.948386</td>\n",
       "      <td>5.001160</td>\n",
       "      <td>134.766305</td>\n",
       "    </tr>\n",
       "    <tr>\n",
       "      <th>3</th>\n",
       "      <td>KcrkZ</td>\n",
       "      <td>-13.081196</td>\n",
       "      <td>-11.506057</td>\n",
       "      <td>4.999415</td>\n",
       "      <td>137.945408</td>\n",
       "    </tr>\n",
       "    <tr>\n",
       "      <th>4</th>\n",
       "      <td>AHL4O</td>\n",
       "      <td>12.702195</td>\n",
       "      <td>-8.147433</td>\n",
       "      <td>5.004363</td>\n",
       "      <td>134.766305</td>\n",
       "    </tr>\n",
       "  </tbody>\n",
       "</table>\n",
       "</div>"
      ],
      "text/plain": [
       "      id         f0         f1        f2     product\n",
       "0  kBEdx -15.001348  -8.276000 -0.005876    3.179103\n",
       "1  62mP7  14.272088  -3.475083  0.999183   26.953261\n",
       "2  vyE1P   6.263187  -5.948386  5.001160  134.766305\n",
       "3  KcrkZ -13.081196 -11.506057  4.999415  137.945408\n",
       "4  AHL4O  12.702195  -8.147433  5.004363  134.766305"
      ]
     },
     "metadata": {},
     "output_type": "display_data"
    },
    {
     "data": {
      "text/html": [
       "<div>\n",
       "<style scoped>\n",
       "    .dataframe tbody tr th:only-of-type {\n",
       "        vertical-align: middle;\n",
       "    }\n",
       "\n",
       "    .dataframe tbody tr th {\n",
       "        vertical-align: top;\n",
       "    }\n",
       "\n",
       "    .dataframe thead th {\n",
       "        text-align: right;\n",
       "    }\n",
       "</style>\n",
       "<table border=\"1\" class=\"dataframe\">\n",
       "  <thead>\n",
       "    <tr style=\"text-align: right;\">\n",
       "      <th></th>\n",
       "      <th>f0</th>\n",
       "      <th>f1</th>\n",
       "      <th>f2</th>\n",
       "      <th>product</th>\n",
       "    </tr>\n",
       "  </thead>\n",
       "  <tbody>\n",
       "    <tr>\n",
       "      <th>count</th>\n",
       "      <td>100000.000000</td>\n",
       "      <td>100000.000000</td>\n",
       "      <td>100000.000000</td>\n",
       "      <td>100000.000000</td>\n",
       "    </tr>\n",
       "    <tr>\n",
       "      <th>mean</th>\n",
       "      <td>1.141296</td>\n",
       "      <td>-4.796579</td>\n",
       "      <td>2.494541</td>\n",
       "      <td>68.825000</td>\n",
       "    </tr>\n",
       "    <tr>\n",
       "      <th>std</th>\n",
       "      <td>8.965932</td>\n",
       "      <td>5.119872</td>\n",
       "      <td>1.703572</td>\n",
       "      <td>45.944423</td>\n",
       "    </tr>\n",
       "    <tr>\n",
       "      <th>min</th>\n",
       "      <td>-31.609576</td>\n",
       "      <td>-26.358598</td>\n",
       "      <td>-0.018144</td>\n",
       "      <td>0.000000</td>\n",
       "    </tr>\n",
       "    <tr>\n",
       "      <th>25%</th>\n",
       "      <td>-6.298551</td>\n",
       "      <td>-8.267985</td>\n",
       "      <td>1.000021</td>\n",
       "      <td>26.953261</td>\n",
       "    </tr>\n",
       "    <tr>\n",
       "      <th>50%</th>\n",
       "      <td>1.153055</td>\n",
       "      <td>-4.813172</td>\n",
       "      <td>2.011479</td>\n",
       "      <td>57.085625</td>\n",
       "    </tr>\n",
       "    <tr>\n",
       "      <th>75%</th>\n",
       "      <td>8.621015</td>\n",
       "      <td>-1.332816</td>\n",
       "      <td>3.999904</td>\n",
       "      <td>107.813044</td>\n",
       "    </tr>\n",
       "    <tr>\n",
       "      <th>max</th>\n",
       "      <td>29.421755</td>\n",
       "      <td>18.734063</td>\n",
       "      <td>5.019721</td>\n",
       "      <td>137.945408</td>\n",
       "    </tr>\n",
       "  </tbody>\n",
       "</table>\n",
       "</div>"
      ],
      "text/plain": [
       "                  f0             f1             f2        product\n",
       "count  100000.000000  100000.000000  100000.000000  100000.000000\n",
       "mean        1.141296      -4.796579       2.494541      68.825000\n",
       "std         8.965932       5.119872       1.703572      45.944423\n",
       "min       -31.609576     -26.358598      -0.018144       0.000000\n",
       "25%        -6.298551      -8.267985       1.000021      26.953261\n",
       "50%         1.153055      -4.813172       2.011479      57.085625\n",
       "75%         8.621015      -1.332816       3.999904     107.813044\n",
       "max        29.421755      18.734063       5.019721     137.945408"
      ]
     },
     "metadata": {},
     "output_type": "display_data"
    },
    {
     "name": "stdout",
     "output_type": "stream",
     "text": [
      "<class 'pandas.core.frame.DataFrame'>\n",
      "RangeIndex: 100000 entries, 0 to 99999\n",
      "Data columns (total 5 columns):\n",
      " #   Column   Non-Null Count   Dtype  \n",
      "---  ------   --------------   -----  \n",
      " 0   id       100000 non-null  object \n",
      " 1   f0       100000 non-null  float64\n",
      " 2   f1       100000 non-null  float64\n",
      " 3   f2       100000 non-null  float64\n",
      " 4   product  100000 non-null  float64\n",
      "dtypes: float64(4), object(1)\n",
      "memory usage: 3.8+ MB\n"
     ]
    },
    {
     "data": {
      "text/plain": [
       "None"
      ]
     },
     "metadata": {},
     "output_type": "display_data"
    },
    {
     "name": "stdout",
     "output_type": "stream",
     "text": [
      "Дубликаты: 0\n"
     ]
    }
   ],
   "source": [
    "display(df2.head())\n",
    "display(df2.describe())\n",
    "display(df2.info())\n",
    "print('Дубликаты:', df2.duplicated().sum())"
   ]
  },
  {
   "cell_type": "markdown",
   "metadata": {},
   "source": [
    "Дубликатов нет, пропусков нет, типы данных корректны"
   ]
  },
  {
   "cell_type": "code",
   "execution_count": 9,
   "metadata": {},
   "outputs": [
    {
     "data": {
      "text/plain": [
       "array([[<AxesSubplot:title={'center':'f0'}>,\n",
       "        <AxesSubplot:title={'center':'f1'}>],\n",
       "       [<AxesSubplot:title={'center':'f2'}>,\n",
       "        <AxesSubplot:title={'center':'product'}>]], dtype=object)"
      ]
     },
     "execution_count": 9,
     "metadata": {},
     "output_type": "execute_result"
    },
    {
     "data": {
      "image/png": "[encoded data removed]",
      "text/plain": [
       "<Figure size 1152x576 with 4 Axes>"
      ]
     },
     "metadata": {
      "needs_background": "light"
     },
     "output_type": "display_data"
    }
   ],
   "source": [
    "df2.hist(bins=50, figsize=(16, 8), color='green', edgecolor='white')"
   ]
  },
  {
   "cell_type": "markdown",
   "metadata": {},
   "source": [
    "f0 имеет бимодальное распределение, а f1 - нормальное, выбросов нет"
   ]
  },
  {
   "cell_type": "code",
   "execution_count": 10,
   "metadata": {},
   "outputs": [
    {
     "data": {
      "text/html": [
       "<div>\n",
       "<style scoped>\n",
       "    .dataframe tbody tr th:only-of-type {\n",
       "        vertical-align: middle;\n",
       "    }\n",
       "\n",
       "    .dataframe tbody tr th {\n",
       "        vertical-align: top;\n",
       "    }\n",
       "\n",
       "    .dataframe thead th {\n",
       "        text-align: right;\n",
       "    }\n",
       "</style>\n",
       "<table border=\"1\" class=\"dataframe\">\n",
       "  <thead>\n",
       "    <tr style=\"text-align: right;\">\n",
       "      <th></th>\n",
       "      <th>f0</th>\n",
       "      <th>f1</th>\n",
       "      <th>f2</th>\n",
       "      <th>product</th>\n",
       "    </tr>\n",
       "  </thead>\n",
       "  <tbody>\n",
       "    <tr>\n",
       "      <th>f0</th>\n",
       "      <td>1.000000</td>\n",
       "      <td>0.182287</td>\n",
       "      <td>-0.001777</td>\n",
       "      <td>-0.030491</td>\n",
       "    </tr>\n",
       "    <tr>\n",
       "      <th>f1</th>\n",
       "      <td>0.182287</td>\n",
       "      <td>1.000000</td>\n",
       "      <td>-0.002595</td>\n",
       "      <td>-0.010155</td>\n",
       "    </tr>\n",
       "    <tr>\n",
       "      <th>f2</th>\n",
       "      <td>-0.001777</td>\n",
       "      <td>-0.002595</td>\n",
       "      <td>1.000000</td>\n",
       "      <td>0.999397</td>\n",
       "    </tr>\n",
       "    <tr>\n",
       "      <th>product</th>\n",
       "      <td>-0.030491</td>\n",
       "      <td>-0.010155</td>\n",
       "      <td>0.999397</td>\n",
       "      <td>1.000000</td>\n",
       "    </tr>\n",
       "  </tbody>\n",
       "</table>\n",
       "</div>"
      ],
      "text/plain": [
       "               f0        f1        f2   product\n",
       "f0       1.000000  0.182287 -0.001777 -0.030491\n",
       "f1       0.182287  1.000000 -0.002595 -0.010155\n",
       "f2      -0.001777 -0.002595  1.000000  0.999397\n",
       "product -0.030491 -0.010155  0.999397  1.000000"
      ]
     },
     "execution_count": 10,
     "metadata": {},
     "output_type": "execute_result"
    }
   ],
   "source": [
    "df2.corr()"
   ]
  },
  {
   "cell_type": "markdown",
   "metadata": {},
   "source": [
    "видим сильную корреляцию между f2 и целевым признаком, к сожалению, причина неизвестна, поэтому оставим так и рассмотрим таблицу 3"
   ]
  },
  {
   "cell_type": "code",
   "execution_count": 11,
   "metadata": {},
   "outputs": [
    {
     "data": {
      "text/html": [
       "<div>\n",
       "<style scoped>\n",
       "    .dataframe tbody tr th:only-of-type {\n",
       "        vertical-align: middle;\n",
       "    }\n",
       "\n",
       "    .dataframe tbody tr th {\n",
       "        vertical-align: top;\n",
       "    }\n",
       "\n",
       "    .dataframe thead th {\n",
       "        text-align: right;\n",
       "    }\n",
       "</style>\n",
       "<table border=\"1\" class=\"dataframe\">\n",
       "  <thead>\n",
       "    <tr style=\"text-align: right;\">\n",
       "      <th></th>\n",
       "      <th>id</th>\n",
       "      <th>f0</th>\n",
       "      <th>f1</th>\n",
       "      <th>f2</th>\n",
       "      <th>product</th>\n",
       "    </tr>\n",
       "  </thead>\n",
       "  <tbody>\n",
       "    <tr>\n",
       "      <th>0</th>\n",
       "      <td>fwXo0</td>\n",
       "      <td>-1.146987</td>\n",
       "      <td>0.963328</td>\n",
       "      <td>-0.828965</td>\n",
       "      <td>27.758673</td>\n",
       "    </tr>\n",
       "    <tr>\n",
       "      <th>1</th>\n",
       "      <td>WJtFt</td>\n",
       "      <td>0.262778</td>\n",
       "      <td>0.269839</td>\n",
       "      <td>-2.530187</td>\n",
       "      <td>56.069697</td>\n",
       "    </tr>\n",
       "    <tr>\n",
       "      <th>2</th>\n",
       "      <td>ovLUW</td>\n",
       "      <td>0.194587</td>\n",
       "      <td>0.289035</td>\n",
       "      <td>-5.586433</td>\n",
       "      <td>62.871910</td>\n",
       "    </tr>\n",
       "    <tr>\n",
       "      <th>3</th>\n",
       "      <td>q6cA6</td>\n",
       "      <td>2.236060</td>\n",
       "      <td>-0.553760</td>\n",
       "      <td>0.930038</td>\n",
       "      <td>114.572842</td>\n",
       "    </tr>\n",
       "    <tr>\n",
       "      <th>4</th>\n",
       "      <td>WPMUX</td>\n",
       "      <td>-0.515993</td>\n",
       "      <td>1.716266</td>\n",
       "      <td>5.899011</td>\n",
       "      <td>149.600746</td>\n",
       "    </tr>\n",
       "  </tbody>\n",
       "</table>\n",
       "</div>"
      ],
      "text/plain": [
       "      id        f0        f1        f2     product\n",
       "0  fwXo0 -1.146987  0.963328 -0.828965   27.758673\n",
       "1  WJtFt  0.262778  0.269839 -2.530187   56.069697\n",
       "2  ovLUW  0.194587  0.289035 -5.586433   62.871910\n",
       "3  q6cA6  2.236060 -0.553760  0.930038  114.572842\n",
       "4  WPMUX -0.515993  1.716266  5.899011  149.600746"
      ]
     },
     "metadata": {},
     "output_type": "display_data"
    },
    {
     "data": {
      "text/html": [
       "<div>\n",
       "<style scoped>\n",
       "    .dataframe tbody tr th:only-of-type {\n",
       "        vertical-align: middle;\n",
       "    }\n",
       "\n",
       "    .dataframe tbody tr th {\n",
       "        vertical-align: top;\n",
       "    }\n",
       "\n",
       "    .dataframe thead th {\n",
       "        text-align: right;\n",
       "    }\n",
       "</style>\n",
       "<table border=\"1\" class=\"dataframe\">\n",
       "  <thead>\n",
       "    <tr style=\"text-align: right;\">\n",
       "      <th></th>\n",
       "      <th>f0</th>\n",
       "      <th>f1</th>\n",
       "      <th>f2</th>\n",
       "      <th>product</th>\n",
       "    </tr>\n",
       "  </thead>\n",
       "  <tbody>\n",
       "    <tr>\n",
       "      <th>count</th>\n",
       "      <td>100000.000000</td>\n",
       "      <td>100000.000000</td>\n",
       "      <td>100000.000000</td>\n",
       "      <td>100000.000000</td>\n",
       "    </tr>\n",
       "    <tr>\n",
       "      <th>mean</th>\n",
       "      <td>0.002023</td>\n",
       "      <td>-0.002081</td>\n",
       "      <td>2.495128</td>\n",
       "      <td>95.000000</td>\n",
       "    </tr>\n",
       "    <tr>\n",
       "      <th>std</th>\n",
       "      <td>1.732045</td>\n",
       "      <td>1.730417</td>\n",
       "      <td>3.473445</td>\n",
       "      <td>44.749921</td>\n",
       "    </tr>\n",
       "    <tr>\n",
       "      <th>min</th>\n",
       "      <td>-8.760004</td>\n",
       "      <td>-7.084020</td>\n",
       "      <td>-11.970335</td>\n",
       "      <td>0.000000</td>\n",
       "    </tr>\n",
       "    <tr>\n",
       "      <th>25%</th>\n",
       "      <td>-1.162288</td>\n",
       "      <td>-1.174820</td>\n",
       "      <td>0.130359</td>\n",
       "      <td>59.450441</td>\n",
       "    </tr>\n",
       "    <tr>\n",
       "      <th>50%</th>\n",
       "      <td>0.009424</td>\n",
       "      <td>-0.009482</td>\n",
       "      <td>2.484236</td>\n",
       "      <td>94.925613</td>\n",
       "    </tr>\n",
       "    <tr>\n",
       "      <th>75%</th>\n",
       "      <td>1.158535</td>\n",
       "      <td>1.163678</td>\n",
       "      <td>4.858794</td>\n",
       "      <td>130.595027</td>\n",
       "    </tr>\n",
       "    <tr>\n",
       "      <th>max</th>\n",
       "      <td>7.238262</td>\n",
       "      <td>7.844801</td>\n",
       "      <td>16.739402</td>\n",
       "      <td>190.029838</td>\n",
       "    </tr>\n",
       "  </tbody>\n",
       "</table>\n",
       "</div>"
      ],
      "text/plain": [
       "                  f0             f1             f2        product\n",
       "count  100000.000000  100000.000000  100000.000000  100000.000000\n",
       "mean        0.002023      -0.002081       2.495128      95.000000\n",
       "std         1.732045       1.730417       3.473445      44.749921\n",
       "min        -8.760004      -7.084020     -11.970335       0.000000\n",
       "25%        -1.162288      -1.174820       0.130359      59.450441\n",
       "50%         0.009424      -0.009482       2.484236      94.925613\n",
       "75%         1.158535       1.163678       4.858794     130.595027\n",
       "max         7.238262       7.844801      16.739402     190.029838"
      ]
     },
     "metadata": {},
     "output_type": "display_data"
    },
    {
     "name": "stdout",
     "output_type": "stream",
     "text": [
      "<class 'pandas.core.frame.DataFrame'>\n",
      "RangeIndex: 100000 entries, 0 to 99999\n",
      "Data columns (total 5 columns):\n",
      " #   Column   Non-Null Count   Dtype  \n",
      "---  ------   --------------   -----  \n",
      " 0   id       100000 non-null  object \n",
      " 1   f0       100000 non-null  float64\n",
      " 2   f1       100000 non-null  float64\n",
      " 3   f2       100000 non-null  float64\n",
      " 4   product  100000 non-null  float64\n",
      "dtypes: float64(4), object(1)\n",
      "memory usage: 3.8+ MB\n"
     ]
    },
    {
     "data": {
      "text/plain": [
       "None"
      ]
     },
     "metadata": {},
     "output_type": "display_data"
    },
    {
     "name": "stdout",
     "output_type": "stream",
     "text": [
      "Дубликаты: 0\n"
     ]
    }
   ],
   "source": [
    "display(df3.head())\n",
    "display(df3.describe())\n",
    "display(df3.info())\n",
    "print('Дубликаты:', df3.duplicated().sum())"
   ]
  },
  {
   "cell_type": "markdown",
   "metadata": {},
   "source": [
    "Здесь тоже все хорошо, данные в порядке"
   ]
  },
  {
   "cell_type": "code",
   "execution_count": 12,
   "metadata": {},
   "outputs": [
    {
     "data": {
      "text/plain": [
       "array([[<AxesSubplot:title={'center':'f0'}>,\n",
       "        <AxesSubplot:title={'center':'f1'}>],\n",
       "       [<AxesSubplot:title={'center':'f2'}>,\n",
       "        <AxesSubplot:title={'center':'product'}>]], dtype=object)"
      ]
     },
     "execution_count": 12,
     "metadata": {},
     "output_type": "execute_result"
    },
    {
     "data": {
      "image/png": "[encoded data removed]",
      "text/plain": [
       "<Figure size 1152x576 with 4 Axes>"
      ]
     },
     "metadata": {
      "needs_background": "light"
     },
     "output_type": "display_data"
    }
   ],
   "source": [
    "df3.hist(bins=50, figsize=(16, 8), color='green', edgecolor='white')"
   ]
  },
  {
   "cell_type": "markdown",
   "metadata": {},
   "source": [
    "можем заметить, что данные распределены нормально"
   ]
  },
  {
   "cell_type": "code",
   "execution_count": 13,
   "metadata": {},
   "outputs": [
    {
     "data": {
      "text/html": [
       "<div>\n",
       "<style scoped>\n",
       "    .dataframe tbody tr th:only-of-type {\n",
       "        vertical-align: middle;\n",
       "    }\n",
       "\n",
       "    .dataframe tbody tr th {\n",
       "        vertical-align: top;\n",
       "    }\n",
       "\n",
       "    .dataframe thead th {\n",
       "        text-align: right;\n",
       "    }\n",
       "</style>\n",
       "<table border=\"1\" class=\"dataframe\">\n",
       "  <thead>\n",
       "    <tr style=\"text-align: right;\">\n",
       "      <th></th>\n",
       "      <th>f0</th>\n",
       "      <th>f1</th>\n",
       "      <th>f2</th>\n",
       "      <th>product</th>\n",
       "    </tr>\n",
       "  </thead>\n",
       "  <tbody>\n",
       "    <tr>\n",
       "      <th>f0</th>\n",
       "      <td>1.000000</td>\n",
       "      <td>0.000528</td>\n",
       "      <td>-0.000448</td>\n",
       "      <td>-0.001987</td>\n",
       "    </tr>\n",
       "    <tr>\n",
       "      <th>f1</th>\n",
       "      <td>0.000528</td>\n",
       "      <td>1.000000</td>\n",
       "      <td>0.000779</td>\n",
       "      <td>-0.001012</td>\n",
       "    </tr>\n",
       "    <tr>\n",
       "      <th>f2</th>\n",
       "      <td>-0.000448</td>\n",
       "      <td>0.000779</td>\n",
       "      <td>1.000000</td>\n",
       "      <td>0.445871</td>\n",
       "    </tr>\n",
       "    <tr>\n",
       "      <th>product</th>\n",
       "      <td>-0.001987</td>\n",
       "      <td>-0.001012</td>\n",
       "      <td>0.445871</td>\n",
       "      <td>1.000000</td>\n",
       "    </tr>\n",
       "  </tbody>\n",
       "</table>\n",
       "</div>"
      ],
      "text/plain": [
       "               f0        f1        f2   product\n",
       "f0       1.000000  0.000528 -0.000448 -0.001987\n",
       "f1       0.000528  1.000000  0.000779 -0.001012\n",
       "f2      -0.000448  0.000779  1.000000  0.445871\n",
       "product -0.001987 -0.001012  0.445871  1.000000"
      ]
     },
     "execution_count": 13,
     "metadata": {},
     "output_type": "execute_result"
    }
   ],
   "source": [
    "df3.corr()"
   ]
  },
  {
   "cell_type": "markdown",
   "metadata": {},
   "source": [
    "мультиколлинеарность отсутствует"
   ]
  },
  {
   "cell_type": "markdown",
   "metadata": {},
   "source": [
    "**Вывод: мы видим, что во всех трех датасетах отсутсвуют дубликаты, пропуски, выбросы отсутствуют, но можем заметить сильную корреляцию между f2 и целевым признаком, что может помешать в дальнейшем обучении модели, но причина неизвестна, поэтому оставим данные как есть**"
   ]
  },
  {
   "cell_type": "markdown",
   "metadata": {},
   "source": [
    "## Обучение и проверка модели"
   ]
  },
  {
   "cell_type": "markdown",
   "metadata": {},
   "source": [
    "Подготовим данные для обучения модели для нулевого региона:"
   ]
  },
  {
   "cell_type": "code",
   "execution_count": 14,
   "metadata": {},
   "outputs": [],
   "source": [
    "feature = df1.drop(['id', 'product'], axis=1)\n",
    "target = df1['product']"
   ]
  },
  {
   "cell_type": "code",
   "execution_count": 15,
   "metadata": {},
   "outputs": [],
   "source": [
    "RANDOM_STATE=42\n",
    "X_train, X_valid, y_train, y_valid0 = train_test_split(feature, \n",
    "                                                        target, \n",
    "                                                        random_state=RANDOM_STATE, \n",
    "                                                        test_size=0.25, \n",
    "                                                        )"
   ]
  },
  {
   "cell_type": "markdown",
   "metadata": {},
   "source": [
    "Обучим модель, посчитаем rmse"
   ]
  },
  {
   "cell_type": "code",
   "execution_count": 16,
   "metadata": {},
   "outputs": [],
   "source": [
    "scaler = StandardScaler()\n",
    "X_train_scaled = scaler.fit_transform(X_train)\n",
    "X_valid_scaled = scaler.transform(X_valid)"
   ]
  },
  {
   "cell_type": "code",
   "execution_count": 17,
   "metadata": {},
   "outputs": [
    {
     "data": {
      "text/plain": [
       "LinearRegression()"
      ]
     },
     "execution_count": 17,
     "metadata": {},
     "output_type": "execute_result"
    }
   ],
   "source": [
    "model_0=LinearRegression()\n",
    "model_0.fit(X_train_scaled, y_train)"
   ]
  },
  {
   "cell_type": "code",
   "execution_count": 18,
   "metadata": {},
   "outputs": [],
   "source": [
    "prediction0 = model_0.predict(X_valid_scaled)\n",
    "prediction0 = pd.Series(prediction0, index=y_valid0.index)"
   ]
  },
  {
   "cell_type": "code",
   "execution_count": 19,
   "metadata": {},
   "outputs": [
    {
     "name": "stdout",
     "output_type": "stream",
     "text": [
      "Для модели нулевого региона:\n",
      "Фактический средний запас сырья: 92.33\n",
      "Предсказанный средний запас сырья: 92.4\n",
      "RMSE: 37.76\n"
     ]
    }
   ],
   "source": [
    "print('Для модели нулевого региона:')\n",
    "print(f'Фактический средний запас сырья: {round(y_valid0.mean(), 2)}')\n",
    "print(f'Предсказанный средний запас сырья: {round(prediction0.mean(), 2)}')\n",
    "print(f'RMSE: {round(mean_squared_error(y_valid0, prediction0)**0.5, 2)}')"
   ]
  },
  {
   "cell_type": "markdown",
   "metadata": {},
   "source": [
    "Подготовим данные для обучения модели для первого региона:"
   ]
  },
  {
   "cell_type": "code",
   "execution_count": 20,
   "metadata": {},
   "outputs": [],
   "source": [
    "feature = df2.drop(['id', 'product'], axis=1)\n",
    "target = df2['product']\n",
    "RANDOM_STATE=42\n",
    "X_train, X_valid, y_train, y_valid1 = train_test_split(feature, \n",
    "                                                        target, \n",
    "                                                        random_state=RANDOM_STATE, \n",
    "                                                        test_size=0.25, \n",
    "                                                        )"
   ]
  },
  {
   "cell_type": "markdown",
   "metadata": {},
   "source": [
    "обучим модель"
   ]
  },
  {
   "cell_type": "code",
   "execution_count": 21,
   "metadata": {},
   "outputs": [],
   "source": [
    "scaler = StandardScaler()\n",
    "X_train_scaled = scaler.fit_transform(X_train)\n",
    "X_valid_scaled = scaler.transform(X_valid)"
   ]
  },
  {
   "cell_type": "code",
   "execution_count": 22,
   "metadata": {},
   "outputs": [
    {
     "data": {
      "text/plain": [
       "LinearRegression()"
      ]
     },
     "execution_count": 22,
     "metadata": {},
     "output_type": "execute_result"
    }
   ],
   "source": [
    "model_1=LinearRegression()\n",
    "model_1.fit(X_train_scaled, y_train)"
   ]
  },
  {
   "cell_type": "code",
   "execution_count": 23,
   "metadata": {},
   "outputs": [
    {
     "name": "stdout",
     "output_type": "stream",
     "text": [
      "Для модели первого региона:\n",
      "Фактический средний запас сырья: 68.73\n",
      "Предсказанный средний запас сырья: 68.71\n",
      "RMSE: 0.89\n"
     ]
    }
   ],
   "source": [
    "prediction1 = model_1.predict(X_valid_scaled)\n",
    "prediction1 = pd.Series(prediction1, index=y_valid1.index)\n",
    "print('Для модели первого региона:')\n",
    "print(f'Фактический средний запас сырья: {round(y_valid1.mean(), 2)}')\n",
    "print(f'Предсказанный средний запас сырья: {round(prediction1.mean(), 2)}')\n",
    "print(f'RMSE: {round(mean_squared_error(y_valid1, prediction1)**0.5, 2)}')"
   ]
  },
  {
   "cell_type": "markdown",
   "metadata": {},
   "source": [
    "Подготовим данные для обучения модели для второго региона:"
   ]
  },
  {
   "cell_type": "code",
   "execution_count": 24,
   "metadata": {},
   "outputs": [],
   "source": [
    "feature = df3.drop(['id', 'product'], axis=1)\n",
    "target = df3['product']\n",
    "RANDOM_STATE=42\n",
    "X_train, X_valid, y_train, y_valid2 = train_test_split(feature, \n",
    "                                                        target, \n",
    "                                                        random_state=RANDOM_STATE, \n",
    "                                                        test_size=0.25, \n",
    "                                                        )"
   ]
  },
  {
   "cell_type": "code",
   "execution_count": 25,
   "metadata": {},
   "outputs": [],
   "source": [
    "scaler = StandardScaler()\n",
    "X_train_scaled = scaler.fit_transform(X_train)\n",
    "X_valid_scaled = scaler.transform(X_valid)"
   ]
  },
  {
   "cell_type": "code",
   "execution_count": 26,
   "metadata": {},
   "outputs": [
    {
     "data": {
      "text/plain": [
       "LinearRegression()"
      ]
     },
     "execution_count": 26,
     "metadata": {},
     "output_type": "execute_result"
    }
   ],
   "source": [
    "model_2=LinearRegression()\n",
    "model_2.fit(X_train_scaled, y_train)"
   ]
  },
  {
   "cell_type": "code",
   "execution_count": 27,
   "metadata": {},
   "outputs": [
    {
     "name": "stdout",
     "output_type": "stream",
     "text": [
      "Для модели первого региона:\n",
      "Фактический средний запас сырья: 95.15\n",
      "Предсказанный средний запас сырья: 94.77\n",
      "RMSE: 40.15\n"
     ]
    }
   ],
   "source": [
    "prediction2 = model_2.predict(X_valid_scaled)\n",
    "prediction2 = pd.Series(prediction2, index=y_valid2.index)\n",
    "print('Для модели первого региона:')\n",
    "print(f'Фактический средний запас сырья: {round(y_valid2.mean(), 2)}')\n",
    "print(f'Предсказанный средний запас сырья: {round(prediction2.mean(), 2)}')\n",
    "print(f'RMSE: {round(mean_squared_error(y_valid2, prediction2)**0.5, 2)}')"
   ]
  },
  {
   "cell_type": "markdown",
   "metadata": {},
   "source": [
    "***Вывод:*** Проведя обучение модели и рассчитав метрику RMSE для каждого региона, мы выяснили, что во втором регионе самый маленький RMSE - 0.89, когда в остальных регионах 37.76 и 40.15, что говорит о том, что в этих регионах данные разбросаны сильнее и не отображают реальные запасы сырья"
   ]
  },
  {
   "cell_type": "markdown",
   "metadata": {},
   "source": [
    "## Подготовка к расчёту прибыли"
   ]
  },
  {
   "cell_type": "markdown",
   "metadata": {},
   "source": [
    "Все ключевые значения для расчётов сохраним в отдельных переменных."
   ]
  },
  {
   "cell_type": "code",
   "execution_count": 28,
   "metadata": {},
   "outputs": [],
   "source": [
    "budget = 10000000000 # бюджет на регион\n",
    "N = 500 # число скважин для исследолвания\n",
    "best_count = 200 # число скважин для разработки\n",
    "cost = 450000 # стоимость 1000 баррелей"
   ]
  },
  {
   "cell_type": "markdown",
   "metadata": {},
   "source": [
    "Рассчитаем достаточный объём сырья для безубыточной разработки новой скважины."
   ]
  },
  {
   "cell_type": "code",
   "execution_count": 29,
   "metadata": {},
   "outputs": [
    {
     "name": "stdout",
     "output_type": "stream",
     "text": [
      "минимальный объем сырья для безубыточной разработки: 111.11111111111111\n"
     ]
    }
   ],
   "source": [
    "result = budget/best_count/cost\n",
    "print('минимальный объем сырья для безубыточной разработки:', result)"
   ]
  },
  {
   "cell_type": "markdown",
   "metadata": {},
   "source": [
    "***Вывод:*** запаса сырья в каждом из из регионов недостаточно, для того чтобы окупить вложения в разработку, так как средние запасы находятся в диапазоне от 68 до 95 тыс. баррелей на регион."
   ]
  },
  {
   "cell_type": "markdown",
   "metadata": {},
   "source": [
    "## Расчёт прибыли и рисков "
   ]
  },
  {
   "cell_type": "markdown",
   "metadata": {},
   "source": [
    "Напишем функцию для расчета прибыли по выбранным скважинам и предсказаниям моделей. Функция выбирает нужное количнство скважин (count) с максимальным значением предсказаний, суммирует целевой значение объема сырья, соответсвующее этим предсказаняим, и подсчитывает прибыль для полученного объема сырья."
   ]
  },
  {
   "cell_type": "code",
   "execution_count": 30,
   "metadata": {},
   "outputs": [],
   "source": [
    "def revenue (target, probabilities, count):\n",
    "    probabilities_sorted = probabilities.sort_values(ascending=False)\n",
    "    selected = target[probabilities_sorted.index][:count]\n",
    "    return (cost*selected.sum() - budget)/1000000"
   ]
  },
  {
   "cell_type": "markdown",
   "metadata": {},
   "source": [
    "Напишем функцию для нахождения распределения прибыли методом bootstrap c 1000 выборок, подсчета средней прибыли, 95% доверительного интервала и риска убытка."
   ]
  },
  {
   "cell_type": "code",
   "execution_count": 31,
   "metadata": {},
   "outputs": [],
   "source": [
    "def btstrap (target, prediction, n):\n",
    "    state = np.random.RandomState(12345)\n",
    "    values = []\n",
    "    for i in range (1000):\n",
    "        sub_target = target.sample(n, replace=True, random_state=state)\n",
    "        sub_prediction = prediction[sub_target.index]\n",
    "        values.append(revenue(sub_target, sub_prediction, best_count))\n",
    "    values = pd.Series(values)\n",
    "    value_mean = values.mean() # среднее значение прибыли\n",
    "    lower = values.quantile(q=0.025) # 2,5% квартиль для подсчета нижней границы 95% доверительного интервала \n",
    "    upper = values.quantile(q=0.975) # 97,5% квартиль для подсчета верхней границы 95% доверительного интервала\n",
    "    risk = (len(values.loc[values < 0])/len(values))*100\n",
    "    return value_mean, lower, upper, risk       "
   ]
  },
  {
   "cell_type": "markdown",
   "metadata": {},
   "source": [
    "Рассчитаем прибыль и риски для 0 региона"
   ]
  },
  {
   "cell_type": "code",
   "execution_count": 32,
   "metadata": {
    "scrolled": true
   },
   "outputs": [
    {
     "name": "stdout",
     "output_type": "stream",
     "text": [
      "Средняя прибыль в регионе 0: 435.93\n",
      "95% доверительный интервал средней прибыли в регионе 0: -116.23 - 966.5\n",
      "Риск убытков в регионе 0: 6.1 %\n"
     ]
    }
   ],
   "source": [
    "revenue0, lower0, upper0, risk0 = btstrap(y_valid0, prediction0, N)\n",
    "print('Средняя прибыль в регионе 0:', round(revenue0,2))\n",
    "print('95% доверительный интервал средней прибыли в регионе 0:', round(lower0, 2), '-', round(upper0, 2))\n",
    "print('Риск убытков в регионе 0:', risk0, '%')"
   ]
  },
  {
   "cell_type": "markdown",
   "metadata": {},
   "source": [
    "Рассчитаем прибыль и риски для 1 региона"
   ]
  },
  {
   "cell_type": "code",
   "execution_count": 33,
   "metadata": {},
   "outputs": [
    {
     "name": "stdout",
     "output_type": "stream",
     "text": [
      "Средняя прибыль в регионе 1: 489.66\n",
      "95% доверительный интервал средней прибыли в регионе 1: 55.12 - 905.76\n",
      "Риск убытков в регионе 1: 1.1 %\n"
     ]
    }
   ],
   "source": [
    "revenue1, lower1, upper1, risk1 = btstrap(y_valid1, prediction1, N)\n",
    "print('Средняя прибыль в регионе 1:', round(revenue1,2))\n",
    "print('95% доверительный интервал средней прибыли в регионе 1:', round(lower1, 2), '-', round(upper1, 2))\n",
    "print('Риск убытков в регионе 1:', round(risk1, 2), '%')"
   ]
  },
  {
   "cell_type": "markdown",
   "metadata": {},
   "source": [
    "Рассчитаем прибыль и риски для 2 региона"
   ]
  },
  {
   "cell_type": "code",
   "execution_count": 34,
   "metadata": {},
   "outputs": [
    {
     "name": "stdout",
     "output_type": "stream",
     "text": [
      "Средняя прибыль в регионе 2: 403.69\n",
      "95% доверительный интервал средней прибыли в регионе 2: -153.12 - 952.89\n",
      "Риск убытков в регионе 2: 7.1 %\n"
     ]
    }
   ],
   "source": [
    "revenue2, lower2, upper2, risk2 = btstrap(y_valid2, prediction2, N)\n",
    "print('Средняя прибыль в регионе 2:', round(revenue2,2))\n",
    "print('95% доверительный интервал средней прибыли в регионе 2:', round(lower2, 2), '-', round(upper2, 2))\n",
    "print('Риск убытков в регионе 2:', round(risk2, 2), '%')"
   ]
  },
  {
   "cell_type": "markdown",
   "metadata": {},
   "source": [
    "**Вывод:** рассчитав среднюю прибыль и риски для каждого региона, мы видим, что наилучшим регионом для для разработки является регион 1, так как тут наименьший риск убытков (1.1%) и наивысший показатель средней прибыли (489.66), и ко всему этому, у 1 региона самый узкий 95% доверительный интервал средней прибыли в регионе 0: 55.12 - 905.76, поэтому, для разработки однозначно нужно выбирать регион 1."
   ]
  },
  {
   "cell_type": "markdown",
   "metadata": {},
   "source": [
    "## Общий вывод"
   ]
  },
  {
   "cell_type": "markdown",
   "metadata": {},
   "source": [
    "Исследование данных по различным регионам позволило сделать следующие выводы:\n",
    "\n",
    "1. **Анализ данных:**\n",
    "   - В предоставленных данных отсутствуют пропуски.\n",
    "   - Распределение данных в столбцах адекватно, критических выбросов не выявлено.\n",
    "   - Средние объемы запасов по регионам составляют: 68 в регионе 1, 92 в регионе 0 и 94 в регионе 2.\n",
    "\n",
    "2. **Обучение моделей:**\n",
    "   - Проведено обучение и валидация моделей на обучающих и валидационных выборках.\n",
    "   - Лучший результат по точности предсказаний достигнут в регионе 1, где RMSE модели значительно лучше\n",
    "\n",
    "3. **Оценка прибыли:**\n",
    "   - С использованием техники bootstrap рассчитаны средняя прибыль и 95% доверительный интервал для каждого региона.\n",
    "   - Регион 1 показал наивысшую среднюю прибыль (489.66), с наименьшим риском убытков (1.1%).\n",
    "\n",
    "4. **Рекомендация:**\n",
    "   - На основании анализа рисков и потенциальной прибыли, рекомендуется выбрать для дальнейшей разработки **регион 1**.\n",
    "   - Этот выбор обусловлен не только высокой средней прибылью, но и наименьшим риском убытков, а также узким 95% доверительным интервалом для средней прибыли, что подтверждает его предпочтительность в сравнении с остальными регионами.\n",
    "\n",
    "Таким образом, регион 1 является оптимальным выбором для дальнейшей эксплуатации и разработки на основе представленных данных и анализа."
   ]
  },
  {
   "cell_type": "code",
   "execution_count": null,
   "metadata": {},
   "outputs": [],
   "source": []
  }
 ],
 "metadata": {
  "ExecuteTimeLog": [
   {
    "duration": 400,
    "start_time": "2024-05-15T15:56:03.529Z"
   },
   {
    "duration": 2,
    "start_time": "2024-05-15T15:56:07.794Z"
   },
   {
    "duration": 73,
    "start_time": "2024-05-15T15:59:23.584Z"
   },
   {
    "duration": 209,
    "start_time": "2024-05-15T15:59:29.726Z"
   },
   {
    "duration": 127,
    "start_time": "2024-05-15T15:59:40.429Z"
   },
   {
    "duration": 483,
    "start_time": "2024-05-15T16:00:21.754Z"
   },
   {
    "duration": 9,
    "start_time": "2024-05-15T16:06:25.818Z"
   },
   {
    "duration": 63,
    "start_time": "2024-05-15T16:06:56.378Z"
   },
   {
    "duration": 11,
    "start_time": "2024-05-15T16:07:26.973Z"
   },
   {
    "duration": 52,
    "start_time": "2024-05-15T16:08:48.267Z"
   },
   {
    "duration": 39,
    "start_time": "2024-05-15T16:09:13.186Z"
   },
   {
    "duration": 41,
    "start_time": "2024-05-15T16:10:21.481Z"
   },
   {
    "duration": 50,
    "start_time": "2024-05-15T16:10:39.407Z"
   },
   {
    "duration": 659,
    "start_time": "2024-05-15T16:11:24.372Z"
   },
   {
    "duration": 341,
    "start_time": "2024-05-15T16:11:54.800Z"
   },
   {
    "duration": 345,
    "start_time": "2024-05-15T16:12:18.682Z"
   },
   {
    "duration": 524,
    "start_time": "2024-05-15T16:12:36.004Z"
   },
   {
    "duration": 604,
    "start_time": "2024-05-15T16:13:09.060Z"
   },
   {
    "duration": 416,
    "start_time": "2024-05-15T16:15:53.021Z"
   },
   {
    "duration": 4,
    "start_time": "2024-05-15T16:15:55.833Z"
   },
   {
    "duration": 957,
    "start_time": "2024-05-15T16:15:56.267Z"
   },
   {
    "duration": 3,
    "start_time": "2024-05-15T16:16:15.542Z"
   },
   {
    "duration": 866,
    "start_time": "2024-05-15T16:16:16.103Z"
   },
   {
    "duration": 5,
    "start_time": "2024-05-15T16:16:23.904Z"
   },
   {
    "duration": 861,
    "start_time": "2024-05-15T16:16:24.416Z"
   },
   {
    "duration": 4,
    "start_time": "2024-05-15T16:16:41.174Z"
   },
   {
    "duration": 969,
    "start_time": "2024-05-15T16:16:41.673Z"
   },
   {
    "duration": 2,
    "start_time": "2024-05-15T16:16:54.156Z"
   },
   {
    "duration": 841,
    "start_time": "2024-05-15T16:16:55.781Z"
   },
   {
    "duration": 972,
    "start_time": "2024-05-15T16:17:03.936Z"
   },
   {
    "duration": 913,
    "start_time": "2024-05-15T16:17:35.246Z"
   },
   {
    "duration": 310,
    "start_time": "2024-05-15T16:17:36.161Z"
   },
   {
    "duration": 11,
    "start_time": "2024-05-15T16:17:36.472Z"
   },
   {
    "duration": 45,
    "start_time": "2024-05-15T16:17:36.485Z"
   },
   {
    "duration": 12,
    "start_time": "2024-05-15T16:17:36.532Z"
   },
   {
    "duration": 49,
    "start_time": "2024-05-15T16:17:36.545Z"
   },
   {
    "duration": 545,
    "start_time": "2024-05-15T16:17:36.596Z"
   },
   {
    "duration": 325,
    "start_time": "2024-05-15T16:20:07.643Z"
   },
   {
    "duration": 520,
    "start_time": "2024-05-15T16:21:52.217Z"
   },
   {
    "duration": 600,
    "start_time": "2024-05-15T16:23:11.607Z"
   },
   {
    "duration": 59,
    "start_time": "2024-05-15T16:24:03.938Z"
   },
   {
    "duration": 13,
    "start_time": "2024-05-15T16:24:16.587Z"
   },
   {
    "duration": 95,
    "start_time": "2024-05-15T16:28:29.042Z"
   },
   {
    "duration": 39,
    "start_time": "2024-05-15T16:28:36.364Z"
   },
   {
    "duration": 40,
    "start_time": "2024-05-15T16:28:44.038Z"
   },
   {
    "duration": 43,
    "start_time": "2024-05-15T16:28:50.570Z"
   },
   {
    "duration": 53,
    "start_time": "2024-05-15T16:28:55.159Z"
   },
   {
    "duration": 11,
    "start_time": "2024-05-15T16:31:04.713Z"
   },
   {
    "duration": 55,
    "start_time": "2024-05-15T16:31:32.194Z"
   },
   {
    "duration": 85,
    "start_time": "2024-05-15T16:31:37.864Z"
   },
   {
    "duration": 557,
    "start_time": "2024-05-15T16:32:44.674Z"
   },
   {
    "duration": 16,
    "start_time": "2024-05-15T16:34:45.586Z"
   },
   {
    "duration": 78,
    "start_time": "2024-05-15T16:37:02.705Z"
   },
   {
    "duration": 77,
    "start_time": "2024-05-15T16:37:13.340Z"
   },
   {
    "duration": 46,
    "start_time": "2024-05-15T16:38:49.819Z"
   },
   {
    "duration": 624,
    "start_time": "2024-05-15T16:39:04.932Z"
   },
   {
    "duration": 556,
    "start_time": "2024-05-15T16:41:03.645Z"
   },
   {
    "duration": 51,
    "start_time": "2024-05-15T16:43:04.827Z"
   },
   {
    "duration": 13,
    "start_time": "2024-05-15T16:43:24.608Z"
   },
   {
    "duration": 50,
    "start_time": "2024-05-15T16:44:04.374Z"
   },
   {
    "duration": 58,
    "start_time": "2024-05-15T17:29:51.322Z"
   },
   {
    "duration": 4,
    "start_time": "2024-05-15T17:37:14.828Z"
   },
   {
    "duration": 211,
    "start_time": "2024-05-15T17:42:50.568Z"
   },
   {
    "duration": 16,
    "start_time": "2024-05-15T17:45:49.403Z"
   },
   {
    "duration": 7,
    "start_time": "2024-05-15T17:46:16.672Z"
   },
   {
    "duration": 7,
    "start_time": "2024-05-15T17:46:20.079Z"
   },
   {
    "duration": 2,
    "start_time": "2024-05-15T17:46:41.178Z"
   },
   {
    "duration": 8,
    "start_time": "2024-05-15T17:46:46.300Z"
   },
   {
    "duration": 13,
    "start_time": "2024-05-15T17:47:03.082Z"
   },
   {
    "duration": 10,
    "start_time": "2024-05-15T17:47:04.168Z"
   },
   {
    "duration": 11,
    "start_time": "2024-05-15T17:48:01.367Z"
   },
   {
    "duration": 13,
    "start_time": "2024-05-15T17:48:39.183Z"
   },
   {
    "duration": 7,
    "start_time": "2024-05-15T17:48:43.102Z"
   },
   {
    "duration": 94,
    "start_time": "2024-05-15T17:48:51.608Z"
   },
   {
    "duration": 8,
    "start_time": "2024-05-15T17:48:55.244Z"
   },
   {
    "duration": 6,
    "start_time": "2024-05-15T19:00:57.125Z"
   },
   {
    "duration": 2,
    "start_time": "2024-05-15T19:03:02.552Z"
   },
   {
    "duration": 3,
    "start_time": "2024-05-15T19:04:23.526Z"
   },
   {
    "duration": 3,
    "start_time": "2024-05-15T19:05:43.190Z"
   },
   {
    "duration": 1183,
    "start_time": "2024-05-15T19:07:52.926Z"
   },
   {
    "duration": 318,
    "start_time": "2024-05-15T19:07:54.111Z"
   },
   {
    "duration": 11,
    "start_time": "2024-05-15T19:07:54.430Z"
   },
   {
    "duration": 30,
    "start_time": "2024-05-15T19:07:54.443Z"
   },
   {
    "duration": 11,
    "start_time": "2024-05-15T19:07:54.474Z"
   },
   {
    "duration": 48,
    "start_time": "2024-05-15T19:07:54.486Z"
   },
   {
    "duration": 561,
    "start_time": "2024-05-15T19:07:54.535Z"
   },
   {
    "duration": 78,
    "start_time": "2024-05-15T19:07:55.097Z"
   },
   {
    "duration": 600,
    "start_time": "2024-05-15T19:07:55.177Z"
   },
   {
    "duration": 13,
    "start_time": "2024-05-15T19:07:55.780Z"
   },
   {
    "duration": 74,
    "start_time": "2024-05-15T19:07:55.801Z"
   },
   {
    "duration": 542,
    "start_time": "2024-05-15T19:07:55.877Z"
   },
   {
    "duration": 14,
    "start_time": "2024-05-15T19:07:56.420Z"
   },
   {
    "duration": 4,
    "start_time": "2024-05-15T19:07:56.435Z"
   },
   {
    "duration": 17,
    "start_time": "2024-05-15T19:07:56.440Z"
   },
   {
    "duration": 13,
    "start_time": "2024-05-15T19:07:56.458Z"
   },
   {
    "duration": 15,
    "start_time": "2024-05-15T19:07:56.472Z"
   },
   {
    "duration": 112,
    "start_time": "2024-05-15T19:07:56.489Z"
   },
   {
    "duration": 101,
    "start_time": "2024-05-15T19:07:56.603Z"
   },
   {
    "duration": 4,
    "start_time": "2024-05-15T19:08:33.370Z"
   },
   {
    "duration": 4,
    "start_time": "2024-05-15T19:08:47.208Z"
   },
   {
    "duration": 4,
    "start_time": "2024-05-15T19:08:53.844Z"
   },
   {
    "duration": 3,
    "start_time": "2024-05-15T19:09:02.374Z"
   },
   {
    "duration": 3,
    "start_time": "2024-05-15T19:09:07.625Z"
   },
   {
    "duration": 5,
    "start_time": "2024-05-15T19:11:02.683Z"
   },
   {
    "duration": 5,
    "start_time": "2024-05-15T19:11:13.144Z"
   },
   {
    "duration": 4,
    "start_time": "2024-05-15T19:11:28.907Z"
   },
   {
    "duration": 108,
    "start_time": "2024-05-15T19:12:48.306Z"
   },
   {
    "duration": 10,
    "start_time": "2024-05-15T19:13:44.693Z"
   },
   {
    "duration": 10,
    "start_time": "2024-05-15T19:14:25.440Z"
   },
   {
    "duration": 7,
    "start_time": "2024-05-15T19:14:35.120Z"
   },
   {
    "duration": 5,
    "start_time": "2024-05-15T19:15:15.477Z"
   },
   {
    "duration": 9,
    "start_time": "2024-05-15T19:17:14.435Z"
   },
   {
    "duration": 9,
    "start_time": "2024-05-15T19:17:23.895Z"
   },
   {
    "duration": 7,
    "start_time": "2024-05-15T19:17:43.893Z"
   },
   {
    "duration": 278,
    "start_time": "2024-05-15T19:18:16.786Z"
   },
   {
    "duration": 7,
    "start_time": "2024-05-15T19:18:23.569Z"
   },
   {
    "duration": 1213,
    "start_time": "2024-05-15T19:18:31.975Z"
   },
   {
    "duration": 321,
    "start_time": "2024-05-15T19:18:33.189Z"
   },
   {
    "duration": 11,
    "start_time": "2024-05-15T19:18:33.511Z"
   },
   {
    "duration": 49,
    "start_time": "2024-05-15T19:18:33.523Z"
   },
   {
    "duration": 10,
    "start_time": "2024-05-15T19:18:33.574Z"
   },
   {
    "duration": 36,
    "start_time": "2024-05-15T19:18:33.585Z"
   },
   {
    "duration": 551,
    "start_time": "2024-05-15T19:18:33.622Z"
   },
   {
    "duration": 79,
    "start_time": "2024-05-15T19:18:34.174Z"
   },
   {
    "duration": 608,
    "start_time": "2024-05-15T19:18:34.255Z"
   },
   {
    "duration": 12,
    "start_time": "2024-05-15T19:18:34.865Z"
   },
   {
    "duration": 95,
    "start_time": "2024-05-15T19:18:34.879Z"
   },
   {
    "duration": 555,
    "start_time": "2024-05-15T19:18:34.976Z"
   },
   {
    "duration": 14,
    "start_time": "2024-05-15T19:18:35.532Z"
   },
   {
    "duration": 4,
    "start_time": "2024-05-15T19:18:35.548Z"
   },
   {
    "duration": 31,
    "start_time": "2024-05-15T19:18:35.553Z"
   },
   {
    "duration": 12,
    "start_time": "2024-05-15T19:18:35.585Z"
   },
   {
    "duration": 10,
    "start_time": "2024-05-15T19:18:35.598Z"
   },
   {
    "duration": 11,
    "start_time": "2024-05-15T19:18:35.609Z"
   },
   {
    "duration": 183,
    "start_time": "2024-05-15T19:18:35.621Z"
   },
   {
    "duration": 40,
    "start_time": "2024-05-15T19:18:35.806Z"
   },
   {
    "duration": 41,
    "start_time": "2024-05-15T19:18:35.848Z"
   },
   {
    "duration": 28,
    "start_time": "2024-05-15T19:18:35.891Z"
   },
   {
    "duration": 13,
    "start_time": "2024-05-15T19:18:35.921Z"
   },
   {
    "duration": 167,
    "start_time": "2024-05-15T19:18:35.935Z"
   },
   {
    "duration": 14,
    "start_time": "2024-05-15T19:18:36.103Z"
   },
   {
    "duration": 8,
    "start_time": "2024-05-15T19:18:36.118Z"
   },
   {
    "duration": 13,
    "start_time": "2024-05-15T19:18:36.127Z"
   },
   {
    "duration": 2,
    "start_time": "2024-05-15T19:28:50.486Z"
   },
   {
    "duration": 94,
    "start_time": "2024-05-15T19:39:43.843Z"
   },
   {
    "duration": 2,
    "start_time": "2024-05-15T19:41:55.839Z"
   },
   {
    "duration": 3,
    "start_time": "2024-05-15T19:42:01.970Z"
   },
   {
    "duration": 3,
    "start_time": "2024-05-15T19:42:49.124Z"
   },
   {
    "duration": 9,
    "start_time": "2024-05-17T13:17:40.809Z"
   },
   {
    "duration": 3,
    "start_time": "2024-05-17T13:19:35.906Z"
   },
   {
    "duration": 7,
    "start_time": "2024-05-17T13:20:59.672Z"
   },
   {
    "duration": 50,
    "start_time": "2024-05-17T13:22:24.692Z"
   },
   {
    "duration": 7,
    "start_time": "2024-05-17T13:25:38.388Z"
   },
   {
    "duration": 1732,
    "start_time": "2024-05-17T13:25:44.031Z"
   },
   {
    "duration": 1763,
    "start_time": "2024-05-17T13:25:45.766Z"
   },
   {
    "duration": 19,
    "start_time": "2024-05-17T13:25:47.538Z"
   },
   {
    "duration": 68,
    "start_time": "2024-05-17T13:25:47.559Z"
   },
   {
    "duration": 16,
    "start_time": "2024-05-17T13:25:47.629Z"
   },
   {
    "duration": 59,
    "start_time": "2024-05-17T13:25:47.646Z"
   },
   {
    "duration": 818,
    "start_time": "2024-05-17T13:25:47.706Z"
   },
   {
    "duration": 118,
    "start_time": "2024-05-17T13:25:48.526Z"
   },
   {
    "duration": 903,
    "start_time": "2024-05-17T13:25:48.646Z"
   },
   {
    "duration": 24,
    "start_time": "2024-05-17T13:25:49.551Z"
   },
   {
    "duration": 173,
    "start_time": "2024-05-17T13:25:49.577Z"
   },
   {
    "duration": 814,
    "start_time": "2024-05-17T13:25:49.751Z"
   },
   {
    "duration": 24,
    "start_time": "2024-05-17T13:25:50.567Z"
   },
   {
    "duration": 4,
    "start_time": "2024-05-17T13:25:50.594Z"
   },
   {
    "duration": 19,
    "start_time": "2024-05-17T13:25:50.599Z"
   },
   {
    "duration": 37,
    "start_time": "2024-05-17T13:25:50.619Z"
   },
   {
    "duration": 31,
    "start_time": "2024-05-17T13:25:50.657Z"
   },
   {
    "duration": 104,
    "start_time": "2024-05-17T13:25:50.690Z"
   },
   {
    "duration": 226,
    "start_time": "2024-05-17T13:25:50.875Z"
   },
   {
    "duration": 0,
    "start_time": "2024-05-17T13:25:51.103Z"
   },
   {
    "duration": 0,
    "start_time": "2024-05-17T13:25:51.104Z"
   },
   {
    "duration": 0,
    "start_time": "2024-05-17T13:25:51.106Z"
   },
   {
    "duration": 0,
    "start_time": "2024-05-17T13:25:51.107Z"
   },
   {
    "duration": 0,
    "start_time": "2024-05-17T13:25:51.108Z"
   },
   {
    "duration": 0,
    "start_time": "2024-05-17T13:25:51.109Z"
   },
   {
    "duration": 0,
    "start_time": "2024-05-17T13:25:51.110Z"
   },
   {
    "duration": 0,
    "start_time": "2024-05-17T13:25:51.111Z"
   },
   {
    "duration": 0,
    "start_time": "2024-05-17T13:25:51.112Z"
   },
   {
    "duration": 0,
    "start_time": "2024-05-17T13:25:51.114Z"
   },
   {
    "duration": 0,
    "start_time": "2024-05-17T13:25:51.115Z"
   },
   {
    "duration": 0,
    "start_time": "2024-05-17T13:25:51.116Z"
   },
   {
    "duration": 0,
    "start_time": "2024-05-17T13:25:51.118Z"
   },
   {
    "duration": 1499,
    "start_time": "2024-05-17T13:26:21.703Z"
   },
   {
    "duration": 491,
    "start_time": "2024-05-17T13:26:23.204Z"
   },
   {
    "duration": 13,
    "start_time": "2024-05-17T13:26:23.697Z"
   },
   {
    "duration": 50,
    "start_time": "2024-05-17T13:26:23.712Z"
   },
   {
    "duration": 31,
    "start_time": "2024-05-17T13:26:23.764Z"
   },
   {
    "duration": 46,
    "start_time": "2024-05-17T13:26:23.797Z"
   },
   {
    "duration": 869,
    "start_time": "2024-05-17T13:26:23.845Z"
   },
   {
    "duration": 111,
    "start_time": "2024-05-17T13:26:24.716Z"
   },
   {
    "duration": 869,
    "start_time": "2024-05-17T13:26:24.828Z"
   },
   {
    "duration": 15,
    "start_time": "2024-05-17T13:26:25.700Z"
   },
   {
    "duration": 130,
    "start_time": "2024-05-17T13:26:25.717Z"
   },
   {
    "duration": 828,
    "start_time": "2024-05-17T13:26:25.849Z"
   },
   {
    "duration": 21,
    "start_time": "2024-05-17T13:26:26.679Z"
   },
   {
    "duration": 8,
    "start_time": "2024-05-17T13:26:26.702Z"
   },
   {
    "duration": 34,
    "start_time": "2024-05-17T13:26:26.712Z"
   },
   {
    "duration": 12,
    "start_time": "2024-05-17T13:26:26.747Z"
   },
   {
    "duration": 15,
    "start_time": "2024-05-17T13:26:26.760Z"
   },
   {
    "duration": 15,
    "start_time": "2024-05-17T13:26:26.778Z"
   },
   {
    "duration": 79,
    "start_time": "2024-05-17T13:26:26.796Z"
   },
   {
    "duration": 184,
    "start_time": "2024-05-17T13:26:26.878Z"
   },
   {
    "duration": 102,
    "start_time": "2024-05-17T13:26:27.064Z"
   },
   {
    "duration": 27,
    "start_time": "2024-05-17T13:26:27.168Z"
   },
   {
    "duration": 38,
    "start_time": "2024-05-17T13:26:27.196Z"
   },
   {
    "duration": 155,
    "start_time": "2024-05-17T13:26:27.236Z"
   },
   {
    "duration": 11,
    "start_time": "2024-05-17T13:26:27.392Z"
   },
   {
    "duration": 20,
    "start_time": "2024-05-17T13:26:27.405Z"
   },
   {
    "duration": 67,
    "start_time": "2024-05-17T13:26:27.427Z"
   },
   {
    "duration": 14,
    "start_time": "2024-05-17T13:26:27.572Z"
   },
   {
    "duration": 5,
    "start_time": "2024-05-17T13:26:27.589Z"
   },
   {
    "duration": 26,
    "start_time": "2024-05-17T13:26:27.598Z"
   },
   {
    "duration": 72,
    "start_time": "2024-05-17T13:26:27.626Z"
   },
   {
    "duration": 140,
    "start_time": "2024-05-17T13:26:27.700Z"
   },
   {
    "duration": 18,
    "start_time": "2024-05-17T13:27:12.223Z"
   },
   {
    "duration": 3,
    "start_time": "2024-05-17T13:28:03.110Z"
   },
   {
    "duration": 20,
    "start_time": "2024-05-17T13:28:10.194Z"
   },
   {
    "duration": 11,
    "start_time": "2024-05-17T13:30:59.229Z"
   },
   {
    "duration": 6,
    "start_time": "2024-05-17T13:31:16.339Z"
   },
   {
    "duration": 5,
    "start_time": "2024-05-17T13:32:36.322Z"
   },
   {
    "duration": 5,
    "start_time": "2024-05-17T13:32:51.948Z"
   },
   {
    "duration": 23,
    "start_time": "2024-05-17T13:33:02.138Z"
   },
   {
    "duration": 6,
    "start_time": "2024-05-17T13:36:10.832Z"
   },
   {
    "duration": 4,
    "start_time": "2024-05-17T13:36:17.635Z"
   },
   {
    "duration": 1445,
    "start_time": "2024-05-17T13:36:35.003Z"
   },
   {
    "duration": 66,
    "start_time": "2024-05-17T13:37:52.888Z"
   },
   {
    "duration": 56,
    "start_time": "2024-05-17T13:37:58.149Z"
   },
   {
    "duration": 5,
    "start_time": "2024-05-17T13:38:04.889Z"
   },
   {
    "duration": 4,
    "start_time": "2024-05-17T13:42:07.281Z"
   },
   {
    "duration": 4,
    "start_time": "2024-05-17T13:42:55.682Z"
   },
   {
    "duration": 5,
    "start_time": "2024-05-17T13:42:56.452Z"
   },
   {
    "duration": 7,
    "start_time": "2024-05-17T13:42:58.918Z"
   },
   {
    "duration": 1436,
    "start_time": "2024-05-17T13:42:59.427Z"
   },
   {
    "duration": 4,
    "start_time": "2024-05-17T13:48:33.240Z"
   },
   {
    "duration": 14,
    "start_time": "2024-05-17T13:51:06.360Z"
   },
   {
    "duration": 10,
    "start_time": "2024-05-17T13:51:23.903Z"
   },
   {
    "duration": 1487,
    "start_time": "2024-05-17T13:51:29.344Z"
   },
   {
    "duration": 432,
    "start_time": "2024-05-17T13:51:30.833Z"
   },
   {
    "duration": 14,
    "start_time": "2024-05-17T13:51:31.266Z"
   },
   {
    "duration": 251,
    "start_time": "2024-05-17T13:51:31.282Z"
   },
   {
    "duration": 15,
    "start_time": "2024-05-17T13:51:31.535Z"
   },
   {
    "duration": 48,
    "start_time": "2024-05-17T13:51:31.552Z"
   },
   {
    "duration": 830,
    "start_time": "2024-05-17T13:51:31.602Z"
   },
   {
    "duration": 115,
    "start_time": "2024-05-17T13:51:32.433Z"
   },
   {
    "duration": 826,
    "start_time": "2024-05-17T13:51:32.550Z"
   },
   {
    "duration": 21,
    "start_time": "2024-05-17T13:51:33.380Z"
   },
   {
    "duration": 139,
    "start_time": "2024-05-17T13:51:33.403Z"
   },
   {
    "duration": 797,
    "start_time": "2024-05-17T13:51:33.544Z"
   },
   {
    "duration": 16,
    "start_time": "2024-05-17T13:51:34.343Z"
   },
   {
    "duration": 16,
    "start_time": "2024-05-17T13:51:34.374Z"
   },
   {
    "duration": 29,
    "start_time": "2024-05-17T13:51:34.392Z"
   },
   {
    "duration": 22,
    "start_time": "2024-05-17T13:51:34.423Z"
   },
   {
    "duration": 13,
    "start_time": "2024-05-17T13:51:34.446Z"
   },
   {
    "duration": 13,
    "start_time": "2024-05-17T13:51:34.461Z"
   },
   {
    "duration": 10,
    "start_time": "2024-05-17T13:51:34.476Z"
   },
   {
    "duration": 103,
    "start_time": "2024-05-17T13:51:34.575Z"
   },
   {
    "duration": 11,
    "start_time": "2024-05-17T13:51:34.680Z"
   },
   {
    "duration": 10,
    "start_time": "2024-05-17T13:51:34.693Z"
   },
   {
    "duration": 69,
    "start_time": "2024-05-17T13:51:34.705Z"
   },
   {
    "duration": 98,
    "start_time": "2024-05-17T13:51:34.776Z"
   },
   {
    "duration": 64,
    "start_time": "2024-05-17T13:51:34.875Z"
   },
   {
    "duration": 10,
    "start_time": "2024-05-17T13:51:34.941Z"
   },
   {
    "duration": 29,
    "start_time": "2024-05-17T13:51:34.952Z"
   },
   {
    "duration": 92,
    "start_time": "2024-05-17T13:51:34.989Z"
   },
   {
    "duration": 4,
    "start_time": "2024-05-17T13:51:35.085Z"
   },
   {
    "duration": 195,
    "start_time": "2024-05-17T13:51:35.091Z"
   },
   {
    "duration": 84,
    "start_time": "2024-05-17T13:51:35.287Z"
   },
   {
    "duration": 17,
    "start_time": "2024-05-17T13:51:35.372Z"
   },
   {
    "duration": 131,
    "start_time": "2024-05-17T13:51:35.391Z"
   },
   {
    "duration": 1481,
    "start_time": "2024-05-17T13:52:02.834Z"
   },
   {
    "duration": 1593,
    "start_time": "2024-05-17T13:56:12.263Z"
   },
   {
    "duration": 453,
    "start_time": "2024-05-17T13:56:13.858Z"
   },
   {
    "duration": 14,
    "start_time": "2024-05-17T13:56:14.313Z"
   },
   {
    "duration": 52,
    "start_time": "2024-05-17T13:56:14.331Z"
   },
   {
    "duration": 18,
    "start_time": "2024-05-17T13:56:14.384Z"
   },
   {
    "duration": 71,
    "start_time": "2024-05-17T13:56:14.404Z"
   },
   {
    "duration": 829,
    "start_time": "2024-05-17T13:56:14.477Z"
   },
   {
    "duration": 114,
    "start_time": "2024-05-17T13:56:15.308Z"
   },
   {
    "duration": 852,
    "start_time": "2024-05-17T13:56:15.424Z"
   },
   {
    "duration": 15,
    "start_time": "2024-05-17T13:56:16.279Z"
   },
   {
    "duration": 133,
    "start_time": "2024-05-17T13:56:16.296Z"
   },
   {
    "duration": 784,
    "start_time": "2024-05-17T13:56:16.431Z"
   },
   {
    "duration": 16,
    "start_time": "2024-05-17T13:56:17.217Z"
   },
   {
    "duration": 71,
    "start_time": "2024-05-17T13:56:17.234Z"
   },
   {
    "duration": 97,
    "start_time": "2024-05-17T13:56:17.306Z"
   },
   {
    "duration": 16,
    "start_time": "2024-05-17T13:56:17.405Z"
   },
   {
    "duration": 32,
    "start_time": "2024-05-17T13:56:17.424Z"
   },
   {
    "duration": 19,
    "start_time": "2024-05-17T13:56:17.458Z"
   },
   {
    "duration": 97,
    "start_time": "2024-05-17T13:56:17.481Z"
   },
   {
    "duration": 98,
    "start_time": "2024-05-17T13:56:17.581Z"
   },
   {
    "duration": 29,
    "start_time": "2024-05-17T13:56:17.681Z"
   },
   {
    "duration": 10,
    "start_time": "2024-05-17T13:56:17.712Z"
   },
   {
    "duration": 50,
    "start_time": "2024-05-17T13:56:17.724Z"
   },
   {
    "duration": 108,
    "start_time": "2024-05-17T13:56:17.777Z"
   },
   {
    "duration": 14,
    "start_time": "2024-05-17T13:56:17.887Z"
   },
   {
    "duration": 10,
    "start_time": "2024-05-17T13:56:17.903Z"
   },
   {
    "duration": 65,
    "start_time": "2024-05-17T13:56:17.915Z"
   },
   {
    "duration": 90,
    "start_time": "2024-05-17T13:56:17.987Z"
   },
   {
    "duration": 33,
    "start_time": "2024-05-17T13:56:18.078Z"
   },
   {
    "duration": 5,
    "start_time": "2024-05-17T13:56:18.112Z"
   },
   {
    "duration": 6,
    "start_time": "2024-05-17T13:56:18.118Z"
   },
   {
    "duration": 1561,
    "start_time": "2024-05-17T13:56:18.125Z"
   },
   {
    "duration": 115,
    "start_time": "2024-05-17T14:00:15.889Z"
   },
   {
    "duration": 1020,
    "start_time": "2024-05-17T14:00:31.298Z"
   },
   {
    "duration": 1501,
    "start_time": "2024-05-17T14:00:44.713Z"
   },
   {
    "duration": 426,
    "start_time": "2024-05-17T14:00:46.218Z"
   },
   {
    "duration": 15,
    "start_time": "2024-05-17T14:00:46.646Z"
   },
   {
    "duration": 49,
    "start_time": "2024-05-17T14:00:46.662Z"
   },
   {
    "duration": 15,
    "start_time": "2024-05-17T14:00:46.714Z"
   },
   {
    "duration": 86,
    "start_time": "2024-05-17T14:00:46.731Z"
   },
   {
    "duration": 789,
    "start_time": "2024-05-17T14:00:46.818Z"
   },
   {
    "duration": 104,
    "start_time": "2024-05-17T14:00:47.609Z"
   },
   {
    "duration": 815,
    "start_time": "2024-05-17T14:00:47.714Z"
   },
   {
    "duration": 16,
    "start_time": "2024-05-17T14:00:48.530Z"
   },
   {
    "duration": 126,
    "start_time": "2024-05-17T14:00:48.547Z"
   },
   {
    "duration": 750,
    "start_time": "2024-05-17T14:00:48.675Z"
   },
   {
    "duration": 17,
    "start_time": "2024-05-17T14:00:49.426Z"
   },
   {
    "duration": 4,
    "start_time": "2024-05-17T14:00:49.446Z"
   },
   {
    "duration": 31,
    "start_time": "2024-05-17T14:00:49.451Z"
   },
   {
    "duration": 11,
    "start_time": "2024-05-17T14:00:49.484Z"
   },
   {
    "duration": 33,
    "start_time": "2024-05-17T14:00:49.497Z"
   },
   {
    "duration": 47,
    "start_time": "2024-05-17T14:00:49.532Z"
   },
   {
    "duration": 97,
    "start_time": "2024-05-17T14:00:49.581Z"
   },
   {
    "duration": 50,
    "start_time": "2024-05-17T14:00:49.680Z"
   },
   {
    "duration": 13,
    "start_time": "2024-05-17T14:00:49.732Z"
   },
   {
    "duration": 27,
    "start_time": "2024-05-17T14:00:49.747Z"
   },
   {
    "duration": 12,
    "start_time": "2024-05-17T14:00:49.776Z"
   },
   {
    "duration": 190,
    "start_time": "2024-05-17T14:00:49.790Z"
   },
   {
    "duration": 15,
    "start_time": "2024-05-17T14:00:49.982Z"
   },
   {
    "duration": 21,
    "start_time": "2024-05-17T14:00:49.999Z"
   },
   {
    "duration": 53,
    "start_time": "2024-05-17T14:00:50.021Z"
   },
   {
    "duration": 168,
    "start_time": "2024-05-17T14:00:50.077Z"
   },
   {
    "duration": 10,
    "start_time": "2024-05-17T14:00:50.247Z"
   },
   {
    "duration": 12,
    "start_time": "2024-05-17T14:00:50.258Z"
   },
   {
    "duration": 8,
    "start_time": "2024-05-17T14:00:50.272Z"
   },
   {
    "duration": 1164,
    "start_time": "2024-05-17T14:00:50.281Z"
   },
   {
    "duration": 1047,
    "start_time": "2024-05-17T14:01:09.545Z"
   },
   {
    "duration": 1048,
    "start_time": "2024-05-17T14:01:15.473Z"
   },
   {
    "duration": 1041,
    "start_time": "2024-05-17T14:01:20.179Z"
   },
   {
    "duration": 1474,
    "start_time": "2024-05-17T14:01:25.513Z"
   },
   {
    "duration": 462,
    "start_time": "2024-05-17T14:01:26.990Z"
   },
   {
    "duration": 20,
    "start_time": "2024-05-17T14:01:27.454Z"
   },
   {
    "duration": 41,
    "start_time": "2024-05-17T14:01:27.476Z"
   },
   {
    "duration": 15,
    "start_time": "2024-05-17T14:01:27.519Z"
   },
   {
    "duration": 67,
    "start_time": "2024-05-17T14:01:27.536Z"
   },
   {
    "duration": 783,
    "start_time": "2024-05-17T14:01:27.605Z"
   },
   {
    "duration": 109,
    "start_time": "2024-05-17T14:01:28.390Z"
   },
   {
    "duration": 852,
    "start_time": "2024-05-17T14:01:28.501Z"
   },
   {
    "duration": 20,
    "start_time": "2024-05-17T14:01:29.356Z"
   },
   {
    "duration": 144,
    "start_time": "2024-05-17T14:01:29.377Z"
   },
   {
    "duration": 783,
    "start_time": "2024-05-17T14:01:29.522Z"
   },
   {
    "duration": 22,
    "start_time": "2024-05-17T14:01:30.307Z"
   },
   {
    "duration": 227,
    "start_time": "2024-05-17T14:01:30.331Z"
   },
   {
    "duration": 74,
    "start_time": "2024-05-17T14:01:30.559Z"
   },
   {
    "duration": 192,
    "start_time": "2024-05-17T14:01:30.635Z"
   },
   {
    "duration": 180,
    "start_time": "2024-05-17T14:01:30.829Z"
   },
   {
    "duration": 125,
    "start_time": "2024-05-17T14:01:31.010Z"
   },
   {
    "duration": 337,
    "start_time": "2024-05-17T14:01:31.137Z"
   },
   {
    "duration": 75,
    "start_time": "2024-05-17T14:01:31.475Z"
   },
   {
    "duration": 58,
    "start_time": "2024-05-17T14:01:31.551Z"
   },
   {
    "duration": 105,
    "start_time": "2024-05-17T14:01:31.611Z"
   },
   {
    "duration": 56,
    "start_time": "2024-05-17T14:01:31.718Z"
   },
   {
    "duration": 124,
    "start_time": "2024-05-17T14:01:31.777Z"
   },
   {
    "duration": 46,
    "start_time": "2024-05-17T14:01:31.902Z"
   },
   {
    "duration": 32,
    "start_time": "2024-05-17T14:01:31.950Z"
   },
   {
    "duration": 25,
    "start_time": "2024-05-17T14:01:31.984Z"
   },
   {
    "duration": 160,
    "start_time": "2024-05-17T14:01:32.014Z"
   },
   {
    "duration": 104,
    "start_time": "2024-05-17T14:01:32.175Z"
   },
   {
    "duration": 9,
    "start_time": "2024-05-17T14:01:32.280Z"
   },
   {
    "duration": 39,
    "start_time": "2024-05-17T14:01:32.291Z"
   },
   {
    "duration": 1072,
    "start_time": "2024-05-17T14:01:32.332Z"
   },
   {
    "duration": 1419,
    "start_time": "2024-05-17T14:02:33.014Z"
   },
   {
    "duration": 436,
    "start_time": "2024-05-17T14:02:34.435Z"
   },
   {
    "duration": 14,
    "start_time": "2024-05-17T14:02:34.873Z"
   },
   {
    "duration": 57,
    "start_time": "2024-05-17T14:02:34.890Z"
   },
   {
    "duration": 43,
    "start_time": "2024-05-17T14:02:34.949Z"
   },
   {
    "duration": 51,
    "start_time": "2024-05-17T14:02:34.994Z"
   },
   {
    "duration": 770,
    "start_time": "2024-05-17T14:02:35.047Z"
   },
   {
    "duration": 108,
    "start_time": "2024-05-17T14:02:35.819Z"
   },
   {
    "duration": 825,
    "start_time": "2024-05-17T14:02:35.929Z"
   },
   {
    "duration": 21,
    "start_time": "2024-05-17T14:02:36.757Z"
   },
   {
    "duration": 120,
    "start_time": "2024-05-17T14:02:36.780Z"
   },
   {
    "duration": 803,
    "start_time": "2024-05-17T14:02:36.902Z"
   },
   {
    "duration": 16,
    "start_time": "2024-05-17T14:02:37.707Z"
   },
   {
    "duration": 21,
    "start_time": "2024-05-17T14:02:37.725Z"
   },
   {
    "duration": 40,
    "start_time": "2024-05-17T14:02:37.748Z"
   },
   {
    "duration": 33,
    "start_time": "2024-05-17T14:02:37.790Z"
   },
   {
    "duration": 19,
    "start_time": "2024-05-17T14:02:37.824Z"
   },
   {
    "duration": 28,
    "start_time": "2024-05-17T14:02:37.845Z"
   },
   {
    "duration": 113,
    "start_time": "2024-05-17T14:02:37.874Z"
   },
   {
    "duration": 13,
    "start_time": "2024-05-17T14:02:38.074Z"
   },
   {
    "duration": 152,
    "start_time": "2024-05-17T14:02:38.089Z"
   },
   {
    "duration": 31,
    "start_time": "2024-05-17T14:02:38.242Z"
   },
   {
    "duration": 30,
    "start_time": "2024-05-17T14:02:38.274Z"
   },
   {
    "duration": 177,
    "start_time": "2024-05-17T14:02:38.305Z"
   },
   {
    "duration": 68,
    "start_time": "2024-05-17T14:02:38.484Z"
   },
   {
    "duration": 9,
    "start_time": "2024-05-17T14:02:38.554Z"
   },
   {
    "duration": 17,
    "start_time": "2024-05-17T14:02:38.564Z"
   },
   {
    "duration": 90,
    "start_time": "2024-05-17T14:02:38.588Z"
   },
   {
    "duration": 7,
    "start_time": "2024-05-17T14:02:38.772Z"
   },
   {
    "duration": 8,
    "start_time": "2024-05-17T14:02:38.781Z"
   },
   {
    "duration": 10,
    "start_time": "2024-05-17T14:02:38.790Z"
   },
   {
    "duration": 1061,
    "start_time": "2024-05-17T14:02:38.802Z"
   },
   {
    "duration": 1440,
    "start_time": "2024-05-17T14:03:41.234Z"
   },
   {
    "duration": 1501,
    "start_time": "2024-05-17T14:03:52.257Z"
   },
   {
    "duration": 444,
    "start_time": "2024-05-17T14:03:53.760Z"
   },
   {
    "duration": 14,
    "start_time": "2024-05-17T14:03:54.205Z"
   },
   {
    "duration": 80,
    "start_time": "2024-05-17T14:03:54.221Z"
   },
   {
    "duration": 15,
    "start_time": "2024-05-17T14:03:54.303Z"
   },
   {
    "duration": 57,
    "start_time": "2024-05-17T14:03:54.320Z"
   },
   {
    "duration": 790,
    "start_time": "2024-05-17T14:03:54.378Z"
   },
   {
    "duration": 110,
    "start_time": "2024-05-17T14:03:55.170Z"
   },
   {
    "duration": 808,
    "start_time": "2024-05-17T14:03:55.282Z"
   },
   {
    "duration": 14,
    "start_time": "2024-05-17T14:03:56.094Z"
   },
   {
    "duration": 246,
    "start_time": "2024-05-17T14:03:56.110Z"
   },
   {
    "duration": 794,
    "start_time": "2024-05-17T14:03:56.357Z"
   },
   {
    "duration": 24,
    "start_time": "2024-05-17T14:03:57.153Z"
   },
   {
    "duration": 221,
    "start_time": "2024-05-17T14:03:57.178Z"
   },
   {
    "duration": 34,
    "start_time": "2024-05-17T14:03:57.401Z"
   },
   {
    "duration": 36,
    "start_time": "2024-05-17T14:03:57.437Z"
   },
   {
    "duration": 20,
    "start_time": "2024-05-17T14:03:57.475Z"
   },
   {
    "duration": 14,
    "start_time": "2024-05-17T14:03:57.497Z"
   },
   {
    "duration": 9,
    "start_time": "2024-05-17T14:03:57.573Z"
   },
   {
    "duration": 13,
    "start_time": "2024-05-17T14:03:57.674Z"
   },
   {
    "duration": 35,
    "start_time": "2024-05-17T14:03:57.689Z"
   },
   {
    "duration": 14,
    "start_time": "2024-05-17T14:03:57.726Z"
   },
   {
    "duration": 32,
    "start_time": "2024-05-17T14:03:57.742Z"
   },
   {
    "duration": 198,
    "start_time": "2024-05-17T14:03:57.777Z"
   },
   {
    "duration": 11,
    "start_time": "2024-05-17T14:03:57.977Z"
   },
   {
    "duration": 21,
    "start_time": "2024-05-17T14:03:57.989Z"
   },
   {
    "duration": 62,
    "start_time": "2024-05-17T14:03:58.012Z"
   },
   {
    "duration": 86,
    "start_time": "2024-05-17T14:03:58.088Z"
   },
   {
    "duration": 86,
    "start_time": "2024-05-17T14:03:58.176Z"
   },
   {
    "duration": 14,
    "start_time": "2024-05-17T14:03:58.263Z"
   },
   {
    "duration": 6,
    "start_time": "2024-05-17T14:03:58.279Z"
   },
   {
    "duration": 1430,
    "start_time": "2024-05-17T14:03:58.287Z"
   },
   {
    "duration": 1428,
    "start_time": "2024-05-17T14:04:36.690Z"
   },
   {
    "duration": 1389,
    "start_time": "2024-05-17T14:05:24.574Z"
   },
   {
    "duration": 1421,
    "start_time": "2024-05-17T14:06:18.290Z"
   },
   {
    "duration": 1416,
    "start_time": "2024-05-17T14:06:40.946Z"
   },
   {
    "duration": 1418,
    "start_time": "2024-05-17T14:07:24.164Z"
   },
   {
    "duration": 633,
    "start_time": "2024-05-17T14:07:58.863Z"
   },
   {
    "duration": 1436,
    "start_time": "2024-05-17T14:16:12.604Z"
   },
   {
    "duration": 1434,
    "start_time": "2024-05-17T14:21:53.304Z"
   },
   {
    "duration": 448,
    "start_time": "2024-05-17T14:21:54.740Z"
   },
   {
    "duration": 13,
    "start_time": "2024-05-17T14:21:55.190Z"
   },
   {
    "duration": 99,
    "start_time": "2024-05-17T14:21:55.205Z"
   },
   {
    "duration": 140,
    "start_time": "2024-05-17T14:21:55.305Z"
   },
   {
    "duration": 54,
    "start_time": "2024-05-17T14:21:55.447Z"
   },
   {
    "duration": 757,
    "start_time": "2024-05-17T14:21:55.503Z"
   },
   {
    "duration": 115,
    "start_time": "2024-05-17T14:21:56.261Z"
   },
   {
    "duration": 854,
    "start_time": "2024-05-17T14:21:56.378Z"
   },
   {
    "duration": 16,
    "start_time": "2024-05-17T14:21:57.235Z"
   },
   {
    "duration": 276,
    "start_time": "2024-05-17T14:21:57.253Z"
   },
   {
    "duration": 774,
    "start_time": "2024-05-17T14:21:57.531Z"
   },
   {
    "duration": 22,
    "start_time": "2024-05-17T14:21:58.306Z"
   },
   {
    "duration": 5,
    "start_time": "2024-05-17T14:21:58.331Z"
   },
   {
    "duration": 35,
    "start_time": "2024-05-17T14:21:58.338Z"
   },
   {
    "duration": 15,
    "start_time": "2024-05-17T14:21:58.375Z"
   },
   {
    "duration": 15,
    "start_time": "2024-05-17T14:21:58.392Z"
   },
   {
    "duration": 13,
    "start_time": "2024-05-17T14:21:58.409Z"
   },
   {
    "duration": 58,
    "start_time": "2024-05-17T14:21:58.423Z"
   },
   {
    "duration": 175,
    "start_time": "2024-05-17T14:21:58.483Z"
   },
   {
    "duration": 13,
    "start_time": "2024-05-17T14:21:58.660Z"
   },
   {
    "duration": 46,
    "start_time": "2024-05-17T14:21:58.675Z"
   },
   {
    "duration": 11,
    "start_time": "2024-05-17T14:21:58.722Z"
   },
   {
    "duration": 145,
    "start_time": "2024-05-17T14:21:58.735Z"
   },
   {
    "duration": 12,
    "start_time": "2024-05-17T14:21:58.881Z"
   },
   {
    "duration": 10,
    "start_time": "2024-05-17T14:21:58.894Z"
   },
   {
    "duration": 67,
    "start_time": "2024-05-17T14:21:58.906Z"
   },
   {
    "duration": 102,
    "start_time": "2024-05-17T14:21:58.978Z"
   },
   {
    "duration": 9,
    "start_time": "2024-05-17T14:21:59.081Z"
   },
   {
    "duration": 8,
    "start_time": "2024-05-17T14:21:59.091Z"
   },
   {
    "duration": 32,
    "start_time": "2024-05-17T14:21:59.100Z"
   },
   {
    "duration": 1613,
    "start_time": "2024-05-17T14:21:59.133Z"
   },
   {
    "duration": 1450,
    "start_time": "2024-05-17T14:22:00.747Z"
   },
   {
    "duration": 1434,
    "start_time": "2024-05-17T14:22:02.199Z"
   }
  ],
  "kernelspec": {
   "display_name": "Python 3 (ipykernel)",
   "language": "python",
   "name": "python3"
  },
  "language_info": {
   "codemirror_mode": {
    "name": "ipython",
    "version": 3
   },
   "file_extension": ".py",
   "mimetype": "text/x-python",
   "name": "python",
   "nbconvert_exporter": "python",
   "pygments_lexer": "ipython3",
   "version": "3.9.5"
  },
  "toc": {
   "base_numbering": 1,
   "nav_menu": {},
   "number_sections": true,
   "sideBar": true,
   "skip_h1_title": true,
   "title_cell": "Table of Contents",
   "title_sidebar": "Contents",
   "toc_cell": false,
   "toc_position": {},
   "toc_section_display": true,
   "toc_window_display": false
  }
 },
 "nbformat": 4,
 "nbformat_minor": 2
}
